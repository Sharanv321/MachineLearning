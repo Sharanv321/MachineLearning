{
 "cells": [
  {
   "cell_type": "markdown",
   "id": "6bd65e7d",
   "metadata": {},
   "source": [
    "## Household power consumption dataset"
   ]
  },
  {
   "cell_type": "code",
   "execution_count": 1,
   "id": "3505e020",
   "metadata": {},
   "outputs": [],
   "source": [
    "# import all the necessary packages"
   ]
  },
  {
   "cell_type": "code",
   "execution_count": 89,
   "id": "5b03aec5",
   "metadata": {},
   "outputs": [],
   "source": [
    "import pandas as pd\n",
    "import numpy as np\n",
    "import seaborn as sns\n",
    "import matplotlib.pyplot as plt\n",
    "from sklearn.linear_model  import Ridge,Lasso,RidgeCV, LassoCV, ElasticNet, ElasticNetCV, LogisticRegression\n",
    "from sklearn.model_selection import train_test_split\n",
    "from sklearn.linear_model import LinearRegression\n",
    "from sklearn.svm import SVR\n",
    "from sklearn.svm import SVC\n",
    "from sklearn.ensemble import VotingRegressor\n",
    "from sklearn.ensemble import RandomForestRegressor\n",
    "from sklearn.ensemble import GradientBoostingRegressor"
   ]
  },
  {
   "cell_type": "code",
   "execution_count": 3,
   "id": "534d2357",
   "metadata": {},
   "outputs": [],
   "source": [
    "#loading the dataset"
   ]
  },
  {
   "cell_type": "code",
   "execution_count": 4,
   "id": "c5a6a7bf",
   "metadata": {},
   "outputs": [
    {
     "name": "stderr",
     "output_type": "stream",
     "text": [
      "C:\\Users\\Admin\\AppData\\Local\\Temp\\ipykernel_4464\\703455930.py:1: DtypeWarning: Columns (2,3,4,5,6,7) have mixed types. Specify dtype option on import or set low_memory=False.\n",
      "  data = pd.read_csv(\"household_power_consumption.csv\") # Reading the Data\n"
     ]
    }
   ],
   "source": [
    "data = pd.read_csv(\"household_power_consumption.csv\") # Reading the Data"
   ]
  },
  {
   "cell_type": "code",
   "execution_count": 5,
   "id": "31fce667",
   "metadata": {},
   "outputs": [],
   "source": [
    "data = data.sample(15000)"
   ]
  },
  {
   "cell_type": "code",
   "execution_count": 6,
   "id": "9fd2b727",
   "metadata": {},
   "outputs": [
    {
     "data": {
      "text/html": [
       "<div>\n",
       "<style scoped>\n",
       "    .dataframe tbody tr th:only-of-type {\n",
       "        vertical-align: middle;\n",
       "    }\n",
       "\n",
       "    .dataframe tbody tr th {\n",
       "        vertical-align: top;\n",
       "    }\n",
       "\n",
       "    .dataframe thead th {\n",
       "        text-align: right;\n",
       "    }\n",
       "</style>\n",
       "<table border=\"1\" class=\"dataframe\">\n",
       "  <thead>\n",
       "    <tr style=\"text-align: right;\">\n",
       "      <th></th>\n",
       "      <th>Date</th>\n",
       "      <th>Time</th>\n",
       "      <th>Global_active_power</th>\n",
       "      <th>Global_reactive_power</th>\n",
       "      <th>Voltage</th>\n",
       "      <th>Global_intensity</th>\n",
       "      <th>Sub_metering_1</th>\n",
       "      <th>Sub_metering_2</th>\n",
       "      <th>Sub_metering_3</th>\n",
       "    </tr>\n",
       "  </thead>\n",
       "  <tbody>\n",
       "    <tr>\n",
       "      <th>1953887</th>\n",
       "      <td>3/9/2010</td>\n",
       "      <td>14:11:00</td>\n",
       "      <td>0.330</td>\n",
       "      <td>0.064</td>\n",
       "      <td>238.740</td>\n",
       "      <td>1.600</td>\n",
       "      <td>0.000</td>\n",
       "      <td>0.000</td>\n",
       "      <td>0.0</td>\n",
       "    </tr>\n",
       "    <tr>\n",
       "      <th>1564572</th>\n",
       "      <td>7/12/2009</td>\n",
       "      <td>05:36:00</td>\n",
       "      <td>1.472</td>\n",
       "      <td>0.106</td>\n",
       "      <td>242.990</td>\n",
       "      <td>6.000</td>\n",
       "      <td>0.000</td>\n",
       "      <td>0.000</td>\n",
       "      <td>19.0</td>\n",
       "    </tr>\n",
       "    <tr>\n",
       "      <th>549837</th>\n",
       "      <td>2/1/2008</td>\n",
       "      <td>13:21:00</td>\n",
       "      <td>1.422</td>\n",
       "      <td>0.096</td>\n",
       "      <td>239.020</td>\n",
       "      <td>6.000</td>\n",
       "      <td>0.000</td>\n",
       "      <td>0.000</td>\n",
       "      <td>18.0</td>\n",
       "    </tr>\n",
       "    <tr>\n",
       "      <th>1554366</th>\n",
       "      <td>30/11/2009</td>\n",
       "      <td>03:30:00</td>\n",
       "      <td>0.574</td>\n",
       "      <td>0.378</td>\n",
       "      <td>247.350</td>\n",
       "      <td>2.800</td>\n",
       "      <td>0.000</td>\n",
       "      <td>2.000</td>\n",
       "      <td>1.0</td>\n",
       "    </tr>\n",
       "    <tr>\n",
       "      <th>40105</th>\n",
       "      <td>13/1/2007</td>\n",
       "      <td>13:49:00</td>\n",
       "      <td>0.646</td>\n",
       "      <td>0.126</td>\n",
       "      <td>242.480</td>\n",
       "      <td>2.600</td>\n",
       "      <td>0.000</td>\n",
       "      <td>1.000</td>\n",
       "      <td>0.0</td>\n",
       "    </tr>\n",
       "  </tbody>\n",
       "</table>\n",
       "</div>"
      ],
      "text/plain": [
       "               Date      Time Global_active_power Global_reactive_power  \\\n",
       "1953887    3/9/2010  14:11:00               0.330                 0.064   \n",
       "1564572   7/12/2009  05:36:00               1.472                 0.106   \n",
       "549837     2/1/2008  13:21:00               1.422                 0.096   \n",
       "1554366  30/11/2009  03:30:00               0.574                 0.378   \n",
       "40105     13/1/2007  13:49:00               0.646                 0.126   \n",
       "\n",
       "         Voltage Global_intensity Sub_metering_1 Sub_metering_2  \\\n",
       "1953887  238.740            1.600          0.000          0.000   \n",
       "1564572  242.990            6.000          0.000          0.000   \n",
       "549837   239.020            6.000          0.000          0.000   \n",
       "1554366  247.350            2.800          0.000          2.000   \n",
       "40105    242.480            2.600          0.000          1.000   \n",
       "\n",
       "         Sub_metering_3  \n",
       "1953887             0.0  \n",
       "1564572            19.0  \n",
       "549837             18.0  \n",
       "1554366             1.0  \n",
       "40105               0.0  "
      ]
     },
     "execution_count": 6,
     "metadata": {},
     "output_type": "execute_result"
    }
   ],
   "source": [
    "data.head(5)"
   ]
  },
  {
   "cell_type": "code",
   "execution_count": 7,
   "id": "36203cbd",
   "metadata": {},
   "outputs": [
    {
     "data": {
      "text/plain": [
       "Index(['Date', 'Time', 'Global_active_power', 'Global_reactive_power',\n",
       "       'Voltage', 'Global_intensity', 'Sub_metering_1', 'Sub_metering_2',\n",
       "       'Sub_metering_3'],\n",
       "      dtype='object')"
      ]
     },
     "execution_count": 7,
     "metadata": {},
     "output_type": "execute_result"
    }
   ],
   "source": [
    "data.columns"
   ]
  },
  {
   "cell_type": "code",
   "execution_count": 8,
   "id": "7a51daf1",
   "metadata": {},
   "outputs": [
    {
     "data": {
      "text/plain": [
       "(15000, 9)"
      ]
     },
     "execution_count": 8,
     "metadata": {},
     "output_type": "execute_result"
    }
   ],
   "source": [
    "data.shape"
   ]
  },
  {
   "cell_type": "code",
   "execution_count": 9,
   "id": "4f50295b",
   "metadata": {},
   "outputs": [
    {
     "name": "stdout",
     "output_type": "stream",
     "text": [
      "<class 'pandas.core.frame.DataFrame'>\n",
      "Int64Index: 15000 entries, 1953887 to 338613\n",
      "Data columns (total 9 columns):\n",
      " #   Column                 Non-Null Count  Dtype  \n",
      "---  ------                 --------------  -----  \n",
      " 0   Date                   15000 non-null  object \n",
      " 1   Time                   15000 non-null  object \n",
      " 2   Global_active_power    15000 non-null  object \n",
      " 3   Global_reactive_power  15000 non-null  object \n",
      " 4   Voltage                15000 non-null  object \n",
      " 5   Global_intensity       15000 non-null  object \n",
      " 6   Sub_metering_1         15000 non-null  object \n",
      " 7   Sub_metering_2         15000 non-null  object \n",
      " 8   Sub_metering_3         14815 non-null  float64\n",
      "dtypes: float64(1), object(8)\n",
      "memory usage: 1.1+ MB\n"
     ]
    }
   ],
   "source": [
    "# info of the dataset\n",
    "data.info()"
   ]
  },
  {
   "cell_type": "code",
   "execution_count": 10,
   "id": "785eda83",
   "metadata": {},
   "outputs": [],
   "source": [
    "# replacing special characters\n",
    "chars_to_remove=['?']\n",
    "cols_to_clean=['Global_active_power','Global_reactive_power','Voltage','Global_intensity','Sub_metering_1','Sub_metering_2']\n",
    "for item in chars_to_remove:\n",
    "    for col in cols_to_clean:\n",
    "        data[col]=data[col].replace(item,np.nan)"
   ]
  },
  {
   "cell_type": "code",
   "execution_count": 11,
   "id": "363fbe4e",
   "metadata": {},
   "outputs": [],
   "source": [
    "# Converting data types\n",
    "columns = ['Global_active_power','Global_reactive_power','Voltage','Global_intensity','Sub_metering_1','Sub_metering_2']\n",
    "for col in columns:\n",
    "    data[col]=data[col].astype(float)"
   ]
  },
  {
   "cell_type": "code",
   "execution_count": 12,
   "id": "338bf6cf",
   "metadata": {},
   "outputs": [
    {
     "name": "stderr",
     "output_type": "stream",
     "text": [
      "C:\\Users\\Admin\\AppData\\Local\\Temp\\ipykernel_4464\\3685831189.py:2: UserWarning: Parsing '30/11/2009' in DD/MM/YYYY format. Provide format or specify infer_datetime_format=True for consistent parsing.\n",
      "  data['Date'] = pd.to_datetime(data[\"Date\"])\n",
      "C:\\Users\\Admin\\AppData\\Local\\Temp\\ipykernel_4464\\3685831189.py:2: UserWarning: Parsing '25/10/2009' in DD/MM/YYYY format. Provide format or specify infer_datetime_format=True for consistent parsing.\n",
      "  data['Date'] = pd.to_datetime(data[\"Date\"])\n",
      "C:\\Users\\Admin\\AppData\\Local\\Temp\\ipykernel_4464\\3685831189.py:2: UserWarning: Parsing '29/10/2010' in DD/MM/YYYY format. Provide format or specify infer_datetime_format=True for consistent parsing.\n",
      "  data['Date'] = pd.to_datetime(data[\"Date\"])\n",
      "C:\\Users\\Admin\\AppData\\Local\\Temp\\ipykernel_4464\\3685831189.py:2: UserWarning: Parsing '17/11/2007' in DD/MM/YYYY format. Provide format or specify infer_datetime_format=True for consistent parsing.\n",
      "  data['Date'] = pd.to_datetime(data[\"Date\"])\n",
      "C:\\Users\\Admin\\AppData\\Local\\Temp\\ipykernel_4464\\3685831189.py:2: UserWarning: Parsing '27/11/2009' in DD/MM/YYYY format. Provide format or specify infer_datetime_format=True for consistent parsing.\n",
      "  data['Date'] = pd.to_datetime(data[\"Date\"])\n",
      "C:\\Users\\Admin\\AppData\\Local\\Temp\\ipykernel_4464\\3685831189.py:2: UserWarning: Parsing '25/11/2008' in DD/MM/YYYY format. Provide format or specify infer_datetime_format=True for consistent parsing.\n",
      "  data['Date'] = pd.to_datetime(data[\"Date\"])\n",
      "C:\\Users\\Admin\\AppData\\Local\\Temp\\ipykernel_4464\\3685831189.py:2: UserWarning: Parsing '14/12/2007' in DD/MM/YYYY format. Provide format or specify infer_datetime_format=True for consistent parsing.\n",
      "  data['Date'] = pd.to_datetime(data[\"Date\"])\n",
      "C:\\Users\\Admin\\AppData\\Local\\Temp\\ipykernel_4464\\3685831189.py:2: UserWarning: Parsing '15/12/2007' in DD/MM/YYYY format. Provide format or specify infer_datetime_format=True for consistent parsing.\n",
      "  data['Date'] = pd.to_datetime(data[\"Date\"])\n",
      "C:\\Users\\Admin\\AppData\\Local\\Temp\\ipykernel_4464\\3685831189.py:2: UserWarning: Parsing '15/10/2010' in DD/MM/YYYY format. Provide format or specify infer_datetime_format=True for consistent parsing.\n",
      "  data['Date'] = pd.to_datetime(data[\"Date\"])\n",
      "C:\\Users\\Admin\\AppData\\Local\\Temp\\ipykernel_4464\\3685831189.py:2: UserWarning: Parsing '25/12/2007' in DD/MM/YYYY format. Provide format or specify infer_datetime_format=True for consistent parsing.\n",
      "  data['Date'] = pd.to_datetime(data[\"Date\"])\n",
      "C:\\Users\\Admin\\AppData\\Local\\Temp\\ipykernel_4464\\3685831189.py:2: UserWarning: Parsing '26/10/2008' in DD/MM/YYYY format. Provide format or specify infer_datetime_format=True for consistent parsing.\n",
      "  data['Date'] = pd.to_datetime(data[\"Date\"])\n",
      "C:\\Users\\Admin\\AppData\\Local\\Temp\\ipykernel_4464\\3685831189.py:2: UserWarning: Parsing '13/10/2010' in DD/MM/YYYY format. Provide format or specify infer_datetime_format=True for consistent parsing.\n",
      "  data['Date'] = pd.to_datetime(data[\"Date\"])\n",
      "C:\\Users\\Admin\\AppData\\Local\\Temp\\ipykernel_4464\\3685831189.py:2: UserWarning: Parsing '19/12/2007' in DD/MM/YYYY format. Provide format or specify infer_datetime_format=True for consistent parsing.\n",
      "  data['Date'] = pd.to_datetime(data[\"Date\"])\n",
      "C:\\Users\\Admin\\AppData\\Local\\Temp\\ipykernel_4464\\3685831189.py:2: UserWarning: Parsing '22/10/2007' in DD/MM/YYYY format. Provide format or specify infer_datetime_format=True for consistent parsing.\n",
      "  data['Date'] = pd.to_datetime(data[\"Date\"])\n",
      "C:\\Users\\Admin\\AppData\\Local\\Temp\\ipykernel_4464\\3685831189.py:2: UserWarning: Parsing '19/10/2010' in DD/MM/YYYY format. Provide format or specify infer_datetime_format=True for consistent parsing.\n",
      "  data['Date'] = pd.to_datetime(data[\"Date\"])\n",
      "C:\\Users\\Admin\\AppData\\Local\\Temp\\ipykernel_4464\\3685831189.py:2: UserWarning: Parsing '17/11/2009' in DD/MM/YYYY format. Provide format or specify infer_datetime_format=True for consistent parsing.\n",
      "  data['Date'] = pd.to_datetime(data[\"Date\"])\n",
      "C:\\Users\\Admin\\AppData\\Local\\Temp\\ipykernel_4464\\3685831189.py:2: UserWarning: Parsing '17/10/2007' in DD/MM/YYYY format. Provide format or specify infer_datetime_format=True for consistent parsing.\n",
      "  data['Date'] = pd.to_datetime(data[\"Date\"])\n",
      "C:\\Users\\Admin\\AppData\\Local\\Temp\\ipykernel_4464\\3685831189.py:2: UserWarning: Parsing '14/10/2008' in DD/MM/YYYY format. Provide format or specify infer_datetime_format=True for consistent parsing.\n",
      "  data['Date'] = pd.to_datetime(data[\"Date\"])\n",
      "C:\\Users\\Admin\\AppData\\Local\\Temp\\ipykernel_4464\\3685831189.py:2: UserWarning: Parsing '22/10/2009' in DD/MM/YYYY format. Provide format or specify infer_datetime_format=True for consistent parsing.\n",
      "  data['Date'] = pd.to_datetime(data[\"Date\"])\n",
      "C:\\Users\\Admin\\AppData\\Local\\Temp\\ipykernel_4464\\3685831189.py:2: UserWarning: Parsing '27/10/2010' in DD/MM/YYYY format. Provide format or specify infer_datetime_format=True for consistent parsing.\n",
      "  data['Date'] = pd.to_datetime(data[\"Date\"])\n",
      "C:\\Users\\Admin\\AppData\\Local\\Temp\\ipykernel_4464\\3685831189.py:2: UserWarning: Parsing '22/11/2009' in DD/MM/YYYY format. Provide format or specify infer_datetime_format=True for consistent parsing.\n",
      "  data['Date'] = pd.to_datetime(data[\"Date\"])\n",
      "C:\\Users\\Admin\\AppData\\Local\\Temp\\ipykernel_4464\\3685831189.py:2: UserWarning: Parsing '15/11/2010' in DD/MM/YYYY format. Provide format or specify infer_datetime_format=True for consistent parsing.\n",
      "  data['Date'] = pd.to_datetime(data[\"Date\"])\n",
      "C:\\Users\\Admin\\AppData\\Local\\Temp\\ipykernel_4464\\3685831189.py:2: UserWarning: Parsing '25/11/2010' in DD/MM/YYYY format. Provide format or specify infer_datetime_format=True for consistent parsing.\n",
      "  data['Date'] = pd.to_datetime(data[\"Date\"])\n",
      "C:\\Users\\Admin\\AppData\\Local\\Temp\\ipykernel_4464\\3685831189.py:2: UserWarning: Parsing '14/10/2007' in DD/MM/YYYY format. Provide format or specify infer_datetime_format=True for consistent parsing.\n",
      "  data['Date'] = pd.to_datetime(data[\"Date\"])\n",
      "C:\\Users\\Admin\\AppData\\Local\\Temp\\ipykernel_4464\\3685831189.py:2: UserWarning: Parsing '20/11/2010' in DD/MM/YYYY format. Provide format or specify infer_datetime_format=True for consistent parsing.\n",
      "  data['Date'] = pd.to_datetime(data[\"Date\"])\n",
      "C:\\Users\\Admin\\AppData\\Local\\Temp\\ipykernel_4464\\3685831189.py:2: UserWarning: Parsing '14/10/2010' in DD/MM/YYYY format. Provide format or specify infer_datetime_format=True for consistent parsing.\n",
      "  data['Date'] = pd.to_datetime(data[\"Date\"])\n",
      "C:\\Users\\Admin\\AppData\\Local\\Temp\\ipykernel_4464\\3685831189.py:2: UserWarning: Parsing '14/10/2009' in DD/MM/YYYY format. Provide format or specify infer_datetime_format=True for consistent parsing.\n",
      "  data['Date'] = pd.to_datetime(data[\"Date\"])\n",
      "C:\\Users\\Admin\\AppData\\Local\\Temp\\ipykernel_4464\\3685831189.py:2: UserWarning: Parsing '17/10/2009' in DD/MM/YYYY format. Provide format or specify infer_datetime_format=True for consistent parsing.\n",
      "  data['Date'] = pd.to_datetime(data[\"Date\"])\n",
      "C:\\Users\\Admin\\AppData\\Local\\Temp\\ipykernel_4464\\3685831189.py:2: UserWarning: Parsing '23/11/2007' in DD/MM/YYYY format. Provide format or specify infer_datetime_format=True for consistent parsing.\n",
      "  data['Date'] = pd.to_datetime(data[\"Date\"])\n",
      "C:\\Users\\Admin\\AppData\\Local\\Temp\\ipykernel_4464\\3685831189.py:2: UserWarning: Parsing '30/10/2008' in DD/MM/YYYY format. Provide format or specify infer_datetime_format=True for consistent parsing.\n",
      "  data['Date'] = pd.to_datetime(data[\"Date\"])\n",
      "C:\\Users\\Admin\\AppData\\Local\\Temp\\ipykernel_4464\\3685831189.py:2: UserWarning: Parsing '26/11/2009' in DD/MM/YYYY format. Provide format or specify infer_datetime_format=True for consistent parsing.\n",
      "  data['Date'] = pd.to_datetime(data[\"Date\"])\n",
      "C:\\Users\\Admin\\AppData\\Local\\Temp\\ipykernel_4464\\3685831189.py:2: UserWarning: Parsing '20/11/2009' in DD/MM/YYYY format. Provide format or specify infer_datetime_format=True for consistent parsing.\n",
      "  data['Date'] = pd.to_datetime(data[\"Date\"])\n",
      "C:\\Users\\Admin\\AppData\\Local\\Temp\\ipykernel_4464\\3685831189.py:2: UserWarning: Parsing '24/11/2009' in DD/MM/YYYY format. Provide format or specify infer_datetime_format=True for consistent parsing.\n",
      "  data['Date'] = pd.to_datetime(data[\"Date\"])\n",
      "C:\\Users\\Admin\\AppData\\Local\\Temp\\ipykernel_4464\\3685831189.py:2: UserWarning: Parsing '24/10/2008' in DD/MM/YYYY format. Provide format or specify infer_datetime_format=True for consistent parsing.\n",
      "  data['Date'] = pd.to_datetime(data[\"Date\"])\n",
      "C:\\Users\\Admin\\AppData\\Local\\Temp\\ipykernel_4464\\3685831189.py:2: UserWarning: Parsing '29/12/2006' in DD/MM/YYYY format. Provide format or specify infer_datetime_format=True for consistent parsing.\n",
      "  data['Date'] = pd.to_datetime(data[\"Date\"])\n",
      "C:\\Users\\Admin\\AppData\\Local\\Temp\\ipykernel_4464\\3685831189.py:2: UserWarning: Parsing '18/12/2009' in DD/MM/YYYY format. Provide format or specify infer_datetime_format=True for consistent parsing.\n",
      "  data['Date'] = pd.to_datetime(data[\"Date\"])\n",
      "C:\\Users\\Admin\\AppData\\Local\\Temp\\ipykernel_4464\\3685831189.py:2: UserWarning: Parsing '25/12/2009' in DD/MM/YYYY format. Provide format or specify infer_datetime_format=True for consistent parsing.\n",
      "  data['Date'] = pd.to_datetime(data[\"Date\"])\n",
      "C:\\Users\\Admin\\AppData\\Local\\Temp\\ipykernel_4464\\3685831189.py:2: UserWarning: Parsing '23/11/2009' in DD/MM/YYYY format. Provide format or specify infer_datetime_format=True for consistent parsing.\n",
      "  data['Date'] = pd.to_datetime(data[\"Date\"])\n",
      "C:\\Users\\Admin\\AppData\\Local\\Temp\\ipykernel_4464\\3685831189.py:2: UserWarning: Parsing '26/10/2007' in DD/MM/YYYY format. Provide format or specify infer_datetime_format=True for consistent parsing.\n",
      "  data['Date'] = pd.to_datetime(data[\"Date\"])\n",
      "C:\\Users\\Admin\\AppData\\Local\\Temp\\ipykernel_4464\\3685831189.py:2: UserWarning: Parsing '21/11/2008' in DD/MM/YYYY format. Provide format or specify infer_datetime_format=True for consistent parsing.\n",
      "  data['Date'] = pd.to_datetime(data[\"Date\"])\n",
      "C:\\Users\\Admin\\AppData\\Local\\Temp\\ipykernel_4464\\3685831189.py:2: UserWarning: Parsing '28/10/2007' in DD/MM/YYYY format. Provide format or specify infer_datetime_format=True for consistent parsing.\n",
      "  data['Date'] = pd.to_datetime(data[\"Date\"])\n",
      "C:\\Users\\Admin\\AppData\\Local\\Temp\\ipykernel_4464\\3685831189.py:2: UserWarning: Parsing '26/12/2009' in DD/MM/YYYY format. Provide format or specify infer_datetime_format=True for consistent parsing.\n",
      "  data['Date'] = pd.to_datetime(data[\"Date\"])\n",
      "C:\\Users\\Admin\\AppData\\Local\\Temp\\ipykernel_4464\\3685831189.py:2: UserWarning: Parsing '19/11/2008' in DD/MM/YYYY format. Provide format or specify infer_datetime_format=True for consistent parsing.\n",
      "  data['Date'] = pd.to_datetime(data[\"Date\"])\n",
      "C:\\Users\\Admin\\AppData\\Local\\Temp\\ipykernel_4464\\3685831189.py:2: UserWarning: Parsing '20/12/2008' in DD/MM/YYYY format. Provide format or specify infer_datetime_format=True for consistent parsing.\n",
      "  data['Date'] = pd.to_datetime(data[\"Date\"])\n",
      "C:\\Users\\Admin\\AppData\\Local\\Temp\\ipykernel_4464\\3685831189.py:2: UserWarning: Parsing '20/11/2007' in DD/MM/YYYY format. Provide format or specify infer_datetime_format=True for consistent parsing.\n",
      "  data['Date'] = pd.to_datetime(data[\"Date\"])\n",
      "C:\\Users\\Admin\\AppData\\Local\\Temp\\ipykernel_4464\\3685831189.py:2: UserWarning: Parsing '29/10/2008' in DD/MM/YYYY format. Provide format or specify infer_datetime_format=True for consistent parsing.\n",
      "  data['Date'] = pd.to_datetime(data[\"Date\"])\n",
      "C:\\Users\\Admin\\AppData\\Local\\Temp\\ipykernel_4464\\3685831189.py:2: UserWarning: Parsing '30/12/2006' in DD/MM/YYYY format. Provide format or specify infer_datetime_format=True for consistent parsing.\n",
      "  data['Date'] = pd.to_datetime(data[\"Date\"])\n",
      "C:\\Users\\Admin\\AppData\\Local\\Temp\\ipykernel_4464\\3685831189.py:2: UserWarning: Parsing '19/12/2009' in DD/MM/YYYY format. Provide format or specify infer_datetime_format=True for consistent parsing.\n",
      "  data['Date'] = pd.to_datetime(data[\"Date\"])\n",
      "C:\\Users\\Admin\\AppData\\Local\\Temp\\ipykernel_4464\\3685831189.py:2: UserWarning: Parsing '24/12/2009' in DD/MM/YYYY format. Provide format or specify infer_datetime_format=True for consistent parsing.\n",
      "  data['Date'] = pd.to_datetime(data[\"Date\"])\n",
      "C:\\Users\\Admin\\AppData\\Local\\Temp\\ipykernel_4464\\3685831189.py:2: UserWarning: Parsing '15/11/2009' in DD/MM/YYYY format. Provide format or specify infer_datetime_format=True for consistent parsing.\n",
      "  data['Date'] = pd.to_datetime(data[\"Date\"])\n",
      "C:\\Users\\Admin\\AppData\\Local\\Temp\\ipykernel_4464\\3685831189.py:2: UserWarning: Parsing '24/11/2008' in DD/MM/YYYY format. Provide format or specify infer_datetime_format=True for consistent parsing.\n",
      "  data['Date'] = pd.to_datetime(data[\"Date\"])\n",
      "C:\\Users\\Admin\\AppData\\Local\\Temp\\ipykernel_4464\\3685831189.py:2: UserWarning: Parsing '18/12/2007' in DD/MM/YYYY format. Provide format or specify infer_datetime_format=True for consistent parsing.\n",
      "  data['Date'] = pd.to_datetime(data[\"Date\"])\n",
      "C:\\Users\\Admin\\AppData\\Local\\Temp\\ipykernel_4464\\3685831189.py:2: UserWarning: Parsing '16/12/2008' in DD/MM/YYYY format. Provide format or specify infer_datetime_format=True for consistent parsing.\n",
      "  data['Date'] = pd.to_datetime(data[\"Date\"])\n",
      "C:\\Users\\Admin\\AppData\\Local\\Temp\\ipykernel_4464\\3685831189.py:2: UserWarning: Parsing '27/11/2008' in DD/MM/YYYY format. Provide format or specify infer_datetime_format=True for consistent parsing.\n",
      "  data['Date'] = pd.to_datetime(data[\"Date\"])\n",
      "C:\\Users\\Admin\\AppData\\Local\\Temp\\ipykernel_4464\\3685831189.py:2: UserWarning: Parsing '18/12/2008' in DD/MM/YYYY format. Provide format or specify infer_datetime_format=True for consistent parsing.\n",
      "  data['Date'] = pd.to_datetime(data[\"Date\"])\n",
      "C:\\Users\\Admin\\AppData\\Local\\Temp\\ipykernel_4464\\3685831189.py:2: UserWarning: Parsing '25/11/2007' in DD/MM/YYYY format. Provide format or specify infer_datetime_format=True for consistent parsing.\n",
      "  data['Date'] = pd.to_datetime(data[\"Date\"])\n",
      "C:\\Users\\Admin\\AppData\\Local\\Temp\\ipykernel_4464\\3685831189.py:2: UserWarning: Parsing '31/10/2009' in DD/MM/YYYY format. Provide format or specify infer_datetime_format=True for consistent parsing.\n",
      "  data['Date'] = pd.to_datetime(data[\"Date\"])\n",
      "C:\\Users\\Admin\\AppData\\Local\\Temp\\ipykernel_4464\\3685831189.py:2: UserWarning: Parsing '27/10/2007' in DD/MM/YYYY format. Provide format or specify infer_datetime_format=True for consistent parsing.\n",
      "  data['Date'] = pd.to_datetime(data[\"Date\"])\n",
      "C:\\Users\\Admin\\AppData\\Local\\Temp\\ipykernel_4464\\3685831189.py:2: UserWarning: Parsing '31/12/2009' in DD/MM/YYYY format. Provide format or specify infer_datetime_format=True for consistent parsing.\n",
      "  data['Date'] = pd.to_datetime(data[\"Date\"])\n",
      "C:\\Users\\Admin\\AppData\\Local\\Temp\\ipykernel_4464\\3685831189.py:2: UserWarning: Parsing '31/10/2010' in DD/MM/YYYY format. Provide format or specify infer_datetime_format=True for consistent parsing.\n",
      "  data['Date'] = pd.to_datetime(data[\"Date\"])\n",
      "C:\\Users\\Admin\\AppData\\Local\\Temp\\ipykernel_4464\\3685831189.py:2: UserWarning: Parsing '31/10/2007' in DD/MM/YYYY format. Provide format or specify infer_datetime_format=True for consistent parsing.\n",
      "  data['Date'] = pd.to_datetime(data[\"Date\"])\n",
      "C:\\Users\\Admin\\AppData\\Local\\Temp\\ipykernel_4464\\3685831189.py:2: UserWarning: Parsing '13/11/2007' in DD/MM/YYYY format. Provide format or specify infer_datetime_format=True for consistent parsing.\n",
      "  data['Date'] = pd.to_datetime(data[\"Date\"])\n",
      "C:\\Users\\Admin\\AppData\\Local\\Temp\\ipykernel_4464\\3685831189.py:2: UserWarning: Parsing '20/10/2008' in DD/MM/YYYY format. Provide format or specify infer_datetime_format=True for consistent parsing.\n",
      "  data['Date'] = pd.to_datetime(data[\"Date\"])\n",
      "C:\\Users\\Admin\\AppData\\Local\\Temp\\ipykernel_4464\\3685831189.py:2: UserWarning: Parsing '19/11/2010' in DD/MM/YYYY format. Provide format or specify infer_datetime_format=True for consistent parsing.\n",
      "  data['Date'] = pd.to_datetime(data[\"Date\"])\n",
      "C:\\Users\\Admin\\AppData\\Local\\Temp\\ipykernel_4464\\3685831189.py:2: UserWarning: Parsing '18/11/2007' in DD/MM/YYYY format. Provide format or specify infer_datetime_format=True for consistent parsing.\n",
      "  data['Date'] = pd.to_datetime(data[\"Date\"])\n",
      "C:\\Users\\Admin\\AppData\\Local\\Temp\\ipykernel_4464\\3685831189.py:2: UserWarning: Parsing '26/10/2009' in DD/MM/YYYY format. Provide format or specify infer_datetime_format=True for consistent parsing.\n",
      "  data['Date'] = pd.to_datetime(data[\"Date\"])\n",
      "C:\\Users\\Admin\\AppData\\Local\\Temp\\ipykernel_4464\\3685831189.py:2: UserWarning: Parsing '13/11/2009' in DD/MM/YYYY format. Provide format or specify infer_datetime_format=True for consistent parsing.\n",
      "  data['Date'] = pd.to_datetime(data[\"Date\"])\n",
      "C:\\Users\\Admin\\AppData\\Local\\Temp\\ipykernel_4464\\3685831189.py:2: UserWarning: Parsing '22/11/2007' in DD/MM/YYYY format. Provide format or specify infer_datetime_format=True for consistent parsing.\n",
      "  data['Date'] = pd.to_datetime(data[\"Date\"])\n",
      "C:\\Users\\Admin\\AppData\\Local\\Temp\\ipykernel_4464\\3685831189.py:2: UserWarning: Parsing '30/12/2009' in DD/MM/YYYY format. Provide format or specify infer_datetime_format=True for consistent parsing.\n",
      "  data['Date'] = pd.to_datetime(data[\"Date\"])\n",
      "C:\\Users\\Admin\\AppData\\Local\\Temp\\ipykernel_4464\\3685831189.py:2: UserWarning: Parsing '23/12/2008' in DD/MM/YYYY format. Provide format or specify infer_datetime_format=True for consistent parsing.\n",
      "  data['Date'] = pd.to_datetime(data[\"Date\"])\n",
      "C:\\Users\\Admin\\AppData\\Local\\Temp\\ipykernel_4464\\3685831189.py:2: UserWarning: Parsing '21/12/2008' in DD/MM/YYYY format. Provide format or specify infer_datetime_format=True for consistent parsing.\n",
      "  data['Date'] = pd.to_datetime(data[\"Date\"])\n",
      "C:\\Users\\Admin\\AppData\\Local\\Temp\\ipykernel_4464\\3685831189.py:2: UserWarning: Parsing '28/10/2010' in DD/MM/YYYY format. Provide format or specify infer_datetime_format=True for consistent parsing.\n",
      "  data['Date'] = pd.to_datetime(data[\"Date\"])\n",
      "C:\\Users\\Admin\\AppData\\Local\\Temp\\ipykernel_4464\\3685831189.py:2: UserWarning: Parsing '16/10/2010' in DD/MM/YYYY format. Provide format or specify infer_datetime_format=True for consistent parsing.\n",
      "  data['Date'] = pd.to_datetime(data[\"Date\"])\n",
      "C:\\Users\\Admin\\AppData\\Local\\Temp\\ipykernel_4464\\3685831189.py:2: UserWarning: Parsing '18/10/2009' in DD/MM/YYYY format. Provide format or specify infer_datetime_format=True for consistent parsing.\n",
      "  data['Date'] = pd.to_datetime(data[\"Date\"])\n",
      "C:\\Users\\Admin\\AppData\\Local\\Temp\\ipykernel_4464\\3685831189.py:2: UserWarning: Parsing '29/11/2008' in DD/MM/YYYY format. Provide format or specify infer_datetime_format=True for consistent parsing.\n",
      "  data['Date'] = pd.to_datetime(data[\"Date\"])\n",
      "C:\\Users\\Admin\\AppData\\Local\\Temp\\ipykernel_4464\\3685831189.py:2: UserWarning: Parsing '28/10/2008' in DD/MM/YYYY format. Provide format or specify infer_datetime_format=True for consistent parsing.\n",
      "  data['Date'] = pd.to_datetime(data[\"Date\"])\n",
      "C:\\Users\\Admin\\AppData\\Local\\Temp\\ipykernel_4464\\3685831189.py:2: UserWarning: Parsing '22/12/2008' in DD/MM/YYYY format. Provide format or specify infer_datetime_format=True for consistent parsing.\n",
      "  data['Date'] = pd.to_datetime(data[\"Date\"])\n",
      "C:\\Users\\Admin\\AppData\\Local\\Temp\\ipykernel_4464\\3685831189.py:2: UserWarning: Parsing '17/12/2008' in DD/MM/YYYY format. Provide format or specify infer_datetime_format=True for consistent parsing.\n",
      "  data['Date'] = pd.to_datetime(data[\"Date\"])\n",
      "C:\\Users\\Admin\\AppData\\Local\\Temp\\ipykernel_4464\\3685831189.py:2: UserWarning: Parsing '24/11/2007' in DD/MM/YYYY format. Provide format or specify infer_datetime_format=True for consistent parsing.\n",
      "  data['Date'] = pd.to_datetime(data[\"Date\"])\n",
      "C:\\Users\\Admin\\AppData\\Local\\Temp\\ipykernel_4464\\3685831189.py:2: UserWarning: Parsing '18/10/2010' in DD/MM/YYYY format. Provide format or specify infer_datetime_format=True for consistent parsing.\n",
      "  data['Date'] = pd.to_datetime(data[\"Date\"])\n",
      "C:\\Users\\Admin\\AppData\\Local\\Temp\\ipykernel_4464\\3685831189.py:2: UserWarning: Parsing '27/12/2008' in DD/MM/YYYY format. Provide format or specify infer_datetime_format=True for consistent parsing.\n",
      "  data['Date'] = pd.to_datetime(data[\"Date\"])\n",
      "C:\\Users\\Admin\\AppData\\Local\\Temp\\ipykernel_4464\\3685831189.py:2: UserWarning: Parsing '26/11/2007' in DD/MM/YYYY format. Provide format or specify infer_datetime_format=True for consistent parsing.\n",
      "  data['Date'] = pd.to_datetime(data[\"Date\"])\n",
      "C:\\Users\\Admin\\AppData\\Local\\Temp\\ipykernel_4464\\3685831189.py:2: UserWarning: Parsing '26/12/2007' in DD/MM/YYYY format. Provide format or specify infer_datetime_format=True for consistent parsing.\n",
      "  data['Date'] = pd.to_datetime(data[\"Date\"])\n",
      "C:\\Users\\Admin\\AppData\\Local\\Temp\\ipykernel_4464\\3685831189.py:2: UserWarning: Parsing '16/11/2008' in DD/MM/YYYY format. Provide format or specify infer_datetime_format=True for consistent parsing.\n",
      "  data['Date'] = pd.to_datetime(data[\"Date\"])\n",
      "C:\\Users\\Admin\\AppData\\Local\\Temp\\ipykernel_4464\\3685831189.py:2: UserWarning: Parsing '25/10/2008' in DD/MM/YYYY format. Provide format or specify infer_datetime_format=True for consistent parsing.\n",
      "  data['Date'] = pd.to_datetime(data[\"Date\"])\n",
      "C:\\Users\\Admin\\AppData\\Local\\Temp\\ipykernel_4464\\3685831189.py:2: UserWarning: Parsing '13/11/2010' in DD/MM/YYYY format. Provide format or specify infer_datetime_format=True for consistent parsing.\n",
      "  data['Date'] = pd.to_datetime(data[\"Date\"])\n",
      "C:\\Users\\Admin\\AppData\\Local\\Temp\\ipykernel_4464\\3685831189.py:2: UserWarning: Parsing '16/10/2009' in DD/MM/YYYY format. Provide format or specify infer_datetime_format=True for consistent parsing.\n",
      "  data['Date'] = pd.to_datetime(data[\"Date\"])\n",
      "C:\\Users\\Admin\\AppData\\Local\\Temp\\ipykernel_4464\\3685831189.py:2: UserWarning: Parsing '19/11/2009' in DD/MM/YYYY format. Provide format or specify infer_datetime_format=True for consistent parsing.\n",
      "  data['Date'] = pd.to_datetime(data[\"Date\"])\n",
      "C:\\Users\\Admin\\AppData\\Local\\Temp\\ipykernel_4464\\3685831189.py:2: UserWarning: Parsing '26/10/2010' in DD/MM/YYYY format. Provide format or specify infer_datetime_format=True for consistent parsing.\n",
      "  data['Date'] = pd.to_datetime(data[\"Date\"])\n",
      "C:\\Users\\Admin\\AppData\\Local\\Temp\\ipykernel_4464\\3685831189.py:2: UserWarning: Parsing '16/11/2007' in DD/MM/YYYY format. Provide format or specify infer_datetime_format=True for consistent parsing.\n",
      "  data['Date'] = pd.to_datetime(data[\"Date\"])\n",
      "C:\\Users\\Admin\\AppData\\Local\\Temp\\ipykernel_4464\\3685831189.py:2: UserWarning: Parsing '19/11/2007' in DD/MM/YYYY format. Provide format or specify infer_datetime_format=True for consistent parsing.\n",
      "  data['Date'] = pd.to_datetime(data[\"Date\"])\n",
      "C:\\Users\\Admin\\AppData\\Local\\Temp\\ipykernel_4464\\3685831189.py:2: UserWarning: Parsing '15/11/2007' in DD/MM/YYYY format. Provide format or specify infer_datetime_format=True for consistent parsing.\n",
      "  data['Date'] = pd.to_datetime(data[\"Date\"])\n",
      "C:\\Users\\Admin\\AppData\\Local\\Temp\\ipykernel_4464\\3685831189.py:2: UserWarning: Parsing '30/12/2007' in DD/MM/YYYY format. Provide format or specify infer_datetime_format=True for consistent parsing.\n",
      "  data['Date'] = pd.to_datetime(data[\"Date\"])\n",
      "C:\\Users\\Admin\\AppData\\Local\\Temp\\ipykernel_4464\\3685831189.py:2: UserWarning: Parsing '30/11/2008' in DD/MM/YYYY format. Provide format or specify infer_datetime_format=True for consistent parsing.\n",
      "  data['Date'] = pd.to_datetime(data[\"Date\"])\n",
      "C:\\Users\\Admin\\AppData\\Local\\Temp\\ipykernel_4464\\3685831189.py:2: UserWarning: Parsing '21/10/2008' in DD/MM/YYYY format. Provide format or specify infer_datetime_format=True for consistent parsing.\n",
      "  data['Date'] = pd.to_datetime(data[\"Date\"])\n",
      "C:\\Users\\Admin\\AppData\\Local\\Temp\\ipykernel_4464\\3685831189.py:2: UserWarning: Parsing '28/11/2008' in DD/MM/YYYY format. Provide format or specify infer_datetime_format=True for consistent parsing.\n",
      "  data['Date'] = pd.to_datetime(data[\"Date\"])\n",
      "C:\\Users\\Admin\\AppData\\Local\\Temp\\ipykernel_4464\\3685831189.py:2: UserWarning: Parsing '16/10/2008' in DD/MM/YYYY format. Provide format or specify infer_datetime_format=True for consistent parsing.\n",
      "  data['Date'] = pd.to_datetime(data[\"Date\"])\n",
      "C:\\Users\\Admin\\AppData\\Local\\Temp\\ipykernel_4464\\3685831189.py:2: UserWarning: Parsing '16/12/2007' in DD/MM/YYYY format. Provide format or specify infer_datetime_format=True for consistent parsing.\n",
      "  data['Date'] = pd.to_datetime(data[\"Date\"])\n",
      "C:\\Users\\Admin\\AppData\\Local\\Temp\\ipykernel_4464\\3685831189.py:2: UserWarning: Parsing '17/10/2010' in DD/MM/YYYY format. Provide format or specify infer_datetime_format=True for consistent parsing.\n",
      "  data['Date'] = pd.to_datetime(data[\"Date\"])\n",
      "C:\\Users\\Admin\\AppData\\Local\\Temp\\ipykernel_4464\\3685831189.py:2: UserWarning: Parsing '19/10/2007' in DD/MM/YYYY format. Provide format or specify infer_datetime_format=True for consistent parsing.\n",
      "  data['Date'] = pd.to_datetime(data[\"Date\"])\n",
      "C:\\Users\\Admin\\AppData\\Local\\Temp\\ipykernel_4464\\3685831189.py:2: UserWarning: Parsing '22/12/2006' in DD/MM/YYYY format. Provide format or specify infer_datetime_format=True for consistent parsing.\n",
      "  data['Date'] = pd.to_datetime(data[\"Date\"])\n",
      "C:\\Users\\Admin\\AppData\\Local\\Temp\\ipykernel_4464\\3685831189.py:2: UserWarning: Parsing '14/11/2009' in DD/MM/YYYY format. Provide format or specify infer_datetime_format=True for consistent parsing.\n",
      "  data['Date'] = pd.to_datetime(data[\"Date\"])\n",
      "C:\\Users\\Admin\\AppData\\Local\\Temp\\ipykernel_4464\\3685831189.py:2: UserWarning: Parsing '22/11/2008' in DD/MM/YYYY format. Provide format or specify infer_datetime_format=True for consistent parsing.\n",
      "  data['Date'] = pd.to_datetime(data[\"Date\"])\n",
      "C:\\Users\\Admin\\AppData\\Local\\Temp\\ipykernel_4464\\3685831189.py:2: UserWarning: Parsing '29/10/2007' in DD/MM/YYYY format. Provide format or specify infer_datetime_format=True for consistent parsing.\n",
      "  data['Date'] = pd.to_datetime(data[\"Date\"])\n",
      "C:\\Users\\Admin\\AppData\\Local\\Temp\\ipykernel_4464\\3685831189.py:2: UserWarning: Parsing '21/12/2007' in DD/MM/YYYY format. Provide format or specify infer_datetime_format=True for consistent parsing.\n",
      "  data['Date'] = pd.to_datetime(data[\"Date\"])\n",
      "C:\\Users\\Admin\\AppData\\Local\\Temp\\ipykernel_4464\\3685831189.py:2: UserWarning: Parsing '29/12/2008' in DD/MM/YYYY format. Provide format or specify infer_datetime_format=True for consistent parsing.\n",
      "  data['Date'] = pd.to_datetime(data[\"Date\"])\n",
      "C:\\Users\\Admin\\AppData\\Local\\Temp\\ipykernel_4464\\3685831189.py:2: UserWarning: Parsing '23/10/2008' in DD/MM/YYYY format. Provide format or specify infer_datetime_format=True for consistent parsing.\n",
      "  data['Date'] = pd.to_datetime(data[\"Date\"])\n",
      "C:\\Users\\Admin\\AppData\\Local\\Temp\\ipykernel_4464\\3685831189.py:2: UserWarning: Parsing '31/12/2007' in DD/MM/YYYY format. Provide format or specify infer_datetime_format=True for consistent parsing.\n",
      "  data['Date'] = pd.to_datetime(data[\"Date\"])\n",
      "C:\\Users\\Admin\\AppData\\Local\\Temp\\ipykernel_4464\\3685831189.py:2: UserWarning: Parsing '18/12/2006' in DD/MM/YYYY format. Provide format or specify infer_datetime_format=True for consistent parsing.\n",
      "  data['Date'] = pd.to_datetime(data[\"Date\"])\n",
      "C:\\Users\\Admin\\AppData\\Local\\Temp\\ipykernel_4464\\3685831189.py:2: UserWarning: Parsing '30/10/2010' in DD/MM/YYYY format. Provide format or specify infer_datetime_format=True for consistent parsing.\n",
      "  data['Date'] = pd.to_datetime(data[\"Date\"])\n",
      "C:\\Users\\Admin\\AppData\\Local\\Temp\\ipykernel_4464\\3685831189.py:2: UserWarning: Parsing '23/12/2007' in DD/MM/YYYY format. Provide format or specify infer_datetime_format=True for consistent parsing.\n",
      "  data['Date'] = pd.to_datetime(data[\"Date\"])\n",
      "C:\\Users\\Admin\\AppData\\Local\\Temp\\ipykernel_4464\\3685831189.py:2: UserWarning: Parsing '28/12/2006' in DD/MM/YYYY format. Provide format or specify infer_datetime_format=True for consistent parsing.\n",
      "  data['Date'] = pd.to_datetime(data[\"Date\"])\n",
      "C:\\Users\\Admin\\AppData\\Local\\Temp\\ipykernel_4464\\3685831189.py:2: UserWarning: Parsing '29/12/2007' in DD/MM/YYYY format. Provide format or specify infer_datetime_format=True for consistent parsing.\n",
      "  data['Date'] = pd.to_datetime(data[\"Date\"])\n",
      "C:\\Users\\Admin\\AppData\\Local\\Temp\\ipykernel_4464\\3685831189.py:2: UserWarning: Parsing '23/10/2007' in DD/MM/YYYY format. Provide format or specify infer_datetime_format=True for consistent parsing.\n",
      "  data['Date'] = pd.to_datetime(data[\"Date\"])\n",
      "C:\\Users\\Admin\\AppData\\Local\\Temp\\ipykernel_4464\\3685831189.py:2: UserWarning: Parsing '14/11/2010' in DD/MM/YYYY format. Provide format or specify infer_datetime_format=True for consistent parsing.\n",
      "  data['Date'] = pd.to_datetime(data[\"Date\"])\n",
      "C:\\Users\\Admin\\AppData\\Local\\Temp\\ipykernel_4464\\3685831189.py:2: UserWarning: Parsing '27/12/2009' in DD/MM/YYYY format. Provide format or specify infer_datetime_format=True for consistent parsing.\n",
      "  data['Date'] = pd.to_datetime(data[\"Date\"])\n",
      "C:\\Users\\Admin\\AppData\\Local\\Temp\\ipykernel_4464\\3685831189.py:2: UserWarning: Parsing '14/11/2007' in DD/MM/YYYY format. Provide format or specify infer_datetime_format=True for consistent parsing.\n",
      "  data['Date'] = pd.to_datetime(data[\"Date\"])\n",
      "C:\\Users\\Admin\\AppData\\Local\\Temp\\ipykernel_4464\\3685831189.py:2: UserWarning: Parsing '25/10/2007' in DD/MM/YYYY format. Provide format or specify infer_datetime_format=True for consistent parsing.\n",
      "  data['Date'] = pd.to_datetime(data[\"Date\"])\n",
      "C:\\Users\\Admin\\AppData\\Local\\Temp\\ipykernel_4464\\3685831189.py:2: UserWarning: Parsing '13/11/2008' in DD/MM/YYYY format. Provide format or specify infer_datetime_format=True for consistent parsing.\n",
      "  data['Date'] = pd.to_datetime(data[\"Date\"])\n",
      "C:\\Users\\Admin\\AppData\\Local\\Temp\\ipykernel_4464\\3685831189.py:2: UserWarning: Parsing '13/12/2007' in DD/MM/YYYY format. Provide format or specify infer_datetime_format=True for consistent parsing.\n",
      "  data['Date'] = pd.to_datetime(data[\"Date\"])\n",
      "C:\\Users\\Admin\\AppData\\Local\\Temp\\ipykernel_4464\\3685831189.py:2: UserWarning: Parsing '18/10/2008' in DD/MM/YYYY format. Provide format or specify infer_datetime_format=True for consistent parsing.\n",
      "  data['Date'] = pd.to_datetime(data[\"Date\"])\n",
      "C:\\Users\\Admin\\AppData\\Local\\Temp\\ipykernel_4464\\3685831189.py:2: UserWarning: Parsing '20/11/2008' in DD/MM/YYYY format. Provide format or specify infer_datetime_format=True for consistent parsing.\n",
      "  data['Date'] = pd.to_datetime(data[\"Date\"])\n",
      "C:\\Users\\Admin\\AppData\\Local\\Temp\\ipykernel_4464\\3685831189.py:2: UserWarning: Parsing '30/11/2007' in DD/MM/YYYY format. Provide format or specify infer_datetime_format=True for consistent parsing.\n",
      "  data['Date'] = pd.to_datetime(data[\"Date\"])\n",
      "C:\\Users\\Admin\\AppData\\Local\\Temp\\ipykernel_4464\\3685831189.py:2: UserWarning: Parsing '17/11/2008' in DD/MM/YYYY format. Provide format or specify infer_datetime_format=True for consistent parsing.\n",
      "  data['Date'] = pd.to_datetime(data[\"Date\"])\n",
      "C:\\Users\\Admin\\AppData\\Local\\Temp\\ipykernel_4464\\3685831189.py:2: UserWarning: Parsing '28/11/2007' in DD/MM/YYYY format. Provide format or specify infer_datetime_format=True for consistent parsing.\n",
      "  data['Date'] = pd.to_datetime(data[\"Date\"])\n",
      "C:\\Users\\Admin\\AppData\\Local\\Temp\\ipykernel_4464\\3685831189.py:2: UserWarning: Parsing '20/12/2007' in DD/MM/YYYY format. Provide format or specify infer_datetime_format=True for consistent parsing.\n",
      "  data['Date'] = pd.to_datetime(data[\"Date\"])\n",
      "C:\\Users\\Admin\\AppData\\Local\\Temp\\ipykernel_4464\\3685831189.py:2: UserWarning: Parsing '19/10/2008' in DD/MM/YYYY format. Provide format or specify infer_datetime_format=True for consistent parsing.\n",
      "  data['Date'] = pd.to_datetime(data[\"Date\"])\n",
      "C:\\Users\\Admin\\AppData\\Local\\Temp\\ipykernel_4464\\3685831189.py:2: UserWarning: Parsing '26/12/2008' in DD/MM/YYYY format. Provide format or specify infer_datetime_format=True for consistent parsing.\n",
      "  data['Date'] = pd.to_datetime(data[\"Date\"])\n",
      "C:\\Users\\Admin\\AppData\\Local\\Temp\\ipykernel_4464\\3685831189.py:2: UserWarning: Parsing '21/10/2007' in DD/MM/YYYY format. Provide format or specify infer_datetime_format=True for consistent parsing.\n",
      "  data['Date'] = pd.to_datetime(data[\"Date\"])\n",
      "C:\\Users\\Admin\\AppData\\Local\\Temp\\ipykernel_4464\\3685831189.py:2: UserWarning: Parsing '30/12/2008' in DD/MM/YYYY format. Provide format or specify infer_datetime_format=True for consistent parsing.\n",
      "  data['Date'] = pd.to_datetime(data[\"Date\"])\n",
      "C:\\Users\\Admin\\AppData\\Local\\Temp\\ipykernel_4464\\3685831189.py:2: UserWarning: Parsing '27/12/2006' in DD/MM/YYYY format. Provide format or specify infer_datetime_format=True for consistent parsing.\n",
      "  data['Date'] = pd.to_datetime(data[\"Date\"])\n",
      "C:\\Users\\Admin\\AppData\\Local\\Temp\\ipykernel_4464\\3685831189.py:2: UserWarning: Parsing '24/12/2007' in DD/MM/YYYY format. Provide format or specify infer_datetime_format=True for consistent parsing.\n",
      "  data['Date'] = pd.to_datetime(data[\"Date\"])\n",
      "C:\\Users\\Admin\\AppData\\Local\\Temp\\ipykernel_4464\\3685831189.py:2: UserWarning: Parsing '18/10/2007' in DD/MM/YYYY format. Provide format or specify infer_datetime_format=True for consistent parsing.\n",
      "  data['Date'] = pd.to_datetime(data[\"Date\"])\n",
      "C:\\Users\\Admin\\AppData\\Local\\Temp\\ipykernel_4464\\3685831189.py:2: UserWarning: Parsing '31/12/2008' in DD/MM/YYYY format. Provide format or specify infer_datetime_format=True for consistent parsing.\n",
      "  data['Date'] = pd.to_datetime(data[\"Date\"])\n",
      "C:\\Users\\Admin\\AppData\\Local\\Temp\\ipykernel_4464\\3685831189.py:2: UserWarning: Parsing '24/12/2006' in DD/MM/YYYY format. Provide format or specify infer_datetime_format=True for consistent parsing.\n",
      "  data['Date'] = pd.to_datetime(data[\"Date\"])\n",
      "C:\\Users\\Admin\\AppData\\Local\\Temp\\ipykernel_4464\\3685831189.py:2: UserWarning: Parsing '30/10/2007' in DD/MM/YYYY format. Provide format or specify infer_datetime_format=True for consistent parsing.\n",
      "  data['Date'] = pd.to_datetime(data[\"Date\"])\n",
      "C:\\Users\\Admin\\AppData\\Local\\Temp\\ipykernel_4464\\3685831189.py:2: UserWarning: Parsing '27/10/2008' in DD/MM/YYYY format. Provide format or specify infer_datetime_format=True for consistent parsing.\n",
      "  data['Date'] = pd.to_datetime(data[\"Date\"])\n",
      "C:\\Users\\Admin\\AppData\\Local\\Temp\\ipykernel_4464\\3685831189.py:2: UserWarning: Parsing '13/10/2009' in DD/MM/YYYY format. Provide format or specify infer_datetime_format=True for consistent parsing.\n",
      "  data['Date'] = pd.to_datetime(data[\"Date\"])\n",
      "C:\\Users\\Admin\\AppData\\Local\\Temp\\ipykernel_4464\\3685831189.py:2: UserWarning: Parsing '21/11/2009' in DD/MM/YYYY format. Provide format or specify infer_datetime_format=True for consistent parsing.\n",
      "  data['Date'] = pd.to_datetime(data[\"Date\"])\n",
      "C:\\Users\\Admin\\AppData\\Local\\Temp\\ipykernel_4464\\3685831189.py:2: UserWarning: Parsing '18/11/2008' in DD/MM/YYYY format. Provide format or specify infer_datetime_format=True for consistent parsing.\n",
      "  data['Date'] = pd.to_datetime(data[\"Date\"])\n",
      "C:\\Users\\Admin\\AppData\\Local\\Temp\\ipykernel_4464\\3685831189.py:2: UserWarning: Parsing '22/12/2009' in DD/MM/YYYY format. Provide format or specify infer_datetime_format=True for consistent parsing.\n",
      "  data['Date'] = pd.to_datetime(data[\"Date\"])\n",
      "C:\\Users\\Admin\\AppData\\Local\\Temp\\ipykernel_4464\\3685831189.py:2: UserWarning: Parsing '27/11/2007' in DD/MM/YYYY format. Provide format or specify infer_datetime_format=True for consistent parsing.\n",
      "  data['Date'] = pd.to_datetime(data[\"Date\"])\n",
      "C:\\Users\\Admin\\AppData\\Local\\Temp\\ipykernel_4464\\3685831189.py:2: UserWarning: Parsing '14/11/2008' in DD/MM/YYYY format. Provide format or specify infer_datetime_format=True for consistent parsing.\n",
      "  data['Date'] = pd.to_datetime(data[\"Date\"])\n",
      "C:\\Users\\Admin\\AppData\\Local\\Temp\\ipykernel_4464\\3685831189.py:2: UserWarning: Parsing '29/11/2009' in DD/MM/YYYY format. Provide format or specify infer_datetime_format=True for consistent parsing.\n",
      "  data['Date'] = pd.to_datetime(data[\"Date\"])\n",
      "C:\\Users\\Admin\\AppData\\Local\\Temp\\ipykernel_4464\\3685831189.py:2: UserWarning: Parsing '20/10/2007' in DD/MM/YYYY format. Provide format or specify infer_datetime_format=True for consistent parsing.\n",
      "  data['Date'] = pd.to_datetime(data[\"Date\"])\n",
      "C:\\Users\\Admin\\AppData\\Local\\Temp\\ipykernel_4464\\3685831189.py:2: UserWarning: Parsing '22/12/2007' in DD/MM/YYYY format. Provide format or specify infer_datetime_format=True for consistent parsing.\n",
      "  data['Date'] = pd.to_datetime(data[\"Date\"])\n",
      "C:\\Users\\Admin\\AppData\\Local\\Temp\\ipykernel_4464\\3685831189.py:2: UserWarning: Parsing '20/10/2009' in DD/MM/YYYY format. Provide format or specify infer_datetime_format=True for consistent parsing.\n",
      "  data['Date'] = pd.to_datetime(data[\"Date\"])\n",
      "C:\\Users\\Admin\\AppData\\Local\\Temp\\ipykernel_4464\\3685831189.py:2: UserWarning: Parsing '23/12/2009' in DD/MM/YYYY format. Provide format or specify infer_datetime_format=True for consistent parsing.\n",
      "  data['Date'] = pd.to_datetime(data[\"Date\"])\n",
      "C:\\Users\\Admin\\AppData\\Local\\Temp\\ipykernel_4464\\3685831189.py:2: UserWarning: Parsing '21/11/2010' in DD/MM/YYYY format. Provide format or specify infer_datetime_format=True for consistent parsing.\n",
      "  data['Date'] = pd.to_datetime(data[\"Date\"])\n",
      "C:\\Users\\Admin\\AppData\\Local\\Temp\\ipykernel_4464\\3685831189.py:2: UserWarning: Parsing '14/12/2009' in DD/MM/YYYY format. Provide format or specify infer_datetime_format=True for consistent parsing.\n",
      "  data['Date'] = pd.to_datetime(data[\"Date\"])\n",
      "C:\\Users\\Admin\\AppData\\Local\\Temp\\ipykernel_4464\\3685831189.py:2: UserWarning: Parsing '18/11/2010' in DD/MM/YYYY format. Provide format or specify infer_datetime_format=True for consistent parsing.\n",
      "  data['Date'] = pd.to_datetime(data[\"Date\"])\n",
      "C:\\Users\\Admin\\AppData\\Local\\Temp\\ipykernel_4464\\3685831189.py:2: UserWarning: Parsing '23/12/2006' in DD/MM/YYYY format. Provide format or specify infer_datetime_format=True for consistent parsing.\n",
      "  data['Date'] = pd.to_datetime(data[\"Date\"])\n",
      "C:\\Users\\Admin\\AppData\\Local\\Temp\\ipykernel_4464\\3685831189.py:2: UserWarning: Parsing '28/12/2007' in DD/MM/YYYY format. Provide format or specify infer_datetime_format=True for consistent parsing.\n",
      "  data['Date'] = pd.to_datetime(data[\"Date\"])\n",
      "C:\\Users\\Admin\\AppData\\Local\\Temp\\ipykernel_4464\\3685831189.py:2: UserWarning: Parsing '24/10/2007' in DD/MM/YYYY format. Provide format or specify infer_datetime_format=True for consistent parsing.\n",
      "  data['Date'] = pd.to_datetime(data[\"Date\"])\n",
      "C:\\Users\\Admin\\AppData\\Local\\Temp\\ipykernel_4464\\3685831189.py:2: UserWarning: Parsing '31/12/2006' in DD/MM/YYYY format. Provide format or specify infer_datetime_format=True for consistent parsing.\n",
      "  data['Date'] = pd.to_datetime(data[\"Date\"])\n",
      "C:\\Users\\Admin\\AppData\\Local\\Temp\\ipykernel_4464\\3685831189.py:2: UserWarning: Parsing '28/10/2009' in DD/MM/YYYY format. Provide format or specify infer_datetime_format=True for consistent parsing.\n",
      "  data['Date'] = pd.to_datetime(data[\"Date\"])\n",
      "C:\\Users\\Admin\\AppData\\Local\\Temp\\ipykernel_4464\\3685831189.py:2: UserWarning: Parsing '15/10/2007' in DD/MM/YYYY format. Provide format or specify infer_datetime_format=True for consistent parsing.\n",
      "  data['Date'] = pd.to_datetime(data[\"Date\"])\n",
      "C:\\Users\\Admin\\AppData\\Local\\Temp\\ipykernel_4464\\3685831189.py:2: UserWarning: Parsing '21/12/2006' in DD/MM/YYYY format. Provide format or specify infer_datetime_format=True for consistent parsing.\n",
      "  data['Date'] = pd.to_datetime(data[\"Date\"])\n",
      "C:\\Users\\Admin\\AppData\\Local\\Temp\\ipykernel_4464\\3685831189.py:2: UserWarning: Parsing '19/12/2006' in DD/MM/YYYY format. Provide format or specify infer_datetime_format=True for consistent parsing.\n",
      "  data['Date'] = pd.to_datetime(data[\"Date\"])\n",
      "C:\\Users\\Admin\\AppData\\Local\\Temp\\ipykernel_4464\\3685831189.py:2: UserWarning: Parsing '21/10/2010' in DD/MM/YYYY format. Provide format or specify infer_datetime_format=True for consistent parsing.\n",
      "  data['Date'] = pd.to_datetime(data[\"Date\"])\n",
      "C:\\Users\\Admin\\AppData\\Local\\Temp\\ipykernel_4464\\3685831189.py:2: UserWarning: Parsing '22/11/2010' in DD/MM/YYYY format. Provide format or specify infer_datetime_format=True for consistent parsing.\n",
      "  data['Date'] = pd.to_datetime(data[\"Date\"])\n",
      "C:\\Users\\Admin\\AppData\\Local\\Temp\\ipykernel_4464\\3685831189.py:2: UserWarning: Parsing '16/11/2010' in DD/MM/YYYY format. Provide format or specify infer_datetime_format=True for consistent parsing.\n",
      "  data['Date'] = pd.to_datetime(data[\"Date\"])\n",
      "C:\\Users\\Admin\\AppData\\Local\\Temp\\ipykernel_4464\\3685831189.py:2: UserWarning: Parsing '24/10/2010' in DD/MM/YYYY format. Provide format or specify infer_datetime_format=True for consistent parsing.\n",
      "  data['Date'] = pd.to_datetime(data[\"Date\"])\n",
      "C:\\Users\\Admin\\AppData\\Local\\Temp\\ipykernel_4464\\3685831189.py:2: UserWarning: Parsing '29/10/2009' in DD/MM/YYYY format. Provide format or specify infer_datetime_format=True for consistent parsing.\n",
      "  data['Date'] = pd.to_datetime(data[\"Date\"])\n",
      "C:\\Users\\Admin\\AppData\\Local\\Temp\\ipykernel_4464\\3685831189.py:2: UserWarning: Parsing '24/12/2008' in DD/MM/YYYY format. Provide format or specify infer_datetime_format=True for consistent parsing.\n",
      "  data['Date'] = pd.to_datetime(data[\"Date\"])\n",
      "C:\\Users\\Admin\\AppData\\Local\\Temp\\ipykernel_4464\\3685831189.py:2: UserWarning: Parsing '19/10/2009' in DD/MM/YYYY format. Provide format or specify infer_datetime_format=True for consistent parsing.\n",
      "  data['Date'] = pd.to_datetime(data[\"Date\"])\n",
      "C:\\Users\\Admin\\AppData\\Local\\Temp\\ipykernel_4464\\3685831189.py:2: UserWarning: Parsing '15/10/2009' in DD/MM/YYYY format. Provide format or specify infer_datetime_format=True for consistent parsing.\n",
      "  data['Date'] = pd.to_datetime(data[\"Date\"])\n",
      "C:\\Users\\Admin\\AppData\\Local\\Temp\\ipykernel_4464\\3685831189.py:2: UserWarning: Parsing '16/12/2009' in DD/MM/YYYY format. Provide format or specify infer_datetime_format=True for consistent parsing.\n",
      "  data['Date'] = pd.to_datetime(data[\"Date\"])\n",
      "C:\\Users\\Admin\\AppData\\Local\\Temp\\ipykernel_4464\\3685831189.py:2: UserWarning: Parsing '22/10/2010' in DD/MM/YYYY format. Provide format or specify infer_datetime_format=True for consistent parsing.\n",
      "  data['Date'] = pd.to_datetime(data[\"Date\"])\n",
      "C:\\Users\\Admin\\AppData\\Local\\Temp\\ipykernel_4464\\3685831189.py:2: UserWarning: Parsing '26/11/2010' in DD/MM/YYYY format. Provide format or specify infer_datetime_format=True for consistent parsing.\n",
      "  data['Date'] = pd.to_datetime(data[\"Date\"])\n",
      "C:\\Users\\Admin\\AppData\\Local\\Temp\\ipykernel_4464\\3685831189.py:2: UserWarning: Parsing '26/12/2006' in DD/MM/YYYY format. Provide format or specify infer_datetime_format=True for consistent parsing.\n",
      "  data['Date'] = pd.to_datetime(data[\"Date\"])\n",
      "C:\\Users\\Admin\\AppData\\Local\\Temp\\ipykernel_4464\\3685831189.py:2: UserWarning: Parsing '31/10/2008' in DD/MM/YYYY format. Provide format or specify infer_datetime_format=True for consistent parsing.\n",
      "  data['Date'] = pd.to_datetime(data[\"Date\"])\n",
      "C:\\Users\\Admin\\AppData\\Local\\Temp\\ipykernel_4464\\3685831189.py:2: UserWarning: Parsing '17/12/2007' in DD/MM/YYYY format. Provide format or specify infer_datetime_format=True for consistent parsing.\n",
      "  data['Date'] = pd.to_datetime(data[\"Date\"])\n",
      "C:\\Users\\Admin\\AppData\\Local\\Temp\\ipykernel_4464\\3685831189.py:2: UserWarning: Parsing '23/11/2010' in DD/MM/YYYY format. Provide format or specify infer_datetime_format=True for consistent parsing.\n",
      "  data['Date'] = pd.to_datetime(data[\"Date\"])\n",
      "C:\\Users\\Admin\\AppData\\Local\\Temp\\ipykernel_4464\\3685831189.py:2: UserWarning: Parsing '22/10/2008' in DD/MM/YYYY format. Provide format or specify infer_datetime_format=True for consistent parsing.\n",
      "  data['Date'] = pd.to_datetime(data[\"Date\"])\n",
      "C:\\Users\\Admin\\AppData\\Local\\Temp\\ipykernel_4464\\3685831189.py:2: UserWarning: Parsing '17/12/2006' in DD/MM/YYYY format. Provide format or specify infer_datetime_format=True for consistent parsing.\n",
      "  data['Date'] = pd.to_datetime(data[\"Date\"])\n",
      "C:\\Users\\Admin\\AppData\\Local\\Temp\\ipykernel_4464\\3685831189.py:2: UserWarning: Parsing '20/12/2009' in DD/MM/YYYY format. Provide format or specify infer_datetime_format=True for consistent parsing.\n",
      "  data['Date'] = pd.to_datetime(data[\"Date\"])\n",
      "C:\\Users\\Admin\\AppData\\Local\\Temp\\ipykernel_4464\\3685831189.py:2: UserWarning: Parsing '24/11/2010' in DD/MM/YYYY format. Provide format or specify infer_datetime_format=True for consistent parsing.\n",
      "  data['Date'] = pd.to_datetime(data[\"Date\"])\n",
      "C:\\Users\\Admin\\AppData\\Local\\Temp\\ipykernel_4464\\3685831189.py:2: UserWarning: Parsing '16/11/2009' in DD/MM/YYYY format. Provide format or specify infer_datetime_format=True for consistent parsing.\n",
      "  data['Date'] = pd.to_datetime(data[\"Date\"])\n",
      "C:\\Users\\Admin\\AppData\\Local\\Temp\\ipykernel_4464\\3685831189.py:2: UserWarning: Parsing '18/11/2009' in DD/MM/YYYY format. Provide format or specify infer_datetime_format=True for consistent parsing.\n",
      "  data['Date'] = pd.to_datetime(data[\"Date\"])\n",
      "C:\\Users\\Admin\\AppData\\Local\\Temp\\ipykernel_4464\\3685831189.py:2: UserWarning: Parsing '23/11/2008' in DD/MM/YYYY format. Provide format or specify infer_datetime_format=True for consistent parsing.\n",
      "  data['Date'] = pd.to_datetime(data[\"Date\"])\n",
      "C:\\Users\\Admin\\AppData\\Local\\Temp\\ipykernel_4464\\3685831189.py:2: UserWarning: Parsing '15/10/2008' in DD/MM/YYYY format. Provide format or specify infer_datetime_format=True for consistent parsing.\n",
      "  data['Date'] = pd.to_datetime(data[\"Date\"])\n",
      "C:\\Users\\Admin\\AppData\\Local\\Temp\\ipykernel_4464\\3685831189.py:2: UserWarning: Parsing '21/12/2009' in DD/MM/YYYY format. Provide format or specify infer_datetime_format=True for consistent parsing.\n",
      "  data['Date'] = pd.to_datetime(data[\"Date\"])\n",
      "C:\\Users\\Admin\\AppData\\Local\\Temp\\ipykernel_4464\\3685831189.py:2: UserWarning: Parsing '20/12/2006' in DD/MM/YYYY format. Provide format or specify infer_datetime_format=True for consistent parsing.\n",
      "  data['Date'] = pd.to_datetime(data[\"Date\"])\n",
      "C:\\Users\\Admin\\AppData\\Local\\Temp\\ipykernel_4464\\3685831189.py:2: UserWarning: Parsing '30/10/2009' in DD/MM/YYYY format. Provide format or specify infer_datetime_format=True for consistent parsing.\n",
      "  data['Date'] = pd.to_datetime(data[\"Date\"])\n",
      "C:\\Users\\Admin\\AppData\\Local\\Temp\\ipykernel_4464\\3685831189.py:2: UserWarning: Parsing '13/12/2009' in DD/MM/YYYY format. Provide format or specify infer_datetime_format=True for consistent parsing.\n",
      "  data['Date'] = pd.to_datetime(data[\"Date\"])\n",
      "C:\\Users\\Admin\\AppData\\Local\\Temp\\ipykernel_4464\\3685831189.py:2: UserWarning: Parsing '28/11/2009' in DD/MM/YYYY format. Provide format or specify infer_datetime_format=True for consistent parsing.\n",
      "  data['Date'] = pd.to_datetime(data[\"Date\"])\n",
      "C:\\Users\\Admin\\AppData\\Local\\Temp\\ipykernel_4464\\3685831189.py:2: UserWarning: Parsing '15/11/2008' in DD/MM/YYYY format. Provide format or specify infer_datetime_format=True for consistent parsing.\n",
      "  data['Date'] = pd.to_datetime(data[\"Date\"])\n",
      "C:\\Users\\Admin\\AppData\\Local\\Temp\\ipykernel_4464\\3685831189.py:2: UserWarning: Parsing '29/11/2007' in DD/MM/YYYY format. Provide format or specify infer_datetime_format=True for consistent parsing.\n",
      "  data['Date'] = pd.to_datetime(data[\"Date\"])\n",
      "C:\\Users\\Admin\\AppData\\Local\\Temp\\ipykernel_4464\\3685831189.py:2: UserWarning: Parsing '14/12/2008' in DD/MM/YYYY format. Provide format or specify infer_datetime_format=True for consistent parsing.\n",
      "  data['Date'] = pd.to_datetime(data[\"Date\"])\n"
     ]
    },
    {
     "name": "stderr",
     "output_type": "stream",
     "text": [
      "C:\\Users\\Admin\\AppData\\Local\\Temp\\ipykernel_4464\\3685831189.py:2: UserWarning: Parsing '20/10/2010' in DD/MM/YYYY format. Provide format or specify infer_datetime_format=True for consistent parsing.\n",
      "  data['Date'] = pd.to_datetime(data[\"Date\"])\n",
      "C:\\Users\\Admin\\AppData\\Local\\Temp\\ipykernel_4464\\3685831189.py:2: UserWarning: Parsing '28/12/2008' in DD/MM/YYYY format. Provide format or specify infer_datetime_format=True for consistent parsing.\n",
      "  data['Date'] = pd.to_datetime(data[\"Date\"])\n",
      "C:\\Users\\Admin\\AppData\\Local\\Temp\\ipykernel_4464\\3685831189.py:2: UserWarning: Parsing '17/11/2010' in DD/MM/YYYY format. Provide format or specify infer_datetime_format=True for consistent parsing.\n",
      "  data['Date'] = pd.to_datetime(data[\"Date\"])\n",
      "C:\\Users\\Admin\\AppData\\Local\\Temp\\ipykernel_4464\\3685831189.py:2: UserWarning: Parsing '26/11/2008' in DD/MM/YYYY format. Provide format or specify infer_datetime_format=True for consistent parsing.\n",
      "  data['Date'] = pd.to_datetime(data[\"Date\"])\n",
      "C:\\Users\\Admin\\AppData\\Local\\Temp\\ipykernel_4464\\3685831189.py:2: UserWarning: Parsing '13/10/2008' in DD/MM/YYYY format. Provide format or specify infer_datetime_format=True for consistent parsing.\n",
      "  data['Date'] = pd.to_datetime(data[\"Date\"])\n",
      "C:\\Users\\Admin\\AppData\\Local\\Temp\\ipykernel_4464\\3685831189.py:2: UserWarning: Parsing '13/12/2008' in DD/MM/YYYY format. Provide format or specify infer_datetime_format=True for consistent parsing.\n",
      "  data['Date'] = pd.to_datetime(data[\"Date\"])\n",
      "C:\\Users\\Admin\\AppData\\Local\\Temp\\ipykernel_4464\\3685831189.py:2: UserWarning: Parsing '23/10/2010' in DD/MM/YYYY format. Provide format or specify infer_datetime_format=True for consistent parsing.\n",
      "  data['Date'] = pd.to_datetime(data[\"Date\"])\n",
      "C:\\Users\\Admin\\AppData\\Local\\Temp\\ipykernel_4464\\3685831189.py:2: UserWarning: Parsing '13/10/2007' in DD/MM/YYYY format. Provide format or specify infer_datetime_format=True for consistent parsing.\n",
      "  data['Date'] = pd.to_datetime(data[\"Date\"])\n",
      "C:\\Users\\Admin\\AppData\\Local\\Temp\\ipykernel_4464\\3685831189.py:2: UserWarning: Parsing '29/12/2009' in DD/MM/YYYY format. Provide format or specify infer_datetime_format=True for consistent parsing.\n",
      "  data['Date'] = pd.to_datetime(data[\"Date\"])\n",
      "C:\\Users\\Admin\\AppData\\Local\\Temp\\ipykernel_4464\\3685831189.py:2: UserWarning: Parsing '17/10/2008' in DD/MM/YYYY format. Provide format or specify infer_datetime_format=True for consistent parsing.\n",
      "  data['Date'] = pd.to_datetime(data[\"Date\"])\n",
      "C:\\Users\\Admin\\AppData\\Local\\Temp\\ipykernel_4464\\3685831189.py:2: UserWarning: Parsing '27/10/2009' in DD/MM/YYYY format. Provide format or specify infer_datetime_format=True for consistent parsing.\n",
      "  data['Date'] = pd.to_datetime(data[\"Date\"])\n",
      "C:\\Users\\Admin\\AppData\\Local\\Temp\\ipykernel_4464\\3685831189.py:2: UserWarning: Parsing '25/10/2010' in DD/MM/YYYY format. Provide format or specify infer_datetime_format=True for consistent parsing.\n",
      "  data['Date'] = pd.to_datetime(data[\"Date\"])\n",
      "C:\\Users\\Admin\\AppData\\Local\\Temp\\ipykernel_4464\\3685831189.py:2: UserWarning: Parsing '21/10/2009' in DD/MM/YYYY format. Provide format or specify infer_datetime_format=True for consistent parsing.\n",
      "  data['Date'] = pd.to_datetime(data[\"Date\"])\n",
      "C:\\Users\\Admin\\AppData\\Local\\Temp\\ipykernel_4464\\3685831189.py:2: UserWarning: Parsing '21/11/2007' in DD/MM/YYYY format. Provide format or specify infer_datetime_format=True for consistent parsing.\n",
      "  data['Date'] = pd.to_datetime(data[\"Date\"])\n",
      "C:\\Users\\Admin\\AppData\\Local\\Temp\\ipykernel_4464\\3685831189.py:2: UserWarning: Parsing '23/10/2009' in DD/MM/YYYY format. Provide format or specify infer_datetime_format=True for consistent parsing.\n",
      "  data['Date'] = pd.to_datetime(data[\"Date\"])\n",
      "C:\\Users\\Admin\\AppData\\Local\\Temp\\ipykernel_4464\\3685831189.py:2: UserWarning: Parsing '25/12/2008' in DD/MM/YYYY format. Provide format or specify infer_datetime_format=True for consistent parsing.\n",
      "  data['Date'] = pd.to_datetime(data[\"Date\"])\n",
      "C:\\Users\\Admin\\AppData\\Local\\Temp\\ipykernel_4464\\3685831189.py:2: UserWarning: Parsing '19/12/2008' in DD/MM/YYYY format. Provide format or specify infer_datetime_format=True for consistent parsing.\n",
      "  data['Date'] = pd.to_datetime(data[\"Date\"])\n",
      "C:\\Users\\Admin\\AppData\\Local\\Temp\\ipykernel_4464\\3685831189.py:2: UserWarning: Parsing '16/10/2007' in DD/MM/YYYY format. Provide format or specify infer_datetime_format=True for consistent parsing.\n",
      "  data['Date'] = pd.to_datetime(data[\"Date\"])\n",
      "C:\\Users\\Admin\\AppData\\Local\\Temp\\ipykernel_4464\\3685831189.py:2: UserWarning: Parsing '15/12/2008' in DD/MM/YYYY format. Provide format or specify infer_datetime_format=True for consistent parsing.\n",
      "  data['Date'] = pd.to_datetime(data[\"Date\"])\n",
      "C:\\Users\\Admin\\AppData\\Local\\Temp\\ipykernel_4464\\3685831189.py:2: UserWarning: Parsing '27/12/2007' in DD/MM/YYYY format. Provide format or specify infer_datetime_format=True for consistent parsing.\n",
      "  data['Date'] = pd.to_datetime(data[\"Date\"])\n",
      "C:\\Users\\Admin\\AppData\\Local\\Temp\\ipykernel_4464\\3685831189.py:2: UserWarning: Parsing '17/12/2009' in DD/MM/YYYY format. Provide format or specify infer_datetime_format=True for consistent parsing.\n",
      "  data['Date'] = pd.to_datetime(data[\"Date\"])\n",
      "C:\\Users\\Admin\\AppData\\Local\\Temp\\ipykernel_4464\\3685831189.py:2: UserWarning: Parsing '24/10/2009' in DD/MM/YYYY format. Provide format or specify infer_datetime_format=True for consistent parsing.\n",
      "  data['Date'] = pd.to_datetime(data[\"Date\"])\n",
      "C:\\Users\\Admin\\AppData\\Local\\Temp\\ipykernel_4464\\3685831189.py:2: UserWarning: Parsing '28/12/2009' in DD/MM/YYYY format. Provide format or specify infer_datetime_format=True for consistent parsing.\n",
      "  data['Date'] = pd.to_datetime(data[\"Date\"])\n",
      "C:\\Users\\Admin\\AppData\\Local\\Temp\\ipykernel_4464\\3685831189.py:2: UserWarning: Parsing '25/12/2006' in DD/MM/YYYY format. Provide format or specify infer_datetime_format=True for consistent parsing.\n",
      "  data['Date'] = pd.to_datetime(data[\"Date\"])\n",
      "C:\\Users\\Admin\\AppData\\Local\\Temp\\ipykernel_4464\\3685831189.py:2: UserWarning: Parsing '25/11/2009' in DD/MM/YYYY format. Provide format or specify infer_datetime_format=True for consistent parsing.\n",
      "  data['Date'] = pd.to_datetime(data[\"Date\"])\n",
      "C:\\Users\\Admin\\AppData\\Local\\Temp\\ipykernel_4464\\3685831189.py:2: UserWarning: Parsing '15/12/2009' in DD/MM/YYYY format. Provide format or specify infer_datetime_format=True for consistent parsing.\n",
      "  data['Date'] = pd.to_datetime(data[\"Date\"])\n"
     ]
    }
   ],
   "source": [
    "# convert object datatype to datetime dtype\n",
    "data['Date'] = pd.to_datetime(data[\"Date\"])"
   ]
  },
  {
   "cell_type": "code",
   "execution_count": 13,
   "id": "7433b61e",
   "metadata": {},
   "outputs": [],
   "source": [
    "# Separating numerical and categorical features\n",
    "num_features = [feature for feature in data.columns if data[feature].dtype!='O']\n",
    "cat_features = [feature for feature in data.columns if data[feature].dtype=='O']"
   ]
  },
  {
   "cell_type": "code",
   "execution_count": 14,
   "id": "be44f1a3",
   "metadata": {},
   "outputs": [
    {
     "data": {
      "text/plain": [
       "['Date',\n",
       " 'Global_active_power',\n",
       " 'Global_reactive_power',\n",
       " 'Voltage',\n",
       " 'Global_intensity',\n",
       " 'Sub_metering_1',\n",
       " 'Sub_metering_2',\n",
       " 'Sub_metering_3']"
      ]
     },
     "execution_count": 14,
     "metadata": {},
     "output_type": "execute_result"
    }
   ],
   "source": [
    "num_features"
   ]
  },
  {
   "cell_type": "code",
   "execution_count": 15,
   "id": "336205bd",
   "metadata": {},
   "outputs": [
    {
     "data": {
      "text/plain": [
       "['Time']"
      ]
     },
     "execution_count": 15,
     "metadata": {},
     "output_type": "execute_result"
    }
   ],
   "source": [
    "cat_features"
   ]
  },
  {
   "cell_type": "code",
   "execution_count": 16,
   "id": "0aefea3a",
   "metadata": {},
   "outputs": [],
   "source": [
    "data = data.dropna()"
   ]
  },
  {
   "cell_type": "markdown",
   "id": "51ef248f",
   "metadata": {},
   "source": [
    "Creating the Target Variable"
   ]
  },
  {
   "cell_type": "code",
   "execution_count": 17,
   "id": "ce0603bb",
   "metadata": {},
   "outputs": [],
   "source": [
    "data[\"sub_meter_total\"] = data[\"Sub_metering_1\"].astype(float)+data[\"Sub_metering_2\"].astype(float)+data[\"Sub_metering_3\"].astype(float)"
   ]
  },
  {
   "cell_type": "code",
   "execution_count": 18,
   "id": "80f07678",
   "metadata": {},
   "outputs": [
    {
     "data": {
      "text/html": [
       "<div>\n",
       "<style scoped>\n",
       "    .dataframe tbody tr th:only-of-type {\n",
       "        vertical-align: middle;\n",
       "    }\n",
       "\n",
       "    .dataframe tbody tr th {\n",
       "        vertical-align: top;\n",
       "    }\n",
       "\n",
       "    .dataframe thead th {\n",
       "        text-align: right;\n",
       "    }\n",
       "</style>\n",
       "<table border=\"1\" class=\"dataframe\">\n",
       "  <thead>\n",
       "    <tr style=\"text-align: right;\">\n",
       "      <th></th>\n",
       "      <th>Date</th>\n",
       "      <th>Time</th>\n",
       "      <th>Global_active_power</th>\n",
       "      <th>Global_reactive_power</th>\n",
       "      <th>Voltage</th>\n",
       "      <th>Global_intensity</th>\n",
       "      <th>Sub_metering_1</th>\n",
       "      <th>Sub_metering_2</th>\n",
       "      <th>Sub_metering_3</th>\n",
       "      <th>sub_meter_total</th>\n",
       "    </tr>\n",
       "  </thead>\n",
       "  <tbody>\n",
       "    <tr>\n",
       "      <th>1953887</th>\n",
       "      <td>2010-03-09</td>\n",
       "      <td>14:11:00</td>\n",
       "      <td>0.330</td>\n",
       "      <td>0.064</td>\n",
       "      <td>238.74</td>\n",
       "      <td>1.6</td>\n",
       "      <td>0.0</td>\n",
       "      <td>0.0</td>\n",
       "      <td>0.0</td>\n",
       "      <td>0.0</td>\n",
       "    </tr>\n",
       "    <tr>\n",
       "      <th>1564572</th>\n",
       "      <td>2009-07-12</td>\n",
       "      <td>05:36:00</td>\n",
       "      <td>1.472</td>\n",
       "      <td>0.106</td>\n",
       "      <td>242.99</td>\n",
       "      <td>6.0</td>\n",
       "      <td>0.0</td>\n",
       "      <td>0.0</td>\n",
       "      <td>19.0</td>\n",
       "      <td>19.0</td>\n",
       "    </tr>\n",
       "  </tbody>\n",
       "</table>\n",
       "</div>"
      ],
      "text/plain": [
       "              Date      Time  Global_active_power  Global_reactive_power  \\\n",
       "1953887 2010-03-09  14:11:00                0.330                  0.064   \n",
       "1564572 2009-07-12  05:36:00                1.472                  0.106   \n",
       "\n",
       "         Voltage  Global_intensity  Sub_metering_1  Sub_metering_2  \\\n",
       "1953887   238.74               1.6             0.0             0.0   \n",
       "1564572   242.99               6.0             0.0             0.0   \n",
       "\n",
       "         Sub_metering_3  sub_meter_total  \n",
       "1953887             0.0              0.0  \n",
       "1564572            19.0             19.0  "
      ]
     },
     "execution_count": 18,
     "metadata": {},
     "output_type": "execute_result"
    }
   ],
   "source": [
    "data.head(2)"
   ]
  },
  {
   "cell_type": "code",
   "execution_count": 19,
   "id": "deaa6ab6",
   "metadata": {},
   "outputs": [],
   "source": [
    "# drop columns which are not required"
   ]
  },
  {
   "cell_type": "code",
   "execution_count": 20,
   "id": "eac9ab4d",
   "metadata": {},
   "outputs": [],
   "source": [
    "data.drop(columns=['Date','Time','Sub_metering_1','Sub_metering_2','Sub_metering_3'],axis=1,inplace=True)"
   ]
  },
  {
   "cell_type": "code",
   "execution_count": 21,
   "id": "866540ed",
   "metadata": {},
   "outputs": [
    {
     "data": {
      "text/html": [
       "<div>\n",
       "<style scoped>\n",
       "    .dataframe tbody tr th:only-of-type {\n",
       "        vertical-align: middle;\n",
       "    }\n",
       "\n",
       "    .dataframe tbody tr th {\n",
       "        vertical-align: top;\n",
       "    }\n",
       "\n",
       "    .dataframe thead th {\n",
       "        text-align: right;\n",
       "    }\n",
       "</style>\n",
       "<table border=\"1\" class=\"dataframe\">\n",
       "  <thead>\n",
       "    <tr style=\"text-align: right;\">\n",
       "      <th></th>\n",
       "      <th>Global_active_power</th>\n",
       "      <th>Global_reactive_power</th>\n",
       "      <th>Voltage</th>\n",
       "      <th>Global_intensity</th>\n",
       "      <th>sub_meter_total</th>\n",
       "    </tr>\n",
       "  </thead>\n",
       "  <tbody>\n",
       "    <tr>\n",
       "      <th>1953887</th>\n",
       "      <td>0.330</td>\n",
       "      <td>0.064</td>\n",
       "      <td>238.74</td>\n",
       "      <td>1.6</td>\n",
       "      <td>0.0</td>\n",
       "    </tr>\n",
       "    <tr>\n",
       "      <th>1564572</th>\n",
       "      <td>1.472</td>\n",
       "      <td>0.106</td>\n",
       "      <td>242.99</td>\n",
       "      <td>6.0</td>\n",
       "      <td>19.0</td>\n",
       "    </tr>\n",
       "    <tr>\n",
       "      <th>549837</th>\n",
       "      <td>1.422</td>\n",
       "      <td>0.096</td>\n",
       "      <td>239.02</td>\n",
       "      <td>6.0</td>\n",
       "      <td>18.0</td>\n",
       "    </tr>\n",
       "    <tr>\n",
       "      <th>1554366</th>\n",
       "      <td>0.574</td>\n",
       "      <td>0.378</td>\n",
       "      <td>247.35</td>\n",
       "      <td>2.8</td>\n",
       "      <td>3.0</td>\n",
       "    </tr>\n",
       "    <tr>\n",
       "      <th>40105</th>\n",
       "      <td>0.646</td>\n",
       "      <td>0.126</td>\n",
       "      <td>242.48</td>\n",
       "      <td>2.6</td>\n",
       "      <td>1.0</td>\n",
       "    </tr>\n",
       "  </tbody>\n",
       "</table>\n",
       "</div>"
      ],
      "text/plain": [
       "         Global_active_power  Global_reactive_power  Voltage  \\\n",
       "1953887                0.330                  0.064   238.74   \n",
       "1564572                1.472                  0.106   242.99   \n",
       "549837                 1.422                  0.096   239.02   \n",
       "1554366                0.574                  0.378   247.35   \n",
       "40105                  0.646                  0.126   242.48   \n",
       "\n",
       "         Global_intensity  sub_meter_total  \n",
       "1953887               1.6              0.0  \n",
       "1564572               6.0             19.0  \n",
       "549837                6.0             18.0  \n",
       "1554366               2.8              3.0  \n",
       "40105                 2.6              1.0  "
      ]
     },
     "execution_count": 21,
     "metadata": {},
     "output_type": "execute_result"
    }
   ],
   "source": [
    "data.head(5)"
   ]
  },
  {
   "cell_type": "code",
   "execution_count": 22,
   "id": "e865354a",
   "metadata": {},
   "outputs": [],
   "source": [
    "X = data.drop('sub_meter_total',axis=1)"
   ]
  },
  {
   "cell_type": "code",
   "execution_count": 23,
   "id": "c1c30f2b",
   "metadata": {},
   "outputs": [],
   "source": [
    "y = data['sub_meter_total']"
   ]
  },
  {
   "cell_type": "markdown",
   "id": "96c60205",
   "metadata": {},
   "source": [
    "## Split the data into Train and Test"
   ]
  },
  {
   "cell_type": "code",
   "execution_count": 24,
   "id": "85c1c6ee",
   "metadata": {},
   "outputs": [],
   "source": [
    "from sklearn.model_selection import train_test_split\n",
    "X_train, X_test, y_train, y_test = train_test_split(X, y, random_state = 1, test_size = 0.2) "
   ]
  },
  {
   "cell_type": "code",
   "execution_count": 25,
   "id": "383c9372",
   "metadata": {},
   "outputs": [
    {
     "data": {
      "text/html": [
       "<div>\n",
       "<style scoped>\n",
       "    .dataframe tbody tr th:only-of-type {\n",
       "        vertical-align: middle;\n",
       "    }\n",
       "\n",
       "    .dataframe tbody tr th {\n",
       "        vertical-align: top;\n",
       "    }\n",
       "\n",
       "    .dataframe thead th {\n",
       "        text-align: right;\n",
       "    }\n",
       "</style>\n",
       "<table border=\"1\" class=\"dataframe\">\n",
       "  <thead>\n",
       "    <tr style=\"text-align: right;\">\n",
       "      <th></th>\n",
       "      <th>Global_active_power</th>\n",
       "      <th>Global_reactive_power</th>\n",
       "      <th>Voltage</th>\n",
       "      <th>Global_intensity</th>\n",
       "    </tr>\n",
       "  </thead>\n",
       "  <tbody>\n",
       "    <tr>\n",
       "      <th>1675494</th>\n",
       "      <td>0.424</td>\n",
       "      <td>0.214</td>\n",
       "      <td>243.41</td>\n",
       "      <td>1.8</td>\n",
       "    </tr>\n",
       "    <tr>\n",
       "      <th>1841590</th>\n",
       "      <td>0.312</td>\n",
       "      <td>0.058</td>\n",
       "      <td>241.56</td>\n",
       "      <td>1.4</td>\n",
       "    </tr>\n",
       "  </tbody>\n",
       "</table>\n",
       "</div>"
      ],
      "text/plain": [
       "         Global_active_power  Global_reactive_power  Voltage  Global_intensity\n",
       "1675494                0.424                  0.214   243.41               1.8\n",
       "1841590                0.312                  0.058   241.56               1.4"
      ]
     },
     "execution_count": 25,
     "metadata": {},
     "output_type": "execute_result"
    }
   ],
   "source": [
    "X_train.head(2)"
   ]
  },
  {
   "cell_type": "code",
   "execution_count": 26,
   "id": "c0d6eb5c",
   "metadata": {},
   "outputs": [
    {
     "data": {
      "text/html": [
       "<div>\n",
       "<style scoped>\n",
       "    .dataframe tbody tr th:only-of-type {\n",
       "        vertical-align: middle;\n",
       "    }\n",
       "\n",
       "    .dataframe tbody tr th {\n",
       "        vertical-align: top;\n",
       "    }\n",
       "\n",
       "    .dataframe thead th {\n",
       "        text-align: right;\n",
       "    }\n",
       "</style>\n",
       "<table border=\"1\" class=\"dataframe\">\n",
       "  <thead>\n",
       "    <tr style=\"text-align: right;\">\n",
       "      <th></th>\n",
       "      <th>Global_active_power</th>\n",
       "      <th>Global_reactive_power</th>\n",
       "      <th>Voltage</th>\n",
       "      <th>Global_intensity</th>\n",
       "    </tr>\n",
       "  </thead>\n",
       "  <tbody>\n",
       "    <tr>\n",
       "      <th>287405</th>\n",
       "      <td>1.872</td>\n",
       "      <td>0.114</td>\n",
       "      <td>238.13</td>\n",
       "      <td>8.0</td>\n",
       "    </tr>\n",
       "    <tr>\n",
       "      <th>595650</th>\n",
       "      <td>0.406</td>\n",
       "      <td>0.000</td>\n",
       "      <td>241.49</td>\n",
       "      <td>1.8</td>\n",
       "    </tr>\n",
       "  </tbody>\n",
       "</table>\n",
       "</div>"
      ],
      "text/plain": [
       "        Global_active_power  Global_reactive_power  Voltage  Global_intensity\n",
       "287405                1.872                  0.114   238.13               8.0\n",
       "595650                0.406                  0.000   241.49               1.8"
      ]
     },
     "execution_count": 26,
     "metadata": {},
     "output_type": "execute_result"
    }
   ],
   "source": [
    "X_test.head(2)"
   ]
  },
  {
   "cell_type": "code",
   "execution_count": 27,
   "id": "b8cfc1c4",
   "metadata": {},
   "outputs": [
    {
     "data": {
      "text/plain": [
       "1675494    1.0\n",
       "1841590    1.0\n",
       "Name: sub_meter_total, dtype: float64"
      ]
     },
     "execution_count": 27,
     "metadata": {},
     "output_type": "execute_result"
    }
   ],
   "source": [
    "y_train.head(2)"
   ]
  },
  {
   "cell_type": "code",
   "execution_count": 28,
   "id": "9cdec030",
   "metadata": {},
   "outputs": [
    {
     "data": {
      "text/plain": [
       "287405    27.0\n",
       "595650     0.0\n",
       "Name: sub_meter_total, dtype: float64"
      ]
     },
     "execution_count": 28,
     "metadata": {},
     "output_type": "execute_result"
    }
   ],
   "source": [
    "y_test.head(2)"
   ]
  },
  {
   "cell_type": "markdown",
   "id": "96b280a5",
   "metadata": {},
   "source": [
    "## Create a model"
   ]
  },
  {
   "cell_type": "markdown",
   "id": "a28bab15",
   "metadata": {},
   "source": [
    "## Decision Tree regressor"
   ]
  },
  {
   "cell_type": "code",
   "execution_count": 54,
   "id": "ec210b91",
   "metadata": {},
   "outputs": [],
   "source": [
    "from sklearn.tree import DecisionTreeRegressor\n",
    "model_DTR=DecisionTreeRegressor()"
   ]
  },
  {
   "cell_type": "code",
   "execution_count": 56,
   "id": "29e9ec28",
   "metadata": {},
   "outputs": [
    {
     "data": {
      "text/plain": [
       "DecisionTreeRegressor()"
      ]
     },
     "execution_count": 56,
     "metadata": {},
     "output_type": "execute_result"
    }
   ],
   "source": [
    "model_DTR.fit(X_train,y_train)"
   ]
  },
  {
   "cell_type": "code",
   "execution_count": 57,
   "id": "ce2ab2a6",
   "metadata": {},
   "outputs": [
    {
     "data": {
      "text/plain": [
       "0.9999984918076193"
      ]
     },
     "execution_count": 57,
     "metadata": {},
     "output_type": "execute_result"
    }
   ],
   "source": [
    "model_DTR.score(X_train,y_train)"
   ]
  },
  {
   "cell_type": "code",
   "execution_count": 58,
   "id": "e0fde12c",
   "metadata": {},
   "outputs": [],
   "source": [
    "y_predict=model_DTR.predict(X_test)"
   ]
  },
  {
   "cell_type": "code",
   "execution_count": 59,
   "id": "0de69675",
   "metadata": {},
   "outputs": [],
   "source": [
    "from sklearn.metrics import accuracy_score,confusion_matrix,r2_score"
   ]
  },
  {
   "cell_type": "code",
   "execution_count": 60,
   "id": "957eedef",
   "metadata": {},
   "outputs": [],
   "source": [
    "accuracy_r2_score = r2_score(y_test,y_predict)"
   ]
  },
  {
   "cell_type": "code",
   "execution_count": 61,
   "id": "d88456b5",
   "metadata": {},
   "outputs": [
    {
     "data": {
      "text/plain": [
       "0.53087804408008"
      ]
     },
     "execution_count": 61,
     "metadata": {},
     "output_type": "execute_result"
    }
   ],
   "source": [
    "accuracy_r2_score"
   ]
  },
  {
   "cell_type": "markdown",
   "id": "e3ed547a",
   "metadata": {},
   "source": [
    "## Bagging Regressor"
   ]
  },
  {
   "cell_type": "code",
   "execution_count": 36,
   "id": "23c52b4d",
   "metadata": {},
   "outputs": [],
   "source": [
    "from sklearn.svm import SVR\n",
    "from sklearn.ensemble import BaggingRegressor\n",
    "from sklearn.datasets import make_regression"
   ]
  },
  {
   "cell_type": "code",
   "execution_count": 37,
   "id": "44a464bb",
   "metadata": {},
   "outputs": [],
   "source": [
    "model_bagging_svr = BaggingRegressor(base_estimator=SVR(),n_estimators=10, random_state=0).fit(X, y)"
   ]
  },
  {
   "cell_type": "code",
   "execution_count": 38,
   "id": "df40b530",
   "metadata": {},
   "outputs": [],
   "source": [
    "y_predict_bagging=model_bagging_svr.predict(X_test)"
   ]
  },
  {
   "cell_type": "code",
   "execution_count": 39,
   "id": "6f7b6dd6",
   "metadata": {},
   "outputs": [],
   "source": [
    "Bagging_accuracy_r2_score = r2_score(y_test,y_predict_bagging)"
   ]
  },
  {
   "cell_type": "code",
   "execution_count": 40,
   "id": "92056387",
   "metadata": {},
   "outputs": [
    {
     "data": {
      "text/plain": [
       "0.5054498743276012"
      ]
     },
     "execution_count": 40,
     "metadata": {},
     "output_type": "execute_result"
    }
   ],
   "source": [
    "Bagging_accuracy_r2_score"
   ]
  },
  {
   "cell_type": "markdown",
   "id": "3893c9e5",
   "metadata": {},
   "source": [
    "## extra tree regressor"
   ]
  },
  {
   "cell_type": "code",
   "execution_count": 41,
   "id": "7038de4b",
   "metadata": {},
   "outputs": [],
   "source": [
    "from sklearn.ensemble import ExtraTreesRegressor"
   ]
  },
  {
   "cell_type": "code",
   "execution_count": 42,
   "id": "89522bc2",
   "metadata": {},
   "outputs": [],
   "source": [
    "model_ExtraTreeRegressor = ExtraTreesRegressor(n_estimators=100, random_state=0)"
   ]
  },
  {
   "cell_type": "code",
   "execution_count": 43,
   "id": "842405fa",
   "metadata": {},
   "outputs": [
    {
     "data": {
      "text/plain": [
       "ExtraTreesRegressor(random_state=0)"
      ]
     },
     "execution_count": 43,
     "metadata": {},
     "output_type": "execute_result"
    }
   ],
   "source": [
    "model_ExtraTreeRegressor.fit(X_train,y_train)"
   ]
  },
  {
   "cell_type": "code",
   "execution_count": 44,
   "id": "b9e838ac",
   "metadata": {},
   "outputs": [
    {
     "data": {
      "text/plain": [
       "ExtraTreesRegressor(random_state=0)"
      ]
     },
     "execution_count": 44,
     "metadata": {},
     "output_type": "execute_result"
    }
   ],
   "source": [
    "ExtraTreesRegressor(random_state=0)"
   ]
  },
  {
   "cell_type": "code",
   "execution_count": 45,
   "id": "18307f6f",
   "metadata": {},
   "outputs": [],
   "source": [
    "y_predict_ETR = model_ExtraTreeRegressor.predict(X_test)"
   ]
  },
  {
   "cell_type": "code",
   "execution_count": 46,
   "id": "f9a1ff65",
   "metadata": {},
   "outputs": [],
   "source": [
    "ETR_accuracy_r2_score = r2_score(y_test,y_predict_ETR)"
   ]
  },
  {
   "cell_type": "code",
   "execution_count": 47,
   "id": "8ad09c43",
   "metadata": {},
   "outputs": [
    {
     "data": {
      "text/plain": [
       "0.7276304644501724"
      ]
     },
     "execution_count": 47,
     "metadata": {},
     "output_type": "execute_result"
    }
   ],
   "source": [
    "ETR_accuracy_r2_score"
   ]
  },
  {
   "cell_type": "markdown",
   "id": "70a4b834",
   "metadata": {},
   "source": [
    "## voting regressor"
   ]
  },
  {
   "cell_type": "code",
   "execution_count": 91,
   "id": "9ab0f6c8",
   "metadata": {},
   "outputs": [
    {
     "data": {
      "text/plain": [
       "VotingRegressor(estimators=[('gb', GradientBoostingRegressor(random_state=1)),\n",
       "                            ('rf', RandomForestRegressor(random_state=1)),\n",
       "                            ('lr', LinearRegression())])"
      ]
     },
     "execution_count": 91,
     "metadata": {},
     "output_type": "execute_result"
    }
   ],
   "source": [
    "# Train classifiers\n",
    "reg1 = GradientBoostingRegressor(random_state=1)\n",
    "reg2 = RandomForestRegressor(random_state=1)\n",
    "reg3 = LinearRegression()\n",
    "\n",
    "reg1.fit(X, y)\n",
    "reg2.fit(X, y)\n",
    "reg3.fit(X, y)\n",
    "\n",
    "model_votingregressor = VotingRegressor([(\"gb\", reg1), (\"rf\", reg2), (\"lr\", reg3)])\n",
    "model_votingregressor.fit(X, y)"
   ]
  },
  {
   "cell_type": "code",
   "execution_count": 93,
   "id": "fd836cef",
   "metadata": {},
   "outputs": [],
   "source": [
    "y_pred_VR = model_votingregressor.predict(X_test)"
   ]
  },
  {
   "cell_type": "code",
   "execution_count": 94,
   "id": "45143308",
   "metadata": {},
   "outputs": [],
   "source": [
    "VR_accuracy_r2_score = r2_score(y_test,y_pred_VR)"
   ]
  },
  {
   "cell_type": "code",
   "execution_count": 95,
   "id": "c70cac2d",
   "metadata": {},
   "outputs": [
    {
     "data": {
      "text/plain": [
       "0.8594958477921594"
      ]
     },
     "execution_count": 95,
     "metadata": {},
     "output_type": "execute_result"
    }
   ],
   "source": [
    "VR_accuracy_r2_score"
   ]
  },
  {
   "cell_type": "markdown",
   "id": "c6d97020",
   "metadata": {},
   "source": [
    "## Random forest regressor"
   ]
  },
  {
   "cell_type": "code",
   "execution_count": 48,
   "id": "2f98e832",
   "metadata": {},
   "outputs": [],
   "source": [
    "from sklearn.ensemble import RandomForestRegressor\n",
    "model_RF=RandomForestRegressor()"
   ]
  },
  {
   "cell_type": "code",
   "execution_count": 49,
   "id": "838b0ff0",
   "metadata": {},
   "outputs": [
    {
     "data": {
      "text/plain": [
       "RandomForestRegressor()"
      ]
     },
     "execution_count": 49,
     "metadata": {},
     "output_type": "execute_result"
    }
   ],
   "source": [
    "model_RF.fit(X_train,y_train)"
   ]
  },
  {
   "cell_type": "code",
   "execution_count": 50,
   "id": "b061d9ed",
   "metadata": {},
   "outputs": [],
   "source": [
    "y_pred_rf=model_RF.predict(X_test)"
   ]
  },
  {
   "cell_type": "code",
   "execution_count": 51,
   "id": "ac5e52d2",
   "metadata": {},
   "outputs": [],
   "source": [
    "RF_accuracy_r2_score = r2_score(y_test,y_pred_rf)"
   ]
  },
  {
   "cell_type": "code",
   "execution_count": 52,
   "id": "9d8debed",
   "metadata": {},
   "outputs": [
    {
     "data": {
      "text/plain": [
       "0.7501316630115418"
      ]
     },
     "execution_count": 52,
     "metadata": {},
     "output_type": "execute_result"
    }
   ],
   "source": [
    "RF_accuracy_r2_score"
   ]
  },
  {
   "cell_type": "code",
   "execution_count": null,
   "id": "37ec2f1f",
   "metadata": {},
   "outputs": [],
   "source": []
  }
 ],
 "metadata": {
  "kernelspec": {
   "display_name": "Python 3 (ipykernel)",
   "language": "python",
   "name": "python3"
  },
  "language_info": {
   "codemirror_mode": {
    "name": "ipython",
    "version": 3
   },
   "file_extension": ".py",
   "mimetype": "text/x-python",
   "name": "python",
   "nbconvert_exporter": "python",
   "pygments_lexer": "ipython3",
   "version": "3.9.12"
  }
 },
 "nbformat": 4,
 "nbformat_minor": 5
}
