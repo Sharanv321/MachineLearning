{
 "cells": [
  {
   "cell_type": "markdown",
   "id": "706922fa",
   "metadata": {},
   "source": [
    "# Income prediction\n",
    "**Life cycle of Machine learning Project**\n",
    "\n",
    "* Understanding the Problem Statement\n",
    "* Data Collection\n",
    "* Exploratory data analysis\n",
    "* Data Cleaning\n",
    "* Data Pre-Processing\n",
    "* Feature Engineering"
   ]
  },
  {
   "cell_type": "markdown",
   "id": "b3269c91",
   "metadata": {},
   "source": [
    "# 1) Problem statement."
   ]
  },
  {
   "cell_type": "markdown",
   "id": "22f9f123",
   "metadata": {},
   "source": [
    "1) Problem statement.\n",
    "This dataset comprises the population data from various countries. It has several features such as age, type of employment, hours worked in a week, educational qualification, marital status etc. It also has the feature name income.  The purpose of this data analysis is to analyse the relationship between all the features with regard to income of a person. How these individual features or combination of the features affect the income of a person. The model built will predict the income of a person"
   ]
  },
  {
   "cell_type": "markdown",
   "id": "0bffc544",
   "metadata": {},
   "source": [
    "2) Data Collection.\n",
    "The Dataset is collected from https://archive.ics.uci.edu webiste\n",
    "The data consists of 15 columns and 15000 rows."
   ]
  },
  {
   "cell_type": "markdown",
   "id": "1866eed5",
   "metadata": {},
   "source": [
    "2.1 Import Data and Required Packages"
   ]
  },
  {
   "cell_type": "markdown",
   "id": "ed038aa7",
   "metadata": {},
   "source": [
    "Importing Pandas, Numpy, Matplotlib, Seaborn and Warings Library."
   ]
  },
  {
   "cell_type": "code",
   "execution_count": 3,
   "id": "2bc37d53",
   "metadata": {},
   "outputs": [],
   "source": [
    "import pandas as pd\n",
    "import numpy as np\n",
    "import matplotlib.pyplot as plt\n",
    "import seaborn as sns\n",
    "import plotly.express as px\n",
    "import warnings\n",
    "from six.moves import urllib\n",
    "warnings.filterwarnings(\"ignore\")\n",
    "%matplotlib inline\n",
    "from sklearn.model_selection import train_test_split\n",
    "from sklearn.linear_model import LogisticRegression\n",
    "from sklearn.tree import DecisionTreeClassifier\n",
    "from sklearn.neighbors import KNeighborsClassifier\n",
    "from sklearn.discriminant_analysis import LinearDiscriminantAnalysis\n",
    "from sklearn.naive_bayes import GaussianNB\n",
    "from sklearn.svm import SVC\n",
    "from sklearn.svm import LinearSVC\n",
    "from sklearn.linear_model import SGDClassifier\n",
    "from sklearn.metrics import accuracy_score\n",
    "from sklearn.metrics import mean_squared_error\n",
    "import category_encoders as ce\n",
    "from sklearn.preprocessing import StandardScaler\n",
    "from sklearn.metrics import confusion_matrix"
   ]
  },
  {
   "cell_type": "markdown",
   "id": "912af54c",
   "metadata": {},
   "source": [
    " Import the CSV Data as Pandas DataFrame"
   ]
  },
  {
   "cell_type": "markdown",
   "id": "2f857239",
   "metadata": {},
   "source": [
    "## 2) Data Collection."
   ]
  },
  {
   "cell_type": "code",
   "execution_count": 4,
   "id": "16943f29",
   "metadata": {},
   "outputs": [],
   "source": [
    "import pandas as pd\n",
    "data=pd.read_csv(r\"Adult.csv\")"
   ]
  },
  {
   "cell_type": "code",
   "execution_count": 5,
   "id": "e61d546a",
   "metadata": {},
   "outputs": [],
   "source": [
    "# Take the sample of 10000 rows from the data"
   ]
  },
  {
   "cell_type": "code",
   "execution_count": 6,
   "id": "7c47d2eb",
   "metadata": {},
   "outputs": [],
   "source": [
    "data = data.sample(10000)"
   ]
  },
  {
   "cell_type": "code",
   "execution_count": 7,
   "id": "c93717fc",
   "metadata": {},
   "outputs": [],
   "source": [
    "# Show Top 5 Records"
   ]
  },
  {
   "cell_type": "code",
   "execution_count": 8,
   "id": "fb37d8cd",
   "metadata": {},
   "outputs": [
    {
     "data": {
      "text/html": [
       "<div>\n",
       "<style scoped>\n",
       "    .dataframe tbody tr th:only-of-type {\n",
       "        vertical-align: middle;\n",
       "    }\n",
       "\n",
       "    .dataframe tbody tr th {\n",
       "        vertical-align: top;\n",
       "    }\n",
       "\n",
       "    .dataframe thead th {\n",
       "        text-align: right;\n",
       "    }\n",
       "</style>\n",
       "<table border=\"1\" class=\"dataframe\">\n",
       "  <thead>\n",
       "    <tr style=\"text-align: right;\">\n",
       "      <th></th>\n",
       "      <th>age</th>\n",
       "      <th>workclass</th>\n",
       "      <th>fnlwgt</th>\n",
       "      <th>education</th>\n",
       "      <th>education-num</th>\n",
       "      <th>marital-status</th>\n",
       "      <th>occupation</th>\n",
       "      <th>relationship</th>\n",
       "      <th>race</th>\n",
       "      <th>sex</th>\n",
       "      <th>capital-gain</th>\n",
       "      <th>capital-loss</th>\n",
       "      <th>hours-per-week</th>\n",
       "      <th>native-country</th>\n",
       "      <th>income</th>\n",
       "    </tr>\n",
       "  </thead>\n",
       "  <tbody>\n",
       "    <tr>\n",
       "      <th>21081</th>\n",
       "      <td>38</td>\n",
       "      <td>Private</td>\n",
       "      <td>334999</td>\n",
       "      <td>HS-grad</td>\n",
       "      <td>9</td>\n",
       "      <td>Married-civ-spouse</td>\n",
       "      <td>Sales</td>\n",
       "      <td>Husband</td>\n",
       "      <td>White</td>\n",
       "      <td>Male</td>\n",
       "      <td>0</td>\n",
       "      <td>0</td>\n",
       "      <td>45</td>\n",
       "      <td>United-States</td>\n",
       "      <td>&lt;=50K</td>\n",
       "    </tr>\n",
       "    <tr>\n",
       "      <th>18711</th>\n",
       "      <td>68</td>\n",
       "      <td>Local-gov</td>\n",
       "      <td>31725</td>\n",
       "      <td>HS-grad</td>\n",
       "      <td>9</td>\n",
       "      <td>Married-civ-spouse</td>\n",
       "      <td>Farming-fishing</td>\n",
       "      <td>Husband</td>\n",
       "      <td>White</td>\n",
       "      <td>Male</td>\n",
       "      <td>0</td>\n",
       "      <td>0</td>\n",
       "      <td>40</td>\n",
       "      <td>United-States</td>\n",
       "      <td>&lt;=50K</td>\n",
       "    </tr>\n",
       "    <tr>\n",
       "      <th>23025</th>\n",
       "      <td>21</td>\n",
       "      <td>Private</td>\n",
       "      <td>411068</td>\n",
       "      <td>Some-college</td>\n",
       "      <td>10</td>\n",
       "      <td>Never-married</td>\n",
       "      <td>Adm-clerical</td>\n",
       "      <td>Own-child</td>\n",
       "      <td>White</td>\n",
       "      <td>Female</td>\n",
       "      <td>0</td>\n",
       "      <td>0</td>\n",
       "      <td>35</td>\n",
       "      <td>United-States</td>\n",
       "      <td>&lt;=50K</td>\n",
       "    </tr>\n",
       "    <tr>\n",
       "      <th>21776</th>\n",
       "      <td>55</td>\n",
       "      <td>Private</td>\n",
       "      <td>290124</td>\n",
       "      <td>5th-6th</td>\n",
       "      <td>3</td>\n",
       "      <td>Married-civ-spouse</td>\n",
       "      <td>Machine-op-inspct</td>\n",
       "      <td>Husband</td>\n",
       "      <td>White</td>\n",
       "      <td>Male</td>\n",
       "      <td>0</td>\n",
       "      <td>0</td>\n",
       "      <td>40</td>\n",
       "      <td>Mexico</td>\n",
       "      <td>&lt;=50K</td>\n",
       "    </tr>\n",
       "    <tr>\n",
       "      <th>2041</th>\n",
       "      <td>61</td>\n",
       "      <td>Private</td>\n",
       "      <td>238611</td>\n",
       "      <td>7th-8th</td>\n",
       "      <td>4</td>\n",
       "      <td>Widowed</td>\n",
       "      <td>Other-service</td>\n",
       "      <td>Unmarried</td>\n",
       "      <td>Black</td>\n",
       "      <td>Female</td>\n",
       "      <td>0</td>\n",
       "      <td>0</td>\n",
       "      <td>38</td>\n",
       "      <td>United-States</td>\n",
       "      <td>&lt;=50K</td>\n",
       "    </tr>\n",
       "  </tbody>\n",
       "</table>\n",
       "</div>"
      ],
      "text/plain": [
       "       age  workclass  fnlwgt     education  education-num  \\\n",
       "21081   38    Private  334999       HS-grad              9   \n",
       "18711   68  Local-gov   31725       HS-grad              9   \n",
       "23025   21    Private  411068  Some-college             10   \n",
       "21776   55    Private  290124       5th-6th              3   \n",
       "2041    61    Private  238611       7th-8th              4   \n",
       "\n",
       "           marital-status         occupation relationship   race     sex  \\\n",
       "21081  Married-civ-spouse              Sales      Husband  White    Male   \n",
       "18711  Married-civ-spouse    Farming-fishing      Husband  White    Male   \n",
       "23025       Never-married       Adm-clerical    Own-child  White  Female   \n",
       "21776  Married-civ-spouse  Machine-op-inspct      Husband  White    Male   \n",
       "2041              Widowed      Other-service    Unmarried  Black  Female   \n",
       "\n",
       "       capital-gain  capital-loss  hours-per-week native-country income  \n",
       "21081             0             0              45  United-States  <=50K  \n",
       "18711             0             0              40  United-States  <=50K  \n",
       "23025             0             0              35  United-States  <=50K  \n",
       "21776             0             0              40         Mexico  <=50K  \n",
       "2041              0             0              38  United-States  <=50K  "
      ]
     },
     "execution_count": 8,
     "metadata": {},
     "output_type": "execute_result"
    }
   ],
   "source": [
    "data.head(5)"
   ]
  },
  {
   "cell_type": "code",
   "execution_count": 9,
   "id": "5032c1f7",
   "metadata": {},
   "outputs": [],
   "source": [
    "# Shape of the dataset"
   ]
  },
  {
   "cell_type": "code",
   "execution_count": 10,
   "id": "d185f67b",
   "metadata": {},
   "outputs": [
    {
     "data": {
      "text/plain": [
       "(10000, 15)"
      ]
     },
     "execution_count": 10,
     "metadata": {},
     "output_type": "execute_result"
    }
   ],
   "source": [
    "data.shape"
   ]
  },
  {
   "cell_type": "code",
   "execution_count": 11,
   "id": "3ad41a81",
   "metadata": {},
   "outputs": [],
   "source": [
    "# Summary of the dataset"
   ]
  },
  {
   "cell_type": "code",
   "execution_count": 12,
   "id": "cd882753",
   "metadata": {},
   "outputs": [
    {
     "data": {
      "text/html": [
       "<div>\n",
       "<style scoped>\n",
       "    .dataframe tbody tr th:only-of-type {\n",
       "        vertical-align: middle;\n",
       "    }\n",
       "\n",
       "    .dataframe tbody tr th {\n",
       "        vertical-align: top;\n",
       "    }\n",
       "\n",
       "    .dataframe thead th {\n",
       "        text-align: right;\n",
       "    }\n",
       "</style>\n",
       "<table border=\"1\" class=\"dataframe\">\n",
       "  <thead>\n",
       "    <tr style=\"text-align: right;\">\n",
       "      <th></th>\n",
       "      <th>age</th>\n",
       "      <th>fnlwgt</th>\n",
       "      <th>education-num</th>\n",
       "      <th>capital-gain</th>\n",
       "      <th>capital-loss</th>\n",
       "      <th>hours-per-week</th>\n",
       "    </tr>\n",
       "  </thead>\n",
       "  <tbody>\n",
       "    <tr>\n",
       "      <th>count</th>\n",
       "      <td>10000.000000</td>\n",
       "      <td>1.000000e+04</td>\n",
       "      <td>10000.000000</td>\n",
       "      <td>10000.000000</td>\n",
       "      <td>10000.000000</td>\n",
       "      <td>10000.00000</td>\n",
       "    </tr>\n",
       "    <tr>\n",
       "      <th>mean</th>\n",
       "      <td>38.768200</td>\n",
       "      <td>1.911555e+05</td>\n",
       "      <td>10.094600</td>\n",
       "      <td>1094.080500</td>\n",
       "      <td>83.518000</td>\n",
       "      <td>40.59820</td>\n",
       "    </tr>\n",
       "    <tr>\n",
       "      <th>std</th>\n",
       "      <td>13.687958</td>\n",
       "      <td>1.066734e+05</td>\n",
       "      <td>2.577735</td>\n",
       "      <td>7462.723586</td>\n",
       "      <td>393.735402</td>\n",
       "      <td>12.02727</td>\n",
       "    </tr>\n",
       "    <tr>\n",
       "      <th>min</th>\n",
       "      <td>17.000000</td>\n",
       "      <td>1.376900e+04</td>\n",
       "      <td>1.000000</td>\n",
       "      <td>0.000000</td>\n",
       "      <td>0.000000</td>\n",
       "      <td>1.00000</td>\n",
       "    </tr>\n",
       "    <tr>\n",
       "      <th>25%</th>\n",
       "      <td>28.000000</td>\n",
       "      <td>1.183715e+05</td>\n",
       "      <td>9.000000</td>\n",
       "      <td>0.000000</td>\n",
       "      <td>0.000000</td>\n",
       "      <td>40.00000</td>\n",
       "    </tr>\n",
       "    <tr>\n",
       "      <th>50%</th>\n",
       "      <td>37.000000</td>\n",
       "      <td>1.783205e+05</td>\n",
       "      <td>10.000000</td>\n",
       "      <td>0.000000</td>\n",
       "      <td>0.000000</td>\n",
       "      <td>40.00000</td>\n",
       "    </tr>\n",
       "    <tr>\n",
       "      <th>75%</th>\n",
       "      <td>48.000000</td>\n",
       "      <td>2.386952e+05</td>\n",
       "      <td>13.000000</td>\n",
       "      <td>0.000000</td>\n",
       "      <td>0.000000</td>\n",
       "      <td>45.00000</td>\n",
       "    </tr>\n",
       "    <tr>\n",
       "      <th>max</th>\n",
       "      <td>90.000000</td>\n",
       "      <td>1.366120e+06</td>\n",
       "      <td>16.000000</td>\n",
       "      <td>99999.000000</td>\n",
       "      <td>3900.000000</td>\n",
       "      <td>99.00000</td>\n",
       "    </tr>\n",
       "  </tbody>\n",
       "</table>\n",
       "</div>"
      ],
      "text/plain": [
       "                age        fnlwgt  education-num  capital-gain  capital-loss  \\\n",
       "count  10000.000000  1.000000e+04   10000.000000  10000.000000  10000.000000   \n",
       "mean      38.768200  1.911555e+05      10.094600   1094.080500     83.518000   \n",
       "std       13.687958  1.066734e+05       2.577735   7462.723586    393.735402   \n",
       "min       17.000000  1.376900e+04       1.000000      0.000000      0.000000   \n",
       "25%       28.000000  1.183715e+05       9.000000      0.000000      0.000000   \n",
       "50%       37.000000  1.783205e+05      10.000000      0.000000      0.000000   \n",
       "75%       48.000000  2.386952e+05      13.000000      0.000000      0.000000   \n",
       "max       90.000000  1.366120e+06      16.000000  99999.000000   3900.000000   \n",
       "\n",
       "       hours-per-week  \n",
       "count     10000.00000  \n",
       "mean         40.59820  \n",
       "std          12.02727  \n",
       "min           1.00000  \n",
       "25%          40.00000  \n",
       "50%          40.00000  \n",
       "75%          45.00000  \n",
       "max          99.00000  "
      ]
     },
     "execution_count": 12,
     "metadata": {},
     "output_type": "execute_result"
    }
   ],
   "source": [
    "# Display summary statistics for a dataframe\n",
    "data.describe()"
   ]
  },
  {
   "cell_type": "code",
   "execution_count": 13,
   "id": "3bd24573",
   "metadata": {},
   "outputs": [],
   "source": [
    "# Check Datatypes in the dataset"
   ]
  },
  {
   "cell_type": "code",
   "execution_count": 14,
   "id": "33a879a5",
   "metadata": {},
   "outputs": [
    {
     "name": "stdout",
     "output_type": "stream",
     "text": [
      "<class 'pandas.core.frame.DataFrame'>\n",
      "Int64Index: 10000 entries, 21081 to 24029\n",
      "Data columns (total 15 columns):\n",
      " #   Column          Non-Null Count  Dtype \n",
      "---  ------          --------------  ----- \n",
      " 0   age             10000 non-null  int64 \n",
      " 1   workclass       10000 non-null  object\n",
      " 2   fnlwgt          10000 non-null  int64 \n",
      " 3   education       10000 non-null  object\n",
      " 4   education-num   10000 non-null  int64 \n",
      " 5   marital-status  10000 non-null  object\n",
      " 6   occupation      10000 non-null  object\n",
      " 7   relationship    10000 non-null  object\n",
      " 8   race            10000 non-null  object\n",
      " 9   sex             10000 non-null  object\n",
      " 10  capital-gain    10000 non-null  int64 \n",
      " 11  capital-loss    10000 non-null  int64 \n",
      " 12  hours-per-week  10000 non-null  int64 \n",
      " 13  native-country  10000 non-null  object\n",
      " 14  income          10000 non-null  object\n",
      "dtypes: int64(6), object(9)\n",
      "memory usage: 1.2+ MB\n"
     ]
    }
   ],
   "source": [
    "# Check Null and Dtypes\n",
    "data.info()"
   ]
  },
  {
   "cell_type": "markdown",
   "id": "ad865eb6",
   "metadata": {},
   "source": [
    "# 3. EXPLORING DATA"
   ]
  },
  {
   "cell_type": "code",
   "execution_count": 15,
   "id": "ae85adb0",
   "metadata": {},
   "outputs": [
    {
     "name": "stdout",
     "output_type": "stream",
     "text": [
      "We have 6 numerical features : ['age', 'fnlwgt', 'education-num', 'capital-gain', 'capital-loss', 'hours-per-week']\n",
      "\n",
      "We have 9 categorical features : ['workclass', 'education', 'marital-status', 'occupation', 'relationship', 'race', 'sex', 'native-country', 'income']\n"
     ]
    }
   ],
   "source": [
    "# define numerical & categorical columns\n",
    "numeric_features = [feature for feature in data.columns if data[feature].dtype != 'O']\n",
    "categorical_features = [feature for feature in data.columns if data[feature].dtype == 'O']\n",
    "\n",
    "# print columns\n",
    "print('We have {} numerical features : {}'.format(len(numeric_features), numeric_features))\n",
    "print('\\nWe have {} categorical features : {}'.format(len(categorical_features), categorical_features))"
   ]
  },
  {
   "cell_type": "markdown",
   "id": "5781a8c0",
   "metadata": {},
   "source": [
    "### Feature Information\n",
    "* **age:** Age of the population\n",
    "* **workclass:** working class of a person(whether private, govt etc)\n",
    "* **fnlwgt:** \n",
    "* **education:** education qualification of the person\n",
    "* **education-num:** education num of a person\n",
    "* **marital-status:** marital status of the person\n",
    "* **occupation:** The occupation of the person\n",
    "* **race:** race of the person\n",
    "* **sex:** sex of the person\n",
    "* **capital-gain:** capital gain incurred by a person\n",
    "* **capital-loss:** capital loss incurred by a person\n",
    "* **hours-per-week:** hours worked by a person in a week\n",
    "* **native-country:** The native country pf the person\n",
    "* **income:** income of a person either less than or equal to 50k$  or more than 50k$"
   ]
  },
  {
   "cell_type": "code",
   "execution_count": 16,
   "id": "f9e4bd37",
   "metadata": {},
   "outputs": [
    {
     "name": "stdout",
     "output_type": "stream",
     "text": [
      "Private             69.50\n",
      "Self-emp-not-inc     7.58\n",
      "Local-gov            6.55\n",
      "?                    5.15\n",
      "State-gov            4.11\n",
      "Self-emp-inc         3.86\n",
      "Federal-gov          3.19\n",
      "Never-worked         0.03\n",
      "Without-pay          0.03\n",
      "Name: workclass, dtype: float64\n",
      "---------------------------\n",
      "HS-grad         32.57\n",
      "Some-college    21.77\n",
      "Bachelors       16.64\n",
      "Masters          5.67\n",
      "Assoc-voc        4.12\n",
      "11th             3.66\n",
      "Assoc-acdm       3.32\n",
      "10th             2.83\n",
      "7th-8th          1.99\n",
      "Prof-school      1.81\n",
      "9th              1.54\n",
      "12th             1.24\n",
      "Doctorate        1.13\n",
      "5th-6th          1.07\n",
      "1st-4th          0.51\n",
      "Preschool        0.13\n",
      "Name: education, dtype: float64\n",
      "---------------------------\n",
      "Married-civ-spouse       46.96\n",
      "Never-married            31.98\n",
      "Divorced                 13.43\n",
      "Separated                 3.23\n",
      "Widowed                   3.11\n",
      "Married-spouse-absent     1.24\n",
      "Married-AF-spouse         0.05\n",
      "Name: marital-status, dtype: float64\n",
      "---------------------------\n",
      "Exec-managerial      12.89\n",
      "Craft-repair         12.66\n",
      "Prof-specialty       12.27\n",
      "Adm-clerical         11.95\n",
      "Sales                11.50\n",
      "Other-service         9.49\n",
      "Machine-op-inspct     6.38\n",
      "?                     5.18\n",
      "Transport-moving      5.14\n",
      "Handlers-cleaners     3.99\n",
      "Farming-fishing       3.03\n",
      "Tech-support          2.78\n",
      "Protective-serv       2.24\n",
      "Priv-house-serv       0.48\n",
      "Armed-Forces          0.02\n",
      "Name: occupation, dtype: float64\n",
      "---------------------------\n",
      "Husband           41.60\n",
      "Not-in-family     25.73\n",
      "Own-child         14.69\n",
      "Unmarried         10.10\n",
      "Wife               4.84\n",
      "Other-relative     3.04\n",
      "Name: relationship, dtype: float64\n",
      "---------------------------\n",
      "White                 85.77\n",
      "Black                  9.34\n",
      "Asian-Pac-Islander     3.15\n",
      "Amer-Indian-Eskimo     1.02\n",
      "Other                  0.72\n",
      "Name: race, dtype: float64\n",
      "---------------------------\n",
      "Male      67.61\n",
      "Female    32.39\n",
      "Name: sex, dtype: float64\n",
      "---------------------------\n",
      "United-States                 89.95\n",
      "Mexico                         1.86\n",
      "?                              1.83\n",
      "Philippines                    0.62\n",
      "Germany                        0.36\n",
      "El-Salvador                    0.33\n",
      "Puerto-Rico                    0.33\n",
      "Canada                         0.30\n",
      "Italy                          0.26\n",
      "India                          0.26\n",
      "England                        0.26\n",
      "Cuba                           0.25\n",
      "South                          0.22\n",
      "Vietnam                        0.22\n",
      "China                          0.21\n",
      "Poland                         0.21\n",
      "Columbia                       0.20\n",
      "Dominican-Republic             0.20\n",
      "Jamaica                        0.20\n",
      "Guatemala                      0.19\n",
      "Taiwan                         0.18\n",
      "Haiti                          0.17\n",
      "Iran                           0.15\n",
      "Japan                          0.13\n",
      "Peru                           0.12\n",
      "Portugal                       0.09\n",
      "Greece                         0.09\n",
      "Hong                           0.08\n",
      "Trinadad&Tobago                0.08\n",
      "Thailand                       0.08\n",
      "France                         0.07\n",
      "Nicaragua                      0.07\n",
      "Yugoslavia                     0.07\n",
      "Laos                           0.06\n",
      "Ecuador                        0.06\n",
      "Ireland                        0.05\n",
      "Cambodia                       0.04\n",
      "Scotland                       0.04\n",
      "Outlying-US(Guam-USVI-etc)     0.04\n",
      "Hungary                        0.04\n",
      "Honduras                       0.03\n",
      "Name: native-country, dtype: float64\n",
      "---------------------------\n",
      "<=50K    76.22\n",
      ">50K     23.78\n",
      "Name: income, dtype: float64\n",
      "---------------------------\n"
     ]
    }
   ],
   "source": [
    "# proportion of count data on categorical columns\n",
    "for col in categorical_features:\n",
    "    print(data[col].value_counts(normalize=True) * 100)\n",
    "    print('---------------------------')"
   ]
  },
  {
   "cell_type": "markdown",
   "id": "df106aa0",
   "metadata": {},
   "source": [
    "## Univariate Analysis"
   ]
  },
  {
   "cell_type": "markdown",
   "id": "0e3c3cf0",
   "metadata": {},
   "source": [
    "* The term univariate analysis refers to the analysis of one variable prefix “uni” means “one.” The purpose of univariate analysis is to understand the distribution of values for a single variable."
   ]
  },
  {
   "cell_type": "markdown",
   "id": "a530887a",
   "metadata": {},
   "source": [
    "### Numerical Features"
   ]
  },
  {
   "cell_type": "code",
   "execution_count": 17,
   "id": "09203806",
   "metadata": {},
   "outputs": [
    {
     "data": {
      "image/png": "[encoded data removed]",
      "text/plain": [
       "<Figure size 1080x1080 with 6 Axes>"
      ]
     },
     "metadata": {
      "needs_background": "light"
     },
     "output_type": "display_data"
    }
   ],
   "source": [
    "plt.figure(figsize=(15, 15))\n",
    "plt.suptitle('Univariate Analysis of Numerical Features', fontsize=20, fontweight='bold', alpha=0.8, y=1.)\n",
    "\n",
    "for i in range(0, len(numeric_features)):\n",
    "    plt.subplot(5, 3, i+1)\n",
    "    sns.kdeplot(x=data[numeric_features[i]],shade=True, color='b')\n",
    "    plt.xlabel(numeric_features[i])\n",
    "    plt.tight_layout()"
   ]
  },
  {
   "cell_type": "code",
   "execution_count": 18,
   "id": "ec2f2586",
   "metadata": {},
   "outputs": [
    {
     "ename": "SyntaxError",
     "evalue": "invalid syntax (2137819156.py, line 1)",
     "output_type": "error",
     "traceback": [
      "\u001b[1;36m  Input \u001b[1;32mIn [18]\u001b[1;36m\u001b[0m\n\u001b[1;33m    **Report**\u001b[0m\n\u001b[1;37m    ^\u001b[0m\n\u001b[1;31mSyntaxError\u001b[0m\u001b[1;31m:\u001b[0m invalid syntax\n"
     ]
    }
   ],
   "source": [
    "**Report**\n",
    "* Density, fnlwgt, capital-gain, capital-loss are left skewed\n",
    "* education-num is right skewed\n",
    "* hours-per-week is center skewed"
   ]
  },
  {
   "cell_type": "markdown",
   "id": "82fa132b",
   "metadata": {},
   "source": [
    "### Categorical Features"
   ]
  },
  {
   "cell_type": "code",
   "execution_count": 19,
   "id": "496f595a",
   "metadata": {},
   "outputs": [
    {
     "data": {
      "image/png": "[encoded data removed]",
      "text/plain": [
       "<Figure size 1440x1080 with 9 Axes>"
      ]
     },
     "metadata": {
      "needs_background": "light"
     },
     "output_type": "display_data"
    }
   ],
   "source": [
    "# categorical columns\n",
    "plt.figure(figsize=(20, 15))\n",
    "plt.suptitle('Univariate Analysis of Categorical Features', fontsize=20, fontweight='bold', alpha=0.8, y=1.)\n",
    "cat1 = ['workclass', 'education', 'marital-status', 'occupation', 'relationship', 'race', 'sex', 'native-country', 'income']\n",
    "for i in range(0, len(cat1)):\n",
    "    plt.subplot(2, 5, i+1)\n",
    "    sns.countplot(x=data[cat1[i]])\n",
    "    plt.xlabel(cat1[i])\n",
    "    plt.xticks(rotation=45)\n",
    "    plt.tight_layout()"
   ]
  },
  {
   "cell_type": "markdown",
   "id": "244c5b70",
   "metadata": {},
   "source": [
    "## Multivariate Analysis"
   ]
  },
  {
   "cell_type": "markdown",
   "id": "3aba4736",
   "metadata": {},
   "source": [
    "* Multivariate analysis is the analysis of more than one variable."
   ]
  },
  {
   "cell_type": "markdown",
   "id": "0dbebe61",
   "metadata": {},
   "source": [
    "### Check Multicollinearity in Numerical features"
   ]
  },
  {
   "cell_type": "code",
   "execution_count": 20,
   "id": "7be5fc83",
   "metadata": {},
   "outputs": [
    {
     "data": {
      "text/html": [
       "<div>\n",
       "<style scoped>\n",
       "    .dataframe tbody tr th:only-of-type {\n",
       "        vertical-align: middle;\n",
       "    }\n",
       "\n",
       "    .dataframe tbody tr th {\n",
       "        vertical-align: top;\n",
       "    }\n",
       "\n",
       "    .dataframe thead th {\n",
       "        text-align: right;\n",
       "    }\n",
       "</style>\n",
       "<table border=\"1\" class=\"dataframe\">\n",
       "  <thead>\n",
       "    <tr style=\"text-align: right;\">\n",
       "      <th></th>\n",
       "      <th>fnlwgt</th>\n",
       "      <th>education-num</th>\n",
       "      <th>capital-gain</th>\n",
       "      <th>capital-loss</th>\n",
       "      <th>hours-per-week</th>\n",
       "    </tr>\n",
       "  </thead>\n",
       "  <tbody>\n",
       "    <tr>\n",
       "      <th>fnlwgt</th>\n",
       "      <td>1.000000</td>\n",
       "      <td>-0.042673</td>\n",
       "      <td>-0.007820</td>\n",
       "      <td>-0.014954</td>\n",
       "      <td>-0.025497</td>\n",
       "    </tr>\n",
       "    <tr>\n",
       "      <th>education-num</th>\n",
       "      <td>-0.042673</td>\n",
       "      <td>1.000000</td>\n",
       "      <td>0.117442</td>\n",
       "      <td>0.078997</td>\n",
       "      <td>0.150110</td>\n",
       "    </tr>\n",
       "    <tr>\n",
       "      <th>capital-gain</th>\n",
       "      <td>-0.007820</td>\n",
       "      <td>0.117442</td>\n",
       "      <td>1.000000</td>\n",
       "      <td>-0.031101</td>\n",
       "      <td>0.072237</td>\n",
       "    </tr>\n",
       "    <tr>\n",
       "      <th>capital-loss</th>\n",
       "      <td>-0.014954</td>\n",
       "      <td>0.078997</td>\n",
       "      <td>-0.031101</td>\n",
       "      <td>1.000000</td>\n",
       "      <td>0.064694</td>\n",
       "    </tr>\n",
       "    <tr>\n",
       "      <th>hours-per-week</th>\n",
       "      <td>-0.025497</td>\n",
       "      <td>0.150110</td>\n",
       "      <td>0.072237</td>\n",
       "      <td>0.064694</td>\n",
       "      <td>1.000000</td>\n",
       "    </tr>\n",
       "  </tbody>\n",
       "</table>\n",
       "</div>"
      ],
      "text/plain": [
       "                  fnlwgt  education-num  capital-gain  capital-loss  \\\n",
       "fnlwgt          1.000000      -0.042673     -0.007820     -0.014954   \n",
       "education-num  -0.042673       1.000000      0.117442      0.078997   \n",
       "capital-gain   -0.007820       0.117442      1.000000     -0.031101   \n",
       "capital-loss   -0.014954       0.078997     -0.031101      1.000000   \n",
       "hours-per-week -0.025497       0.150110      0.072237      0.064694   \n",
       "\n",
       "                hours-per-week  \n",
       "fnlwgt               -0.025497  \n",
       "education-num         0.150110  \n",
       "capital-gain          0.072237  \n",
       "capital-loss          0.064694  \n",
       "hours-per-week        1.000000  "
      ]
     },
     "execution_count": 20,
     "metadata": {},
     "output_type": "execute_result"
    }
   ],
   "source": [
    "data[(list(data.columns)[1:])].corr()"
   ]
  },
  {
   "cell_type": "code",
   "execution_count": 21,
   "id": "3e0a8e4c",
   "metadata": {},
   "outputs": [
    {
     "data": {
      "image/png": "[encoded data removed]",
      "text/plain": [
       "<Figure size 1080x720 with 2 Axes>"
      ]
     },
     "metadata": {
      "needs_background": "light"
     },
     "output_type": "display_data"
    }
   ],
   "source": [
    "plt.figure(figsize = (15,10))\n",
    "sns.heatmap(data.corr(), cmap=\"CMRmap\", annot=True)\n",
    "plt.show()"
   ]
  },
  {
   "cell_type": "markdown",
   "id": "81c4b877",
   "metadata": {},
   "source": [
    "**Report** \n",
    "* Our target column income has a weak negative correlationwit hours-per-week\n",
    "* age, eduacation-num has positive correlation with target column income"
   ]
  },
  {
   "cell_type": "code",
   "execution_count": 22,
   "id": "0610ef57",
   "metadata": {},
   "outputs": [],
   "source": [
    "### Check Multicollinearity for Categorical features"
   ]
  },
  {
   "cell_type": "markdown",
   "id": "e4abd0df",
   "metadata": {},
   "source": [
    "* **A chi-squared test (also chi-square or χ2 test) is a statistical hypothesis test that is valid to perform when the test statistic is chi-squared distributed under the null hypothesis, specifically Pearson's chi-squared test**\n",
    "\n",
    "* **A chi-square statistic is one way to show a relationship between two categorical variables.**\n",
    "\n",
    "* **Here we test correlation of Categorical columns with Target column i.e income**"
   ]
  },
  {
   "cell_type": "code",
   "execution_count": 23,
   "id": "50fc9f98",
   "metadata": {},
   "outputs": [
    {
     "data": {
      "text/html": [
       "<div>\n",
       "<style scoped>\n",
       "    .dataframe tbody tr th:only-of-type {\n",
       "        vertical-align: middle;\n",
       "    }\n",
       "\n",
       "    .dataframe tbody tr th {\n",
       "        vertical-align: top;\n",
       "    }\n",
       "\n",
       "    .dataframe thead th {\n",
       "        text-align: right;\n",
       "    }\n",
       "</style>\n",
       "<table border=\"1\" class=\"dataframe\">\n",
       "  <thead>\n",
       "    <tr style=\"text-align: right;\">\n",
       "      <th></th>\n",
       "      <th>Column</th>\n",
       "      <th>Hypothesis Result</th>\n",
       "    </tr>\n",
       "  </thead>\n",
       "  <tbody>\n",
       "    <tr>\n",
       "      <th>0</th>\n",
       "      <td>workclass</td>\n",
       "      <td>Reject Null Hypothesis</td>\n",
       "    </tr>\n",
       "    <tr>\n",
       "      <th>1</th>\n",
       "      <td>education</td>\n",
       "      <td>Reject Null Hypothesis</td>\n",
       "    </tr>\n",
       "    <tr>\n",
       "      <th>2</th>\n",
       "      <td>marital-status</td>\n",
       "      <td>Reject Null Hypothesis</td>\n",
       "    </tr>\n",
       "    <tr>\n",
       "      <th>3</th>\n",
       "      <td>occupation</td>\n",
       "      <td>Reject Null Hypothesis</td>\n",
       "    </tr>\n",
       "    <tr>\n",
       "      <th>4</th>\n",
       "      <td>relationship</td>\n",
       "      <td>Reject Null Hypothesis</td>\n",
       "    </tr>\n",
       "    <tr>\n",
       "      <th>5</th>\n",
       "      <td>race</td>\n",
       "      <td>Reject Null Hypothesis</td>\n",
       "    </tr>\n",
       "    <tr>\n",
       "      <th>6</th>\n",
       "      <td>sex</td>\n",
       "      <td>Reject Null Hypothesis</td>\n",
       "    </tr>\n",
       "    <tr>\n",
       "      <th>7</th>\n",
       "      <td>native-country</td>\n",
       "      <td>Reject Null Hypothesis</td>\n",
       "    </tr>\n",
       "    <tr>\n",
       "      <th>8</th>\n",
       "      <td>income</td>\n",
       "      <td>Reject Null Hypothesis</td>\n",
       "    </tr>\n",
       "  </tbody>\n",
       "</table>\n",
       "</div>"
      ],
      "text/plain": [
       "           Column       Hypothesis Result\n",
       "0       workclass  Reject Null Hypothesis\n",
       "1       education  Reject Null Hypothesis\n",
       "2  marital-status  Reject Null Hypothesis\n",
       "3      occupation  Reject Null Hypothesis\n",
       "4    relationship  Reject Null Hypothesis\n",
       "5            race  Reject Null Hypothesis\n",
       "6             sex  Reject Null Hypothesis\n",
       "7  native-country  Reject Null Hypothesis\n",
       "8          income  Reject Null Hypothesis"
      ]
     },
     "execution_count": 23,
     "metadata": {},
     "output_type": "execute_result"
    }
   ],
   "source": [
    "from scipy.stats import chi2_contingency\n",
    "chi2_test = []\n",
    "for feature in categorical_features:\n",
    "    if chi2_contingency(pd.crosstab(data['income'], data[feature]))[1] < 0.05:\n",
    "        chi2_test.append('Reject Null Hypothesis')\n",
    "    else:\n",
    "        chi2_test.append('Fail to Reject Null Hypothesis')\n",
    "result = pd.DataFrame(data=[categorical_features, chi2_test]).T\n",
    "result.columns = ['Column', 'Hypothesis Result']\n",
    "result"
   ]
  },
  {
   "cell_type": "markdown",
   "id": "e95e1f0e",
   "metadata": {},
   "source": [
    "### Checking Null Values"
   ]
  },
  {
   "cell_type": "code",
   "execution_count": 24,
   "id": "9075419d",
   "metadata": {},
   "outputs": [
    {
     "data": {
      "text/plain": [
       "age               0\n",
       "workclass         0\n",
       "fnlwgt            0\n",
       "education         0\n",
       "education-num     0\n",
       "marital-status    0\n",
       "occupation        0\n",
       "relationship      0\n",
       "race              0\n",
       "sex               0\n",
       "capital-gain      0\n",
       "capital-loss      0\n",
       "hours-per-week    0\n",
       "native-country    0\n",
       "income            0\n",
       "dtype: int64"
      ]
     },
     "execution_count": 24,
     "metadata": {},
     "output_type": "execute_result"
    }
   ],
   "source": [
    "data.isnull().sum()"
   ]
  },
  {
   "cell_type": "code",
   "execution_count": 25,
   "id": "79d348ad",
   "metadata": {},
   "outputs": [
    {
     "name": "stdout",
     "output_type": "stream",
     "text": [
      "Num of continues features : ['age', 'fnlwgt', 'education-num', 'capital-gain', 'capital-loss', 'hours-per-week']\n"
     ]
    }
   ],
   "source": [
    "continues_features=[feature for feature in numeric_features if len(data[feature].unique())>=10]\n",
    "print('Num of continues features :',continues_features)"
   ]
  },
  {
   "cell_type": "code",
   "execution_count": 26,
   "id": "5a1ffbc0",
   "metadata": {},
   "outputs": [
    {
     "data": {
      "image/png": "[encoded data removed]",
      "text/plain": [
       "<Figure size 1440x2160 with 6 Axes>"
      ]
     },
     "metadata": {
      "needs_background": "light"
     },
     "output_type": "display_data"
    }
   ],
   "source": [
    "fig = plt.figure(figsize=(20, 30))\n",
    "\n",
    "for i in range(0, len(continues_features)):\n",
    "    ax = plt.subplot(8, 1, i+1)\n",
    "\n",
    "    sns.scatterplot(data= data ,x='income', y=continues_features[i], color='b')\n",
    "    plt.xlim(0,100000) # Limit to 100000\n",
    "    plt.tight_layout()"
   ]
  },
  {
   "cell_type": "markdown",
   "id": "b77b20c5",
   "metadata": {},
   "source": [
    "## 4. Visualization"
   ]
  },
  {
   "cell_type": "markdown",
   "id": "daf8dab2",
   "metadata": {},
   "source": [
    "### 4.1 Visualize the Target Feature"
   ]
  },
  {
   "cell_type": "code",
   "execution_count": 27,
   "id": "ce2078ca",
   "metadata": {},
   "outputs": [
    {
     "data": {
      "image/png": "[encoded data removed]",
      "text/plain": [
       "<Figure size 1008x504 with 1 Axes>"
      ]
     },
     "metadata": {
      "needs_background": "light"
     },
     "output_type": "display_data"
    }
   ],
   "source": [
    "plt.subplots(figsize=(14,7))\n",
    "sns.histplot(data.income, bins=200, kde=True, color = 'b')\n",
    "plt.title(\"Selling Price Distribution\", weight=\"bold\",fontsize=20, pad=20)\n",
    "plt.ylabel(\"Count\", weight=\"bold\", fontsize=12)\n",
    "plt.xlabel(\"income\", weight=\"bold\", fontsize=12)\n",
    "plt.xlim(0,2)\n",
    "plt.show()"
   ]
  },
  {
   "cell_type": "markdown",
   "id": "947436cc",
   "metadata": {},
   "source": [
    "### 4.2 Most no working class in population?"
   ]
  },
  {
   "cell_type": "code",
   "execution_count": 28,
   "id": "27ba9720",
   "metadata": {},
   "outputs": [
    {
     "data": {
      "text/plain": [
       "Private             6950\n",
       "Self-emp-not-inc     758\n",
       "Local-gov            655\n",
       "?                    515\n",
       "State-gov            411\n",
       "Self-emp-inc         386\n",
       "Federal-gov          319\n",
       "Never-worked           3\n",
       "Without-pay            3\n",
       "Name: workclass, dtype: int64"
      ]
     },
     "execution_count": 28,
     "metadata": {},
     "output_type": "execute_result"
    }
   ],
   "source": [
    "data.workclass.value_counts()[0:10]"
   ]
  },
  {
   "cell_type": "markdown",
   "id": "fbfd126a",
   "metadata": {},
   "source": [
    "private sector accounts for more no of working class population followed by self employed"
   ]
  },
  {
   "cell_type": "markdown",
   "id": "5a9df09d",
   "metadata": {},
   "source": [
    "### 4.2 Most no education in population?"
   ]
  },
  {
   "cell_type": "code",
   "execution_count": 29,
   "id": "fbfd02cc",
   "metadata": {},
   "outputs": [
    {
     "data": {
      "text/plain": [
       "HS-grad         3257\n",
       "Some-college    2177\n",
       "Bachelors       1664\n",
       "Masters          567\n",
       "Assoc-voc        412\n",
       "11th             366\n",
       "Assoc-acdm       332\n",
       "10th             283\n",
       "7th-8th          199\n",
       "Prof-school      181\n",
       "Name: education, dtype: int64"
      ]
     },
     "execution_count": 29,
     "metadata": {},
     "output_type": "execute_result"
    }
   ],
   "source": [
    "data.education.value_counts()[0:10]"
   ]
  },
  {
   "cell_type": "markdown",
   "id": "4a308a51",
   "metadata": {},
   "source": [
    "High school grads tops most in the list , followed by some college degree"
   ]
  },
  {
   "cell_type": "markdown",
   "id": "18426ee6",
   "metadata": {},
   "source": [
    "### 4.2 Most no of race in population?"
   ]
  },
  {
   "cell_type": "code",
   "execution_count": 30,
   "id": "dd1b8c48",
   "metadata": {},
   "outputs": [
    {
     "data": {
      "text/plain": [
       "White                 8577\n",
       "Black                  934\n",
       "Asian-Pac-Islander     315\n",
       "Amer-Indian-Eskimo     102\n",
       "Other                   72\n",
       "Name: race, dtype: int64"
      ]
     },
     "execution_count": 30,
     "metadata": {},
     "output_type": "execute_result"
    }
   ],
   "source": [
    "data.race.value_counts()[0:10]"
   ]
  },
  {
   "cell_type": "markdown",
   "id": "6c7fa809",
   "metadata": {},
   "source": [
    "White race tops the list , followed by black"
   ]
  },
  {
   "cell_type": "code",
   "execution_count": 31,
   "id": "c28c44a3",
   "metadata": {},
   "outputs": [
    {
     "data": {
      "text/plain": [
       "Index(['age', 'workclass', 'fnlwgt', 'education', 'education-num',\n",
       "       'marital-status', 'occupation', 'relationship', 'race', 'sex',\n",
       "       'capital-gain', 'capital-loss', 'hours-per-week', 'native-country',\n",
       "       'income'],\n",
       "      dtype='object')"
      ]
     },
     "execution_count": 31,
     "metadata": {},
     "output_type": "execute_result"
    }
   ],
   "source": [
    "data.columns"
   ]
  },
  {
   "cell_type": "code",
   "execution_count": 32,
   "id": "755130b9",
   "metadata": {},
   "outputs": [
    {
     "data": {
      "image/png": "[encoded data removed]",
      "text/plain": [
       "<Figure size 1008x504 with 1 Axes>"
      ]
     },
     "metadata": {
      "needs_background": "light"
     },
     "output_type": "display_data"
    }
   ],
   "source": [
    "plt.subplots(figsize=(14,7))\n",
    "sns.countplot(x=\"workclass\", data=data,ec = \"black\",palette=\"Set1\",order = data['workclass'].value_counts().index)\n",
    "plt.title(\"working class\", weight=\"bold\",fontsize=20, pad=20)\n",
    "plt.ylabel(\"Count\", weight=\"bold\", fontsize=20)\n",
    "plt.xlabel(\"working class\", weight=\"bold\", fontsize=16)\n",
    "plt.xticks(rotation= 45)\n",
    "plt.xlim(-1,10.5)\n",
    "plt.show()"
   ]
  },
  {
   "cell_type": "code",
   "execution_count": 34,
   "id": "a676ff2f",
   "metadata": {},
   "outputs": [],
   "source": [
    "data.rename(columns = {'marital-status':'marital_status', 'native-country':'native_country'}, inplace = True)"
   ]
  },
  {
   "cell_type": "code",
   "execution_count": 35,
   "id": "d4beecdc",
   "metadata": {},
   "outputs": [
    {
     "name": "stdout",
     "output_type": "stream",
     "text": [
      "<class 'pandas.core.frame.DataFrame'>\n",
      "Int64Index: 10000 entries, 21081 to 24029\n",
      "Data columns (total 15 columns):\n",
      " #   Column          Non-Null Count  Dtype \n",
      "---  ------          --------------  ----- \n",
      " 0   age             10000 non-null  int64 \n",
      " 1   workclass       10000 non-null  object\n",
      " 2   fnlwgt          10000 non-null  int64 \n",
      " 3   education       10000 non-null  object\n",
      " 4   education-num   10000 non-null  int64 \n",
      " 5   marital_status  10000 non-null  object\n",
      " 6   occupation      10000 non-null  object\n",
      " 7   relationship    10000 non-null  object\n",
      " 8   race            10000 non-null  object\n",
      " 9   sex             10000 non-null  object\n",
      " 10  capital-gain    10000 non-null  int64 \n",
      " 11  capital-loss    10000 non-null  int64 \n",
      " 12  hours-per-week  10000 non-null  int64 \n",
      " 13  native_country  10000 non-null  object\n",
      " 14  income          10000 non-null  object\n",
      "dtypes: int64(6), object(9)\n",
      "memory usage: 1.5+ MB\n"
     ]
    }
   ],
   "source": [
    "data.info()"
   ]
  },
  {
   "cell_type": "code",
   "execution_count": 36,
   "id": "edf6c0ee",
   "metadata": {},
   "outputs": [
    {
     "data": {
      "text/plain": [
       "(10000, 15)"
      ]
     },
     "execution_count": 36,
     "metadata": {},
     "output_type": "execute_result"
    }
   ],
   "source": [
    "data.shape"
   ]
  },
  {
   "cell_type": "code",
   "execution_count": 37,
   "id": "2325bfa9",
   "metadata": {},
   "outputs": [
    {
     "data": {
      "text/html": [
       "<div>\n",
       "<style scoped>\n",
       "    .dataframe tbody tr th:only-of-type {\n",
       "        vertical-align: middle;\n",
       "    }\n",
       "\n",
       "    .dataframe tbody tr th {\n",
       "        vertical-align: top;\n",
       "    }\n",
       "\n",
       "    .dataframe thead th {\n",
       "        text-align: right;\n",
       "    }\n",
       "</style>\n",
       "<table border=\"1\" class=\"dataframe\">\n",
       "  <thead>\n",
       "    <tr style=\"text-align: right;\">\n",
       "      <th></th>\n",
       "      <th>count</th>\n",
       "      <th>mean</th>\n",
       "      <th>std</th>\n",
       "      <th>min</th>\n",
       "      <th>25%</th>\n",
       "      <th>50%</th>\n",
       "      <th>75%</th>\n",
       "      <th>max</th>\n",
       "    </tr>\n",
       "  </thead>\n",
       "  <tbody>\n",
       "    <tr>\n",
       "      <th>age</th>\n",
       "      <td>10000.0</td>\n",
       "      <td>38.7682</td>\n",
       "      <td>13.687958</td>\n",
       "      <td>17.0</td>\n",
       "      <td>28.0</td>\n",
       "      <td>37.0</td>\n",
       "      <td>48.00</td>\n",
       "      <td>90.0</td>\n",
       "    </tr>\n",
       "    <tr>\n",
       "      <th>fnlwgt</th>\n",
       "      <td>10000.0</td>\n",
       "      <td>191155.4583</td>\n",
       "      <td>106673.412495</td>\n",
       "      <td>13769.0</td>\n",
       "      <td>118371.5</td>\n",
       "      <td>178320.5</td>\n",
       "      <td>238695.25</td>\n",
       "      <td>1366120.0</td>\n",
       "    </tr>\n",
       "    <tr>\n",
       "      <th>education-num</th>\n",
       "      <td>10000.0</td>\n",
       "      <td>10.0946</td>\n",
       "      <td>2.577735</td>\n",
       "      <td>1.0</td>\n",
       "      <td>9.0</td>\n",
       "      <td>10.0</td>\n",
       "      <td>13.00</td>\n",
       "      <td>16.0</td>\n",
       "    </tr>\n",
       "    <tr>\n",
       "      <th>capital-gain</th>\n",
       "      <td>10000.0</td>\n",
       "      <td>1094.0805</td>\n",
       "      <td>7462.723586</td>\n",
       "      <td>0.0</td>\n",
       "      <td>0.0</td>\n",
       "      <td>0.0</td>\n",
       "      <td>0.00</td>\n",
       "      <td>99999.0</td>\n",
       "    </tr>\n",
       "    <tr>\n",
       "      <th>capital-loss</th>\n",
       "      <td>10000.0</td>\n",
       "      <td>83.5180</td>\n",
       "      <td>393.735402</td>\n",
       "      <td>0.0</td>\n",
       "      <td>0.0</td>\n",
       "      <td>0.0</td>\n",
       "      <td>0.00</td>\n",
       "      <td>3900.0</td>\n",
       "    </tr>\n",
       "    <tr>\n",
       "      <th>hours-per-week</th>\n",
       "      <td>10000.0</td>\n",
       "      <td>40.5982</td>\n",
       "      <td>12.027270</td>\n",
       "      <td>1.0</td>\n",
       "      <td>40.0</td>\n",
       "      <td>40.0</td>\n",
       "      <td>45.00</td>\n",
       "      <td>99.0</td>\n",
       "    </tr>\n",
       "  </tbody>\n",
       "</table>\n",
       "</div>"
      ],
      "text/plain": [
       "                  count         mean            std      min       25%  \\\n",
       "age             10000.0      38.7682      13.687958     17.0      28.0   \n",
       "fnlwgt          10000.0  191155.4583  106673.412495  13769.0  118371.5   \n",
       "education-num   10000.0      10.0946       2.577735      1.0       9.0   \n",
       "capital-gain    10000.0    1094.0805    7462.723586      0.0       0.0   \n",
       "capital-loss    10000.0      83.5180     393.735402      0.0       0.0   \n",
       "hours-per-week  10000.0      40.5982      12.027270      1.0      40.0   \n",
       "\n",
       "                     50%        75%        max  \n",
       "age                 37.0      48.00       90.0  \n",
       "fnlwgt          178320.5  238695.25  1366120.0  \n",
       "education-num       10.0      13.00       16.0  \n",
       "capital-gain         0.0       0.00    99999.0  \n",
       "capital-loss         0.0       0.00     3900.0  \n",
       "hours-per-week      40.0      45.00       99.0  "
      ]
     },
     "execution_count": 37,
     "metadata": {},
     "output_type": "execute_result"
    }
   ],
   "source": [
    "data.describe().T"
   ]
  },
  {
   "cell_type": "code",
   "execution_count": 38,
   "id": "cb24ba4c",
   "metadata": {},
   "outputs": [],
   "source": [
    "data['income'].replace(['<=50K', '>50K'],\n",
    "                        [0, 1], inplace=True)"
   ]
  },
  {
   "cell_type": "code",
   "execution_count": 39,
   "id": "6c51079b",
   "metadata": {},
   "outputs": [],
   "source": [
    "data[\"income\"] = data[\"income\"].astype(\"float\")"
   ]
  },
  {
   "cell_type": "code",
   "execution_count": 40,
   "id": "a6144360",
   "metadata": {},
   "outputs": [
    {
     "name": "stdout",
     "output_type": "stream",
     "text": [
      "age\n",
      "23    288\n",
      "31    287\n",
      "36    282\n",
      "33    274\n",
      "35    267\n",
      "     ... \n",
      "81      4\n",
      "82      1\n",
      "83      1\n",
      "86      1\n",
      "88      1\n",
      "Length: 71, dtype: int64\n",
      "**********************\n",
      "workclass\n",
      "Private             6950\n",
      "Self-emp-not-inc     758\n",
      "Local-gov            655\n",
      "?                    515\n",
      "State-gov            411\n",
      "Self-emp-inc         386\n",
      "Federal-gov          319\n",
      "Never-worked           3\n",
      "Without-pay            3\n",
      "dtype: int64\n",
      "**********************\n",
      "fnlwgt\n",
      "116358     6\n",
      "99185      6\n",
      "206609     5\n",
      "113364     5\n",
      "125892     5\n",
      "          ..\n",
      "146879     1\n",
      "146834     1\n",
      "146788     1\n",
      "146719     1\n",
      "1366120    1\n",
      "Length: 8549, dtype: int64\n",
      "**********************\n",
      "education\n",
      "HS-grad         3257\n",
      "Some-college    2177\n",
      "Bachelors       1664\n",
      "Masters          567\n",
      "Assoc-voc        412\n",
      "11th             366\n",
      "Assoc-acdm       332\n",
      "10th             283\n",
      "7th-8th          199\n",
      "Prof-school      181\n",
      "9th              154\n",
      "12th             124\n",
      "Doctorate        113\n",
      "5th-6th          107\n",
      "1st-4th           51\n",
      "Preschool         13\n",
      "dtype: int64\n",
      "**********************\n",
      "education-num\n",
      "9     3257\n",
      "10    2177\n",
      "13    1664\n",
      "14     567\n",
      "11     412\n",
      "7      366\n",
      "12     332\n",
      "6      283\n",
      "4      199\n",
      "15     181\n",
      "5      154\n",
      "8      124\n",
      "16     113\n",
      "3      107\n",
      "2       51\n",
      "1       13\n",
      "dtype: int64\n",
      "**********************\n",
      "marital_status\n",
      "Married-civ-spouse       4696\n",
      "Never-married            3198\n",
      "Divorced                 1343\n",
      "Separated                 323\n",
      "Widowed                   311\n",
      "Married-spouse-absent     124\n",
      "Married-AF-spouse           5\n",
      "dtype: int64\n",
      "**********************\n",
      "occupation\n",
      "Exec-managerial      1289\n",
      "Craft-repair         1266\n",
      "Prof-specialty       1227\n",
      "Adm-clerical         1195\n",
      "Sales                1150\n",
      "Other-service         949\n",
      "Machine-op-inspct     638\n",
      "?                     518\n",
      "Transport-moving      514\n",
      "Handlers-cleaners     399\n",
      "Farming-fishing       303\n",
      "Tech-support          278\n",
      "Protective-serv       224\n",
      "Priv-house-serv        48\n",
      "Armed-Forces            2\n",
      "dtype: int64\n",
      "**********************\n",
      "relationship\n",
      "Husband           4160\n",
      "Not-in-family     2573\n",
      "Own-child         1469\n",
      "Unmarried         1010\n",
      "Wife               484\n",
      "Other-relative     304\n",
      "dtype: int64\n",
      "**********************\n",
      "race\n",
      "White                 8577\n",
      "Black                  934\n",
      "Asian-Pac-Islander     315\n",
      "Amer-Indian-Eskimo     102\n",
      "Other                   72\n",
      "dtype: int64\n",
      "**********************\n",
      "sex\n",
      "Male      6761\n",
      "Female    3239\n",
      "dtype: int64\n",
      "**********************\n",
      "capital-gain\n",
      "0        9165\n",
      "15024     115\n",
      "7688       88\n",
      "7298       69\n",
      "99999      50\n",
      "         ... \n",
      "2977        1\n",
      "2993        1\n",
      "4687        1\n",
      "3456        1\n",
      "3818        1\n",
      "Length: 104, dtype: int64\n",
      "**********************\n",
      "capital-loss\n",
      "0       9553\n",
      "1902      60\n",
      "1977      59\n",
      "1887      39\n",
      "1848      18\n",
      "        ... \n",
      "1651       1\n",
      "1594       1\n",
      "1411       1\n",
      "1138       1\n",
      "3900       1\n",
      "Length: 68, dtype: int64\n",
      "**********************\n",
      "hours-per-week\n",
      "40    4691\n",
      "50     902\n",
      "45     581\n",
      "60     466\n",
      "35     412\n",
      "      ... \n",
      "78       1\n",
      "67       1\n",
      "92       1\n",
      "95       1\n",
      "96       1\n",
      "Length: 83, dtype: int64\n",
      "**********************\n",
      "native_country\n",
      "United-States                 8995\n",
      "Mexico                         186\n",
      "?                              183\n",
      "Philippines                     62\n",
      "Germany                         36\n",
      "Puerto-Rico                     33\n",
      "El-Salvador                     33\n",
      "Canada                          30\n",
      "England                         26\n",
      "Italy                           26\n",
      "India                           26\n",
      "Cuba                            25\n",
      "Vietnam                         22\n",
      "South                           22\n",
      "Poland                          21\n",
      "China                           21\n",
      "Jamaica                         20\n",
      "Dominican-Republic              20\n",
      "Columbia                        20\n",
      "Guatemala                       19\n",
      "Taiwan                          18\n",
      "Haiti                           17\n",
      "Iran                            15\n",
      "Japan                           13\n",
      "Peru                            12\n",
      "Portugal                         9\n",
      "Greece                           9\n",
      "Thailand                         8\n",
      "Hong                             8\n",
      "Trinadad&Tobago                  8\n",
      "Yugoslavia                       7\n",
      "Nicaragua                        7\n",
      "France                           7\n",
      "Laos                             6\n",
      "Ecuador                          6\n",
      "Ireland                          5\n",
      "Outlying-US(Guam-USVI-etc)       4\n",
      "Scotland                         4\n",
      "Cambodia                         4\n",
      "Hungary                          4\n",
      "Honduras                         3\n",
      "dtype: int64\n",
      "**********************\n",
      "income\n",
      "0.0    7622\n",
      "1.0    2378\n",
      "dtype: int64\n",
      "**********************\n"
     ]
    }
   ],
   "source": [
    "list1 = data.columns.tolist()\n",
    "for i in list1:\n",
    "    print(data.groupby([i]).size().sort_values(ascending=False))\n",
    "    print(\"**********************\")"
   ]
  },
  {
   "cell_type": "code",
   "execution_count": 41,
   "id": "4643281d",
   "metadata": {},
   "outputs": [],
   "source": [
    "# Analysis"
   ]
  },
  {
   "cell_type": "markdown",
   "id": "7548438c",
   "metadata": {},
   "source": [
    "* Most of the population in the age group 30 to 40\n",
    "* 2/3 of the population works in the private sector\n",
    "* Most of the population is HS-grad, Some-college, Bachelors\n",
    "* 80% of the population is white, 10% is black, rest are from other races\n",
    "* Male population is twice the population of female\n",
    "* Majority of the population data (90%) is from the US"
   ]
  },
  {
   "cell_type": "markdown",
   "id": "f69a87e4",
   "metadata": {},
   "source": [
    "# 5. Preprocessing"
   ]
  },
  {
   "cell_type": "code",
   "execution_count": 42,
   "id": "9ba0fa9f",
   "metadata": {},
   "outputs": [],
   "source": [
    "# Check for null values in the data"
   ]
  },
  {
   "cell_type": "code",
   "execution_count": 43,
   "id": "d36a48f0",
   "metadata": {},
   "outputs": [
    {
     "data": {
      "text/plain": [
       "age               0\n",
       "workclass         0\n",
       "fnlwgt            0\n",
       "education         0\n",
       "education-num     0\n",
       "marital_status    0\n",
       "occupation        0\n",
       "relationship      0\n",
       "race              0\n",
       "sex               0\n",
       "capital-gain      0\n",
       "capital-loss      0\n",
       "hours-per-week    0\n",
       "native_country    0\n",
       "income            0\n",
       "dtype: int64"
      ]
     },
     "execution_count": 43,
     "metadata": {},
     "output_type": "execute_result"
    }
   ],
   "source": [
    "data.isnull().sum()"
   ]
  },
  {
   "cell_type": "code",
   "execution_count": 44,
   "id": "1ee65d4a",
   "metadata": {},
   "outputs": [],
   "source": [
    "# Let us group by occupation"
   ]
  },
  {
   "cell_type": "code",
   "execution_count": 45,
   "id": "572e6b82",
   "metadata": {},
   "outputs": [
    {
     "data": {
      "text/plain": [
       "native_country\n",
       "United-States                 8995\n",
       "Mexico                         186\n",
       "?                              183\n",
       "Philippines                     62\n",
       "Germany                         36\n",
       "Puerto-Rico                     33\n",
       "El-Salvador                     33\n",
       "Canada                          30\n",
       "England                         26\n",
       "Italy                           26\n",
       "India                           26\n",
       "Cuba                            25\n",
       "Vietnam                         22\n",
       "South                           22\n",
       "Poland                          21\n",
       "China                           21\n",
       "Jamaica                         20\n",
       "Dominican-Republic              20\n",
       "Columbia                        20\n",
       "Guatemala                       19\n",
       "Taiwan                          18\n",
       "Haiti                           17\n",
       "Iran                            15\n",
       "Japan                           13\n",
       "Peru                            12\n",
       "Portugal                         9\n",
       "Greece                           9\n",
       "Thailand                         8\n",
       "Hong                             8\n",
       "Trinadad&Tobago                  8\n",
       "Yugoslavia                       7\n",
       "Nicaragua                        7\n",
       "France                           7\n",
       "Laos                             6\n",
       "Ecuador                          6\n",
       "Ireland                          5\n",
       "Outlying-US(Guam-USVI-etc)       4\n",
       "Scotland                         4\n",
       "Cambodia                         4\n",
       "Hungary                          4\n",
       "Honduras                         3\n",
       "dtype: int64"
      ]
     },
     "execution_count": 45,
     "metadata": {},
     "output_type": "execute_result"
    }
   ],
   "source": [
    "data.groupby('native_country').size().sort_values(ascending=False)"
   ]
  },
  {
   "cell_type": "markdown",
   "id": "604e80f4",
   "metadata": {},
   "source": [
    "* USA has the largest data, followed by mexico, ?, phillipplines\n",
    "* Hungary has the least data in this dataset"
   ]
  },
  {
   "cell_type": "code",
   "execution_count": 46,
   "id": "715d9d9d",
   "metadata": {},
   "outputs": [],
   "source": [
    "# Now let us group by income "
   ]
  },
  {
   "cell_type": "code",
   "execution_count": 47,
   "id": "d29ab4a2",
   "metadata": {},
   "outputs": [
    {
     "data": {
      "text/plain": [
       "income\n",
       "0.0    7622\n",
       "1.0    2378\n",
       "dtype: int64"
      ]
     },
     "execution_count": 47,
     "metadata": {},
     "output_type": "execute_result"
    }
   ],
   "source": [
    "data.groupby('income').size().sort_values(ascending=False)"
   ]
  },
  {
   "cell_type": "markdown",
   "id": "df7191c1",
   "metadata": {},
   "source": [
    "* Largest population earns less than or equal to 50k per annum\n",
    "* close to quarter of the population earns more than 50k per annum"
   ]
  },
  {
   "cell_type": "code",
   "execution_count": 48,
   "id": "d4b453af",
   "metadata": {},
   "outputs": [],
   "source": [
    "# Now let us group by sex"
   ]
  },
  {
   "cell_type": "code",
   "execution_count": 49,
   "id": "a3091638",
   "metadata": {},
   "outputs": [
    {
     "data": {
      "text/plain": [
       "sex\n",
       "Male      6761\n",
       "Female    3239\n",
       "dtype: int64"
      ]
     },
     "execution_count": 49,
     "metadata": {},
     "output_type": "execute_result"
    }
   ],
   "source": [
    "data.groupby('sex').size().sort_values(ascending=False)"
   ]
  },
  {
   "cell_type": "markdown",
   "id": "39ac80e2",
   "metadata": {},
   "source": [
    "Male population is twice the population of Female population in the dataset"
   ]
  },
  {
   "cell_type": "markdown",
   "id": "6e1a30e3",
   "metadata": {},
   "source": [
    "# Splitting of the Data"
   ]
  },
  {
   "cell_type": "code",
   "execution_count": 50,
   "id": "67c17848",
   "metadata": {},
   "outputs": [],
   "source": [
    "y = data['income']\n",
    "X = data.drop('income', axis = 1)"
   ]
  },
  {
   "cell_type": "code",
   "execution_count": 51,
   "id": "9f384dc3",
   "metadata": {},
   "outputs": [],
   "source": [
    "X_train, X_test, y_train, y_test = train_test_split(X, y, random_state = 1, test_size = 0.2) "
   ]
  },
  {
   "cell_type": "code",
   "execution_count": 52,
   "id": "68e368a1",
   "metadata": {},
   "outputs": [
    {
     "data": {
      "text/plain": [
       "['workclass',\n",
       " 'education',\n",
       " 'marital_status',\n",
       " 'occupation',\n",
       " 'relationship',\n",
       " 'race',\n",
       " 'sex',\n",
       " 'native_country']"
      ]
     },
     "execution_count": 52,
     "metadata": {},
     "output_type": "execute_result"
    }
   ],
   "source": [
    "category_var = [col for col in X.columns if X[col].dtypes == object]\n",
    "category_var"
   ]
  },
  {
   "cell_type": "code",
   "execution_count": 53,
   "id": "2b1991a5",
   "metadata": {},
   "outputs": [
    {
     "data": {
      "text/plain": [
       "['age',\n",
       " 'fnlwgt',\n",
       " 'education-num',\n",
       " 'capital-gain',\n",
       " 'capital-loss',\n",
       " 'hours-per-week']"
      ]
     },
     "execution_count": 53,
     "metadata": {},
     "output_type": "execute_result"
    }
   ],
   "source": [
    "numeric_var = [col for col in X.columns if X[col].dtypes != object]\n",
    "numeric_var"
   ]
  },
  {
   "cell_type": "code",
   "execution_count": 54,
   "id": "e6673f8e",
   "metadata": {},
   "outputs": [],
   "source": [
    "# Feature Scaling"
   ]
  },
  {
   "cell_type": "code",
   "execution_count": 55,
   "id": "49bc86c9",
   "metadata": {},
   "outputs": [],
   "source": [
    "one_hot = ce.OneHotEncoder(cols = category_var, handle_unknown = 'ignore')\n",
    "\n",
    "# Creating dataframe for categorical variables which converted to one hot encoded variables.\n",
    "X_train_one_hot = pd.DataFrame(one_hot.fit_transform(X_train))\n",
    "X_test_one_hot = pd.DataFrame(one_hot.transform(X_test))\n",
    "\n",
    "\n",
    "X_train_one_hot.index = X_train.index\n",
    "X_test_one_hot.index = X_test.index\n",
    "\n",
    "num_X_train = X_train[numeric_var]\n",
    "num_X_test = X_test[numeric_var]\n",
    "\n",
    "# Joining numerical and one hot encoded variables to create our final X_train and X_test.\n",
    "X_train_new = pd.concat([num_X_train, X_train_one_hot], axis = 1)\n",
    "X_test_new = pd.concat([num_X_test, X_test_one_hot], axis = 1)"
   ]
  },
  {
   "cell_type": "code",
   "execution_count": 56,
   "id": "79375516",
   "metadata": {},
   "outputs": [],
   "source": [
    "# Scaling our records into standard range of 0 and 1.\n",
    "scaler = StandardScaler()\n",
    "\n",
    "X_train_new = scaler.fit_transform(X_train_new)\n",
    "X_test_new = scaler.transform(X_test_new)"
   ]
  },
  {
   "cell_type": "markdown",
   "id": "ae5e92ea",
   "metadata": {},
   "source": [
    "# 6. Model building"
   ]
  },
  {
   "cell_type": "markdown",
   "id": "17a1c836",
   "metadata": {},
   "source": [
    "# Logistic Regression"
   ]
  },
  {
   "cell_type": "code",
   "execution_count": 57,
   "id": "0058d46c",
   "metadata": {},
   "outputs": [
    {
     "name": "stdout",
     "output_type": "stream",
     "text": [
      "Logistic Regression accuracy score:85.65%\n"
     ]
    }
   ],
   "source": [
    "model_logr = LogisticRegression(random_state = 1,solver=\"liblinear\")\n",
    "model_logr.fit(X_train_new, y_train)\n",
    "pred_logr = model_logr.predict(X_test_new)\n",
    "print('Logistic Regression accuracy score:{0:0.2f}%'. format(accuracy_score(y_test, pred_logr)*100))"
   ]
  },
  {
   "cell_type": "markdown",
   "id": "3ec6629c",
   "metadata": {},
   "source": [
    "# SVC"
   ]
  },
  {
   "cell_type": "code",
   "execution_count": 58,
   "id": "d136a0f8",
   "metadata": {},
   "outputs": [
    {
     "data": {
      "text/plain": [
       "SVC(random_state=0)"
      ]
     },
     "execution_count": 58,
     "metadata": {},
     "output_type": "execute_result"
    }
   ],
   "source": [
    "classifier = SVC(random_state = 0,kernel = 'rbf')\n",
    "classifier.fit(X_train_new, y_train)"
   ]
  },
  {
   "cell_type": "code",
   "execution_count": 59,
   "id": "263eaa14",
   "metadata": {},
   "outputs": [],
   "source": [
    "#Predicting the Test Set"
   ]
  },
  {
   "cell_type": "code",
   "execution_count": 60,
   "id": "545b2656",
   "metadata": {},
   "outputs": [],
   "source": [
    "y_pred = classifier.predict(X_test_new)"
   ]
  },
  {
   "cell_type": "code",
   "execution_count": 61,
   "id": "ee94236d",
   "metadata": {},
   "outputs": [],
   "source": [
    "y_pred = classifier.predict(X_test_new)"
   ]
  },
  {
   "cell_type": "code",
   "execution_count": 62,
   "id": "fecc2cad",
   "metadata": {},
   "outputs": [
    {
     "data": {
      "text/plain": [
       "(2000,)"
      ]
     },
     "execution_count": 62,
     "metadata": {},
     "output_type": "execute_result"
    }
   ],
   "source": [
    "y_pred.shape"
   ]
  },
  {
   "cell_type": "code",
   "execution_count": 59,
   "id": "51380880",
   "metadata": {},
   "outputs": [],
   "source": [
    "# Now let us apply the kernel functions "
   ]
  },
  {
   "cell_type": "code",
   "execution_count": 60,
   "id": "a9233527",
   "metadata": {},
   "outputs": [
    {
     "data": {
      "text/plain": [
       "0.852"
      ]
     },
     "execution_count": 60,
     "metadata": {},
     "output_type": "execute_result"
    }
   ],
   "source": [
    "classifier = SVC(kernel=\"linear\")\n",
    "classifier.fit(X_train_new, y_train)\n",
    "y_pred = classifier.predict(X_test_new)\n",
    "accuracy_score(y_test, y_pred)"
   ]
  },
  {
   "cell_type": "code",
   "execution_count": 61,
   "id": "ec68a839",
   "metadata": {},
   "outputs": [
    {
     "data": {
      "text/plain": [
       "0.8175"
      ]
     },
     "execution_count": 61,
     "metadata": {},
     "output_type": "execute_result"
    }
   ],
   "source": [
    "classifier = SVC(kernel=\"poly\")\n",
    "classifier.fit(X_train_new, y_train)\n",
    "y_pred = classifier.predict(X_test_new)\n",
    "accuracy_score(y_test, y_pred)"
   ]
  },
  {
   "cell_type": "code",
   "execution_count": 62,
   "id": "07a3d410",
   "metadata": {},
   "outputs": [
    {
     "data": {
      "text/plain": [
       "0.8375"
      ]
     },
     "execution_count": 62,
     "metadata": {},
     "output_type": "execute_result"
    }
   ],
   "source": [
    "classifier = SVC(kernel=\"rbf\")\n",
    "classifier.fit(X_train_new, y_train)\n",
    "y_pred = classifier.predict(X_test_new)\n",
    "accuracy_score(y_test, y_pred)"
   ]
  },
  {
   "cell_type": "code",
   "execution_count": 63,
   "id": "65d48d43",
   "metadata": {},
   "outputs": [
    {
     "data": {
      "text/plain": [
       "0.8295"
      ]
     },
     "execution_count": 63,
     "metadata": {},
     "output_type": "execute_result"
    }
   ],
   "source": [
    "classifier = SVC(kernel=\"sigmoid\")\n",
    "classifier.fit(X_train_new, y_train)\n",
    "y_pred = classifier.predict(X_test_new)\n",
    "accuracy_score(y_test, y_pred)"
   ]
  },
  {
   "cell_type": "markdown",
   "id": "5988b488",
   "metadata": {},
   "source": [
    "SVC with kernel = rbf / linear gives the highest accuracy"
   ]
  },
  {
   "cell_type": "code",
   "execution_count": 64,
   "id": "67dd42c2",
   "metadata": {},
   "outputs": [
    {
     "data": {
      "text/plain": [
       "SVC(kernel='sigmoid')"
      ]
     },
     "execution_count": 64,
     "metadata": {},
     "output_type": "execute_result"
    }
   ],
   "source": [
    "model = SVC(kernel=\"sigmoid\")\n",
    "model.fit(X_train_new, y_train)"
   ]
  },
  {
   "cell_type": "markdown",
   "id": "b200d735",
   "metadata": {},
   "source": [
    "# Hyperparameter tuning using GridSearchCV"
   ]
  },
  {
   "cell_type": "code",
   "execution_count": 65,
   "id": "c803ff5b",
   "metadata": {},
   "outputs": [],
   "source": [
    "from sklearn.model_selection import GridSearchCV"
   ]
  },
  {
   "cell_type": "code",
   "execution_count": 66,
   "id": "1af3e854",
   "metadata": {},
   "outputs": [],
   "source": [
    "param_grid = {'C': [0.1, 1, 10], \n",
    "              'kernel': ['linear','rbf','sigmoid']} "
   ]
  },
  {
   "cell_type": "code",
   "execution_count": 67,
   "id": "8a3f556d",
   "metadata": {},
   "outputs": [],
   "source": [
    "grid = GridSearchCV(SVC(), param_grid, refit = True, verbose = 3)"
   ]
  },
  {
   "cell_type": "code",
   "execution_count": 68,
   "id": "91c9a8e8",
   "metadata": {},
   "outputs": [],
   "source": [
    "# fitting the model for grid search"
   ]
  },
  {
   "cell_type": "code",
   "execution_count": 69,
   "id": "a9c5a591",
   "metadata": {},
   "outputs": [
    {
     "name": "stdout",
     "output_type": "stream",
     "text": [
      "Fitting 5 folds for each of 9 candidates, totalling 45 fits\n",
      "[CV 1/5] END ..............C=0.1, kernel=linear;, score=0.842 total time=   4.3s\n",
      "[CV 2/5] END ..............C=0.1, kernel=linear;, score=0.833 total time=   4.9s\n",
      "[CV 3/5] END ..............C=0.1, kernel=linear;, score=0.851 total time=   4.9s\n",
      "[CV 4/5] END ..............C=0.1, kernel=linear;, score=0.855 total time=   4.2s\n",
      "[CV 5/5] END ..............C=0.1, kernel=linear;, score=0.855 total time=   3.9s\n",
      "[CV 1/5] END .................C=0.1, kernel=rbf;, score=0.820 total time=   6.0s\n",
      "[CV 2/5] END .................C=0.1, kernel=rbf;, score=0.819 total time=   5.8s\n",
      "[CV 3/5] END .................C=0.1, kernel=rbf;, score=0.838 total time=   5.6s\n",
      "[CV 4/5] END .................C=0.1, kernel=rbf;, score=0.838 total time=   6.1s\n",
      "[CV 5/5] END .................C=0.1, kernel=rbf;, score=0.840 total time=   6.2s\n",
      "[CV 1/5] END .............C=0.1, kernel=sigmoid;, score=0.832 total time=   5.1s\n",
      "[CV 2/5] END .............C=0.1, kernel=sigmoid;, score=0.827 total time=   4.5s\n",
      "[CV 3/5] END .............C=0.1, kernel=sigmoid;, score=0.846 total time=   4.1s\n",
      "[CV 4/5] END .............C=0.1, kernel=sigmoid;, score=0.846 total time=   4.9s\n",
      "[CV 5/5] END .............C=0.1, kernel=sigmoid;, score=0.851 total time=   4.6s\n",
      "[CV 1/5] END ................C=1, kernel=linear;, score=0.843 total time=   7.5s\n",
      "[CV 2/5] END ................C=1, kernel=linear;, score=0.833 total time=   7.6s\n",
      "[CV 3/5] END ................C=1, kernel=linear;, score=0.852 total time=   7.3s\n",
      "[CV 4/5] END ................C=1, kernel=linear;, score=0.854 total time=   8.3s\n",
      "[CV 5/5] END ................C=1, kernel=linear;, score=0.855 total time=   7.2s\n",
      "[CV 1/5] END ...................C=1, kernel=rbf;, score=0.834 total time=   7.0s\n",
      "[CV 2/5] END ...................C=1, kernel=rbf;, score=0.837 total time=   5.7s\n",
      "[CV 3/5] END ...................C=1, kernel=rbf;, score=0.849 total time=   6.6s\n",
      "[CV 4/5] END ...................C=1, kernel=rbf;, score=0.856 total time=   6.8s\n",
      "[CV 5/5] END ...................C=1, kernel=rbf;, score=0.850 total time=   5.7s\n",
      "[CV 1/5] END ...............C=1, kernel=sigmoid;, score=0.833 total time=   4.0s\n",
      "[CV 2/5] END ...............C=1, kernel=sigmoid;, score=0.827 total time=   3.7s\n",
      "[CV 3/5] END ...............C=1, kernel=sigmoid;, score=0.838 total time=   4.3s\n",
      "[CV 4/5] END ...............C=1, kernel=sigmoid;, score=0.842 total time=   4.4s\n",
      "[CV 5/5] END ...............C=1, kernel=sigmoid;, score=0.843 total time=   4.6s\n",
      "[CV 1/5] END ...............C=10, kernel=linear;, score=0.844 total time=  37.0s\n",
      "[CV 2/5] END ...............C=10, kernel=linear;, score=0.833 total time=  32.0s\n",
      "[CV 3/5] END ...............C=10, kernel=linear;, score=0.852 total time=  33.4s\n",
      "[CV 4/5] END ...............C=10, kernel=linear;, score=0.854 total time=  34.8s\n",
      "[CV 5/5] END ...............C=10, kernel=linear;, score=0.855 total time=  33.1s\n",
      "[CV 1/5] END ..................C=10, kernel=rbf;, score=0.833 total time=   7.2s\n",
      "[CV 2/5] END ..................C=10, kernel=rbf;, score=0.839 total time=   6.4s\n",
      "[CV 3/5] END ..................C=10, kernel=rbf;, score=0.838 total time=   7.3s\n",
      "[CV 4/5] END ..................C=10, kernel=rbf;, score=0.851 total time=   7.4s\n",
      "[CV 5/5] END ..................C=10, kernel=rbf;, score=0.849 total time=   7.5s\n",
      "[CV 1/5] END ..............C=10, kernel=sigmoid;, score=0.804 total time=   3.6s\n",
      "[CV 2/5] END ..............C=10, kernel=sigmoid;, score=0.802 total time=   3.6s\n",
      "[CV 3/5] END ..............C=10, kernel=sigmoid;, score=0.817 total time=   3.7s\n",
      "[CV 4/5] END ..............C=10, kernel=sigmoid;, score=0.806 total time=   3.5s\n",
      "[CV 5/5] END ..............C=10, kernel=sigmoid;, score=0.820 total time=   3.1s\n"
     ]
    },
    {
     "data": {
      "text/plain": [
       "GridSearchCV(estimator=SVC(),\n",
       "             param_grid={'C': [0.1, 1, 10],\n",
       "                         'kernel': ['linear', 'rbf', 'sigmoid']},\n",
       "             verbose=3)"
      ]
     },
     "execution_count": 69,
     "metadata": {},
     "output_type": "execute_result"
    }
   ],
   "source": [
    "grid.fit(X_train_new, y_train)"
   ]
  },
  {
   "cell_type": "code",
   "execution_count": 70,
   "id": "df802f6f",
   "metadata": {},
   "outputs": [
    {
     "name": "stdout",
     "output_type": "stream",
     "text": [
      "{'C': 10, 'kernel': 'linear'}\n"
     ]
    }
   ],
   "source": [
    "# print best parameter after tuning\n",
    "print(grid.best_params_)"
   ]
  },
  {
   "cell_type": "code",
   "execution_count": 71,
   "id": "5148ef5c",
   "metadata": {},
   "outputs": [],
   "source": [
    "model = SVC(C=10,kernel=\"linear\")"
   ]
  },
  {
   "cell_type": "code",
   "execution_count": 72,
   "id": "c7814b80",
   "metadata": {},
   "outputs": [
    {
     "data": {
      "text/plain": [
       "SVC(C=10, kernel='linear')"
      ]
     },
     "execution_count": 72,
     "metadata": {},
     "output_type": "execute_result"
    }
   ],
   "source": [
    "model.fit(X_train_new, y_train)"
   ]
  },
  {
   "cell_type": "code",
   "execution_count": 73,
   "id": "d7d154d2",
   "metadata": {},
   "outputs": [],
   "source": [
    "y_pred = model.predict(X_test_new)"
   ]
  },
  {
   "cell_type": "code",
   "execution_count": 74,
   "id": "a03c4534",
   "metadata": {},
   "outputs": [
    {
     "data": {
      "text/plain": [
       "0.8525"
      ]
     },
     "execution_count": 74,
     "metadata": {},
     "output_type": "execute_result"
    }
   ],
   "source": [
    "accuracy_score(y_test, y_pred)"
   ]
  },
  {
   "cell_type": "markdown",
   "id": "e22f988a",
   "metadata": {},
   "source": [
    "# Evaluation of the model"
   ]
  },
  {
   "cell_type": "code",
   "execution_count": 75,
   "id": "6f97053e",
   "metadata": {},
   "outputs": [],
   "source": [
    "from sklearn import metrics"
   ]
  },
  {
   "cell_type": "code",
   "execution_count": 76,
   "id": "fcea50b0",
   "metadata": {},
   "outputs": [],
   "source": [
    "from sklearn.metrics import roc_auc_score"
   ]
  },
  {
   "cell_type": "code",
   "execution_count": 77,
   "id": "0f4922c5",
   "metadata": {},
   "outputs": [],
   "source": [
    "from sklearn.metrics import r2_score"
   ]
  },
  {
   "cell_type": "code",
   "execution_count": 78,
   "id": "4cb35d5a",
   "metadata": {},
   "outputs": [],
   "source": [
    "# Classification confusion matrix, ROC AUC score"
   ]
  },
  {
   "cell_type": "code",
   "execution_count": 79,
   "id": "1b68e6df",
   "metadata": {},
   "outputs": [
    {
     "data": {
      "text/plain": [
       "array([[1437,   80],\n",
       "       [ 215,  268]], dtype=int64)"
      ]
     },
     "execution_count": 79,
     "metadata": {},
     "output_type": "execute_result"
    }
   ],
   "source": [
    "confusion_matrix(y_test, y_pred)"
   ]
  },
  {
   "cell_type": "code",
   "execution_count": 80,
   "id": "0febbaf4",
   "metadata": {},
   "outputs": [],
   "source": [
    "# r2 score "
   ]
  },
  {
   "cell_type": "code",
   "execution_count": 81,
   "id": "fe52e0a3",
   "metadata": {},
   "outputs": [
    {
     "data": {
      "text/plain": [
       "0.19477119901298034"
      ]
     },
     "execution_count": 81,
     "metadata": {},
     "output_type": "execute_result"
    }
   ],
   "source": [
    "metrics.r2_score(y_test, y_pred)"
   ]
  },
  {
   "cell_type": "code",
   "execution_count": 82,
   "id": "5c2bb5e9",
   "metadata": {},
   "outputs": [],
   "source": [
    "# Adjusted R square"
   ]
  },
  {
   "cell_type": "code",
   "execution_count": 83,
   "id": "3e1082f6",
   "metadata": {},
   "outputs": [
    {
     "data": {
      "text/plain": [
       "0.7510648809694408"
      ]
     },
     "execution_count": 83,
     "metadata": {},
     "output_type": "execute_result"
    }
   ],
   "source": [
    "metrics.roc_auc_score(y_test, y_pred)"
   ]
  },
  {
   "cell_type": "markdown",
   "id": "d6b4d2e0",
   "metadata": {},
   "source": [
    "# Save the model using pickle and then use pickle to predict"
   ]
  },
  {
   "cell_type": "code",
   "execution_count": 84,
   "id": "1e1d71b2",
   "metadata": {},
   "outputs": [],
   "source": [
    "import pickle"
   ]
  },
  {
   "cell_type": "code",
   "execution_count": 85,
   "id": "c5a7cc0d",
   "metadata": {},
   "outputs": [],
   "source": [
    "file = open('power_svr.pkl', 'wb')"
   ]
  },
  {
   "cell_type": "code",
   "execution_count": 86,
   "id": "3b9f83ea",
   "metadata": {},
   "outputs": [],
   "source": [
    "# dump file model info file\n",
    "pickle.dump(model, file)"
   ]
  },
  {
   "cell_type": "code",
   "execution_count": 87,
   "id": "f7d80651",
   "metadata": {},
   "outputs": [],
   "source": [
    "file.close()  # close the file"
   ]
  },
  {
   "cell_type": "code",
   "execution_count": 88,
   "id": "540fb7bb",
   "metadata": {},
   "outputs": [],
   "source": [
    "model = open('power_svr.pkl', 'rb')\n",
    "power = pickle.load(model)"
   ]
  },
  {
   "cell_type": "code",
   "execution_count": 89,
   "id": "b9e170c3",
   "metadata": {},
   "outputs": [],
   "source": [
    "# Predict using the pickle"
   ]
  },
  {
   "cell_type": "code",
   "execution_count": 90,
   "id": "24e43bf9",
   "metadata": {},
   "outputs": [],
   "source": [
    "y_predict = power.predict(X_test_new)"
   ]
  },
  {
   "cell_type": "code",
   "execution_count": 91,
   "id": "1276fd41",
   "metadata": {},
   "outputs": [
    {
     "data": {
      "text/plain": [
       "array([0., 0., 0., ..., 0., 0., 0.])"
      ]
     },
     "execution_count": 91,
     "metadata": {},
     "output_type": "execute_result"
    }
   ],
   "source": [
    "y_predict"
   ]
  },
  {
   "cell_type": "code",
   "execution_count": null,
   "id": "7971e90f",
   "metadata": {},
   "outputs": [],
   "source": []
  }
 ],
 "metadata": {
  "kernelspec": {
   "display_name": "Python 3 (ipykernel)",
   "language": "python",
   "name": "python3"
  },
  "language_info": {
   "codemirror_mode": {
    "name": "ipython",
    "version": 3
   },
   "file_extension": ".py",
   "mimetype": "text/x-python",
   "name": "python",
   "nbconvert_exporter": "python",
   "pygments_lexer": "ipython3",
   "version": "3.9.12"
  }
 },
 "nbformat": 4,
 "nbformat_minor": 5
}
