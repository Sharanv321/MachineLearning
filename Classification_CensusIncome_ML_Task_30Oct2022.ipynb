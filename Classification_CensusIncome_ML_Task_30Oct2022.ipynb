{
 "cells": [
  {
   "cell_type": "markdown",
   "id": "ab3af8c1",
   "metadata": {},
   "source": [
    "# Classification Census income"
   ]
  },
  {
   "cell_type": "code",
   "execution_count": 65,
   "id": "4585be5e",
   "metadata": {},
   "outputs": [],
   "source": [
    "# import the required classed and packages"
   ]
  },
  {
   "cell_type": "code",
   "execution_count": 1,
   "id": "0a0121a4",
   "metadata": {},
   "outputs": [],
   "source": [
    "from sklearn.model_selection import train_test_split\n",
    "from sklearn.linear_model import LogisticRegression\n",
    "from sklearn.tree import DecisionTreeClassifier\n",
    "from sklearn.neighbors import KNeighborsClassifier\n",
    "from sklearn.discriminant_analysis import LinearDiscriminantAnalysis\n",
    "from sklearn.naive_bayes import GaussianNB\n",
    "from sklearn.svm import SVC\n",
    "from sklearn.svm import LinearSVC\n",
    "from sklearn.linear_model import SGDClassifier\n",
    "from sklearn.metrics import accuracy_score\n",
    "from sklearn.metrics import mean_squared_error\n",
    "import category_encoders as ce\n",
    "from sklearn.preprocessing import StandardScaler\n",
    "from sklearn.metrics import confusion_matrix"
   ]
  },
  {
   "cell_type": "markdown",
   "id": "dd3e323b",
   "metadata": {},
   "source": [
    "# Data Ingestion"
   ]
  },
  {
   "cell_type": "code",
   "execution_count": 2,
   "id": "31295914",
   "metadata": {},
   "outputs": [],
   "source": [
    "import pandas as pd\n",
    "data=pd.read_csv(r\"Adult.csv\")"
   ]
  },
  {
   "cell_type": "code",
   "execution_count": 3,
   "id": "8bc30df2",
   "metadata": {},
   "outputs": [],
   "source": [
    "data = data.sample(15000)"
   ]
  },
  {
   "cell_type": "markdown",
   "id": "63fac0a1",
   "metadata": {},
   "source": [
    "# EDA"
   ]
  },
  {
   "cell_type": "code",
   "execution_count": 4,
   "id": "c016dae0",
   "metadata": {},
   "outputs": [
    {
     "data": {
      "text/plain": [
       "(15000, 15)"
      ]
     },
     "execution_count": 4,
     "metadata": {},
     "output_type": "execute_result"
    }
   ],
   "source": [
    "data.shape"
   ]
  },
  {
   "cell_type": "code",
   "execution_count": 97,
   "id": "ab591982",
   "metadata": {},
   "outputs": [
    {
     "data": {
      "text/html": [
       "<div>\n",
       "<style scoped>\n",
       "    .dataframe tbody tr th:only-of-type {\n",
       "        vertical-align: middle;\n",
       "    }\n",
       "\n",
       "    .dataframe tbody tr th {\n",
       "        vertical-align: top;\n",
       "    }\n",
       "\n",
       "    .dataframe thead th {\n",
       "        text-align: right;\n",
       "    }\n",
       "</style>\n",
       "<table border=\"1\" class=\"dataframe\">\n",
       "  <thead>\n",
       "    <tr style=\"text-align: right;\">\n",
       "      <th></th>\n",
       "      <th>age</th>\n",
       "      <th>workclass</th>\n",
       "      <th>fnlwgt</th>\n",
       "      <th>education</th>\n",
       "      <th>education-num</th>\n",
       "      <th>marital_status</th>\n",
       "      <th>occupation</th>\n",
       "      <th>relationship</th>\n",
       "      <th>race</th>\n",
       "      <th>sex</th>\n",
       "      <th>capital-gain</th>\n",
       "      <th>capital-loss</th>\n",
       "      <th>hours-per-week</th>\n",
       "      <th>native_country</th>\n",
       "      <th>income</th>\n",
       "    </tr>\n",
       "  </thead>\n",
       "  <tbody>\n",
       "    <tr>\n",
       "      <th>27288</th>\n",
       "      <td>24</td>\n",
       "      <td>Private</td>\n",
       "      <td>139989</td>\n",
       "      <td>Bachelors</td>\n",
       "      <td>13</td>\n",
       "      <td>Never-married</td>\n",
       "      <td>Sales</td>\n",
       "      <td>Own-child</td>\n",
       "      <td>Black</td>\n",
       "      <td>Male</td>\n",
       "      <td>0</td>\n",
       "      <td>0</td>\n",
       "      <td>40</td>\n",
       "      <td>United-States</td>\n",
       "      <td>0</td>\n",
       "    </tr>\n",
       "    <tr>\n",
       "      <th>25341</th>\n",
       "      <td>41</td>\n",
       "      <td>Local-gov</td>\n",
       "      <td>227644</td>\n",
       "      <td>Some-college</td>\n",
       "      <td>10</td>\n",
       "      <td>Married-civ-spouse</td>\n",
       "      <td>Craft-repair</td>\n",
       "      <td>Husband</td>\n",
       "      <td>White</td>\n",
       "      <td>Male</td>\n",
       "      <td>0</td>\n",
       "      <td>0</td>\n",
       "      <td>40</td>\n",
       "      <td>United-States</td>\n",
       "      <td>0</td>\n",
       "    </tr>\n",
       "  </tbody>\n",
       "</table>\n",
       "</div>"
      ],
      "text/plain": [
       "       age  workclass  fnlwgt     education  education-num  \\\n",
       "27288   24    Private  139989     Bachelors             13   \n",
       "25341   41  Local-gov  227644  Some-college             10   \n",
       "\n",
       "           marital_status    occupation relationship   race   sex  \\\n",
       "27288       Never-married         Sales    Own-child  Black  Male   \n",
       "25341  Married-civ-spouse  Craft-repair      Husband  White  Male   \n",
       "\n",
       "       capital-gain  capital-loss  hours-per-week native_country  income  \n",
       "27288             0             0              40  United-States       0  \n",
       "25341             0             0              40  United-States       0  "
      ]
     },
     "execution_count": 97,
     "metadata": {},
     "output_type": "execute_result"
    }
   ],
   "source": [
    "data.head(2)"
   ]
  },
  {
   "cell_type": "code",
   "execution_count": 98,
   "id": "0a3cedde",
   "metadata": {},
   "outputs": [
    {
     "data": {
      "text/plain": [
       "Index(['age', 'workclass', 'fnlwgt', 'education', 'education-num',\n",
       "       'marital_status', 'occupation', 'relationship', 'race', 'sex',\n",
       "       'capital-gain', 'capital-loss', 'hours-per-week', 'native_country',\n",
       "       'income'],\n",
       "      dtype='object')"
      ]
     },
     "execution_count": 98,
     "metadata": {},
     "output_type": "execute_result"
    }
   ],
   "source": [
    "data.columns"
   ]
  },
  {
   "cell_type": "code",
   "execution_count": 99,
   "id": "ea44dc0e",
   "metadata": {},
   "outputs": [],
   "source": [
    "data.rename(columns = {'marital-status':'marital_status', 'native-country':'native_country'}, inplace = True)"
   ]
  },
  {
   "cell_type": "code",
   "execution_count": 100,
   "id": "ee0c30fe",
   "metadata": {},
   "outputs": [
    {
     "name": "stdout",
     "output_type": "stream",
     "text": [
      "<class 'pandas.core.frame.DataFrame'>\n",
      "Int64Index: 15000 entries, 27288 to 21816\n",
      "Data columns (total 15 columns):\n",
      " #   Column          Non-Null Count  Dtype \n",
      "---  ------          --------------  ----- \n",
      " 0   age             15000 non-null  int64 \n",
      " 1   workclass       15000 non-null  object\n",
      " 2   fnlwgt          15000 non-null  int64 \n",
      " 3   education       15000 non-null  object\n",
      " 4   education-num   15000 non-null  int64 \n",
      " 5   marital_status  15000 non-null  object\n",
      " 6   occupation      15000 non-null  object\n",
      " 7   relationship    15000 non-null  object\n",
      " 8   race            15000 non-null  object\n",
      " 9   sex             15000 non-null  object\n",
      " 10  capital-gain    15000 non-null  int64 \n",
      " 11  capital-loss    15000 non-null  int64 \n",
      " 12  hours-per-week  15000 non-null  int64 \n",
      " 13  native_country  15000 non-null  object\n",
      " 14  income          15000 non-null  int64 \n",
      "dtypes: int64(7), object(8)\n",
      "memory usage: 1.8+ MB\n"
     ]
    }
   ],
   "source": [
    "data.info()"
   ]
  },
  {
   "cell_type": "code",
   "execution_count": 101,
   "id": "e61e0a4a",
   "metadata": {},
   "outputs": [
    {
     "data": {
      "text/plain": [
       "(15000, 15)"
      ]
     },
     "execution_count": 101,
     "metadata": {},
     "output_type": "execute_result"
    }
   ],
   "source": [
    "data.shape"
   ]
  },
  {
   "cell_type": "code",
   "execution_count": 102,
   "id": "08dd808f",
   "metadata": {},
   "outputs": [
    {
     "data": {
      "text/html": [
       "<div>\n",
       "<style scoped>\n",
       "    .dataframe tbody tr th:only-of-type {\n",
       "        vertical-align: middle;\n",
       "    }\n",
       "\n",
       "    .dataframe tbody tr th {\n",
       "        vertical-align: top;\n",
       "    }\n",
       "\n",
       "    .dataframe thead th {\n",
       "        text-align: right;\n",
       "    }\n",
       "</style>\n",
       "<table border=\"1\" class=\"dataframe\">\n",
       "  <thead>\n",
       "    <tr style=\"text-align: right;\">\n",
       "      <th></th>\n",
       "      <th>count</th>\n",
       "      <th>mean</th>\n",
       "      <th>std</th>\n",
       "      <th>min</th>\n",
       "      <th>25%</th>\n",
       "      <th>50%</th>\n",
       "      <th>75%</th>\n",
       "      <th>max</th>\n",
       "    </tr>\n",
       "  </thead>\n",
       "  <tbody>\n",
       "    <tr>\n",
       "      <th>age</th>\n",
       "      <td>15000.0</td>\n",
       "      <td>38.662600</td>\n",
       "      <td>13.655587</td>\n",
       "      <td>17.0</td>\n",
       "      <td>28.00</td>\n",
       "      <td>37.0</td>\n",
       "      <td>48.0</td>\n",
       "      <td>90.0</td>\n",
       "    </tr>\n",
       "    <tr>\n",
       "      <th>fnlwgt</th>\n",
       "      <td>15000.0</td>\n",
       "      <td>189413.755267</td>\n",
       "      <td>104412.147101</td>\n",
       "      <td>13769.0</td>\n",
       "      <td>118354.75</td>\n",
       "      <td>178369.5</td>\n",
       "      <td>236436.0</td>\n",
       "      <td>1268339.0</td>\n",
       "    </tr>\n",
       "    <tr>\n",
       "      <th>education-num</th>\n",
       "      <td>15000.0</td>\n",
       "      <td>10.082867</td>\n",
       "      <td>2.582230</td>\n",
       "      <td>1.0</td>\n",
       "      <td>9.00</td>\n",
       "      <td>10.0</td>\n",
       "      <td>12.0</td>\n",
       "      <td>16.0</td>\n",
       "    </tr>\n",
       "    <tr>\n",
       "      <th>capital-gain</th>\n",
       "      <td>15000.0</td>\n",
       "      <td>1064.732667</td>\n",
       "      <td>7329.293987</td>\n",
       "      <td>0.0</td>\n",
       "      <td>0.00</td>\n",
       "      <td>0.0</td>\n",
       "      <td>0.0</td>\n",
       "      <td>99999.0</td>\n",
       "    </tr>\n",
       "    <tr>\n",
       "      <th>capital-loss</th>\n",
       "      <td>15000.0</td>\n",
       "      <td>84.144467</td>\n",
       "      <td>393.405456</td>\n",
       "      <td>0.0</td>\n",
       "      <td>0.00</td>\n",
       "      <td>0.0</td>\n",
       "      <td>0.0</td>\n",
       "      <td>3900.0</td>\n",
       "    </tr>\n",
       "    <tr>\n",
       "      <th>hours-per-week</th>\n",
       "      <td>15000.0</td>\n",
       "      <td>40.375133</td>\n",
       "      <td>12.355827</td>\n",
       "      <td>1.0</td>\n",
       "      <td>40.00</td>\n",
       "      <td>40.0</td>\n",
       "      <td>45.0</td>\n",
       "      <td>99.0</td>\n",
       "    </tr>\n",
       "    <tr>\n",
       "      <th>income</th>\n",
       "      <td>15000.0</td>\n",
       "      <td>0.237800</td>\n",
       "      <td>0.425750</td>\n",
       "      <td>0.0</td>\n",
       "      <td>0.00</td>\n",
       "      <td>0.0</td>\n",
       "      <td>0.0</td>\n",
       "      <td>1.0</td>\n",
       "    </tr>\n",
       "  </tbody>\n",
       "</table>\n",
       "</div>"
      ],
      "text/plain": [
       "                  count           mean            std      min        25%  \\\n",
       "age             15000.0      38.662600      13.655587     17.0      28.00   \n",
       "fnlwgt          15000.0  189413.755267  104412.147101  13769.0  118354.75   \n",
       "education-num   15000.0      10.082867       2.582230      1.0       9.00   \n",
       "capital-gain    15000.0    1064.732667    7329.293987      0.0       0.00   \n",
       "capital-loss    15000.0      84.144467     393.405456      0.0       0.00   \n",
       "hours-per-week  15000.0      40.375133      12.355827      1.0      40.00   \n",
       "income          15000.0       0.237800       0.425750      0.0       0.00   \n",
       "\n",
       "                     50%       75%        max  \n",
       "age                 37.0      48.0       90.0  \n",
       "fnlwgt          178369.5  236436.0  1268339.0  \n",
       "education-num       10.0      12.0       16.0  \n",
       "capital-gain         0.0       0.0    99999.0  \n",
       "capital-loss         0.0       0.0     3900.0  \n",
       "hours-per-week      40.0      45.0       99.0  \n",
       "income               0.0       0.0        1.0  "
      ]
     },
     "execution_count": 102,
     "metadata": {},
     "output_type": "execute_result"
    }
   ],
   "source": [
    "data.describe().T"
   ]
  },
  {
   "cell_type": "code",
   "execution_count": 140,
   "id": "a253e2aa",
   "metadata": {},
   "outputs": [],
   "source": [
    "data['income'].replace(['<=50K', '>50K'],\n",
    "                        [0, 1], inplace=True)"
   ]
  },
  {
   "cell_type": "code",
   "execution_count": 141,
   "id": "2aeabe85",
   "metadata": {},
   "outputs": [],
   "source": [
    "data[\"income\"] = data[\"income\"].astype(\"float\")"
   ]
  },
  {
   "cell_type": "code",
   "execution_count": 142,
   "id": "00f75fd7",
   "metadata": {},
   "outputs": [
    {
     "name": "stdout",
     "output_type": "stream",
     "text": [
      "We have 7 numerical features : ['age', 'fnlwgt', 'education-num', 'capital-gain', 'capital-loss', 'hours-per-week', 'income']\n",
      "\n",
      "We have 8 categorical features : ['workclass', 'education', 'marital_status', 'occupation', 'relationship', 'race', 'sex', 'native_country']\n"
     ]
    }
   ],
   "source": [
    "# define numerical & categorical columns\n",
    "numeric_features = [feature for feature in data.columns if data[feature].dtype != 'O']\n",
    "categorical_features = [feature for feature in data.columns if data[feature].dtype == 'O']\n",
    "\n",
    "# print columns\n",
    "print('We have {} numerical features : {}'.format(len(numeric_features), numeric_features))\n",
    "print('\\nWe have {} categorical features : {}'.format(len(categorical_features), categorical_features))"
   ]
  },
  {
   "cell_type": "code",
   "execution_count": 143,
   "id": "6245bdbe",
   "metadata": {},
   "outputs": [
    {
     "data": {
      "text/plain": [
       "workclass\n",
       "?                     879\n",
       "Federal-gov           426\n",
       "Local-gov             948\n",
       "Never-worked            3\n",
       "Private             10401\n",
       "Self-emp-inc          502\n",
       "Self-emp-not-inc     1220\n",
       "State-gov             614\n",
       "Without-pay             7\n",
       "dtype: int64"
      ]
     },
     "execution_count": 143,
     "metadata": {},
     "output_type": "execute_result"
    }
   ],
   "source": [
    "data.groupby(['workclass']).size()"
   ]
  },
  {
   "cell_type": "code",
   "execution_count": 144,
   "id": "b96630f3",
   "metadata": {},
   "outputs": [
    {
     "name": "stdout",
     "output_type": "stream",
     "text": [
      "age\n",
      "33    421\n",
      "36    417\n",
      "23    401\n",
      "34    401\n",
      "41    392\n",
      "     ... \n",
      "82      5\n",
      "83      3\n",
      "88      2\n",
      "85      1\n",
      "86      1\n",
      "Length: 72, dtype: int64\n",
      "**********************\n",
      "workclass\n",
      "Private             10401\n",
      "Self-emp-not-inc     1220\n",
      "Local-gov             948\n",
      "?                     879\n",
      "State-gov             614\n",
      "Self-emp-inc          502\n",
      "Federal-gov           426\n",
      "Without-pay             7\n",
      "Never-worked            3\n",
      "dtype: int64\n",
      "**********************\n",
      "fnlwgt\n",
      "188246     9\n",
      "125892     7\n",
      "121124     7\n",
      "172538     6\n",
      "113364     6\n",
      "          ..\n",
      "152636     1\n",
      "152657     1\n",
      "152683     1\n",
      "152696     1\n",
      "1268339    1\n",
      "Length: 11927, dtype: int64\n",
      "**********************\n",
      "education\n",
      "HS-grad         4855\n",
      "Some-college    3349\n",
      "Bachelors       2466\n",
      "Masters          816\n",
      "Assoc-voc        657\n",
      "11th             502\n",
      "Assoc-acdm       474\n",
      "10th             430\n",
      "7th-8th          302\n",
      "Prof-school      265\n",
      "9th              220\n",
      "12th             206\n",
      "Doctorate        185\n",
      "5th-6th          158\n",
      "1st-4th           87\n",
      "Preschool         28\n",
      "dtype: int64\n",
      "**********************\n",
      "education-num\n",
      "9     4855\n",
      "10    3349\n",
      "13    2466\n",
      "14     816\n",
      "11     657\n",
      "7      502\n",
      "12     474\n",
      "6      430\n",
      "4      302\n",
      "15     265\n",
      "5      220\n",
      "8      206\n",
      "16     185\n",
      "3      158\n",
      "2       87\n",
      "1       28\n",
      "dtype: int64\n",
      "**********************\n",
      "marital_status\n",
      "Married-civ-spouse       6921\n",
      "Never-married            4889\n",
      "Divorced                 2058\n",
      "Separated                 490\n",
      "Widowed                   454\n",
      "Married-spouse-absent     177\n",
      "Married-AF-spouse          11\n",
      "dtype: int64\n",
      "**********************\n",
      "occupation\n",
      "Prof-specialty       1896\n",
      "Craft-repair         1860\n",
      "Exec-managerial      1859\n",
      "Adm-clerical         1736\n",
      "Sales                1661\n",
      "Other-service        1584\n",
      "Machine-op-inspct     945\n",
      "?                     882\n",
      "Transport-moving      701\n",
      "Handlers-cleaners     617\n",
      "Farming-fishing       447\n",
      "Tech-support          433\n",
      "Protective-serv       309\n",
      "Priv-house-serv        66\n",
      "Armed-Forces            4\n",
      "dtype: int64\n",
      "**********************\n",
      "relationship\n",
      "Husband           6071\n",
      "Not-in-family     3828\n",
      "Own-child         2321\n",
      "Unmarried         1591\n",
      "Wife               741\n",
      "Other-relative     448\n",
      "dtype: int64\n",
      "**********************\n",
      "race\n",
      "White                 12862\n",
      "Black                  1430\n",
      "Asian-Pac-Islander      459\n",
      "Amer-Indian-Eskimo      142\n",
      "Other                   107\n",
      "dtype: int64\n",
      "**********************\n",
      "sex\n",
      "Male      9984\n",
      "Female    5016\n",
      "dtype: int64\n",
      "**********************\n",
      "capital-gain\n",
      "0        13751\n",
      "15024      147\n",
      "7688       140\n",
      "7298       112\n",
      "99999       72\n",
      "         ...  \n",
      "2961         1\n",
      "2009         1\n",
      "2050         1\n",
      "7978         1\n",
      "2993         1\n",
      "Length: 112, dtype: int64\n",
      "**********************\n",
      "capital-loss\n",
      "0       14321\n",
      "1902       85\n",
      "1977       83\n",
      "1887       78\n",
      "1485       31\n",
      "        ...  \n",
      "1411        1\n",
      "1258        1\n",
      "1138        1\n",
      "974         1\n",
      "3900        1\n",
      "Length: 78, dtype: int64\n",
      "**********************\n",
      "hours-per-week\n",
      "40    7012\n",
      "50    1278\n",
      "45     858\n",
      "60     650\n",
      "35     612\n",
      "      ... \n",
      "88       1\n",
      "87       1\n",
      "82       1\n",
      "96       1\n",
      "73       1\n",
      "Length: 89, dtype: int64\n",
      "**********************\n",
      "native_country\n",
      "United-States                 13463\n",
      "Mexico                          316\n",
      "?                               254\n",
      "Philippines                      98\n",
      "Germany                          63\n",
      "Canada                           54\n",
      "Cuba                             46\n",
      "El-Salvador                      46\n",
      "Puerto-Rico                      44\n",
      "India                            44\n",
      "England                          38\n",
      "Jamaica                          37\n",
      "Italy                            35\n",
      "China                            35\n",
      "Guatemala                        34\n",
      "South                            34\n",
      "Vietnam                          33\n",
      "Columbia                         29\n",
      "Dominican-Republic               25\n",
      "Japan                            24\n",
      "Poland                           21\n",
      "Taiwan                           20\n",
      "Ecuador                          18\n",
      "Iran                             17\n",
      "Greece                           17\n",
      "Peru                             17\n",
      "Portugal                         15\n",
      "Haiti                            14\n",
      "Nicaragua                        14\n",
      "France                           14\n",
      "Cambodia                         10\n",
      "Scotland                          9\n",
      "Ireland                           8\n",
      "Laos                              8\n",
      "Hong                              8\n",
      "Outlying-US(Guam-USVI-etc)        7\n",
      "Thailand                          7\n",
      "Honduras                          7\n",
      "Yugoslavia                        6\n",
      "Hungary                           5\n",
      "Trinadad&Tobago                   5\n",
      "Holand-Netherlands                1\n",
      "dtype: int64\n",
      "**********************\n",
      "income\n",
      "0.0    11433\n",
      "1.0     3567\n",
      "dtype: int64\n",
      "**********************\n"
     ]
    }
   ],
   "source": [
    "list1 = data.columns.tolist()\n",
    "for i in list1:\n",
    "    print(data.groupby([i]).size().sort_values(ascending=False))\n",
    "    print(\"**********************\")"
   ]
  },
  {
   "cell_type": "code",
   "execution_count": 145,
   "id": "3bc77f00",
   "metadata": {},
   "outputs": [],
   "source": [
    "# Analysis"
   ]
  },
  {
   "cell_type": "markdown",
   "id": "68ab02c5",
   "metadata": {},
   "source": [
    "Most of the population in the age group 30 to 40"
   ]
  },
  {
   "cell_type": "markdown",
   "id": "bd193ed5",
   "metadata": {},
   "source": [
    "2/3 of the population works in the private sector"
   ]
  },
  {
   "cell_type": "markdown",
   "id": "b635a8b6",
   "metadata": {},
   "source": [
    "Most of the population is HS-grad, Some-college, Bachelors"
   ]
  },
  {
   "cell_type": "markdown",
   "id": "24eaf77f",
   "metadata": {},
   "source": [
    "80% of the population is white, 10% is black, rest are from other races"
   ]
  },
  {
   "cell_type": "markdown",
   "id": "ed5cdbe5",
   "metadata": {},
   "source": [
    "Male population is twice the population of female"
   ]
  },
  {
   "cell_type": "markdown",
   "id": "6eb75dbd",
   "metadata": {},
   "source": [
    "Majority of the population data (90%) is from the US"
   ]
  },
  {
   "cell_type": "markdown",
   "id": "3709de75",
   "metadata": {},
   "source": [
    "# Preprocessing"
   ]
  },
  {
   "cell_type": "code",
   "execution_count": 146,
   "id": "4b2f6633",
   "metadata": {},
   "outputs": [],
   "source": [
    "# Check for null values in the data"
   ]
  },
  {
   "cell_type": "code",
   "execution_count": 147,
   "id": "8c76829a",
   "metadata": {},
   "outputs": [
    {
     "data": {
      "text/plain": [
       "age               0\n",
       "workclass         0\n",
       "fnlwgt            0\n",
       "education         0\n",
       "education-num     0\n",
       "marital_status    0\n",
       "occupation        0\n",
       "relationship      0\n",
       "race              0\n",
       "sex               0\n",
       "capital-gain      0\n",
       "capital-loss      0\n",
       "hours-per-week    0\n",
       "native_country    0\n",
       "income            0\n",
       "dtype: int64"
      ]
     },
     "execution_count": 147,
     "metadata": {},
     "output_type": "execute_result"
    }
   ],
   "source": [
    "data.isnull().sum()"
   ]
  },
  {
   "cell_type": "markdown",
   "id": "bcd178ab",
   "metadata": {},
   "source": [
    "the data has no null values"
   ]
  },
  {
   "cell_type": "code",
   "execution_count": 148,
   "id": "ef89b1f1",
   "metadata": {},
   "outputs": [],
   "source": [
    "# Let us group by occupation"
   ]
  },
  {
   "cell_type": "code",
   "execution_count": 149,
   "id": "9eef7713",
   "metadata": {},
   "outputs": [
    {
     "data": {
      "text/plain": [
       "native_country\n",
       "United-States                 13463\n",
       "Mexico                          316\n",
       "?                               254\n",
       "Philippines                      98\n",
       "Germany                          63\n",
       "Canada                           54\n",
       "Cuba                             46\n",
       "El-Salvador                      46\n",
       "Puerto-Rico                      44\n",
       "India                            44\n",
       "England                          38\n",
       "Jamaica                          37\n",
       "Italy                            35\n",
       "China                            35\n",
       "Guatemala                        34\n",
       "South                            34\n",
       "Vietnam                          33\n",
       "Columbia                         29\n",
       "Dominican-Republic               25\n",
       "Japan                            24\n",
       "Poland                           21\n",
       "Taiwan                           20\n",
       "Ecuador                          18\n",
       "Iran                             17\n",
       "Greece                           17\n",
       "Peru                             17\n",
       "Portugal                         15\n",
       "Haiti                            14\n",
       "Nicaragua                        14\n",
       "France                           14\n",
       "Cambodia                         10\n",
       "Scotland                          9\n",
       "Ireland                           8\n",
       "Laos                              8\n",
       "Hong                              8\n",
       "Outlying-US(Guam-USVI-etc)        7\n",
       "Thailand                          7\n",
       "Honduras                          7\n",
       "Yugoslavia                        6\n",
       "Hungary                           5\n",
       "Trinadad&Tobago                   5\n",
       "Holand-Netherlands                1\n",
       "dtype: int64"
      ]
     },
     "execution_count": 149,
     "metadata": {},
     "output_type": "execute_result"
    }
   ],
   "source": [
    "data.groupby('native_country').size().sort_values(ascending=False)"
   ]
  },
  {
   "cell_type": "markdown",
   "id": "f2a4af6f",
   "metadata": {},
   "source": [
    "USA has the largest data, followed by mexico, ?, phillipplines"
   ]
  },
  {
   "cell_type": "markdown",
   "id": "49bf4292",
   "metadata": {},
   "source": [
    "Hungary has the least data in this dataset"
   ]
  },
  {
   "cell_type": "code",
   "execution_count": 150,
   "id": "4f38ec66",
   "metadata": {},
   "outputs": [],
   "source": [
    "# Now let us group by income "
   ]
  },
  {
   "cell_type": "code",
   "execution_count": 151,
   "id": "7325675d",
   "metadata": {},
   "outputs": [
    {
     "data": {
      "text/plain": [
       "income\n",
       "0.0    11433\n",
       "1.0     3567\n",
       "dtype: int64"
      ]
     },
     "execution_count": 151,
     "metadata": {},
     "output_type": "execute_result"
    }
   ],
   "source": [
    "data.groupby('income').size().sort_values(ascending=False)"
   ]
  },
  {
   "cell_type": "markdown",
   "id": "2faf98a7",
   "metadata": {},
   "source": [
    "Largest population earns less than or equal to 50k per annum"
   ]
  },
  {
   "cell_type": "markdown",
   "id": "3f107d51",
   "metadata": {},
   "source": [
    "close to quarter of the population earns more than 50k per annum"
   ]
  },
  {
   "cell_type": "code",
   "execution_count": 152,
   "id": "5adcaa58",
   "metadata": {},
   "outputs": [],
   "source": [
    "# Now let us group by sex"
   ]
  },
  {
   "cell_type": "code",
   "execution_count": 153,
   "id": "03734839",
   "metadata": {},
   "outputs": [
    {
     "data": {
      "text/plain": [
       "sex\n",
       "Male      9984\n",
       "Female    5016\n",
       "dtype: int64"
      ]
     },
     "execution_count": 153,
     "metadata": {},
     "output_type": "execute_result"
    }
   ],
   "source": [
    "data.groupby('sex').size().sort_values(ascending=False)"
   ]
  },
  {
   "cell_type": "markdown",
   "id": "635ec707",
   "metadata": {},
   "source": [
    "Male population is twice the population of Female population in the dataset"
   ]
  },
  {
   "cell_type": "markdown",
   "id": "6e631361",
   "metadata": {},
   "source": [
    "# Splitting of the Data"
   ]
  },
  {
   "cell_type": "code",
   "execution_count": 154,
   "id": "e9720aca",
   "metadata": {},
   "outputs": [],
   "source": [
    "y = data['income']\n",
    "X = data.drop('income', axis = 1)"
   ]
  },
  {
   "cell_type": "code",
   "execution_count": 155,
   "id": "ad43d9ca",
   "metadata": {},
   "outputs": [],
   "source": [
    "X_train, X_test, y_train, y_test = train_test_split(X, y, random_state = 1, test_size = 0.2) "
   ]
  },
  {
   "cell_type": "code",
   "execution_count": 156,
   "id": "485444a6",
   "metadata": {},
   "outputs": [
    {
     "data": {
      "text/plain": [
       "['workclass',\n",
       " 'education',\n",
       " 'marital_status',\n",
       " 'occupation',\n",
       " 'relationship',\n",
       " 'race',\n",
       " 'sex',\n",
       " 'native_country']"
      ]
     },
     "execution_count": 156,
     "metadata": {},
     "output_type": "execute_result"
    }
   ],
   "source": [
    "category_var = [col for col in X.columns if X[col].dtypes == object]\n",
    "category_var"
   ]
  },
  {
   "cell_type": "code",
   "execution_count": 157,
   "id": "4f3c799e",
   "metadata": {},
   "outputs": [
    {
     "data": {
      "text/plain": [
       "['age',\n",
       " 'fnlwgt',\n",
       " 'education-num',\n",
       " 'capital-gain',\n",
       " 'capital-loss',\n",
       " 'hours-per-week']"
      ]
     },
     "execution_count": 157,
     "metadata": {},
     "output_type": "execute_result"
    }
   ],
   "source": [
    "numeric_var = [col for col in X.columns if X[col].dtypes != object]\n",
    "numeric_var"
   ]
  },
  {
   "cell_type": "code",
   "execution_count": 158,
   "id": "0b9db040",
   "metadata": {},
   "outputs": [],
   "source": [
    "# Feature Scaling"
   ]
  },
  {
   "cell_type": "code",
   "execution_count": 159,
   "id": "9c70d298",
   "metadata": {},
   "outputs": [],
   "source": [
    "one_hot = ce.OneHotEncoder(cols = category_var, handle_unknown = 'ignore')\n",
    "\n",
    "# Creating dataframe for categorical variables which converted to one hot encoded variables.\n",
    "X_train_one_hot = pd.DataFrame(one_hot.fit_transform(X_train))\n",
    "X_test_one_hot = pd.DataFrame(one_hot.transform(X_test))\n",
    "\n",
    "\n",
    "X_train_one_hot.index = X_train.index\n",
    "X_test_one_hot.index = X_test.index\n",
    "\n",
    "num_X_train = X_train[numeric_var]\n",
    "num_X_test = X_test[numeric_var]\n",
    "\n",
    "# Joining numerical and one hot encoded variables to create our final X_train and X_test.\n",
    "X_train_new = pd.concat([num_X_train, X_train_one_hot], axis = 1)\n",
    "X_test_new = pd.concat([num_X_test, X_test_one_hot], axis = 1)"
   ]
  },
  {
   "cell_type": "code",
   "execution_count": 160,
   "id": "e3d845ca",
   "metadata": {},
   "outputs": [],
   "source": [
    "# Scaling our records into standard range of 0 and 1.\n",
    "scaler = StandardScaler()\n",
    "\n",
    "X_train_new = scaler.fit_transform(X_train_new)\n",
    "X_test_new = scaler.transform(X_test_new)"
   ]
  },
  {
   "cell_type": "markdown",
   "id": "7cedb6ef",
   "metadata": {},
   "source": [
    "# Logistic Regression"
   ]
  },
  {
   "cell_type": "code",
   "execution_count": 161,
   "id": "5b4e3611",
   "metadata": {},
   "outputs": [
    {
     "name": "stdout",
     "output_type": "stream",
     "text": [
      "Logistic Regression accuracy score:85.70%\n"
     ]
    }
   ],
   "source": [
    "model_logr = LogisticRegression(random_state = 1,solver=\"liblinear\")\n",
    "model_logr.fit(X_train_new, y_train)\n",
    "pred_logr = model_logr.predict(X_test_new)\n",
    "print('Logistic Regression accuracy score:{0:0.2f}%'. format(accuracy_score(y_test, pred_logr)*100))"
   ]
  },
  {
   "cell_type": "markdown",
   "id": "60675966",
   "metadata": {},
   "source": [
    "# SVC"
   ]
  },
  {
   "cell_type": "code",
   "execution_count": 162,
   "id": "1ab5d64d",
   "metadata": {},
   "outputs": [
    {
     "data": {
      "text/plain": [
       "SVC(random_state=0)"
      ]
     },
     "execution_count": 162,
     "metadata": {},
     "output_type": "execute_result"
    }
   ],
   "source": [
    "classifier = SVC(random_state = 0,kernel = 'rbf')\n",
    "classifier.fit(X_train_new, y_train)"
   ]
  },
  {
   "cell_type": "code",
   "execution_count": 127,
   "id": "856d7662",
   "metadata": {},
   "outputs": [],
   "source": [
    "#Predicting the Test Set"
   ]
  },
  {
   "cell_type": "code",
   "execution_count": 128,
   "id": "30c86b10",
   "metadata": {},
   "outputs": [],
   "source": [
    "y_pred = classifier.predict(X_test_new)"
   ]
  },
  {
   "cell_type": "code",
   "execution_count": 129,
   "id": "e5e3bcc7",
   "metadata": {},
   "outputs": [
    {
     "data": {
      "text/plain": [
       "0.8453333333333334"
      ]
     },
     "execution_count": 129,
     "metadata": {},
     "output_type": "execute_result"
    }
   ],
   "source": [
    "accuracy_score(y_test, y_pred)"
   ]
  },
  {
   "cell_type": "code",
   "execution_count": 174,
   "id": "c58debcd",
   "metadata": {},
   "outputs": [
    {
     "data": {
      "text/plain": [
       "(3000,)"
      ]
     },
     "execution_count": 174,
     "metadata": {},
     "output_type": "execute_result"
    }
   ],
   "source": [
    "y_pred.shape"
   ]
  },
  {
   "cell_type": "code",
   "execution_count": 130,
   "id": "f811d265",
   "metadata": {},
   "outputs": [],
   "source": [
    "# Now let us apply the kernel functions "
   ]
  },
  {
   "cell_type": "code",
   "execution_count": 131,
   "id": "bb702249",
   "metadata": {},
   "outputs": [
    {
     "data": {
      "text/plain": [
       "0.8513333333333334"
      ]
     },
     "execution_count": 131,
     "metadata": {},
     "output_type": "execute_result"
    }
   ],
   "source": [
    "classifier = SVC(kernel=\"linear\")\n",
    "classifier.fit(X_train_new, y_train)\n",
    "y_pred = classifier.predict(X_test_new)\n",
    "accuracy_score(y_test, y_pred)"
   ]
  },
  {
   "cell_type": "code",
   "execution_count": 132,
   "id": "f8e557c9",
   "metadata": {},
   "outputs": [
    {
     "data": {
      "text/plain": [
       "0.829"
      ]
     },
     "execution_count": 132,
     "metadata": {},
     "output_type": "execute_result"
    }
   ],
   "source": [
    "classifier = SVC(kernel=\"poly\")\n",
    "classifier.fit(X_train_new, y_train)\n",
    "y_pred = classifier.predict(X_test_new)\n",
    "accuracy_score(y_test, y_pred)"
   ]
  },
  {
   "cell_type": "code",
   "execution_count": 133,
   "id": "cd4786cd",
   "metadata": {},
   "outputs": [
    {
     "data": {
      "text/plain": [
       "0.8453333333333334"
      ]
     },
     "execution_count": 133,
     "metadata": {},
     "output_type": "execute_result"
    }
   ],
   "source": [
    "classifier = SVC(kernel=\"rbf\")\n",
    "classifier.fit(X_train_new, y_train)\n",
    "y_pred = classifier.predict(X_test_new)\n",
    "accuracy_score(y_test, y_pred)"
   ]
  },
  {
   "cell_type": "code",
   "execution_count": 134,
   "id": "f40af216",
   "metadata": {},
   "outputs": [
    {
     "data": {
      "text/plain": [
       "0.8406666666666667"
      ]
     },
     "execution_count": 134,
     "metadata": {},
     "output_type": "execute_result"
    }
   ],
   "source": [
    "classifier = SVC(kernel=\"sigmoid\")\n",
    "classifier.fit(X_train_new, y_train)\n",
    "y_pred = classifier.predict(X_test_new)\n",
    "accuracy_score(y_test, y_pred)"
   ]
  },
  {
   "cell_type": "markdown",
   "id": "c60b932c",
   "metadata": {},
   "source": [
    "SVC with kernel = sigmoid / linear gives the highest accuracy"
   ]
  },
  {
   "cell_type": "code",
   "execution_count": 135,
   "id": "252139c8",
   "metadata": {},
   "outputs": [
    {
     "data": {
      "text/plain": [
       "SVC(kernel='sigmoid')"
      ]
     },
     "execution_count": 135,
     "metadata": {},
     "output_type": "execute_result"
    }
   ],
   "source": [
    "model = SVC(kernel=\"sigmoid\")\n",
    "model.fit(X_train_new, y_train)"
   ]
  },
  {
   "cell_type": "markdown",
   "id": "fb2b77ce",
   "metadata": {},
   "source": [
    "# Evaluation of the model"
   ]
  },
  {
   "cell_type": "code",
   "execution_count": 163,
   "id": "33b5aaf6",
   "metadata": {},
   "outputs": [],
   "source": [
    "from sklearn import metrics"
   ]
  },
  {
   "cell_type": "code",
   "execution_count": 164,
   "id": "0814aea5",
   "metadata": {},
   "outputs": [],
   "source": [
    "from sklearn.metrics import roc_auc_score"
   ]
  },
  {
   "cell_type": "code",
   "execution_count": 179,
   "id": "dd08604f",
   "metadata": {},
   "outputs": [],
   "source": [
    "from sklearn.metrics import r2_score"
   ]
  },
  {
   "cell_type": "code",
   "execution_count": 70,
   "id": "398f3bef",
   "metadata": {},
   "outputs": [],
   "source": [
    "# Classification confusion matrix, ROC AUC score"
   ]
  },
  {
   "cell_type": "code",
   "execution_count": 166,
   "id": "e4ba3d13",
   "metadata": {},
   "outputs": [
    {
     "data": {
      "text/plain": [
       "array([[2104,  192],\n",
       "       [ 286,  418]], dtype=int64)"
      ]
     },
     "execution_count": 166,
     "metadata": {},
     "output_type": "execute_result"
    }
   ],
   "source": [
    "confusion_matrix(y_test, y_pred)"
   ]
  },
  {
   "cell_type": "code",
   "execution_count": 167,
   "id": "f27ad99a",
   "metadata": {},
   "outputs": [],
   "source": [
    "# r2 score "
   ]
  },
  {
   "cell_type": "code",
   "execution_count": 176,
   "id": "4620ed57",
   "metadata": {},
   "outputs": [
    {
     "data": {
      "text/plain": [
       "0.11283457396262275"
      ]
     },
     "execution_count": 176,
     "metadata": {},
     "output_type": "execute_result"
    }
   ],
   "source": [
    "metrics.r2_score(y_test, y_pred)"
   ]
  },
  {
   "cell_type": "code",
   "execution_count": null,
   "id": "81887d61",
   "metadata": {},
   "outputs": [],
   "source": [
    "# Adjusted R square"
   ]
  },
  {
   "cell_type": "code",
   "execution_count": 180,
   "id": "158e8d6f",
   "metadata": {},
   "outputs": [
    {
     "data": {
      "text/plain": [
       "0.7550631533101045"
      ]
     },
     "execution_count": 180,
     "metadata": {},
     "output_type": "execute_result"
    }
   ],
   "source": [
    "metrics.roc_auc_score(y_test, y_pred)"
   ]
  },
  {
   "cell_type": "markdown",
   "id": "f9e671f3",
   "metadata": {},
   "source": [
    "# Save the model using pickle and then use pickle to predict"
   ]
  },
  {
   "cell_type": "code",
   "execution_count": 50,
   "id": "505f064c",
   "metadata": {},
   "outputs": [],
   "source": [
    "import pickle"
   ]
  },
  {
   "cell_type": "code",
   "execution_count": 45,
   "id": "80e5795b",
   "metadata": {},
   "outputs": [],
   "source": [
    "file = open('power_svr.pkl', 'wb')"
   ]
  },
  {
   "cell_type": "code",
   "execution_count": null,
   "id": "9c2818f3",
   "metadata": {},
   "outputs": [],
   "source": [
    "# dump file model info file\n",
    "pickle.dump(model, file)"
   ]
  },
  {
   "cell_type": "code",
   "execution_count": null,
   "id": "fbab0635",
   "metadata": {},
   "outputs": [],
   "source": [
    "file.close()  # close the file"
   ]
  },
  {
   "cell_type": "code",
   "execution_count": 46,
   "id": "cd4d26af",
   "metadata": {},
   "outputs": [],
   "source": [
    "model = open('power_svr.pkl', 'rb')\n",
    "power = pickle.load(model)"
   ]
  },
  {
   "cell_type": "code",
   "execution_count": 51,
   "id": "fb5edd90",
   "metadata": {},
   "outputs": [],
   "source": [
    "# Predict using the pickle"
   ]
  },
  {
   "cell_type": "code",
   "execution_count": 52,
   "id": "61a6d256",
   "metadata": {},
   "outputs": [],
   "source": [
    "y_predict = power.predict(X_test_new)"
   ]
  },
  {
   "cell_type": "code",
   "execution_count": 53,
   "id": "a58909dd",
   "metadata": {},
   "outputs": [
    {
     "data": {
      "text/plain": [
       "array(['>50K', '<=50K', '<=50K', ..., '<=50K', '<=50K', '<=50K'],\n",
       "      dtype=object)"
      ]
     },
     "execution_count": 53,
     "metadata": {},
     "output_type": "execute_result"
    }
   ],
   "source": [
    "y_predict"
   ]
  }
 ],
 "metadata": {
  "kernelspec": {
   "display_name": "Python 3 (ipykernel)",
   "language": "python",
   "name": "python3"
  },
  "language_info": {
   "codemirror_mode": {
    "name": "ipython",
    "version": 3
   },
   "file_extension": ".py",
   "mimetype": "text/x-python",
   "name": "python",
   "nbconvert_exporter": "python",
   "pygments_lexer": "ipython3",
   "version": "3.9.12"
  }
 },
 "nbformat": 4,
 "nbformat_minor": 5
}
