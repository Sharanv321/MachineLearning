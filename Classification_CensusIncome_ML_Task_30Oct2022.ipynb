{
 "cells": [
  {
   "cell_type": "markdown",
   "id": "706922fa",
   "metadata": {},
   "source": [
    "# Income prediction\n",
    "**Life cycle of Machine learning Project**\n",
    "\n",
    "* Understanding the Problem Statement\n",
    "* Data Collection\n",
    "* Exploratory data analysis\n",
    "* Data Cleaning\n",
    "* Data Pre-Processing\n",
    "* Feature Engineering"
   ]
  },
  {
   "cell_type": "markdown",
   "id": "b3269c91",
   "metadata": {},
   "source": [
    "# 1) Problem statement."
   ]
  },
  {
   "cell_type": "markdown",
   "id": "22f9f123",
   "metadata": {},
   "source": [
    "1) Problem statement.\n",
    "This dataset comprises the population data from various countries. It has several features such as age, type of employment, hours worked in a week, educational qualification, marital status etc. It also has the feature name income.  The purpose of this data analysis is to analyse the relationship between all the features with regard to income of a person. How these individual features or combination of the features affect the income of a person. The model built will predict the income of a person"
   ]
  },
  {
   "cell_type": "markdown",
   "id": "0bffc544",
   "metadata": {},
   "source": [
    "2) Data Collection.\n",
    "The Dataset is collected from https://archive.ics.uci.edu webiste\n",
    "The data consists of 15 columns and 15000 rows."
   ]
  },
  {
   "cell_type": "markdown",
   "id": "1866eed5",
   "metadata": {},
   "source": [
    "2.1 Import Data and Required Packages"
   ]
  },
  {
   "cell_type": "markdown",
   "id": "ed038aa7",
   "metadata": {},
   "source": [
    "Importing Pandas, Numpy, Matplotlib, Seaborn and Warings Library."
   ]
  },
  {
   "cell_type": "code",
   "execution_count": 1,
   "id": "2bc37d53",
   "metadata": {},
   "outputs": [],
   "source": [
    "import pandas as pd\n",
    "import numpy as np\n",
    "import matplotlib.pyplot as plt\n",
    "import seaborn as sns\n",
    "import plotly.express as px\n",
    "import warnings\n",
    "from six.moves import urllib\n",
    "warnings.filterwarnings(\"ignore\")\n",
    "%matplotlib inline\n",
    "from sklearn.model_selection import train_test_split\n",
    "from sklearn.linear_model import LogisticRegression\n",
    "from sklearn.tree import DecisionTreeClassifier\n",
    "from sklearn.neighbors import KNeighborsClassifier\n",
    "from sklearn.discriminant_analysis import LinearDiscriminantAnalysis\n",
    "from sklearn.naive_bayes import GaussianNB\n",
    "from sklearn.svm import SVC\n",
    "from sklearn.svm import LinearSVC\n",
    "from sklearn.linear_model import SGDClassifier\n",
    "from sklearn.metrics import accuracy_score\n",
    "from sklearn.metrics import mean_squared_error\n",
    "import category_encoders as ce\n",
    "from sklearn.preprocessing import StandardScaler\n",
    "from sklearn.metrics import confusion_matrix"
   ]
  },
  {
   "cell_type": "markdown",
   "id": "912af54c",
   "metadata": {},
   "source": [
    " Import the CSV Data as Pandas DataFrame"
   ]
  },
  {
   "cell_type": "markdown",
   "id": "2f857239",
   "metadata": {},
   "source": [
    "## 2) Data Collection."
   ]
  },
  {
   "cell_type": "code",
   "execution_count": 2,
   "id": "16943f29",
   "metadata": {},
   "outputs": [],
   "source": [
    "import pandas as pd\n",
    "data=pd.read_csv(r\"Adult.csv\")"
   ]
  },
  {
   "cell_type": "code",
   "execution_count": 3,
   "id": "e61d546a",
   "metadata": {},
   "outputs": [],
   "source": [
    "# Take the sample of 10000 rows from the data"
   ]
  },
  {
   "cell_type": "code",
   "execution_count": 4,
   "id": "7c47d2eb",
   "metadata": {},
   "outputs": [],
   "source": [
    "data = data.sample(10000)"
   ]
  },
  {
   "cell_type": "code",
   "execution_count": 5,
   "id": "c93717fc",
   "metadata": {},
   "outputs": [],
   "source": [
    "# Show Top 5 Records"
   ]
  },
  {
   "cell_type": "code",
   "execution_count": 6,
   "id": "fb37d8cd",
   "metadata": {},
   "outputs": [
    {
     "data": {
      "text/html": [
       "<div>\n",
       "<style scoped>\n",
       "    .dataframe tbody tr th:only-of-type {\n",
       "        vertical-align: middle;\n",
       "    }\n",
       "\n",
       "    .dataframe tbody tr th {\n",
       "        vertical-align: top;\n",
       "    }\n",
       "\n",
       "    .dataframe thead th {\n",
       "        text-align: right;\n",
       "    }\n",
       "</style>\n",
       "<table border=\"1\" class=\"dataframe\">\n",
       "  <thead>\n",
       "    <tr style=\"text-align: right;\">\n",
       "      <th></th>\n",
       "      <th>age</th>\n",
       "      <th>workclass</th>\n",
       "      <th>fnlwgt</th>\n",
       "      <th>education</th>\n",
       "      <th>education-num</th>\n",
       "      <th>marital-status</th>\n",
       "      <th>occupation</th>\n",
       "      <th>relationship</th>\n",
       "      <th>race</th>\n",
       "      <th>sex</th>\n",
       "      <th>capital-gain</th>\n",
       "      <th>capital-loss</th>\n",
       "      <th>hours-per-week</th>\n",
       "      <th>native-country</th>\n",
       "      <th>income</th>\n",
       "    </tr>\n",
       "  </thead>\n",
       "  <tbody>\n",
       "    <tr>\n",
       "      <th>30576</th>\n",
       "      <td>46</td>\n",
       "      <td>Private</td>\n",
       "      <td>269284</td>\n",
       "      <td>Assoc-acdm</td>\n",
       "      <td>12</td>\n",
       "      <td>Widowed</td>\n",
       "      <td>Adm-clerical</td>\n",
       "      <td>Unmarried</td>\n",
       "      <td>White</td>\n",
       "      <td>Female</td>\n",
       "      <td>0</td>\n",
       "      <td>0</td>\n",
       "      <td>40</td>\n",
       "      <td>United-States</td>\n",
       "      <td>&lt;=50K</td>\n",
       "    </tr>\n",
       "    <tr>\n",
       "      <th>12564</th>\n",
       "      <td>64</td>\n",
       "      <td>Private</td>\n",
       "      <td>391121</td>\n",
       "      <td>7th-8th</td>\n",
       "      <td>4</td>\n",
       "      <td>Married-civ-spouse</td>\n",
       "      <td>Farming-fishing</td>\n",
       "      <td>Husband</td>\n",
       "      <td>White</td>\n",
       "      <td>Male</td>\n",
       "      <td>0</td>\n",
       "      <td>0</td>\n",
       "      <td>40</td>\n",
       "      <td>United-States</td>\n",
       "      <td>&gt;50K</td>\n",
       "    </tr>\n",
       "    <tr>\n",
       "      <th>28851</th>\n",
       "      <td>61</td>\n",
       "      <td>Private</td>\n",
       "      <td>147280</td>\n",
       "      <td>Masters</td>\n",
       "      <td>14</td>\n",
       "      <td>Married-civ-spouse</td>\n",
       "      <td>Exec-managerial</td>\n",
       "      <td>Husband</td>\n",
       "      <td>White</td>\n",
       "      <td>Male</td>\n",
       "      <td>0</td>\n",
       "      <td>0</td>\n",
       "      <td>60</td>\n",
       "      <td>United-States</td>\n",
       "      <td>&gt;50K</td>\n",
       "    </tr>\n",
       "    <tr>\n",
       "      <th>2740</th>\n",
       "      <td>38</td>\n",
       "      <td>Private</td>\n",
       "      <td>236391</td>\n",
       "      <td>Bachelors</td>\n",
       "      <td>13</td>\n",
       "      <td>Married-civ-spouse</td>\n",
       "      <td>Exec-managerial</td>\n",
       "      <td>Husband</td>\n",
       "      <td>White</td>\n",
       "      <td>Male</td>\n",
       "      <td>7688</td>\n",
       "      <td>0</td>\n",
       "      <td>40</td>\n",
       "      <td>United-States</td>\n",
       "      <td>&gt;50K</td>\n",
       "    </tr>\n",
       "    <tr>\n",
       "      <th>12156</th>\n",
       "      <td>28</td>\n",
       "      <td>Local-gov</td>\n",
       "      <td>163942</td>\n",
       "      <td>Some-college</td>\n",
       "      <td>10</td>\n",
       "      <td>Never-married</td>\n",
       "      <td>Protective-serv</td>\n",
       "      <td>Own-child</td>\n",
       "      <td>White</td>\n",
       "      <td>Male</td>\n",
       "      <td>0</td>\n",
       "      <td>0</td>\n",
       "      <td>40</td>\n",
       "      <td>United-States</td>\n",
       "      <td>&lt;=50K</td>\n",
       "    </tr>\n",
       "  </tbody>\n",
       "</table>\n",
       "</div>"
      ],
      "text/plain": [
       "       age  workclass  fnlwgt     education  education-num  \\\n",
       "30576   46    Private  269284    Assoc-acdm             12   \n",
       "12564   64    Private  391121       7th-8th              4   \n",
       "28851   61    Private  147280       Masters             14   \n",
       "2740    38    Private  236391     Bachelors             13   \n",
       "12156   28  Local-gov  163942  Some-college             10   \n",
       "\n",
       "           marital-status       occupation relationship   race     sex  \\\n",
       "30576             Widowed     Adm-clerical    Unmarried  White  Female   \n",
       "12564  Married-civ-spouse  Farming-fishing      Husband  White    Male   \n",
       "28851  Married-civ-spouse  Exec-managerial      Husband  White    Male   \n",
       "2740   Married-civ-spouse  Exec-managerial      Husband  White    Male   \n",
       "12156       Never-married  Protective-serv    Own-child  White    Male   \n",
       "\n",
       "       capital-gain  capital-loss  hours-per-week native-country income  \n",
       "30576             0             0              40  United-States  <=50K  \n",
       "12564             0             0              40  United-States   >50K  \n",
       "28851             0             0              60  United-States   >50K  \n",
       "2740           7688             0              40  United-States   >50K  \n",
       "12156             0             0              40  United-States  <=50K  "
      ]
     },
     "execution_count": 6,
     "metadata": {},
     "output_type": "execute_result"
    }
   ],
   "source": [
    "data.head(5)"
   ]
  },
  {
   "cell_type": "code",
   "execution_count": 7,
   "id": "5032c1f7",
   "metadata": {},
   "outputs": [],
   "source": [
    "# Shape of the dataset"
   ]
  },
  {
   "cell_type": "code",
   "execution_count": 8,
   "id": "d185f67b",
   "metadata": {},
   "outputs": [
    {
     "data": {
      "text/plain": [
       "(10000, 15)"
      ]
     },
     "execution_count": 8,
     "metadata": {},
     "output_type": "execute_result"
    }
   ],
   "source": [
    "data.shape"
   ]
  },
  {
   "cell_type": "code",
   "execution_count": 9,
   "id": "3ad41a81",
   "metadata": {},
   "outputs": [],
   "source": [
    "# Summary of the dataset"
   ]
  },
  {
   "cell_type": "code",
   "execution_count": 10,
   "id": "cd882753",
   "metadata": {},
   "outputs": [
    {
     "data": {
      "text/html": [
       "<div>\n",
       "<style scoped>\n",
       "    .dataframe tbody tr th:only-of-type {\n",
       "        vertical-align: middle;\n",
       "    }\n",
       "\n",
       "    .dataframe tbody tr th {\n",
       "        vertical-align: top;\n",
       "    }\n",
       "\n",
       "    .dataframe thead th {\n",
       "        text-align: right;\n",
       "    }\n",
       "</style>\n",
       "<table border=\"1\" class=\"dataframe\">\n",
       "  <thead>\n",
       "    <tr style=\"text-align: right;\">\n",
       "      <th></th>\n",
       "      <th>age</th>\n",
       "      <th>fnlwgt</th>\n",
       "      <th>education-num</th>\n",
       "      <th>capital-gain</th>\n",
       "      <th>capital-loss</th>\n",
       "      <th>hours-per-week</th>\n",
       "    </tr>\n",
       "  </thead>\n",
       "  <tbody>\n",
       "    <tr>\n",
       "      <th>count</th>\n",
       "      <td>10000.0000</td>\n",
       "      <td>1.000000e+04</td>\n",
       "      <td>10000.000000</td>\n",
       "      <td>10000.000000</td>\n",
       "      <td>10000.000000</td>\n",
       "      <td>10000.000000</td>\n",
       "    </tr>\n",
       "    <tr>\n",
       "      <th>mean</th>\n",
       "      <td>38.4040</td>\n",
       "      <td>1.896594e+05</td>\n",
       "      <td>10.073600</td>\n",
       "      <td>977.980200</td>\n",
       "      <td>90.686000</td>\n",
       "      <td>40.417300</td>\n",
       "    </tr>\n",
       "    <tr>\n",
       "      <th>std</th>\n",
       "      <td>13.5493</td>\n",
       "      <td>1.051465e+05</td>\n",
       "      <td>2.589064</td>\n",
       "      <td>6722.320075</td>\n",
       "      <td>410.365236</td>\n",
       "      <td>12.154198</td>\n",
       "    </tr>\n",
       "    <tr>\n",
       "      <th>min</th>\n",
       "      <td>17.0000</td>\n",
       "      <td>1.930200e+04</td>\n",
       "      <td>1.000000</td>\n",
       "      <td>0.000000</td>\n",
       "      <td>0.000000</td>\n",
       "      <td>1.000000</td>\n",
       "    </tr>\n",
       "    <tr>\n",
       "      <th>25%</th>\n",
       "      <td>28.0000</td>\n",
       "      <td>1.176000e+05</td>\n",
       "      <td>9.000000</td>\n",
       "      <td>0.000000</td>\n",
       "      <td>0.000000</td>\n",
       "      <td>40.000000</td>\n",
       "    </tr>\n",
       "    <tr>\n",
       "      <th>50%</th>\n",
       "      <td>37.0000</td>\n",
       "      <td>1.787320e+05</td>\n",
       "      <td>10.000000</td>\n",
       "      <td>0.000000</td>\n",
       "      <td>0.000000</td>\n",
       "      <td>40.000000</td>\n",
       "    </tr>\n",
       "    <tr>\n",
       "      <th>75%</th>\n",
       "      <td>47.0000</td>\n",
       "      <td>2.373180e+05</td>\n",
       "      <td>12.000000</td>\n",
       "      <td>0.000000</td>\n",
       "      <td>0.000000</td>\n",
       "      <td>45.000000</td>\n",
       "    </tr>\n",
       "    <tr>\n",
       "      <th>max</th>\n",
       "      <td>90.0000</td>\n",
       "      <td>1.366120e+06</td>\n",
       "      <td>16.000000</td>\n",
       "      <td>99999.000000</td>\n",
       "      <td>4356.000000</td>\n",
       "      <td>99.000000</td>\n",
       "    </tr>\n",
       "  </tbody>\n",
       "</table>\n",
       "</div>"
      ],
      "text/plain": [
       "              age        fnlwgt  education-num  capital-gain  capital-loss  \\\n",
       "count  10000.0000  1.000000e+04   10000.000000  10000.000000  10000.000000   \n",
       "mean      38.4040  1.896594e+05      10.073600    977.980200     90.686000   \n",
       "std       13.5493  1.051465e+05       2.589064   6722.320075    410.365236   \n",
       "min       17.0000  1.930200e+04       1.000000      0.000000      0.000000   \n",
       "25%       28.0000  1.176000e+05       9.000000      0.000000      0.000000   \n",
       "50%       37.0000  1.787320e+05      10.000000      0.000000      0.000000   \n",
       "75%       47.0000  2.373180e+05      12.000000      0.000000      0.000000   \n",
       "max       90.0000  1.366120e+06      16.000000  99999.000000   4356.000000   \n",
       "\n",
       "       hours-per-week  \n",
       "count    10000.000000  \n",
       "mean        40.417300  \n",
       "std         12.154198  \n",
       "min          1.000000  \n",
       "25%         40.000000  \n",
       "50%         40.000000  \n",
       "75%         45.000000  \n",
       "max         99.000000  "
      ]
     },
     "execution_count": 10,
     "metadata": {},
     "output_type": "execute_result"
    }
   ],
   "source": [
    "# Display summary statistics for a dataframe\n",
    "data.describe()"
   ]
  },
  {
   "cell_type": "code",
   "execution_count": 11,
   "id": "3bd24573",
   "metadata": {},
   "outputs": [],
   "source": [
    "# Check Datatypes in the dataset"
   ]
  },
  {
   "cell_type": "code",
   "execution_count": 12,
   "id": "33a879a5",
   "metadata": {},
   "outputs": [
    {
     "name": "stdout",
     "output_type": "stream",
     "text": [
      "<class 'pandas.core.frame.DataFrame'>\n",
      "Int64Index: 10000 entries, 30576 to 17897\n",
      "Data columns (total 15 columns):\n",
      " #   Column          Non-Null Count  Dtype \n",
      "---  ------          --------------  ----- \n",
      " 0   age             10000 non-null  int64 \n",
      " 1   workclass       10000 non-null  object\n",
      " 2   fnlwgt          10000 non-null  int64 \n",
      " 3   education       10000 non-null  object\n",
      " 4   education-num   10000 non-null  int64 \n",
      " 5   marital-status  10000 non-null  object\n",
      " 6   occupation      10000 non-null  object\n",
      " 7   relationship    10000 non-null  object\n",
      " 8   race            10000 non-null  object\n",
      " 9   sex             10000 non-null  object\n",
      " 10  capital-gain    10000 non-null  int64 \n",
      " 11  capital-loss    10000 non-null  int64 \n",
      " 12  hours-per-week  10000 non-null  int64 \n",
      " 13  native-country  10000 non-null  object\n",
      " 14  income          10000 non-null  object\n",
      "dtypes: int64(6), object(9)\n",
      "memory usage: 1.2+ MB\n"
     ]
    }
   ],
   "source": [
    "# Check Null and Dtypes\n",
    "data.info()"
   ]
  },
  {
   "cell_type": "markdown",
   "id": "ad865eb6",
   "metadata": {},
   "source": [
    "# 3. EXPLORING DATA"
   ]
  },
  {
   "cell_type": "code",
   "execution_count": 13,
   "id": "ae85adb0",
   "metadata": {},
   "outputs": [
    {
     "name": "stdout",
     "output_type": "stream",
     "text": [
      "We have 6 numerical features : ['age', 'fnlwgt', 'education-num', 'capital-gain', 'capital-loss', 'hours-per-week']\n",
      "\n",
      "We have 9 categorical features : ['workclass', 'education', 'marital-status', 'occupation', 'relationship', 'race', 'sex', 'native-country', 'income']\n"
     ]
    }
   ],
   "source": [
    "# define numerical & categorical columns\n",
    "numeric_features = [feature for feature in data.columns if data[feature].dtype != 'O']\n",
    "categorical_features = [feature for feature in data.columns if data[feature].dtype == 'O']\n",
    "\n",
    "# print columns\n",
    "print('We have {} numerical features : {}'.format(len(numeric_features), numeric_features))\n",
    "print('\\nWe have {} categorical features : {}'.format(len(categorical_features), categorical_features))"
   ]
  },
  {
   "cell_type": "markdown",
   "id": "5781a8c0",
   "metadata": {},
   "source": [
    "### Feature Information\n",
    "* **age:** Age of the population\n",
    "* **workclass:** working class of a person(whether private, govt etc)\n",
    "* **fnlwgt:** \n",
    "* **education:** education qualification of the person\n",
    "* **education-num:** education num of a person\n",
    "* **marital-status:** marital status of the person\n",
    "* **occupation:** The occupation of the person\n",
    "* **race:** race of the person\n",
    "* **sex:** sex of the person\n",
    "* **capital-gain:** capital gain incurred by a person\n",
    "* **capital-loss:** capital loss incurred by a person\n",
    "* **hours-per-week:** hours worked by a person in a week\n",
    "* **native-country:** The native country pf the person\n",
    "* **income:** income of a person either less than or equal to 50k$  or more than 50k$"
   ]
  },
  {
   "cell_type": "code",
   "execution_count": 14,
   "id": "f9e4bd37",
   "metadata": {},
   "outputs": [
    {
     "name": "stdout",
     "output_type": "stream",
     "text": [
      "Private             69.42\n",
      "Self-emp-not-inc     7.97\n",
      "Local-gov            6.40\n",
      "?                    5.59\n",
      "State-gov            4.29\n",
      "Self-emp-inc         3.36\n",
      "Federal-gov          2.91\n",
      "Without-pay          0.05\n",
      "Never-worked         0.01\n",
      "Name: workclass, dtype: float64\n",
      "---------------------------\n",
      "HS-grad         32.40\n",
      "Some-college    21.93\n",
      "Bachelors       16.50\n",
      "Masters          5.11\n",
      "Assoc-voc        4.41\n",
      "11th             3.67\n",
      "Assoc-acdm       3.24\n",
      "10th             3.15\n",
      "Prof-school      1.85\n",
      "7th-8th          1.81\n",
      "9th              1.56\n",
      "Doctorate        1.34\n",
      "12th             1.22\n",
      "5th-6th          1.04\n",
      "1st-4th          0.56\n",
      "Preschool        0.21\n",
      "Name: education, dtype: float64\n",
      "---------------------------\n",
      "Married-civ-spouse       46.44\n",
      "Never-married            32.57\n",
      "Divorced                 13.80\n",
      "Separated                 2.97\n",
      "Widowed                   2.91\n",
      "Married-spouse-absent     1.21\n",
      "Married-AF-spouse         0.10\n",
      "Name: marital-status, dtype: float64\n",
      "---------------------------\n",
      "Prof-specialty       12.73\n",
      "Exec-managerial      12.63\n",
      "Craft-repair         12.56\n",
      "Sales                11.50\n",
      "Adm-clerical         11.48\n",
      "Other-service        10.31\n",
      "Machine-op-inspct     6.01\n",
      "?                     5.60\n",
      "Transport-moving      4.78\n",
      "Handlers-cleaners     3.94\n",
      "Farming-fishing       3.02\n",
      "Tech-support          2.90\n",
      "Protective-serv       1.99\n",
      "Priv-house-serv       0.52\n",
      "Armed-Forces          0.03\n",
      "Name: occupation, dtype: float64\n",
      "---------------------------\n",
      "Husband           40.90\n",
      "Not-in-family     25.20\n",
      "Own-child         15.46\n",
      "Unmarried         10.54\n",
      "Wife               4.96\n",
      "Other-relative     2.94\n",
      "Name: relationship, dtype: float64\n",
      "---------------------------\n",
      "White                 85.39\n",
      "Black                  9.60\n",
      "Asian-Pac-Islander     3.16\n",
      "Amer-Indian-Eskimo     0.98\n",
      "Other                  0.87\n",
      "Name: race, dtype: float64\n",
      "---------------------------\n",
      "Male      67.19\n",
      "Female    32.81\n",
      "Name: sex, dtype: float64\n",
      "---------------------------\n",
      "United-States                 89.33\n",
      "Mexico                         2.06\n",
      "?                              1.97\n",
      "Philippines                    0.52\n",
      "Canada                         0.42\n",
      "Germany                        0.38\n",
      "Puerto-Rico                    0.33\n",
      "India                          0.30\n",
      "Cuba                           0.29\n",
      "England                        0.28\n",
      "El-Salvador                    0.24\n",
      "South                          0.24\n",
      "Vietnam                        0.23\n",
      "Jamaica                        0.23\n",
      "Guatemala                      0.22\n",
      "Italy                          0.22\n",
      "Dominican-Republic             0.20\n",
      "Portugal                       0.20\n",
      "Japan                          0.20\n",
      "Columbia                       0.19\n",
      "Taiwan                         0.17\n",
      "China                          0.17\n",
      "Poland                         0.17\n",
      "Iran                           0.16\n",
      "Haiti                          0.16\n",
      "Nicaragua                      0.14\n",
      "Peru                           0.12\n",
      "Ecuador                        0.11\n",
      "Greece                         0.10\n",
      "France                         0.09\n",
      "Ireland                        0.09\n",
      "Hong                           0.08\n",
      "Laos                           0.07\n",
      "Scotland                       0.05\n",
      "Thailand                       0.05\n",
      "Cambodia                       0.04\n",
      "Trinadad&Tobago                0.04\n",
      "Hungary                        0.04\n",
      "Yugoslavia                     0.04\n",
      "Outlying-US(Guam-USVI-etc)     0.04\n",
      "Honduras                       0.02\n",
      "Name: native-country, dtype: float64\n",
      "---------------------------\n",
      "<=50K    75.83\n",
      ">50K     24.17\n",
      "Name: income, dtype: float64\n",
      "---------------------------\n"
     ]
    }
   ],
   "source": [
    "# proportion of count data on categorical columns\n",
    "for col in categorical_features:\n",
    "    print(data[col].value_counts(normalize=True) * 100)\n",
    "    print('---------------------------')"
   ]
  },
  {
   "cell_type": "markdown",
   "id": "df106aa0",
   "metadata": {},
   "source": [
    "## Univariate Analysis"
   ]
  },
  {
   "cell_type": "markdown",
   "id": "0e3c3cf0",
   "metadata": {},
   "source": [
    "* The term univariate analysis refers to the analysis of one variable prefix “uni” means “one.” The purpose of univariate analysis is to understand the distribution of values for a single variable."
   ]
  },
  {
   "cell_type": "markdown",
   "id": "a530887a",
   "metadata": {},
   "source": [
    "### Numerical Features"
   ]
  },
  {
   "cell_type": "code",
   "execution_count": 15,
   "id": "09203806",
   "metadata": {},
   "outputs": [
    {
     "data": {
      "image/png": "[encoded data removed]",
      "text/plain": [
       "<Figure size 1080x1080 with 6 Axes>"
      ]
     },
     "metadata": {
      "needs_background": "light"
     },
     "output_type": "display_data"
    }
   ],
   "source": [
    "plt.figure(figsize=(15, 15))\n",
    "plt.suptitle('Univariate Analysis of Numerical Features', fontsize=20, fontweight='bold', alpha=0.8, y=1.)\n",
    "\n",
    "for i in range(0, len(numeric_features)):\n",
    "    plt.subplot(5, 3, i+1)\n",
    "    sns.kdeplot(x=data[numeric_features[i]],shade=True, color='b')\n",
    "    plt.xlabel(numeric_features[i])\n",
    "    plt.tight_layout()"
   ]
  },
  {
   "cell_type": "code",
   "execution_count": 16,
   "id": "ec2f2586",
   "metadata": {},
   "outputs": [
    {
     "ename": "SyntaxError",
     "evalue": "invalid syntax (2137819156.py, line 1)",
     "output_type": "error",
     "traceback": [
      "\u001b[1;36m  Input \u001b[1;32mIn [16]\u001b[1;36m\u001b[0m\n\u001b[1;33m    **Report**\u001b[0m\n\u001b[1;37m    ^\u001b[0m\n\u001b[1;31mSyntaxError\u001b[0m\u001b[1;31m:\u001b[0m invalid syntax\n"
     ]
    }
   ],
   "source": [
    "**Report**\n",
    "* Density, fnlwgt, capital-gain, capital-loss are left skewed\n",
    "* education-num is right skewed\n",
    "* hours-per-week is center skewed"
   ]
  },
  {
   "cell_type": "markdown",
   "id": "82fa132b",
   "metadata": {},
   "source": [
    "### Categorical Features"
   ]
  },
  {
   "cell_type": "code",
   "execution_count": null,
   "id": "496f595a",
   "metadata": {},
   "outputs": [],
   "source": [
    "# categorical columns\n",
    "plt.figure(figsize=(20, 15))\n",
    "plt.suptitle('Univariate Analysis of Categorical Features', fontsize=20, fontweight='bold', alpha=0.8, y=1.)\n",
    "cat1 = ['workclass', 'education', 'marital-status', 'occupation', 'relationship', 'race', 'sex', 'native-country', 'income']\n",
    "for i in range(0, len(cat1)):\n",
    "    plt.subplot(2, 5, i+1)\n",
    "    sns.countplot(x=data[cat1[i]])\n",
    "    plt.xlabel(cat1[i])\n",
    "    plt.xticks(rotation=45)\n",
    "    plt.tight_layout()"
   ]
  },
  {
   "cell_type": "markdown",
   "id": "244c5b70",
   "metadata": {},
   "source": [
    "## Multivariate Analysis"
   ]
  },
  {
   "cell_type": "markdown",
   "id": "3aba4736",
   "metadata": {},
   "source": [
    "* Multivariate analysis is the analysis of more than one variable."
   ]
  },
  {
   "cell_type": "markdown",
   "id": "0dbebe61",
   "metadata": {},
   "source": [
    "### Check Multicollinearity in Numerical features"
   ]
  },
  {
   "cell_type": "code",
   "execution_count": 17,
   "id": "7be5fc83",
   "metadata": {},
   "outputs": [
    {
     "data": {
      "text/html": [
       "<div>\n",
       "<style scoped>\n",
       "    .dataframe tbody tr th:only-of-type {\n",
       "        vertical-align: middle;\n",
       "    }\n",
       "\n",
       "    .dataframe tbody tr th {\n",
       "        vertical-align: top;\n",
       "    }\n",
       "\n",
       "    .dataframe thead th {\n",
       "        text-align: right;\n",
       "    }\n",
       "</style>\n",
       "<table border=\"1\" class=\"dataframe\">\n",
       "  <thead>\n",
       "    <tr style=\"text-align: right;\">\n",
       "      <th></th>\n",
       "      <th>fnlwgt</th>\n",
       "      <th>education-num</th>\n",
       "      <th>capital-gain</th>\n",
       "      <th>capital-loss</th>\n",
       "      <th>hours-per-week</th>\n",
       "    </tr>\n",
       "  </thead>\n",
       "  <tbody>\n",
       "    <tr>\n",
       "      <th>fnlwgt</th>\n",
       "      <td>1.000000</td>\n",
       "      <td>-0.052296</td>\n",
       "      <td>0.005166</td>\n",
       "      <td>-0.010348</td>\n",
       "      <td>-0.012045</td>\n",
       "    </tr>\n",
       "    <tr>\n",
       "      <th>education-num</th>\n",
       "      <td>-0.052296</td>\n",
       "      <td>1.000000</td>\n",
       "      <td>0.127523</td>\n",
       "      <td>0.081261</td>\n",
       "      <td>0.133739</td>\n",
       "    </tr>\n",
       "    <tr>\n",
       "      <th>capital-gain</th>\n",
       "      <td>0.005166</td>\n",
       "      <td>0.127523</td>\n",
       "      <td>1.000000</td>\n",
       "      <td>-0.032153</td>\n",
       "      <td>0.080154</td>\n",
       "    </tr>\n",
       "    <tr>\n",
       "      <th>capital-loss</th>\n",
       "      <td>-0.010348</td>\n",
       "      <td>0.081261</td>\n",
       "      <td>-0.032153</td>\n",
       "      <td>1.000000</td>\n",
       "      <td>0.038897</td>\n",
       "    </tr>\n",
       "    <tr>\n",
       "      <th>hours-per-week</th>\n",
       "      <td>-0.012045</td>\n",
       "      <td>0.133739</td>\n",
       "      <td>0.080154</td>\n",
       "      <td>0.038897</td>\n",
       "      <td>1.000000</td>\n",
       "    </tr>\n",
       "  </tbody>\n",
       "</table>\n",
       "</div>"
      ],
      "text/plain": [
       "                  fnlwgt  education-num  capital-gain  capital-loss  \\\n",
       "fnlwgt          1.000000      -0.052296      0.005166     -0.010348   \n",
       "education-num  -0.052296       1.000000      0.127523      0.081261   \n",
       "capital-gain    0.005166       0.127523      1.000000     -0.032153   \n",
       "capital-loss   -0.010348       0.081261     -0.032153      1.000000   \n",
       "hours-per-week -0.012045       0.133739      0.080154      0.038897   \n",
       "\n",
       "                hours-per-week  \n",
       "fnlwgt               -0.012045  \n",
       "education-num         0.133739  \n",
       "capital-gain          0.080154  \n",
       "capital-loss          0.038897  \n",
       "hours-per-week        1.000000  "
      ]
     },
     "execution_count": 17,
     "metadata": {},
     "output_type": "execute_result"
    }
   ],
   "source": [
    "data[(list(data.columns)[1:])].corr()"
   ]
  },
  {
   "cell_type": "code",
   "execution_count": 18,
   "id": "3e0a8e4c",
   "metadata": {},
   "outputs": [
    {
     "data": {
      "image/png": "[encoded data removed]",
      "text/plain": [
       "<Figure size 1080x720 with 2 Axes>"
      ]
     },
     "metadata": {
      "needs_background": "light"
     },
     "output_type": "display_data"
    }
   ],
   "source": [
    "plt.figure(figsize = (15,10))\n",
    "sns.heatmap(data.corr(), cmap=\"CMRmap\", annot=True)\n",
    "plt.show()"
   ]
  },
  {
   "cell_type": "markdown",
   "id": "81c4b877",
   "metadata": {},
   "source": [
    "**Report** \n",
    "* Our target column income has a weak negative correlationwit hours-per-week\n",
    "* age, eduacation-num has positive correlation with target column income"
   ]
  },
  {
   "cell_type": "code",
   "execution_count": 19,
   "id": "0610ef57",
   "metadata": {},
   "outputs": [],
   "source": [
    "### Check Multicollinearity for Categorical features"
   ]
  },
  {
   "cell_type": "markdown",
   "id": "e4abd0df",
   "metadata": {},
   "source": [
    "* **A chi-squared test (also chi-square or χ2 test) is a statistical hypothesis test that is valid to perform when the test statistic is chi-squared distributed under the null hypothesis, specifically Pearson's chi-squared test**\n",
    "\n",
    "* **A chi-square statistic is one way to show a relationship between two categorical variables.**\n",
    "\n",
    "* **Here we test correlation of Categorical columns with Target column i.e income**"
   ]
  },
  {
   "cell_type": "code",
   "execution_count": 20,
   "id": "50fc9f98",
   "metadata": {},
   "outputs": [
    {
     "data": {
      "text/html": [
       "<div>\n",
       "<style scoped>\n",
       "    .dataframe tbody tr th:only-of-type {\n",
       "        vertical-align: middle;\n",
       "    }\n",
       "\n",
       "    .dataframe tbody tr th {\n",
       "        vertical-align: top;\n",
       "    }\n",
       "\n",
       "    .dataframe thead th {\n",
       "        text-align: right;\n",
       "    }\n",
       "</style>\n",
       "<table border=\"1\" class=\"dataframe\">\n",
       "  <thead>\n",
       "    <tr style=\"text-align: right;\">\n",
       "      <th></th>\n",
       "      <th>Column</th>\n",
       "      <th>Hypothesis Result</th>\n",
       "    </tr>\n",
       "  </thead>\n",
       "  <tbody>\n",
       "    <tr>\n",
       "      <th>0</th>\n",
       "      <td>workclass</td>\n",
       "      <td>Reject Null Hypothesis</td>\n",
       "    </tr>\n",
       "    <tr>\n",
       "      <th>1</th>\n",
       "      <td>education</td>\n",
       "      <td>Reject Null Hypothesis</td>\n",
       "    </tr>\n",
       "    <tr>\n",
       "      <th>2</th>\n",
       "      <td>marital-status</td>\n",
       "      <td>Reject Null Hypothesis</td>\n",
       "    </tr>\n",
       "    <tr>\n",
       "      <th>3</th>\n",
       "      <td>occupation</td>\n",
       "      <td>Reject Null Hypothesis</td>\n",
       "    </tr>\n",
       "    <tr>\n",
       "      <th>4</th>\n",
       "      <td>relationship</td>\n",
       "      <td>Reject Null Hypothesis</td>\n",
       "    </tr>\n",
       "    <tr>\n",
       "      <th>5</th>\n",
       "      <td>race</td>\n",
       "      <td>Reject Null Hypothesis</td>\n",
       "    </tr>\n",
       "    <tr>\n",
       "      <th>6</th>\n",
       "      <td>sex</td>\n",
       "      <td>Reject Null Hypothesis</td>\n",
       "    </tr>\n",
       "    <tr>\n",
       "      <th>7</th>\n",
       "      <td>native-country</td>\n",
       "      <td>Reject Null Hypothesis</td>\n",
       "    </tr>\n",
       "    <tr>\n",
       "      <th>8</th>\n",
       "      <td>income</td>\n",
       "      <td>Reject Null Hypothesis</td>\n",
       "    </tr>\n",
       "  </tbody>\n",
       "</table>\n",
       "</div>"
      ],
      "text/plain": [
       "           Column       Hypothesis Result\n",
       "0       workclass  Reject Null Hypothesis\n",
       "1       education  Reject Null Hypothesis\n",
       "2  marital-status  Reject Null Hypothesis\n",
       "3      occupation  Reject Null Hypothesis\n",
       "4    relationship  Reject Null Hypothesis\n",
       "5            race  Reject Null Hypothesis\n",
       "6             sex  Reject Null Hypothesis\n",
       "7  native-country  Reject Null Hypothesis\n",
       "8          income  Reject Null Hypothesis"
      ]
     },
     "execution_count": 20,
     "metadata": {},
     "output_type": "execute_result"
    }
   ],
   "source": [
    "from scipy.stats import chi2_contingency\n",
    "chi2_test = []\n",
    "for feature in categorical_features:\n",
    "    if chi2_contingency(pd.crosstab(data['income'], data[feature]))[1] < 0.05:\n",
    "        chi2_test.append('Reject Null Hypothesis')\n",
    "    else:\n",
    "        chi2_test.append('Fail to Reject Null Hypothesis')\n",
    "result = pd.DataFrame(data=[categorical_features, chi2_test]).T\n",
    "result.columns = ['Column', 'Hypothesis Result']\n",
    "result"
   ]
  },
  {
   "cell_type": "markdown",
   "id": "e95e1f0e",
   "metadata": {},
   "source": [
    "### Checking Null Values"
   ]
  },
  {
   "cell_type": "code",
   "execution_count": 21,
   "id": "9075419d",
   "metadata": {},
   "outputs": [
    {
     "data": {
      "text/plain": [
       "age               0\n",
       "workclass         0\n",
       "fnlwgt            0\n",
       "education         0\n",
       "education-num     0\n",
       "marital-status    0\n",
       "occupation        0\n",
       "relationship      0\n",
       "race              0\n",
       "sex               0\n",
       "capital-gain      0\n",
       "capital-loss      0\n",
       "hours-per-week    0\n",
       "native-country    0\n",
       "income            0\n",
       "dtype: int64"
      ]
     },
     "execution_count": 21,
     "metadata": {},
     "output_type": "execute_result"
    }
   ],
   "source": [
    "data.isnull().sum()"
   ]
  },
  {
   "cell_type": "code",
   "execution_count": 22,
   "id": "79d348ad",
   "metadata": {},
   "outputs": [
    {
     "name": "stdout",
     "output_type": "stream",
     "text": [
      "Num of continues features : ['age', 'fnlwgt', 'education-num', 'capital-gain', 'capital-loss', 'hours-per-week']\n"
     ]
    }
   ],
   "source": [
    "continues_features=[feature for feature in numeric_features if len(data[feature].unique())>=10]\n",
    "print('Num of continues features :',continues_features)"
   ]
  },
  {
   "cell_type": "code",
   "execution_count": 23,
   "id": "5a1ffbc0",
   "metadata": {},
   "outputs": [
    {
     "data": {
      "image/png": "[encoded data removed]",
      "text/plain": [
       "<Figure size 1440x2160 with 6 Axes>"
      ]
     },
     "metadata": {
      "needs_background": "light"
     },
     "output_type": "display_data"
    }
   ],
   "source": [
    "fig = plt.figure(figsize=(20, 30))\n",
    "\n",
    "for i in range(0, len(continues_features)):\n",
    "    ax = plt.subplot(8, 1, i+1)\n",
    "\n",
    "    sns.scatterplot(data= data ,x='income', y=continues_features[i], color='b')\n",
    "    plt.xlim(0,100000) # Limit to 100000\n",
    "    plt.tight_layout()"
   ]
  },
  {
   "cell_type": "markdown",
   "id": "b77b20c5",
   "metadata": {},
   "source": [
    "## 4. Visualization"
   ]
  },
  {
   "cell_type": "markdown",
   "id": "daf8dab2",
   "metadata": {},
   "source": [
    "### 4.1 Visualize the Target Feature"
   ]
  },
  {
   "cell_type": "code",
   "execution_count": 24,
   "id": "ce2078ca",
   "metadata": {},
   "outputs": [
    {
     "data": {
      "image/png": "[encoded data removed]",
      "text/plain": [
       "<Figure size 1008x504 with 1 Axes>"
      ]
     },
     "metadata": {
      "needs_background": "light"
     },
     "output_type": "display_data"
    }
   ],
   "source": [
    "plt.subplots(figsize=(14,7))\n",
    "sns.histplot(data.income, bins=200, kde=True, color = 'b')\n",
    "plt.title(\"Selling Price Distribution\", weight=\"bold\",fontsize=20, pad=20)\n",
    "plt.ylabel(\"Count\", weight=\"bold\", fontsize=12)\n",
    "plt.xlabel(\"income\", weight=\"bold\", fontsize=12)\n",
    "plt.xlim(0,2)\n",
    "plt.show()"
   ]
  },
  {
   "cell_type": "markdown",
   "id": "947436cc",
   "metadata": {},
   "source": [
    "### 4.2 Most no working class in population?"
   ]
  },
  {
   "cell_type": "code",
   "execution_count": 25,
   "id": "27ba9720",
   "metadata": {},
   "outputs": [
    {
     "data": {
      "text/plain": [
       "Private             6942\n",
       "Self-emp-not-inc     797\n",
       "Local-gov            640\n",
       "?                    559\n",
       "State-gov            429\n",
       "Self-emp-inc         336\n",
       "Federal-gov          291\n",
       "Without-pay            5\n",
       "Never-worked           1\n",
       "Name: workclass, dtype: int64"
      ]
     },
     "execution_count": 25,
     "metadata": {},
     "output_type": "execute_result"
    }
   ],
   "source": [
    "data.workclass.value_counts()[0:10]"
   ]
  },
  {
   "cell_type": "markdown",
   "id": "fbfd126a",
   "metadata": {},
   "source": [
    "private sector accounts for more no of working class population followed by self employed"
   ]
  },
  {
   "cell_type": "markdown",
   "id": "5a9df09d",
   "metadata": {},
   "source": [
    "### 4.2 Most no education in population?"
   ]
  },
  {
   "cell_type": "code",
   "execution_count": 26,
   "id": "fbfd02cc",
   "metadata": {},
   "outputs": [
    {
     "data": {
      "text/plain": [
       "HS-grad         3240\n",
       "Some-college    2193\n",
       "Bachelors       1650\n",
       "Masters          511\n",
       "Assoc-voc        441\n",
       "11th             367\n",
       "Assoc-acdm       324\n",
       "10th             315\n",
       "Prof-school      185\n",
       "7th-8th          181\n",
       "Name: education, dtype: int64"
      ]
     },
     "execution_count": 26,
     "metadata": {},
     "output_type": "execute_result"
    }
   ],
   "source": [
    "data.education.value_counts()[0:10]"
   ]
  },
  {
   "cell_type": "markdown",
   "id": "4a308a51",
   "metadata": {},
   "source": [
    "High school grads tops most in the list , followed by some college degree"
   ]
  },
  {
   "cell_type": "markdown",
   "id": "18426ee6",
   "metadata": {},
   "source": [
    "### 4.2 Most no of race in population?"
   ]
  },
  {
   "cell_type": "code",
   "execution_count": 27,
   "id": "dd1b8c48",
   "metadata": {},
   "outputs": [
    {
     "data": {
      "text/plain": [
       "White                 8539\n",
       "Black                  960\n",
       "Asian-Pac-Islander     316\n",
       "Amer-Indian-Eskimo      98\n",
       "Other                   87\n",
       "Name: race, dtype: int64"
      ]
     },
     "execution_count": 27,
     "metadata": {},
     "output_type": "execute_result"
    }
   ],
   "source": [
    "data.race.value_counts()[0:10]"
   ]
  },
  {
   "cell_type": "markdown",
   "id": "6c7fa809",
   "metadata": {},
   "source": [
    "White race tops the list , followed by black"
   ]
  },
  {
   "cell_type": "code",
   "execution_count": 28,
   "id": "c28c44a3",
   "metadata": {},
   "outputs": [
    {
     "data": {
      "text/plain": [
       "Index(['age', 'workclass', 'fnlwgt', 'education', 'education-num',\n",
       "       'marital-status', 'occupation', 'relationship', 'race', 'sex',\n",
       "       'capital-gain', 'capital-loss', 'hours-per-week', 'native-country',\n",
       "       'income'],\n",
       "      dtype='object')"
      ]
     },
     "execution_count": 28,
     "metadata": {},
     "output_type": "execute_result"
    }
   ],
   "source": [
    "data.columns"
   ]
  },
  {
   "cell_type": "code",
   "execution_count": 29,
   "id": "755130b9",
   "metadata": {},
   "outputs": [
    {
     "data": {
      "image/png": "[encoded data removed]",
      "text/plain": [
       "<Figure size 1008x504 with 1 Axes>"
      ]
     },
     "metadata": {
      "needs_background": "light"
     },
     "output_type": "display_data"
    }
   ],
   "source": [
    "plt.subplots(figsize=(14,7))\n",
    "sns.countplot(x=\"workclass\", data=data,ec = \"black\",palette=\"Set1\",order = data['workclass'].value_counts().index)\n",
    "plt.title(\"working class\", weight=\"bold\",fontsize=20, pad=20)\n",
    "plt.ylabel(\"Count\", weight=\"bold\", fontsize=20)\n",
    "plt.xlabel(\"working class\", weight=\"bold\", fontsize=16)\n",
    "plt.xticks(rotation= 45)\n",
    "plt.xlim(-1,10.5)\n",
    "plt.show()"
   ]
  },
  {
   "cell_type": "code",
   "execution_count": 30,
   "id": "a676ff2f",
   "metadata": {},
   "outputs": [],
   "source": [
    "data.rename(columns = {'marital-status':'marital_status', 'native-country':'native_country'}, inplace = True)"
   ]
  },
  {
   "cell_type": "code",
   "execution_count": 31,
   "id": "d4beecdc",
   "metadata": {},
   "outputs": [
    {
     "name": "stdout",
     "output_type": "stream",
     "text": [
      "<class 'pandas.core.frame.DataFrame'>\n",
      "Int64Index: 10000 entries, 30576 to 17897\n",
      "Data columns (total 15 columns):\n",
      " #   Column          Non-Null Count  Dtype \n",
      "---  ------          --------------  ----- \n",
      " 0   age             10000 non-null  int64 \n",
      " 1   workclass       10000 non-null  object\n",
      " 2   fnlwgt          10000 non-null  int64 \n",
      " 3   education       10000 non-null  object\n",
      " 4   education-num   10000 non-null  int64 \n",
      " 5   marital_status  10000 non-null  object\n",
      " 6   occupation      10000 non-null  object\n",
      " 7   relationship    10000 non-null  object\n",
      " 8   race            10000 non-null  object\n",
      " 9   sex             10000 non-null  object\n",
      " 10  capital-gain    10000 non-null  int64 \n",
      " 11  capital-loss    10000 non-null  int64 \n",
      " 12  hours-per-week  10000 non-null  int64 \n",
      " 13  native_country  10000 non-null  object\n",
      " 14  income          10000 non-null  object\n",
      "dtypes: int64(6), object(9)\n",
      "memory usage: 1.5+ MB\n"
     ]
    }
   ],
   "source": [
    "data.info()"
   ]
  },
  {
   "cell_type": "code",
   "execution_count": 32,
   "id": "edf6c0ee",
   "metadata": {},
   "outputs": [
    {
     "data": {
      "text/plain": [
       "(10000, 15)"
      ]
     },
     "execution_count": 32,
     "metadata": {},
     "output_type": "execute_result"
    }
   ],
   "source": [
    "data.shape"
   ]
  },
  {
   "cell_type": "code",
   "execution_count": 33,
   "id": "2325bfa9",
   "metadata": {},
   "outputs": [
    {
     "data": {
      "text/html": [
       "<div>\n",
       "<style scoped>\n",
       "    .dataframe tbody tr th:only-of-type {\n",
       "        vertical-align: middle;\n",
       "    }\n",
       "\n",
       "    .dataframe tbody tr th {\n",
       "        vertical-align: top;\n",
       "    }\n",
       "\n",
       "    .dataframe thead th {\n",
       "        text-align: right;\n",
       "    }\n",
       "</style>\n",
       "<table border=\"1\" class=\"dataframe\">\n",
       "  <thead>\n",
       "    <tr style=\"text-align: right;\">\n",
       "      <th></th>\n",
       "      <th>count</th>\n",
       "      <th>mean</th>\n",
       "      <th>std</th>\n",
       "      <th>min</th>\n",
       "      <th>25%</th>\n",
       "      <th>50%</th>\n",
       "      <th>75%</th>\n",
       "      <th>max</th>\n",
       "    </tr>\n",
       "  </thead>\n",
       "  <tbody>\n",
       "    <tr>\n",
       "      <th>age</th>\n",
       "      <td>10000.0</td>\n",
       "      <td>38.4040</td>\n",
       "      <td>13.549300</td>\n",
       "      <td>17.0</td>\n",
       "      <td>28.0</td>\n",
       "      <td>37.0</td>\n",
       "      <td>47.0</td>\n",
       "      <td>90.0</td>\n",
       "    </tr>\n",
       "    <tr>\n",
       "      <th>fnlwgt</th>\n",
       "      <td>10000.0</td>\n",
       "      <td>189659.4300</td>\n",
       "      <td>105146.501770</td>\n",
       "      <td>19302.0</td>\n",
       "      <td>117600.0</td>\n",
       "      <td>178732.0</td>\n",
       "      <td>237318.0</td>\n",
       "      <td>1366120.0</td>\n",
       "    </tr>\n",
       "    <tr>\n",
       "      <th>education-num</th>\n",
       "      <td>10000.0</td>\n",
       "      <td>10.0736</td>\n",
       "      <td>2.589064</td>\n",
       "      <td>1.0</td>\n",
       "      <td>9.0</td>\n",
       "      <td>10.0</td>\n",
       "      <td>12.0</td>\n",
       "      <td>16.0</td>\n",
       "    </tr>\n",
       "    <tr>\n",
       "      <th>capital-gain</th>\n",
       "      <td>10000.0</td>\n",
       "      <td>977.9802</td>\n",
       "      <td>6722.320075</td>\n",
       "      <td>0.0</td>\n",
       "      <td>0.0</td>\n",
       "      <td>0.0</td>\n",
       "      <td>0.0</td>\n",
       "      <td>99999.0</td>\n",
       "    </tr>\n",
       "    <tr>\n",
       "      <th>capital-loss</th>\n",
       "      <td>10000.0</td>\n",
       "      <td>90.6860</td>\n",
       "      <td>410.365236</td>\n",
       "      <td>0.0</td>\n",
       "      <td>0.0</td>\n",
       "      <td>0.0</td>\n",
       "      <td>0.0</td>\n",
       "      <td>4356.0</td>\n",
       "    </tr>\n",
       "    <tr>\n",
       "      <th>hours-per-week</th>\n",
       "      <td>10000.0</td>\n",
       "      <td>40.4173</td>\n",
       "      <td>12.154198</td>\n",
       "      <td>1.0</td>\n",
       "      <td>40.0</td>\n",
       "      <td>40.0</td>\n",
       "      <td>45.0</td>\n",
       "      <td>99.0</td>\n",
       "    </tr>\n",
       "  </tbody>\n",
       "</table>\n",
       "</div>"
      ],
      "text/plain": [
       "                  count         mean            std      min       25%  \\\n",
       "age             10000.0      38.4040      13.549300     17.0      28.0   \n",
       "fnlwgt          10000.0  189659.4300  105146.501770  19302.0  117600.0   \n",
       "education-num   10000.0      10.0736       2.589064      1.0       9.0   \n",
       "capital-gain    10000.0     977.9802    6722.320075      0.0       0.0   \n",
       "capital-loss    10000.0      90.6860     410.365236      0.0       0.0   \n",
       "hours-per-week  10000.0      40.4173      12.154198      1.0      40.0   \n",
       "\n",
       "                     50%       75%        max  \n",
       "age                 37.0      47.0       90.0  \n",
       "fnlwgt          178732.0  237318.0  1366120.0  \n",
       "education-num       10.0      12.0       16.0  \n",
       "capital-gain         0.0       0.0    99999.0  \n",
       "capital-loss         0.0       0.0     4356.0  \n",
       "hours-per-week      40.0      45.0       99.0  "
      ]
     },
     "execution_count": 33,
     "metadata": {},
     "output_type": "execute_result"
    }
   ],
   "source": [
    "data.describe().T"
   ]
  },
  {
   "cell_type": "code",
   "execution_count": 34,
   "id": "cb24ba4c",
   "metadata": {},
   "outputs": [],
   "source": [
    "data['income'].replace(['<=50K', '>50K'],\n",
    "                        [0, 1], inplace=True)"
   ]
  },
  {
   "cell_type": "code",
   "execution_count": 35,
   "id": "6c51079b",
   "metadata": {},
   "outputs": [],
   "source": [
    "data[\"income\"] = data[\"income\"].astype(\"float\")"
   ]
  },
  {
   "cell_type": "code",
   "execution_count": 36,
   "id": "a6144360",
   "metadata": {},
   "outputs": [
    {
     "name": "stdout",
     "output_type": "stream",
     "text": [
      "age\n",
      "33    309\n",
      "36    294\n",
      "30    286\n",
      "31    282\n",
      "34    277\n",
      "     ... \n",
      "81      6\n",
      "79      4\n",
      "82      3\n",
      "84      3\n",
      "85      2\n",
      "Length: 69, dtype: int64\n",
      "**********************\n",
      "workclass\n",
      "Private             6942\n",
      "Self-emp-not-inc     797\n",
      "Local-gov            640\n",
      "?                    559\n",
      "State-gov            429\n",
      "Self-emp-inc         336\n",
      "Federal-gov          291\n",
      "Without-pay            5\n",
      "Never-worked           1\n",
      "dtype: int64\n",
      "**********************\n",
      "fnlwgt\n",
      "126675     7\n",
      "203488     6\n",
      "188246     6\n",
      "111567     5\n",
      "164190     5\n",
      "          ..\n",
      "148069     1\n",
      "147921     1\n",
      "147889     1\n",
      "147860     1\n",
      "1366120    1\n",
      "Length: 8490, dtype: int64\n",
      "**********************\n",
      "education\n",
      "HS-grad         3240\n",
      "Some-college    2193\n",
      "Bachelors       1650\n",
      "Masters          511\n",
      "Assoc-voc        441\n",
      "11th             367\n",
      "Assoc-acdm       324\n",
      "10th             315\n",
      "Prof-school      185\n",
      "7th-8th          181\n",
      "9th              156\n",
      "Doctorate        134\n",
      "12th             122\n",
      "5th-6th          104\n",
      "1st-4th           56\n",
      "Preschool         21\n",
      "dtype: int64\n",
      "**********************\n",
      "education-num\n",
      "9     3240\n",
      "10    2193\n",
      "13    1650\n",
      "14     511\n",
      "11     441\n",
      "7      367\n",
      "12     324\n",
      "6      315\n",
      "15     185\n",
      "4      181\n",
      "5      156\n",
      "16     134\n",
      "8      122\n",
      "3      104\n",
      "2       56\n",
      "1       21\n",
      "dtype: int64\n",
      "**********************\n",
      "marital_status\n",
      "Married-civ-spouse       4644\n",
      "Never-married            3257\n",
      "Divorced                 1380\n",
      "Separated                 297\n",
      "Widowed                   291\n",
      "Married-spouse-absent     121\n",
      "Married-AF-spouse          10\n",
      "dtype: int64\n",
      "**********************\n",
      "occupation\n",
      "Prof-specialty       1273\n",
      "Exec-managerial      1263\n",
      "Craft-repair         1256\n",
      "Sales                1150\n",
      "Adm-clerical         1148\n",
      "Other-service        1031\n",
      "Machine-op-inspct     601\n",
      "?                     560\n",
      "Transport-moving      478\n",
      "Handlers-cleaners     394\n",
      "Farming-fishing       302\n",
      "Tech-support          290\n",
      "Protective-serv       199\n",
      "Priv-house-serv        52\n",
      "Armed-Forces            3\n",
      "dtype: int64\n",
      "**********************\n",
      "relationship\n",
      "Husband           4090\n",
      "Not-in-family     2520\n",
      "Own-child         1546\n",
      "Unmarried         1054\n",
      "Wife               496\n",
      "Other-relative     294\n",
      "dtype: int64\n",
      "**********************\n",
      "race\n",
      "White                 8539\n",
      "Black                  960\n",
      "Asian-Pac-Islander     316\n",
      "Amer-Indian-Eskimo      98\n",
      "Other                   87\n",
      "dtype: int64\n",
      "**********************\n",
      "sex\n",
      "Male      6719\n",
      "Female    3281\n",
      "dtype: int64\n",
      "**********************\n",
      "capital-gain\n",
      "0        9198\n",
      "15024     115\n",
      "7688       80\n",
      "7298       77\n",
      "99999      39\n",
      "         ... \n",
      "2329        1\n",
      "6360        1\n",
      "2653        1\n",
      "5556        1\n",
      "2228        1\n",
      "Length: 105, dtype: int64\n",
      "**********************\n",
      "capital-loss\n",
      "0       9516\n",
      "1902      63\n",
      "1977      53\n",
      "1887      49\n",
      "1602      18\n",
      "        ... \n",
      "1825       1\n",
      "213        1\n",
      "625        1\n",
      "2238       1\n",
      "880        1\n",
      "Length: 73, dtype: int64\n",
      "**********************\n",
      "hours-per-week\n",
      "40    4725\n",
      "50     818\n",
      "45     605\n",
      "60     448\n",
      "35     404\n",
      "      ... \n",
      "92       1\n",
      "95       1\n",
      "74       1\n",
      "73       1\n",
      "68       1\n",
      "Length: 87, dtype: int64\n",
      "**********************\n",
      "native_country\n",
      "United-States                 8933\n",
      "Mexico                         206\n",
      "?                              197\n",
      "Philippines                     52\n",
      "Canada                          42\n",
      "Germany                         38\n",
      "Puerto-Rico                     33\n",
      "India                           30\n",
      "Cuba                            29\n",
      "England                         28\n",
      "South                           24\n",
      "El-Salvador                     24\n",
      "Jamaica                         23\n",
      "Vietnam                         23\n",
      "Italy                           22\n",
      "Guatemala                       22\n",
      "Portugal                        20\n",
      "Dominican-Republic              20\n",
      "Japan                           20\n",
      "Columbia                        19\n",
      "Taiwan                          17\n",
      "China                           17\n",
      "Poland                          17\n",
      "Haiti                           16\n",
      "Iran                            16\n",
      "Nicaragua                       14\n",
      "Peru                            12\n",
      "Ecuador                         11\n",
      "Greece                          10\n",
      "Ireland                          9\n",
      "France                           9\n",
      "Hong                             8\n",
      "Laos                             7\n",
      "Scotland                         5\n",
      "Thailand                         5\n",
      "Outlying-US(Guam-USVI-etc)       4\n",
      "Cambodia                         4\n",
      "Hungary                          4\n",
      "Trinadad&Tobago                  4\n",
      "Yugoslavia                       4\n",
      "Honduras                         2\n",
      "dtype: int64\n",
      "**********************\n",
      "income\n",
      "0.0    7583\n",
      "1.0    2417\n",
      "dtype: int64\n",
      "**********************\n"
     ]
    }
   ],
   "source": [
    "list1 = data.columns.tolist()\n",
    "for i in list1:\n",
    "    print(data.groupby([i]).size().sort_values(ascending=False))\n",
    "    print(\"**********************\")"
   ]
  },
  {
   "cell_type": "code",
   "execution_count": 37,
   "id": "4643281d",
   "metadata": {},
   "outputs": [],
   "source": [
    "# Analysis"
   ]
  },
  {
   "cell_type": "markdown",
   "id": "7548438c",
   "metadata": {},
   "source": [
    "* Most of the population in the age group 30 to 40\n",
    "* 2/3 of the population works in the private sector\n",
    "* Most of the population is HS-grad, Some-college, Bachelors\n",
    "* 80% of the population is white, 10% is black, rest are from other races\n",
    "* Male population is twice the population of female\n",
    "* Majority of the population data (90%) is from the US"
   ]
  },
  {
   "cell_type": "markdown",
   "id": "f69a87e4",
   "metadata": {},
   "source": [
    "# 5. Preprocessing"
   ]
  },
  {
   "cell_type": "code",
   "execution_count": 38,
   "id": "9ba0fa9f",
   "metadata": {},
   "outputs": [],
   "source": [
    "# Check for null values in the data"
   ]
  },
  {
   "cell_type": "code",
   "execution_count": 39,
   "id": "d36a48f0",
   "metadata": {},
   "outputs": [
    {
     "data": {
      "text/plain": [
       "age               0\n",
       "workclass         0\n",
       "fnlwgt            0\n",
       "education         0\n",
       "education-num     0\n",
       "marital_status    0\n",
       "occupation        0\n",
       "relationship      0\n",
       "race              0\n",
       "sex               0\n",
       "capital-gain      0\n",
       "capital-loss      0\n",
       "hours-per-week    0\n",
       "native_country    0\n",
       "income            0\n",
       "dtype: int64"
      ]
     },
     "execution_count": 39,
     "metadata": {},
     "output_type": "execute_result"
    }
   ],
   "source": [
    "data.isnull().sum()"
   ]
  },
  {
   "cell_type": "code",
   "execution_count": 40,
   "id": "1ee65d4a",
   "metadata": {},
   "outputs": [],
   "source": [
    "# Let us group by occupation"
   ]
  },
  {
   "cell_type": "code",
   "execution_count": 41,
   "id": "572e6b82",
   "metadata": {},
   "outputs": [
    {
     "data": {
      "text/plain": [
       "native_country\n",
       "United-States                 8933\n",
       "Mexico                         206\n",
       "?                              197\n",
       "Philippines                     52\n",
       "Canada                          42\n",
       "Germany                         38\n",
       "Puerto-Rico                     33\n",
       "India                           30\n",
       "Cuba                            29\n",
       "England                         28\n",
       "South                           24\n",
       "El-Salvador                     24\n",
       "Jamaica                         23\n",
       "Vietnam                         23\n",
       "Italy                           22\n",
       "Guatemala                       22\n",
       "Portugal                        20\n",
       "Dominican-Republic              20\n",
       "Japan                           20\n",
       "Columbia                        19\n",
       "Taiwan                          17\n",
       "China                           17\n",
       "Poland                          17\n",
       "Haiti                           16\n",
       "Iran                            16\n",
       "Nicaragua                       14\n",
       "Peru                            12\n",
       "Ecuador                         11\n",
       "Greece                          10\n",
       "Ireland                          9\n",
       "France                           9\n",
       "Hong                             8\n",
       "Laos                             7\n",
       "Scotland                         5\n",
       "Thailand                         5\n",
       "Outlying-US(Guam-USVI-etc)       4\n",
       "Cambodia                         4\n",
       "Hungary                          4\n",
       "Trinadad&Tobago                  4\n",
       "Yugoslavia                       4\n",
       "Honduras                         2\n",
       "dtype: int64"
      ]
     },
     "execution_count": 41,
     "metadata": {},
     "output_type": "execute_result"
    }
   ],
   "source": [
    "data.groupby('native_country').size().sort_values(ascending=False)"
   ]
  },
  {
   "cell_type": "markdown",
   "id": "604e80f4",
   "metadata": {},
   "source": [
    "* USA has the largest data, followed by mexico, ?, phillipplines\n",
    "* Hungary has the least data in this dataset"
   ]
  },
  {
   "cell_type": "code",
   "execution_count": 42,
   "id": "715d9d9d",
   "metadata": {},
   "outputs": [],
   "source": [
    "# Now let us group by income "
   ]
  },
  {
   "cell_type": "code",
   "execution_count": 43,
   "id": "d29ab4a2",
   "metadata": {},
   "outputs": [
    {
     "data": {
      "text/plain": [
       "income\n",
       "0.0    7583\n",
       "1.0    2417\n",
       "dtype: int64"
      ]
     },
     "execution_count": 43,
     "metadata": {},
     "output_type": "execute_result"
    }
   ],
   "source": [
    "data.groupby('income').size().sort_values(ascending=False)"
   ]
  },
  {
   "cell_type": "markdown",
   "id": "df7191c1",
   "metadata": {},
   "source": [
    "* Largest population earns less than or equal to 50k per annum\n",
    "* close to quarter of the population earns more than 50k per annum"
   ]
  },
  {
   "cell_type": "code",
   "execution_count": 44,
   "id": "d4b453af",
   "metadata": {},
   "outputs": [],
   "source": [
    "# Now let us group by sex"
   ]
  },
  {
   "cell_type": "code",
   "execution_count": 45,
   "id": "a3091638",
   "metadata": {},
   "outputs": [
    {
     "data": {
      "text/plain": [
       "sex\n",
       "Male      6719\n",
       "Female    3281\n",
       "dtype: int64"
      ]
     },
     "execution_count": 45,
     "metadata": {},
     "output_type": "execute_result"
    }
   ],
   "source": [
    "data.groupby('sex').size().sort_values(ascending=False)"
   ]
  },
  {
   "cell_type": "markdown",
   "id": "39ac80e2",
   "metadata": {},
   "source": [
    "Male population is twice the population of Female population in the dataset"
   ]
  },
  {
   "cell_type": "markdown",
   "id": "6e1a30e3",
   "metadata": {},
   "source": [
    "# Splitting of the Data"
   ]
  },
  {
   "cell_type": "code",
   "execution_count": 46,
   "id": "67c17848",
   "metadata": {},
   "outputs": [],
   "source": [
    "y = data['income']\n",
    "X = data.drop('income', axis = 1)"
   ]
  },
  {
   "cell_type": "code",
   "execution_count": 47,
   "id": "9f384dc3",
   "metadata": {},
   "outputs": [],
   "source": [
    "X_train, X_test, y_train, y_test = train_test_split(X, y, random_state = 1, test_size = 0.2) "
   ]
  },
  {
   "cell_type": "code",
   "execution_count": 48,
   "id": "68e368a1",
   "metadata": {},
   "outputs": [
    {
     "data": {
      "text/plain": [
       "['workclass',\n",
       " 'education',\n",
       " 'marital_status',\n",
       " 'occupation',\n",
       " 'relationship',\n",
       " 'race',\n",
       " 'sex',\n",
       " 'native_country']"
      ]
     },
     "execution_count": 48,
     "metadata": {},
     "output_type": "execute_result"
    }
   ],
   "source": [
    "category_var = [col for col in X.columns if X[col].dtypes == object]\n",
    "category_var"
   ]
  },
  {
   "cell_type": "code",
   "execution_count": 49,
   "id": "2b1991a5",
   "metadata": {},
   "outputs": [
    {
     "data": {
      "text/plain": [
       "['age',\n",
       " 'fnlwgt',\n",
       " 'education-num',\n",
       " 'capital-gain',\n",
       " 'capital-loss',\n",
       " 'hours-per-week']"
      ]
     },
     "execution_count": 49,
     "metadata": {},
     "output_type": "execute_result"
    }
   ],
   "source": [
    "numeric_var = [col for col in X.columns if X[col].dtypes != object]\n",
    "numeric_var"
   ]
  },
  {
   "cell_type": "code",
   "execution_count": 50,
   "id": "e6673f8e",
   "metadata": {},
   "outputs": [],
   "source": [
    "# Feature Scaling"
   ]
  },
  {
   "cell_type": "code",
   "execution_count": 51,
   "id": "49bc86c9",
   "metadata": {},
   "outputs": [],
   "source": [
    "one_hot = ce.OneHotEncoder(cols = category_var, handle_unknown = 'ignore')\n",
    "\n",
    "# Creating dataframe for categorical variables which converted to one hot encoded variables.\n",
    "X_train_one_hot = pd.DataFrame(one_hot.fit_transform(X_train))\n",
    "X_test_one_hot = pd.DataFrame(one_hot.transform(X_test))\n",
    "\n",
    "\n",
    "X_train_one_hot.index = X_train.index\n",
    "X_test_one_hot.index = X_test.index\n",
    "\n",
    "num_X_train = X_train[numeric_var]\n",
    "num_X_test = X_test[numeric_var]\n",
    "\n",
    "# Joining numerical and one hot encoded variables to create our final X_train and X_test.\n",
    "X_train_new = pd.concat([num_X_train, X_train_one_hot], axis = 1)\n",
    "X_test_new = pd.concat([num_X_test, X_test_one_hot], axis = 1)"
   ]
  },
  {
   "cell_type": "code",
   "execution_count": 52,
   "id": "79375516",
   "metadata": {},
   "outputs": [],
   "source": [
    "# Scaling our records into standard range of 0 and 1.\n",
    "scaler = StandardScaler()\n",
    "\n",
    "X_train_new = scaler.fit_transform(X_train_new)\n",
    "X_test_new = scaler.transform(X_test_new)"
   ]
  },
  {
   "cell_type": "markdown",
   "id": "ae5e92ea",
   "metadata": {},
   "source": [
    "# 6. Model building"
   ]
  },
  {
   "cell_type": "markdown",
   "id": "17a1c836",
   "metadata": {},
   "source": [
    "# Logistic Regression"
   ]
  },
  {
   "cell_type": "code",
   "execution_count": 53,
   "id": "0058d46c",
   "metadata": {},
   "outputs": [
    {
     "name": "stdout",
     "output_type": "stream",
     "text": [
      "Logistic Regression accuracy score:85.25%\n"
     ]
    }
   ],
   "source": [
    "model_logr = LogisticRegression(random_state = 1,solver=\"liblinear\")\n",
    "model_logr.fit(X_train_new, y_train)\n",
    "pred_logr = model_logr.predict(X_test_new)\n",
    "print('Logistic Regression accuracy score:{0:0.2f}%'. format(accuracy_score(y_test, pred_logr)*100))"
   ]
  },
  {
   "cell_type": "markdown",
   "id": "3ec6629c",
   "metadata": {},
   "source": [
    "# SVC"
   ]
  },
  {
   "cell_type": "code",
   "execution_count": 54,
   "id": "d136a0f8",
   "metadata": {},
   "outputs": [
    {
     "data": {
      "text/plain": [
       "SVC(random_state=0)"
      ]
     },
     "execution_count": 54,
     "metadata": {},
     "output_type": "execute_result"
    }
   ],
   "source": [
    "classifier = SVC(random_state = 0,kernel = 'rbf')\n",
    "classifier.fit(X_train_new, y_train)"
   ]
  },
  {
   "cell_type": "code",
   "execution_count": 55,
   "id": "263eaa14",
   "metadata": {},
   "outputs": [],
   "source": [
    "#Predicting the Test Set"
   ]
  },
  {
   "cell_type": "code",
   "execution_count": 56,
   "id": "545b2656",
   "metadata": {},
   "outputs": [],
   "source": [
    "y_pred = classifier.predict(X_test_new)"
   ]
  },
  {
   "cell_type": "code",
   "execution_count": 57,
   "id": "ee94236d",
   "metadata": {},
   "outputs": [],
   "source": [
    "y_pred = classifier.predict(X_test_new)"
   ]
  },
  {
   "cell_type": "code",
   "execution_count": 58,
   "id": "fecc2cad",
   "metadata": {},
   "outputs": [
    {
     "data": {
      "text/plain": [
       "(2000,)"
      ]
     },
     "execution_count": 58,
     "metadata": {},
     "output_type": "execute_result"
    }
   ],
   "source": [
    "y_pred.shape"
   ]
  },
  {
   "cell_type": "code",
   "execution_count": 59,
   "id": "51380880",
   "metadata": {},
   "outputs": [],
   "source": [
    "# Now let us apply the kernel functions "
   ]
  },
  {
   "cell_type": "code",
   "execution_count": 60,
   "id": "a9233527",
   "metadata": {},
   "outputs": [
    {
     "data": {
      "text/plain": [
       "0.852"
      ]
     },
     "execution_count": 60,
     "metadata": {},
     "output_type": "execute_result"
    }
   ],
   "source": [
    "classifier = SVC(kernel=\"linear\")\n",
    "classifier.fit(X_train_new, y_train)\n",
    "y_pred = classifier.predict(X_test_new)\n",
    "accuracy_score(y_test, y_pred)"
   ]
  },
  {
   "cell_type": "code",
   "execution_count": 61,
   "id": "ec68a839",
   "metadata": {},
   "outputs": [
    {
     "data": {
      "text/plain": [
       "0.8175"
      ]
     },
     "execution_count": 61,
     "metadata": {},
     "output_type": "execute_result"
    }
   ],
   "source": [
    "classifier = SVC(kernel=\"poly\")\n",
    "classifier.fit(X_train_new, y_train)\n",
    "y_pred = classifier.predict(X_test_new)\n",
    "accuracy_score(y_test, y_pred)"
   ]
  },
  {
   "cell_type": "code",
   "execution_count": 62,
   "id": "07a3d410",
   "metadata": {},
   "outputs": [
    {
     "data": {
      "text/plain": [
       "0.8375"
      ]
     },
     "execution_count": 62,
     "metadata": {},
     "output_type": "execute_result"
    }
   ],
   "source": [
    "classifier = SVC(kernel=\"rbf\")\n",
    "classifier.fit(X_train_new, y_train)\n",
    "y_pred = classifier.predict(X_test_new)\n",
    "accuracy_score(y_test, y_pred)"
   ]
  },
  {
   "cell_type": "code",
   "execution_count": 63,
   "id": "65d48d43",
   "metadata": {},
   "outputs": [
    {
     "data": {
      "text/plain": [
       "0.8295"
      ]
     },
     "execution_count": 63,
     "metadata": {},
     "output_type": "execute_result"
    }
   ],
   "source": [
    "classifier = SVC(kernel=\"sigmoid\")\n",
    "classifier.fit(X_train_new, y_train)\n",
    "y_pred = classifier.predict(X_test_new)\n",
    "accuracy_score(y_test, y_pred)"
   ]
  },
  {
   "cell_type": "markdown",
   "id": "5988b488",
   "metadata": {},
   "source": [
    "SVC with kernel = rbf / linear gives the highest accuracy"
   ]
  },
  {
   "cell_type": "code",
   "execution_count": 64,
   "id": "67dd42c2",
   "metadata": {},
   "outputs": [
    {
     "data": {
      "text/plain": [
       "SVC(kernel='sigmoid')"
      ]
     },
     "execution_count": 64,
     "metadata": {},
     "output_type": "execute_result"
    }
   ],
   "source": [
    "model = SVC(kernel=\"sigmoid\")\n",
    "model.fit(X_train_new, y_train)"
   ]
  },
  {
   "cell_type": "markdown",
   "id": "b200d735",
   "metadata": {},
   "source": [
    "# Hyperparameter tuning using GridSearchCV"
   ]
  },
  {
   "cell_type": "code",
   "execution_count": 65,
   "id": "c803ff5b",
   "metadata": {},
   "outputs": [],
   "source": [
    "from sklearn.model_selection import GridSearchCV"
   ]
  },
  {
   "cell_type": "code",
   "execution_count": 66,
   "id": "1af3e854",
   "metadata": {},
   "outputs": [],
   "source": [
    "param_grid = {'C': [0.1, 1, 10], \n",
    "              'kernel': ['linear','rbf','sigmoid']} "
   ]
  },
  {
   "cell_type": "code",
   "execution_count": 67,
   "id": "8a3f556d",
   "metadata": {},
   "outputs": [],
   "source": [
    "grid = GridSearchCV(SVC(), param_grid, refit = True, verbose = 3)"
   ]
  },
  {
   "cell_type": "code",
   "execution_count": 68,
   "id": "91c9a8e8",
   "metadata": {},
   "outputs": [],
   "source": [
    "# fitting the model for grid search"
   ]
  },
  {
   "cell_type": "code",
   "execution_count": 69,
   "id": "a9c5a591",
   "metadata": {},
   "outputs": [
    {
     "name": "stdout",
     "output_type": "stream",
     "text": [
      "Fitting 5 folds for each of 9 candidates, totalling 45 fits\n",
      "[CV 1/5] END ..............C=0.1, kernel=linear;, score=0.842 total time=   4.3s\n",
      "[CV 2/5] END ..............C=0.1, kernel=linear;, score=0.833 total time=   4.9s\n",
      "[CV 3/5] END ..............C=0.1, kernel=linear;, score=0.851 total time=   4.9s\n",
      "[CV 4/5] END ..............C=0.1, kernel=linear;, score=0.855 total time=   4.2s\n",
      "[CV 5/5] END ..............C=0.1, kernel=linear;, score=0.855 total time=   3.9s\n",
      "[CV 1/5] END .................C=0.1, kernel=rbf;, score=0.820 total time=   6.0s\n",
      "[CV 2/5] END .................C=0.1, kernel=rbf;, score=0.819 total time=   5.8s\n",
      "[CV 3/5] END .................C=0.1, kernel=rbf;, score=0.838 total time=   5.6s\n",
      "[CV 4/5] END .................C=0.1, kernel=rbf;, score=0.838 total time=   6.1s\n",
      "[CV 5/5] END .................C=0.1, kernel=rbf;, score=0.840 total time=   6.2s\n",
      "[CV 1/5] END .............C=0.1, kernel=sigmoid;, score=0.832 total time=   5.1s\n",
      "[CV 2/5] END .............C=0.1, kernel=sigmoid;, score=0.827 total time=   4.5s\n",
      "[CV 3/5] END .............C=0.1, kernel=sigmoid;, score=0.846 total time=   4.1s\n",
      "[CV 4/5] END .............C=0.1, kernel=sigmoid;, score=0.846 total time=   4.9s\n",
      "[CV 5/5] END .............C=0.1, kernel=sigmoid;, score=0.851 total time=   4.6s\n",
      "[CV 1/5] END ................C=1, kernel=linear;, score=0.843 total time=   7.5s\n",
      "[CV 2/5] END ................C=1, kernel=linear;, score=0.833 total time=   7.6s\n",
      "[CV 3/5] END ................C=1, kernel=linear;, score=0.852 total time=   7.3s\n",
      "[CV 4/5] END ................C=1, kernel=linear;, score=0.854 total time=   8.3s\n",
      "[CV 5/5] END ................C=1, kernel=linear;, score=0.855 total time=   7.2s\n",
      "[CV 1/5] END ...................C=1, kernel=rbf;, score=0.834 total time=   7.0s\n",
      "[CV 2/5] END ...................C=1, kernel=rbf;, score=0.837 total time=   5.7s\n",
      "[CV 3/5] END ...................C=1, kernel=rbf;, score=0.849 total time=   6.6s\n",
      "[CV 4/5] END ...................C=1, kernel=rbf;, score=0.856 total time=   6.8s\n",
      "[CV 5/5] END ...................C=1, kernel=rbf;, score=0.850 total time=   5.7s\n",
      "[CV 1/5] END ...............C=1, kernel=sigmoid;, score=0.833 total time=   4.0s\n",
      "[CV 2/5] END ...............C=1, kernel=sigmoid;, score=0.827 total time=   3.7s\n",
      "[CV 3/5] END ...............C=1, kernel=sigmoid;, score=0.838 total time=   4.3s\n",
      "[CV 4/5] END ...............C=1, kernel=sigmoid;, score=0.842 total time=   4.4s\n",
      "[CV 5/5] END ...............C=1, kernel=sigmoid;, score=0.843 total time=   4.6s\n",
      "[CV 1/5] END ...............C=10, kernel=linear;, score=0.844 total time=  37.0s\n",
      "[CV 2/5] END ...............C=10, kernel=linear;, score=0.833 total time=  32.0s\n",
      "[CV 3/5] END ...............C=10, kernel=linear;, score=0.852 total time=  33.4s\n",
      "[CV 4/5] END ...............C=10, kernel=linear;, score=0.854 total time=  34.8s\n",
      "[CV 5/5] END ...............C=10, kernel=linear;, score=0.855 total time=  33.1s\n",
      "[CV 1/5] END ..................C=10, kernel=rbf;, score=0.833 total time=   7.2s\n",
      "[CV 2/5] END ..................C=10, kernel=rbf;, score=0.839 total time=   6.4s\n",
      "[CV 3/5] END ..................C=10, kernel=rbf;, score=0.838 total time=   7.3s\n",
      "[CV 4/5] END ..................C=10, kernel=rbf;, score=0.851 total time=   7.4s\n",
      "[CV 5/5] END ..................C=10, kernel=rbf;, score=0.849 total time=   7.5s\n",
      "[CV 1/5] END ..............C=10, kernel=sigmoid;, score=0.804 total time=   3.6s\n",
      "[CV 2/5] END ..............C=10, kernel=sigmoid;, score=0.802 total time=   3.6s\n",
      "[CV 3/5] END ..............C=10, kernel=sigmoid;, score=0.817 total time=   3.7s\n",
      "[CV 4/5] END ..............C=10, kernel=sigmoid;, score=0.806 total time=   3.5s\n",
      "[CV 5/5] END ..............C=10, kernel=sigmoid;, score=0.820 total time=   3.1s\n"
     ]
    },
    {
     "data": {
      "text/plain": [
       "GridSearchCV(estimator=SVC(),\n",
       "             param_grid={'C': [0.1, 1, 10],\n",
       "                         'kernel': ['linear', 'rbf', 'sigmoid']},\n",
       "             verbose=3)"
      ]
     },
     "execution_count": 69,
     "metadata": {},
     "output_type": "execute_result"
    }
   ],
   "source": [
    "grid.fit(X_train_new, y_train)"
   ]
  },
  {
   "cell_type": "code",
   "execution_count": 70,
   "id": "df802f6f",
   "metadata": {},
   "outputs": [
    {
     "name": "stdout",
     "output_type": "stream",
     "text": [
      "{'C': 10, 'kernel': 'linear'}\n"
     ]
    }
   ],
   "source": [
    "# print best parameter after tuning\n",
    "print(grid.best_params_)"
   ]
  },
  {
   "cell_type": "code",
   "execution_count": 71,
   "id": "5148ef5c",
   "metadata": {},
   "outputs": [],
   "source": [
    "model = SVC(C=10,kernel=\"linear\")"
   ]
  },
  {
   "cell_type": "code",
   "execution_count": 72,
   "id": "c7814b80",
   "metadata": {},
   "outputs": [
    {
     "data": {
      "text/plain": [
       "SVC(C=10, kernel='linear')"
      ]
     },
     "execution_count": 72,
     "metadata": {},
     "output_type": "execute_result"
    }
   ],
   "source": [
    "model.fit(X_train_new, y_train)"
   ]
  },
  {
   "cell_type": "code",
   "execution_count": 73,
   "id": "d7d154d2",
   "metadata": {},
   "outputs": [],
   "source": [
    "y_pred = model.predict(X_test_new)"
   ]
  },
  {
   "cell_type": "code",
   "execution_count": 74,
   "id": "a03c4534",
   "metadata": {},
   "outputs": [
    {
     "data": {
      "text/plain": [
       "0.8525"
      ]
     },
     "execution_count": 74,
     "metadata": {},
     "output_type": "execute_result"
    }
   ],
   "source": [
    "accuracy_score(y_test, y_pred)"
   ]
  },
  {
   "cell_type": "markdown",
   "id": "e22f988a",
   "metadata": {},
   "source": [
    "# Evaluation of the model"
   ]
  },
  {
   "cell_type": "code",
   "execution_count": 75,
   "id": "6f97053e",
   "metadata": {},
   "outputs": [],
   "source": [
    "from sklearn import metrics"
   ]
  },
  {
   "cell_type": "code",
   "execution_count": 76,
   "id": "fcea50b0",
   "metadata": {},
   "outputs": [],
   "source": [
    "from sklearn.metrics import roc_auc_score"
   ]
  },
  {
   "cell_type": "code",
   "execution_count": 77,
   "id": "0f4922c5",
   "metadata": {},
   "outputs": [],
   "source": [
    "from sklearn.metrics import r2_score"
   ]
  },
  {
   "cell_type": "code",
   "execution_count": 78,
   "id": "4cb35d5a",
   "metadata": {},
   "outputs": [],
   "source": [
    "# Classification confusion matrix, ROC AUC score"
   ]
  },
  {
   "cell_type": "code",
   "execution_count": 79,
   "id": "1b68e6df",
   "metadata": {},
   "outputs": [
    {
     "data": {
      "text/plain": [
       "array([[1437,   80],\n",
       "       [ 215,  268]], dtype=int64)"
      ]
     },
     "execution_count": 79,
     "metadata": {},
     "output_type": "execute_result"
    }
   ],
   "source": [
    "confusion_matrix(y_test, y_pred)"
   ]
  },
  {
   "cell_type": "code",
   "execution_count": 80,
   "id": "0febbaf4",
   "metadata": {},
   "outputs": [],
   "source": [
    "# r2 score "
   ]
  },
  {
   "cell_type": "code",
   "execution_count": 81,
   "id": "fe52e0a3",
   "metadata": {},
   "outputs": [
    {
     "data": {
      "text/plain": [
       "0.19477119901298034"
      ]
     },
     "execution_count": 81,
     "metadata": {},
     "output_type": "execute_result"
    }
   ],
   "source": [
    "metrics.r2_score(y_test, y_pred)"
   ]
  },
  {
   "cell_type": "code",
   "execution_count": 82,
   "id": "5c2bb5e9",
   "metadata": {},
   "outputs": [],
   "source": [
    "# Adjusted R square"
   ]
  },
  {
   "cell_type": "code",
   "execution_count": 83,
   "id": "3e1082f6",
   "metadata": {},
   "outputs": [
    {
     "data": {
      "text/plain": [
       "0.7510648809694408"
      ]
     },
     "execution_count": 83,
     "metadata": {},
     "output_type": "execute_result"
    }
   ],
   "source": [
    "metrics.roc_auc_score(y_test, y_pred)"
   ]
  },
  {
   "cell_type": "markdown",
   "id": "d6b4d2e0",
   "metadata": {},
   "source": [
    "# Save the model using pickle and then use pickle to predict"
   ]
  },
  {
   "cell_type": "code",
   "execution_count": 84,
   "id": "1e1d71b2",
   "metadata": {},
   "outputs": [],
   "source": [
    "import pickle"
   ]
  },
  {
   "cell_type": "code",
   "execution_count": 85,
   "id": "c5a7cc0d",
   "metadata": {},
   "outputs": [],
   "source": [
    "file = open('power_svr.pkl', 'wb')"
   ]
  },
  {
   "cell_type": "code",
   "execution_count": 86,
   "id": "3b9f83ea",
   "metadata": {},
   "outputs": [],
   "source": [
    "# dump file model info file\n",
    "pickle.dump(model, file)"
   ]
  },
  {
   "cell_type": "code",
   "execution_count": 87,
   "id": "f7d80651",
   "metadata": {},
   "outputs": [],
   "source": [
    "file.close()  # close the file"
   ]
  },
  {
   "cell_type": "code",
   "execution_count": 88,
   "id": "540fb7bb",
   "metadata": {},
   "outputs": [],
   "source": [
    "model = open('power_svr.pkl', 'rb')\n",
    "power = pickle.load(model)"
   ]
  },
  {
   "cell_type": "code",
   "execution_count": 89,
   "id": "b9e170c3",
   "metadata": {},
   "outputs": [],
   "source": [
    "# Predict using the pickle"
   ]
  },
  {
   "cell_type": "code",
   "execution_count": 90,
   "id": "24e43bf9",
   "metadata": {},
   "outputs": [],
   "source": [
    "y_predict = power.predict(X_test_new)"
   ]
  },
  {
   "cell_type": "code",
   "execution_count": 91,
   "id": "1276fd41",
   "metadata": {},
   "outputs": [
    {
     "data": {
      "text/plain": [
       "array([0., 0., 0., ..., 0., 0., 0.])"
      ]
     },
     "execution_count": 91,
     "metadata": {},
     "output_type": "execute_result"
    }
   ],
   "source": [
    "y_predict"
   ]
  },
  {
   "cell_type": "code",
   "execution_count": null,
   "id": "7971e90f",
   "metadata": {},
   "outputs": [],
   "source": []
  }
 ],
 "metadata": {
  "kernelspec": {
   "display_name": "Python 3 (ipykernel)",
   "language": "python",
   "name": "python3"
  },
  "language_info": {
   "codemirror_mode": {
    "name": "ipython",
    "version": 3
   },
   "file_extension": ".py",
   "mimetype": "text/x-python",
   "name": "python",
   "nbconvert_exporter": "python",
   "pygments_lexer": "ipython3",
   "version": "3.9.12"
  }
 },
 "nbformat": 4,
 "nbformat_minor": 5
}
