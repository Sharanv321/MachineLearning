{
 "cells": [
  {
   "cell_type": "markdown",
   "id": "32e626b5",
   "metadata": {},
   "source": [
    "# Regression Power Consumption"
   ]
  },
  {
   "cell_type": "code",
   "execution_count": null,
   "id": "c6dab4aa",
   "metadata": {},
   "outputs": [],
   "source": []
  },
  {
   "cell_type": "code",
   "execution_count": 74,
   "id": "e56eaf4f",
   "metadata": {},
   "outputs": [],
   "source": [
    "import pandas as pd\n",
    "import numpy as np\n",
    "import seaborn as sns\n",
    "import matplotlib.pyplot as plt\n",
    "from sklearn.linear_model  import Ridge,Lasso,RidgeCV, LassoCV, ElasticNet, ElasticNetCV, LogisticRegression\n",
    "from sklearn.model_selection import train_test_split\n",
    "from sklearn.linear_model import LinearRegression\n",
    "from sklearn.svm import SVR"
   ]
  },
  {
   "cell_type": "code",
   "execution_count": 75,
   "id": "81c24daa",
   "metadata": {},
   "outputs": [],
   "source": [
    "#loading the dataset"
   ]
  },
  {
   "cell_type": "code",
   "execution_count": 76,
   "id": "33096f6c",
   "metadata": {},
   "outputs": [
    {
     "name": "stderr",
     "output_type": "stream",
     "text": [
      "C:\\Users\\Admin\\AppData\\Local\\Temp\\ipykernel_4816\\703455930.py:1: DtypeWarning: Columns (2,3,4,5,6,7) have mixed types. Specify dtype option on import or set low_memory=False.\n",
      "  data = pd.read_csv(\"household_power_consumption.csv\") # Reading the Data\n"
     ]
    }
   ],
   "source": [
    "data = pd.read_csv(\"household_power_consumption.csv\") # Reading the Data"
   ]
  },
  {
   "cell_type": "code",
   "execution_count": 77,
   "id": "1d81222b",
   "metadata": {},
   "outputs": [],
   "source": [
    "data = data.sample(15000)"
   ]
  },
  {
   "cell_type": "markdown",
   "id": "0b869a3d",
   "metadata": {},
   "source": [
    "# Exploratory Data Analysis"
   ]
  },
  {
   "cell_type": "code",
   "execution_count": 78,
   "id": "d98a071a",
   "metadata": {},
   "outputs": [],
   "source": [
    "# Making a copy of the data\n",
    "data1 = data.copy()"
   ]
  },
  {
   "cell_type": "code",
   "execution_count": 79,
   "id": "373ab2e9",
   "metadata": {},
   "outputs": [
    {
     "data": {
      "text/html": [
       "<div>\n",
       "<style scoped>\n",
       "    .dataframe tbody tr th:only-of-type {\n",
       "        vertical-align: middle;\n",
       "    }\n",
       "\n",
       "    .dataframe tbody tr th {\n",
       "        vertical-align: top;\n",
       "    }\n",
       "\n",
       "    .dataframe thead th {\n",
       "        text-align: right;\n",
       "    }\n",
       "</style>\n",
       "<table border=\"1\" class=\"dataframe\">\n",
       "  <thead>\n",
       "    <tr style=\"text-align: right;\">\n",
       "      <th></th>\n",
       "      <th>Date</th>\n",
       "      <th>Time</th>\n",
       "      <th>Global_active_power</th>\n",
       "      <th>Global_reactive_power</th>\n",
       "      <th>Voltage</th>\n",
       "      <th>Global_intensity</th>\n",
       "      <th>Sub_metering_1</th>\n",
       "      <th>Sub_metering_2</th>\n",
       "      <th>Sub_metering_3</th>\n",
       "    </tr>\n",
       "  </thead>\n",
       "  <tbody>\n",
       "    <tr>\n",
       "      <th>1131492</th>\n",
       "      <td>9/2/2009</td>\n",
       "      <td>11:36:00</td>\n",
       "      <td>1.668</td>\n",
       "      <td>0.000</td>\n",
       "      <td>239.630</td>\n",
       "      <td>6.800</td>\n",
       "      <td>0.000</td>\n",
       "      <td>0.000</td>\n",
       "      <td>18.0</td>\n",
       "    </tr>\n",
       "    <tr>\n",
       "      <th>1903520</th>\n",
       "      <td>30/7/2010</td>\n",
       "      <td>14:44:00</td>\n",
       "      <td>0.248</td>\n",
       "      <td>0.108</td>\n",
       "      <td>239.360</td>\n",
       "      <td>1.000</td>\n",
       "      <td>0.000</td>\n",
       "      <td>0.000</td>\n",
       "      <td>1.0</td>\n",
       "    </tr>\n",
       "    <tr>\n",
       "      <th>1377791</th>\n",
       "      <td>30/7/2009</td>\n",
       "      <td>12:35:00</td>\n",
       "      <td>0.228</td>\n",
       "      <td>0.092</td>\n",
       "      <td>244.180</td>\n",
       "      <td>1.000</td>\n",
       "      <td>0.000</td>\n",
       "      <td>0.000</td>\n",
       "      <td>0.0</td>\n",
       "    </tr>\n",
       "    <tr>\n",
       "      <th>23835</th>\n",
       "      <td>2/1/2007</td>\n",
       "      <td>06:39:00</td>\n",
       "      <td>0.380</td>\n",
       "      <td>0.000</td>\n",
       "      <td>243.230</td>\n",
       "      <td>1.600</td>\n",
       "      <td>0.000</td>\n",
       "      <td>0.000</td>\n",
       "      <td>0.0</td>\n",
       "    </tr>\n",
       "    <tr>\n",
       "      <th>1050737</th>\n",
       "      <td>15/12/2008</td>\n",
       "      <td>09:41:00</td>\n",
       "      <td>1.346</td>\n",
       "      <td>0.054</td>\n",
       "      <td>242.130</td>\n",
       "      <td>5.600</td>\n",
       "      <td>0.000</td>\n",
       "      <td>0.000</td>\n",
       "      <td>18.0</td>\n",
       "    </tr>\n",
       "  </tbody>\n",
       "</table>\n",
       "</div>"
      ],
      "text/plain": [
       "               Date      Time Global_active_power Global_reactive_power  \\\n",
       "1131492    9/2/2009  11:36:00               1.668                 0.000   \n",
       "1903520   30/7/2010  14:44:00               0.248                 0.108   \n",
       "1377791   30/7/2009  12:35:00               0.228                 0.092   \n",
       "23835      2/1/2007  06:39:00               0.380                 0.000   \n",
       "1050737  15/12/2008  09:41:00               1.346                 0.054   \n",
       "\n",
       "         Voltage Global_intensity Sub_metering_1 Sub_metering_2  \\\n",
       "1131492  239.630            6.800          0.000          0.000   \n",
       "1903520  239.360            1.000          0.000          0.000   \n",
       "1377791  244.180            1.000          0.000          0.000   \n",
       "23835    243.230            1.600          0.000          0.000   \n",
       "1050737  242.130            5.600          0.000          0.000   \n",
       "\n",
       "         Sub_metering_3  \n",
       "1131492            18.0  \n",
       "1903520             1.0  \n",
       "1377791             0.0  \n",
       "23835               0.0  \n",
       "1050737            18.0  "
      ]
     },
     "execution_count": 79,
     "metadata": {},
     "output_type": "execute_result"
    }
   ],
   "source": [
    "data1.head(5)"
   ]
  },
  {
   "cell_type": "code",
   "execution_count": 80,
   "id": "cb94761b",
   "metadata": {},
   "outputs": [
    {
     "data": {
      "text/plain": [
       "Index(['Date', 'Time', 'Global_active_power', 'Global_reactive_power',\n",
       "       'Voltage', 'Global_intensity', 'Sub_metering_1', 'Sub_metering_2',\n",
       "       'Sub_metering_3'],\n",
       "      dtype='object')"
      ]
     },
     "execution_count": 80,
     "metadata": {},
     "output_type": "execute_result"
    }
   ],
   "source": [
    "data1.columns"
   ]
  },
  {
   "cell_type": "code",
   "execution_count": 81,
   "id": "6ecff4f7",
   "metadata": {},
   "outputs": [
    {
     "data": {
      "text/plain": [
       "(15000, 9)"
      ]
     },
     "execution_count": 81,
     "metadata": {},
     "output_type": "execute_result"
    }
   ],
   "source": [
    "data1.shape"
   ]
  },
  {
   "cell_type": "code",
   "execution_count": 82,
   "id": "16eb6921",
   "metadata": {},
   "outputs": [
    {
     "name": "stdout",
     "output_type": "stream",
     "text": [
      "<class 'pandas.core.frame.DataFrame'>\n",
      "Int64Index: 15000 entries, 1131492 to 190265\n",
      "Data columns (total 9 columns):\n",
      " #   Column                 Non-Null Count  Dtype  \n",
      "---  ------                 --------------  -----  \n",
      " 0   Date                   15000 non-null  object \n",
      " 1   Time                   15000 non-null  object \n",
      " 2   Global_active_power    15000 non-null  object \n",
      " 3   Global_reactive_power  15000 non-null  object \n",
      " 4   Voltage                15000 non-null  object \n",
      " 5   Global_intensity       15000 non-null  object \n",
      " 6   Sub_metering_1         15000 non-null  object \n",
      " 7   Sub_metering_2         15000 non-null  object \n",
      " 8   Sub_metering_3         14827 non-null  float64\n",
      "dtypes: float64(1), object(8)\n",
      "memory usage: 1.1+ MB\n"
     ]
    }
   ],
   "source": [
    "# info of the dataset\n",
    "data1.info()"
   ]
  },
  {
   "cell_type": "code",
   "execution_count": 83,
   "id": "97685212",
   "metadata": {},
   "outputs": [
    {
     "data": {
      "text/html": [
       "<div>\n",
       "<style scoped>\n",
       "    .dataframe tbody tr th:only-of-type {\n",
       "        vertical-align: middle;\n",
       "    }\n",
       "\n",
       "    .dataframe tbody tr th {\n",
       "        vertical-align: top;\n",
       "    }\n",
       "\n",
       "    .dataframe thead th {\n",
       "        text-align: right;\n",
       "    }\n",
       "</style>\n",
       "<table border=\"1\" class=\"dataframe\">\n",
       "  <thead>\n",
       "    <tr style=\"text-align: right;\">\n",
       "      <th></th>\n",
       "      <th>Date</th>\n",
       "      <th>Time</th>\n",
       "      <th>Global_active_power</th>\n",
       "      <th>Global_reactive_power</th>\n",
       "      <th>Voltage</th>\n",
       "      <th>Global_intensity</th>\n",
       "      <th>Sub_metering_1</th>\n",
       "      <th>Sub_metering_2</th>\n",
       "      <th>Sub_metering_3</th>\n",
       "    </tr>\n",
       "  </thead>\n",
       "  <tbody>\n",
       "  </tbody>\n",
       "</table>\n",
       "</div>"
      ],
      "text/plain": [
       "Empty DataFrame\n",
       "Columns: [Date, Time, Global_active_power, Global_reactive_power, Voltage, Global_intensity, Sub_metering_1, Sub_metering_2, Sub_metering_3]\n",
       "Index: []"
      ]
     },
     "execution_count": 83,
     "metadata": {},
     "output_type": "execute_result"
    }
   ],
   "source": [
    "# Check duplicate if any\n",
    "data1[data1.duplicated()]"
   ]
  },
  {
   "cell_type": "code",
   "execution_count": 84,
   "id": "36630d67",
   "metadata": {},
   "outputs": [
    {
     "name": "stdout",
     "output_type": "stream",
     "text": [
      "Date\n",
      "27/6/2009     22\n",
      "17/4/2007     21\n",
      "12/6/2008     21\n",
      "4/5/2010      20\n",
      "6/6/2008      20\n",
      "              ..\n",
      "22/1/2009      3\n",
      "10/11/2007     3\n",
      "26/8/2010      3\n",
      "23/2/2010      2\n",
      "16/12/2006     1\n",
      "Length: 1442, dtype: int64\n",
      "**********************\n",
      "Time\n",
      "09:08:00    22\n",
      "23:25:00    21\n",
      "20:38:00    21\n",
      "12:45:00    20\n",
      "14:37:00    20\n",
      "            ..\n",
      "23:46:00     3\n",
      "13:29:00     3\n",
      "18:17:00     3\n",
      "20:14:00     3\n",
      "21:47:00     3\n",
      "Length: 1440, dtype: int64\n",
      "**********************\n",
      "Global_active_power\n",
      "?        173\n",
      "0.306     79\n",
      "0.314     74\n",
      "0.320     73\n",
      "0.228     73\n",
      "        ... \n",
      "2.760      1\n",
      "2.778      1\n",
      "2.780      1\n",
      "2.788      1\n",
      "1.908      1\n",
      "Length: 2270, dtype: int64\n",
      "**********************\n",
      "Global_reactive_power\n",
      "0.000    3470\n",
      "?         173\n",
      "0.104     171\n",
      "0.108     165\n",
      "0.100     165\n",
      "         ... \n",
      "0.212       1\n",
      "0.208       1\n",
      "0.442       1\n",
      "0.476       1\n",
      "0.354       1\n",
      "Length: 411, dtype: int64\n",
      "**********************\n",
      "Voltage\n",
      "?          173\n",
      "241.870     36\n",
      "241.440     35\n",
      "241.130     35\n",
      "242.180     34\n",
      "          ... \n",
      "242.76       1\n",
      "242.73       1\n",
      "242.72       1\n",
      "242.71       1\n",
      "230.59       1\n",
      "Length: 2001, dtype: int64\n",
      "**********************\n",
      "Global_intensity\n",
      "1.000     1208\n",
      "1.400     1146\n",
      "1.200     1005\n",
      "1.600      868\n",
      "1.800      649\n",
      "          ... \n",
      "33.000       1\n",
      "35.400       1\n",
      "36.000       1\n",
      "38.400       1\n",
      "18.8         1\n",
      "Length: 213, dtype: int64\n",
      "**********************\n",
      "Sub_metering_1\n",
      "0.000     13362\n",
      "1.000       581\n",
      "0.0         268\n",
      "?           173\n",
      "2.000       127\n",
      "          ...  \n",
      "47.000        1\n",
      "46.000        1\n",
      "26.000        1\n",
      "24.000        1\n",
      "14.0          1\n",
      "Length: 62, dtype: int64\n",
      "**********************\n",
      "Sub_metering_2\n",
      "0.000     10266\n",
      "1.000      2611\n",
      "2.000      1100\n",
      "0.0         200\n",
      "?           173\n",
      "          ...  \n",
      "5.0           1\n",
      "4.0           1\n",
      "38.0          1\n",
      "13.000        1\n",
      "16.0          1\n",
      "Length: 69, dtype: int64\n",
      "**********************\n",
      "Sub_metering_3\n",
      "0.0     6159\n",
      "1.0     3394\n",
      "18.0    2615\n",
      "17.0    1132\n",
      "19.0     878\n",
      "12.0     111\n",
      "16.0      97\n",
      "11.0      71\n",
      "29.0      50\n",
      "13.0      43\n",
      "20.0      35\n",
      "10.0      33\n",
      "28.0      30\n",
      "7.0       17\n",
      "5.0       17\n",
      "8.0       16\n",
      "6.0       15\n",
      "3.0       15\n",
      "9.0       14\n",
      "30.0      12\n",
      "27.0      11\n",
      "24.0      10\n",
      "2.0       10\n",
      "4.0        9\n",
      "26.0       7\n",
      "21.0       6\n",
      "14.0       6\n",
      "15.0       5\n",
      "22.0       4\n",
      "25.0       2\n",
      "31.0       2\n",
      "23.0       1\n",
      "dtype: int64\n",
      "**********************\n"
     ]
    }
   ],
   "source": [
    "list1 = data1.columns.tolist()\n",
    "for i in list1:\n",
    "    print(data1.groupby([i]).size().sort_values(ascending=False))\n",
    "    print(\"**********************\")"
   ]
  },
  {
   "cell_type": "markdown",
   "id": "5a7b0c30",
   "metadata": {},
   "source": [
    "Global_active_power column has 186 rows with value ?\n",
    "Global_reactive_power column has 186 rows with value ?\n",
    "Voltage column has 186 rows with value ?\n",
    "Sub_metering_1 has 186 rows with value ?\n",
    "Sub_metering_2 has 186 rows with value ?\n"
   ]
  },
  {
   "cell_type": "code",
   "execution_count": 85,
   "id": "f8bc2405",
   "metadata": {},
   "outputs": [
    {
     "data": {
      "text/plain": [
       "Date                       0\n",
       "Time                       0\n",
       "Global_active_power        0\n",
       "Global_reactive_power      0\n",
       "Voltage                    0\n",
       "Global_intensity           0\n",
       "Sub_metering_1             0\n",
       "Sub_metering_2             0\n",
       "Sub_metering_3           173\n",
       "dtype: int64"
      ]
     },
     "execution_count": 85,
     "metadata": {},
     "output_type": "execute_result"
    }
   ],
   "source": [
    "# Check for missing data\n",
    "data1.isnull().sum()\n"
   ]
  },
  {
   "cell_type": "code",
   "execution_count": 86,
   "id": "3b67f2a7",
   "metadata": {},
   "outputs": [],
   "source": [
    "# replacing special characters\n",
    "chars_to_remove=['?']\n",
    "cols_to_clean=['Global_active_power','Global_reactive_power','Voltage','Global_intensity','Sub_metering_1','Sub_metering_2']\n",
    "for item in chars_to_remove:\n",
    "    for col in cols_to_clean:\n",
    "        data1[col]=data1[col].replace(item,np.nan)"
   ]
  },
  {
   "cell_type": "code",
   "execution_count": 87,
   "id": "dea152d9",
   "metadata": {},
   "outputs": [
    {
     "data": {
      "text/plain": [
       "Index(['Date', 'Time', 'Global_active_power', 'Global_reactive_power',\n",
       "       'Voltage', 'Global_intensity', 'Sub_metering_1', 'Sub_metering_2',\n",
       "       'Sub_metering_3'],\n",
       "      dtype='object')"
      ]
     },
     "execution_count": 87,
     "metadata": {},
     "output_type": "execute_result"
    }
   ],
   "source": [
    "data.columns"
   ]
  },
  {
   "cell_type": "code",
   "execution_count": 106,
   "id": "40e1363b",
   "metadata": {},
   "outputs": [
    {
     "data": {
      "text/html": [
       "<div>\n",
       "<style scoped>\n",
       "    .dataframe tbody tr th:only-of-type {\n",
       "        vertical-align: middle;\n",
       "    }\n",
       "\n",
       "    .dataframe tbody tr th {\n",
       "        vertical-align: top;\n",
       "    }\n",
       "\n",
       "    .dataframe thead th {\n",
       "        text-align: right;\n",
       "    }\n",
       "</style>\n",
       "<table border=\"1\" class=\"dataframe\">\n",
       "  <thead>\n",
       "    <tr style=\"text-align: right;\">\n",
       "      <th></th>\n",
       "      <th>Date</th>\n",
       "      <th>Time</th>\n",
       "      <th>Global_active_power</th>\n",
       "      <th>Global_reactive_power</th>\n",
       "      <th>Voltage</th>\n",
       "      <th>Global_intensity</th>\n",
       "      <th>Sub_metering_1</th>\n",
       "      <th>Sub_metering_2</th>\n",
       "      <th>Sub_metering_3</th>\n",
       "    </tr>\n",
       "  </thead>\n",
       "  <tbody>\n",
       "    <tr>\n",
       "      <th>1131492</th>\n",
       "      <td>2009-09-02</td>\n",
       "      <td>11:36:00</td>\n",
       "      <td>1.668</td>\n",
       "      <td>0.000</td>\n",
       "      <td>239.63</td>\n",
       "      <td>6.8</td>\n",
       "      <td>0.0</td>\n",
       "      <td>0.0</td>\n",
       "      <td>18.0</td>\n",
       "    </tr>\n",
       "    <tr>\n",
       "      <th>1903520</th>\n",
       "      <td>2010-07-30</td>\n",
       "      <td>14:44:00</td>\n",
       "      <td>0.248</td>\n",
       "      <td>0.108</td>\n",
       "      <td>239.36</td>\n",
       "      <td>1.0</td>\n",
       "      <td>0.0</td>\n",
       "      <td>0.0</td>\n",
       "      <td>1.0</td>\n",
       "    </tr>\n",
       "    <tr>\n",
       "      <th>1377791</th>\n",
       "      <td>2009-07-30</td>\n",
       "      <td>12:35:00</td>\n",
       "      <td>0.228</td>\n",
       "      <td>0.092</td>\n",
       "      <td>244.18</td>\n",
       "      <td>1.0</td>\n",
       "      <td>0.0</td>\n",
       "      <td>0.0</td>\n",
       "      <td>0.0</td>\n",
       "    </tr>\n",
       "    <tr>\n",
       "      <th>23835</th>\n",
       "      <td>2007-02-01</td>\n",
       "      <td>06:39:00</td>\n",
       "      <td>0.380</td>\n",
       "      <td>0.000</td>\n",
       "      <td>243.23</td>\n",
       "      <td>1.6</td>\n",
       "      <td>0.0</td>\n",
       "      <td>0.0</td>\n",
       "      <td>0.0</td>\n",
       "    </tr>\n",
       "    <tr>\n",
       "      <th>1050737</th>\n",
       "      <td>2008-12-15</td>\n",
       "      <td>09:41:00</td>\n",
       "      <td>1.346</td>\n",
       "      <td>0.054</td>\n",
       "      <td>242.13</td>\n",
       "      <td>5.6</td>\n",
       "      <td>0.0</td>\n",
       "      <td>0.0</td>\n",
       "      <td>18.0</td>\n",
       "    </tr>\n",
       "  </tbody>\n",
       "</table>\n",
       "</div>"
      ],
      "text/plain": [
       "              Date      Time  Global_active_power  Global_reactive_power  \\\n",
       "1131492 2009-09-02  11:36:00                1.668                  0.000   \n",
       "1903520 2010-07-30  14:44:00                0.248                  0.108   \n",
       "1377791 2009-07-30  12:35:00                0.228                  0.092   \n",
       "23835   2007-02-01  06:39:00                0.380                  0.000   \n",
       "1050737 2008-12-15  09:41:00                1.346                  0.054   \n",
       "\n",
       "         Voltage  Global_intensity  Sub_metering_1  Sub_metering_2  \\\n",
       "1131492   239.63               6.8             0.0             0.0   \n",
       "1903520   239.36               1.0             0.0             0.0   \n",
       "1377791   244.18               1.0             0.0             0.0   \n",
       "23835     243.23               1.6             0.0             0.0   \n",
       "1050737   242.13               5.6             0.0             0.0   \n",
       "\n",
       "         Sub_metering_3  \n",
       "1131492            18.0  \n",
       "1903520             1.0  \n",
       "1377791             0.0  \n",
       "23835               0.0  \n",
       "1050737            18.0  "
      ]
     },
     "execution_count": 106,
     "metadata": {},
     "output_type": "execute_result"
    }
   ],
   "source": [
    "# Display first five records of the data\n",
    "data1.head(5)"
   ]
  },
  {
   "cell_type": "code",
   "execution_count": 89,
   "id": "899afc64",
   "metadata": {},
   "outputs": [],
   "source": [
    "# Converting data types\n",
    "columns = ['Global_active_power','Global_reactive_power','Voltage','Global_intensity','Sub_metering_1','Sub_metering_2']\n",
    "for col in columns:\n",
    "    data1[col]=data1[col].astype(float)"
   ]
  },
  {
   "cell_type": "code",
   "execution_count": 90,
   "id": "5eb3be09",
   "metadata": {},
   "outputs": [
    {
     "name": "stdout",
     "output_type": "stream",
     "text": [
      "<class 'pandas.core.frame.DataFrame'>\n",
      "Int64Index: 15000 entries, 1131492 to 190265\n",
      "Data columns (total 9 columns):\n",
      " #   Column                 Non-Null Count  Dtype  \n",
      "---  ------                 --------------  -----  \n",
      " 0   Date                   15000 non-null  object \n",
      " 1   Time                   15000 non-null  object \n",
      " 2   Global_active_power    14827 non-null  float64\n",
      " 3   Global_reactive_power  14827 non-null  float64\n",
      " 4   Voltage                14827 non-null  float64\n",
      " 5   Global_intensity       14827 non-null  float64\n",
      " 6   Sub_metering_1         14827 non-null  float64\n",
      " 7   Sub_metering_2         14827 non-null  float64\n",
      " 8   Sub_metering_3         14827 non-null  float64\n",
      "dtypes: float64(7), object(2)\n",
      "memory usage: 1.1+ MB\n"
     ]
    }
   ],
   "source": [
    "data1.info()"
   ]
  },
  {
   "cell_type": "code",
   "execution_count": 91,
   "id": "f7559a73",
   "metadata": {},
   "outputs": [
    {
     "data": {
      "text/plain": [
       "(15000, 9)"
      ]
     },
     "execution_count": 91,
     "metadata": {},
     "output_type": "execute_result"
    }
   ],
   "source": [
    "data1.shape"
   ]
  },
  {
   "cell_type": "code",
   "execution_count": 92,
   "id": "5a2225ab",
   "metadata": {},
   "outputs": [
    {
     "name": "stderr",
     "output_type": "stream",
     "text": [
      "C:\\Users\\Admin\\AppData\\Local\\Temp\\ipykernel_4816\\3686951426.py:2: UserWarning: Parsing '15/12/2008' in DD/MM/YYYY format. Provide format or specify infer_datetime_format=True for consistent parsing.\n",
      "  data1['Date'] = pd.to_datetime(data1[\"Date\"])\n",
      "C:\\Users\\Admin\\AppData\\Local\\Temp\\ipykernel_4816\\3686951426.py:2: UserWarning: Parsing '15/10/2009' in DD/MM/YYYY format. Provide format or specify infer_datetime_format=True for consistent parsing.\n",
      "  data1['Date'] = pd.to_datetime(data1[\"Date\"])\n",
      "C:\\Users\\Admin\\AppData\\Local\\Temp\\ipykernel_4816\\3686951426.py:2: UserWarning: Parsing '23/11/2009' in DD/MM/YYYY format. Provide format or specify infer_datetime_format=True for consistent parsing.\n",
      "  data1['Date'] = pd.to_datetime(data1[\"Date\"])\n",
      "C:\\Users\\Admin\\AppData\\Local\\Temp\\ipykernel_4816\\3686951426.py:2: UserWarning: Parsing '31/10/2008' in DD/MM/YYYY format. Provide format or specify infer_datetime_format=True for consistent parsing.\n",
      "  data1['Date'] = pd.to_datetime(data1[\"Date\"])\n",
      "C:\\Users\\Admin\\AppData\\Local\\Temp\\ipykernel_4816\\3686951426.py:2: UserWarning: Parsing '17/11/2010' in DD/MM/YYYY format. Provide format or specify infer_datetime_format=True for consistent parsing.\n",
      "  data1['Date'] = pd.to_datetime(data1[\"Date\"])\n",
      "C:\\Users\\Admin\\AppData\\Local\\Temp\\ipykernel_4816\\3686951426.py:2: UserWarning: Parsing '22/11/2008' in DD/MM/YYYY format. Provide format or specify infer_datetime_format=True for consistent parsing.\n",
      "  data1['Date'] = pd.to_datetime(data1[\"Date\"])\n",
      "C:\\Users\\Admin\\AppData\\Local\\Temp\\ipykernel_4816\\3686951426.py:2: UserWarning: Parsing '14/12/2008' in DD/MM/YYYY format. Provide format or specify infer_datetime_format=True for consistent parsing.\n",
      "  data1['Date'] = pd.to_datetime(data1[\"Date\"])\n",
      "C:\\Users\\Admin\\AppData\\Local\\Temp\\ipykernel_4816\\3686951426.py:2: UserWarning: Parsing '21/12/2008' in DD/MM/YYYY format. Provide format or specify infer_datetime_format=True for consistent parsing.\n",
      "  data1['Date'] = pd.to_datetime(data1[\"Date\"])\n",
      "C:\\Users\\Admin\\AppData\\Local\\Temp\\ipykernel_4816\\3686951426.py:2: UserWarning: Parsing '28/11/2009' in DD/MM/YYYY format. Provide format or specify infer_datetime_format=True for consistent parsing.\n",
      "  data1['Date'] = pd.to_datetime(data1[\"Date\"])\n",
      "C:\\Users\\Admin\\AppData\\Local\\Temp\\ipykernel_4816\\3686951426.py:2: UserWarning: Parsing '26/11/2010' in DD/MM/YYYY format. Provide format or specify infer_datetime_format=True for consistent parsing.\n",
      "  data1['Date'] = pd.to_datetime(data1[\"Date\"])\n",
      "C:\\Users\\Admin\\AppData\\Local\\Temp\\ipykernel_4816\\3686951426.py:2: UserWarning: Parsing '13/11/2010' in DD/MM/YYYY format. Provide format or specify infer_datetime_format=True for consistent parsing.\n",
      "  data1['Date'] = pd.to_datetime(data1[\"Date\"])\n",
      "C:\\Users\\Admin\\AppData\\Local\\Temp\\ipykernel_4816\\3686951426.py:2: UserWarning: Parsing '18/12/2007' in DD/MM/YYYY format. Provide format or specify infer_datetime_format=True for consistent parsing.\n",
      "  data1['Date'] = pd.to_datetime(data1[\"Date\"])\n",
      "C:\\Users\\Admin\\AppData\\Local\\Temp\\ipykernel_4816\\3686951426.py:2: UserWarning: Parsing '22/12/2008' in DD/MM/YYYY format. Provide format or specify infer_datetime_format=True for consistent parsing.\n",
      "  data1['Date'] = pd.to_datetime(data1[\"Date\"])\n",
      "C:\\Users\\Admin\\AppData\\Local\\Temp\\ipykernel_4816\\3686951426.py:2: UserWarning: Parsing '23/11/2010' in DD/MM/YYYY format. Provide format or specify infer_datetime_format=True for consistent parsing.\n",
      "  data1['Date'] = pd.to_datetime(data1[\"Date\"])\n",
      "C:\\Users\\Admin\\AppData\\Local\\Temp\\ipykernel_4816\\3686951426.py:2: UserWarning: Parsing '14/11/2008' in DD/MM/YYYY format. Provide format or specify infer_datetime_format=True for consistent parsing.\n",
      "  data1['Date'] = pd.to_datetime(data1[\"Date\"])\n",
      "C:\\Users\\Admin\\AppData\\Local\\Temp\\ipykernel_4816\\3686951426.py:2: UserWarning: Parsing '25/11/2009' in DD/MM/YYYY format. Provide format or specify infer_datetime_format=True for consistent parsing.\n",
      "  data1['Date'] = pd.to_datetime(data1[\"Date\"])\n",
      "C:\\Users\\Admin\\AppData\\Local\\Temp\\ipykernel_4816\\3686951426.py:2: UserWarning: Parsing '24/11/2008' in DD/MM/YYYY format. Provide format or specify infer_datetime_format=True for consistent parsing.\n",
      "  data1['Date'] = pd.to_datetime(data1[\"Date\"])\n",
      "C:\\Users\\Admin\\AppData\\Local\\Temp\\ipykernel_4816\\3686951426.py:2: UserWarning: Parsing '26/12/2008' in DD/MM/YYYY format. Provide format or specify infer_datetime_format=True for consistent parsing.\n",
      "  data1['Date'] = pd.to_datetime(data1[\"Date\"])\n",
      "C:\\Users\\Admin\\AppData\\Local\\Temp\\ipykernel_4816\\3686951426.py:2: UserWarning: Parsing '27/10/2008' in DD/MM/YYYY format. Provide format or specify infer_datetime_format=True for consistent parsing.\n",
      "  data1['Date'] = pd.to_datetime(data1[\"Date\"])\n",
      "C:\\Users\\Admin\\AppData\\Local\\Temp\\ipykernel_4816\\3686951426.py:2: UserWarning: Parsing '14/12/2007' in DD/MM/YYYY format. Provide format or specify infer_datetime_format=True for consistent parsing.\n",
      "  data1['Date'] = pd.to_datetime(data1[\"Date\"])\n",
      "C:\\Users\\Admin\\AppData\\Local\\Temp\\ipykernel_4816\\3686951426.py:2: UserWarning: Parsing '21/12/2006' in DD/MM/YYYY format. Provide format or specify infer_datetime_format=True for consistent parsing.\n",
      "  data1['Date'] = pd.to_datetime(data1[\"Date\"])\n",
      "C:\\Users\\Admin\\AppData\\Local\\Temp\\ipykernel_4816\\3686951426.py:2: UserWarning: Parsing '28/10/2008' in DD/MM/YYYY format. Provide format or specify infer_datetime_format=True for consistent parsing.\n",
      "  data1['Date'] = pd.to_datetime(data1[\"Date\"])\n",
      "C:\\Users\\Admin\\AppData\\Local\\Temp\\ipykernel_4816\\3686951426.py:2: UserWarning: Parsing '23/11/2007' in DD/MM/YYYY format. Provide format or specify infer_datetime_format=True for consistent parsing.\n",
      "  data1['Date'] = pd.to_datetime(data1[\"Date\"])\n",
      "C:\\Users\\Admin\\AppData\\Local\\Temp\\ipykernel_4816\\3686951426.py:2: UserWarning: Parsing '22/12/2009' in DD/MM/YYYY format. Provide format or specify infer_datetime_format=True for consistent parsing.\n",
      "  data1['Date'] = pd.to_datetime(data1[\"Date\"])\n",
      "C:\\Users\\Admin\\AppData\\Local\\Temp\\ipykernel_4816\\3686951426.py:2: UserWarning: Parsing '13/12/2009' in DD/MM/YYYY format. Provide format or specify infer_datetime_format=True for consistent parsing.\n",
      "  data1['Date'] = pd.to_datetime(data1[\"Date\"])\n",
      "C:\\Users\\Admin\\AppData\\Local\\Temp\\ipykernel_4816\\3686951426.py:2: UserWarning: Parsing '16/11/2007' in DD/MM/YYYY format. Provide format or specify infer_datetime_format=True for consistent parsing.\n",
      "  data1['Date'] = pd.to_datetime(data1[\"Date\"])\n",
      "C:\\Users\\Admin\\AppData\\Local\\Temp\\ipykernel_4816\\3686951426.py:2: UserWarning: Parsing '26/10/2008' in DD/MM/YYYY format. Provide format or specify infer_datetime_format=True for consistent parsing.\n",
      "  data1['Date'] = pd.to_datetime(data1[\"Date\"])\n",
      "C:\\Users\\Admin\\AppData\\Local\\Temp\\ipykernel_4816\\3686951426.py:2: UserWarning: Parsing '18/10/2007' in DD/MM/YYYY format. Provide format or specify infer_datetime_format=True for consistent parsing.\n",
      "  data1['Date'] = pd.to_datetime(data1[\"Date\"])\n",
      "C:\\Users\\Admin\\AppData\\Local\\Temp\\ipykernel_4816\\3686951426.py:2: UserWarning: Parsing '19/10/2007' in DD/MM/YYYY format. Provide format or specify infer_datetime_format=True for consistent parsing.\n",
      "  data1['Date'] = pd.to_datetime(data1[\"Date\"])\n",
      "C:\\Users\\Admin\\AppData\\Local\\Temp\\ipykernel_4816\\3686951426.py:2: UserWarning: Parsing '18/11/2007' in DD/MM/YYYY format. Provide format or specify infer_datetime_format=True for consistent parsing.\n",
      "  data1['Date'] = pd.to_datetime(data1[\"Date\"])\n",
      "C:\\Users\\Admin\\AppData\\Local\\Temp\\ipykernel_4816\\3686951426.py:2: UserWarning: Parsing '25/10/2008' in DD/MM/YYYY format. Provide format or specify infer_datetime_format=True for consistent parsing.\n",
      "  data1['Date'] = pd.to_datetime(data1[\"Date\"])\n",
      "C:\\Users\\Admin\\AppData\\Local\\Temp\\ipykernel_4816\\3686951426.py:2: UserWarning: Parsing '27/12/2009' in DD/MM/YYYY format. Provide format or specify infer_datetime_format=True for consistent parsing.\n",
      "  data1['Date'] = pd.to_datetime(data1[\"Date\"])\n",
      "C:\\Users\\Admin\\AppData\\Local\\Temp\\ipykernel_4816\\3686951426.py:2: UserWarning: Parsing '27/12/2006' in DD/MM/YYYY format. Provide format or specify infer_datetime_format=True for consistent parsing.\n",
      "  data1['Date'] = pd.to_datetime(data1[\"Date\"])\n",
      "C:\\Users\\Admin\\AppData\\Local\\Temp\\ipykernel_4816\\3686951426.py:2: UserWarning: Parsing '30/12/2007' in DD/MM/YYYY format. Provide format or specify infer_datetime_format=True for consistent parsing.\n",
      "  data1['Date'] = pd.to_datetime(data1[\"Date\"])\n",
      "C:\\Users\\Admin\\AppData\\Local\\Temp\\ipykernel_4816\\3686951426.py:2: UserWarning: Parsing '14/12/2009' in DD/MM/YYYY format. Provide format or specify infer_datetime_format=True for consistent parsing.\n",
      "  data1['Date'] = pd.to_datetime(data1[\"Date\"])\n",
      "C:\\Users\\Admin\\AppData\\Local\\Temp\\ipykernel_4816\\3686951426.py:2: UserWarning: Parsing '16/11/2008' in DD/MM/YYYY format. Provide format or specify infer_datetime_format=True for consistent parsing.\n",
      "  data1['Date'] = pd.to_datetime(data1[\"Date\"])\n",
      "C:\\Users\\Admin\\AppData\\Local\\Temp\\ipykernel_4816\\3686951426.py:2: UserWarning: Parsing '19/11/2007' in DD/MM/YYYY format. Provide format or specify infer_datetime_format=True for consistent parsing.\n",
      "  data1['Date'] = pd.to_datetime(data1[\"Date\"])\n",
      "C:\\Users\\Admin\\AppData\\Local\\Temp\\ipykernel_4816\\3686951426.py:2: UserWarning: Parsing '21/10/2008' in DD/MM/YYYY format. Provide format or specify infer_datetime_format=True for consistent parsing.\n",
      "  data1['Date'] = pd.to_datetime(data1[\"Date\"])\n",
      "C:\\Users\\Admin\\AppData\\Local\\Temp\\ipykernel_4816\\3686951426.py:2: UserWarning: Parsing '28/10/2010' in DD/MM/YYYY format. Provide format or specify infer_datetime_format=True for consistent parsing.\n",
      "  data1['Date'] = pd.to_datetime(data1[\"Date\"])\n",
      "C:\\Users\\Admin\\AppData\\Local\\Temp\\ipykernel_4816\\3686951426.py:2: UserWarning: Parsing '31/12/2008' in DD/MM/YYYY format. Provide format or specify infer_datetime_format=True for consistent parsing.\n",
      "  data1['Date'] = pd.to_datetime(data1[\"Date\"])\n",
      "C:\\Users\\Admin\\AppData\\Local\\Temp\\ipykernel_4816\\3686951426.py:2: UserWarning: Parsing '21/12/2007' in DD/MM/YYYY format. Provide format or specify infer_datetime_format=True for consistent parsing.\n",
      "  data1['Date'] = pd.to_datetime(data1[\"Date\"])\n",
      "C:\\Users\\Admin\\AppData\\Local\\Temp\\ipykernel_4816\\3686951426.py:2: UserWarning: Parsing '27/10/2007' in DD/MM/YYYY format. Provide format or specify infer_datetime_format=True for consistent parsing.\n",
      "  data1['Date'] = pd.to_datetime(data1[\"Date\"])\n",
      "C:\\Users\\Admin\\AppData\\Local\\Temp\\ipykernel_4816\\3686951426.py:2: UserWarning: Parsing '20/11/2007' in DD/MM/YYYY format. Provide format or specify infer_datetime_format=True for consistent parsing.\n",
      "  data1['Date'] = pd.to_datetime(data1[\"Date\"])\n",
      "C:\\Users\\Admin\\AppData\\Local\\Temp\\ipykernel_4816\\3686951426.py:2: UserWarning: Parsing '14/10/2008' in DD/MM/YYYY format. Provide format or specify infer_datetime_format=True for consistent parsing.\n",
      "  data1['Date'] = pd.to_datetime(data1[\"Date\"])\n",
      "C:\\Users\\Admin\\AppData\\Local\\Temp\\ipykernel_4816\\3686951426.py:2: UserWarning: Parsing '18/12/2009' in DD/MM/YYYY format. Provide format or specify infer_datetime_format=True for consistent parsing.\n",
      "  data1['Date'] = pd.to_datetime(data1[\"Date\"])\n",
      "C:\\Users\\Admin\\AppData\\Local\\Temp\\ipykernel_4816\\3686951426.py:2: UserWarning: Parsing '16/10/2008' in DD/MM/YYYY format. Provide format or specify infer_datetime_format=True for consistent parsing.\n",
      "  data1['Date'] = pd.to_datetime(data1[\"Date\"])\n",
      "C:\\Users\\Admin\\AppData\\Local\\Temp\\ipykernel_4816\\3686951426.py:2: UserWarning: Parsing '26/10/2009' in DD/MM/YYYY format. Provide format or specify infer_datetime_format=True for consistent parsing.\n",
      "  data1['Date'] = pd.to_datetime(data1[\"Date\"])\n",
      "C:\\Users\\Admin\\AppData\\Local\\Temp\\ipykernel_4816\\3686951426.py:2: UserWarning: Parsing '15/11/2007' in DD/MM/YYYY format. Provide format or specify infer_datetime_format=True for consistent parsing.\n",
      "  data1['Date'] = pd.to_datetime(data1[\"Date\"])\n",
      "C:\\Users\\Admin\\AppData\\Local\\Temp\\ipykernel_4816\\3686951426.py:2: UserWarning: Parsing '20/11/2010' in DD/MM/YYYY format. Provide format or specify infer_datetime_format=True for consistent parsing.\n",
      "  data1['Date'] = pd.to_datetime(data1[\"Date\"])\n",
      "C:\\Users\\Admin\\AppData\\Local\\Temp\\ipykernel_4816\\3686951426.py:2: UserWarning: Parsing '21/10/2010' in DD/MM/YYYY format. Provide format or specify infer_datetime_format=True for consistent parsing.\n",
      "  data1['Date'] = pd.to_datetime(data1[\"Date\"])\n",
      "C:\\Users\\Admin\\AppData\\Local\\Temp\\ipykernel_4816\\3686951426.py:2: UserWarning: Parsing '18/11/2009' in DD/MM/YYYY format. Provide format or specify infer_datetime_format=True for consistent parsing.\n",
      "  data1['Date'] = pd.to_datetime(data1[\"Date\"])\n",
      "C:\\Users\\Admin\\AppData\\Local\\Temp\\ipykernel_4816\\3686951426.py:2: UserWarning: Parsing '26/12/2009' in DD/MM/YYYY format. Provide format or specify infer_datetime_format=True for consistent parsing.\n",
      "  data1['Date'] = pd.to_datetime(data1[\"Date\"])\n",
      "C:\\Users\\Admin\\AppData\\Local\\Temp\\ipykernel_4816\\3686951426.py:2: UserWarning: Parsing '17/10/2007' in DD/MM/YYYY format. Provide format or specify infer_datetime_format=True for consistent parsing.\n",
      "  data1['Date'] = pd.to_datetime(data1[\"Date\"])\n",
      "C:\\Users\\Admin\\AppData\\Local\\Temp\\ipykernel_4816\\3686951426.py:2: UserWarning: Parsing '30/11/2008' in DD/MM/YYYY format. Provide format or specify infer_datetime_format=True for consistent parsing.\n",
      "  data1['Date'] = pd.to_datetime(data1[\"Date\"])\n",
      "C:\\Users\\Admin\\AppData\\Local\\Temp\\ipykernel_4816\\3686951426.py:2: UserWarning: Parsing '17/12/2007' in DD/MM/YYYY format. Provide format or specify infer_datetime_format=True for consistent parsing.\n",
      "  data1['Date'] = pd.to_datetime(data1[\"Date\"])\n",
      "C:\\Users\\Admin\\AppData\\Local\\Temp\\ipykernel_4816\\3686951426.py:2: UserWarning: Parsing '24/12/2007' in DD/MM/YYYY format. Provide format or specify infer_datetime_format=True for consistent parsing.\n",
      "  data1['Date'] = pd.to_datetime(data1[\"Date\"])\n",
      "C:\\Users\\Admin\\AppData\\Local\\Temp\\ipykernel_4816\\3686951426.py:2: UserWarning: Parsing '27/11/2008' in DD/MM/YYYY format. Provide format or specify infer_datetime_format=True for consistent parsing.\n",
      "  data1['Date'] = pd.to_datetime(data1[\"Date\"])\n",
      "C:\\Users\\Admin\\AppData\\Local\\Temp\\ipykernel_4816\\3686951426.py:2: UserWarning: Parsing '23/12/2008' in DD/MM/YYYY format. Provide format or specify infer_datetime_format=True for consistent parsing.\n",
      "  data1['Date'] = pd.to_datetime(data1[\"Date\"])\n",
      "C:\\Users\\Admin\\AppData\\Local\\Temp\\ipykernel_4816\\3686951426.py:2: UserWarning: Parsing '29/12/2006' in DD/MM/YYYY format. Provide format or specify infer_datetime_format=True for consistent parsing.\n",
      "  data1['Date'] = pd.to_datetime(data1[\"Date\"])\n",
      "C:\\Users\\Admin\\AppData\\Local\\Temp\\ipykernel_4816\\3686951426.py:2: UserWarning: Parsing '29/11/2008' in DD/MM/YYYY format. Provide format or specify infer_datetime_format=True for consistent parsing.\n",
      "  data1['Date'] = pd.to_datetime(data1[\"Date\"])\n",
      "C:\\Users\\Admin\\AppData\\Local\\Temp\\ipykernel_4816\\3686951426.py:2: UserWarning: Parsing '17/12/2006' in DD/MM/YYYY format. Provide format or specify infer_datetime_format=True for consistent parsing.\n",
      "  data1['Date'] = pd.to_datetime(data1[\"Date\"])\n",
      "C:\\Users\\Admin\\AppData\\Local\\Temp\\ipykernel_4816\\3686951426.py:2: UserWarning: Parsing '24/11/2007' in DD/MM/YYYY format. Provide format or specify infer_datetime_format=True for consistent parsing.\n",
      "  data1['Date'] = pd.to_datetime(data1[\"Date\"])\n",
      "C:\\Users\\Admin\\AppData\\Local\\Temp\\ipykernel_4816\\3686951426.py:2: UserWarning: Parsing '22/11/2010' in DD/MM/YYYY format. Provide format or specify infer_datetime_format=True for consistent parsing.\n",
      "  data1['Date'] = pd.to_datetime(data1[\"Date\"])\n",
      "C:\\Users\\Admin\\AppData\\Local\\Temp\\ipykernel_4816\\3686951426.py:2: UserWarning: Parsing '30/12/2008' in DD/MM/YYYY format. Provide format or specify infer_datetime_format=True for consistent parsing.\n",
      "  data1['Date'] = pd.to_datetime(data1[\"Date\"])\n",
      "C:\\Users\\Admin\\AppData\\Local\\Temp\\ipykernel_4816\\3686951426.py:2: UserWarning: Parsing '23/12/2006' in DD/MM/YYYY format. Provide format or specify infer_datetime_format=True for consistent parsing.\n",
      "  data1['Date'] = pd.to_datetime(data1[\"Date\"])\n",
      "C:\\Users\\Admin\\AppData\\Local\\Temp\\ipykernel_4816\\3686951426.py:2: UserWarning: Parsing '19/10/2008' in DD/MM/YYYY format. Provide format or specify infer_datetime_format=True for consistent parsing.\n",
      "  data1['Date'] = pd.to_datetime(data1[\"Date\"])\n",
      "C:\\Users\\Admin\\AppData\\Local\\Temp\\ipykernel_4816\\3686951426.py:2: UserWarning: Parsing '25/12/2006' in DD/MM/YYYY format. Provide format or specify infer_datetime_format=True for consistent parsing.\n",
      "  data1['Date'] = pd.to_datetime(data1[\"Date\"])\n",
      "C:\\Users\\Admin\\AppData\\Local\\Temp\\ipykernel_4816\\3686951426.py:2: UserWarning: Parsing '30/12/2009' in DD/MM/YYYY format. Provide format or specify infer_datetime_format=True for consistent parsing.\n",
      "  data1['Date'] = pd.to_datetime(data1[\"Date\"])\n",
      "C:\\Users\\Admin\\AppData\\Local\\Temp\\ipykernel_4816\\3686951426.py:2: UserWarning: Parsing '28/11/2007' in DD/MM/YYYY format. Provide format or specify infer_datetime_format=True for consistent parsing.\n",
      "  data1['Date'] = pd.to_datetime(data1[\"Date\"])\n",
      "C:\\Users\\Admin\\AppData\\Local\\Temp\\ipykernel_4816\\3686951426.py:2: UserWarning: Parsing '15/11/2008' in DD/MM/YYYY format. Provide format or specify infer_datetime_format=True for consistent parsing.\n",
      "  data1['Date'] = pd.to_datetime(data1[\"Date\"])\n",
      "C:\\Users\\Admin\\AppData\\Local\\Temp\\ipykernel_4816\\3686951426.py:2: UserWarning: Parsing '29/12/2007' in DD/MM/YYYY format. Provide format or specify infer_datetime_format=True for consistent parsing.\n",
      "  data1['Date'] = pd.to_datetime(data1[\"Date\"])\n",
      "C:\\Users\\Admin\\AppData\\Local\\Temp\\ipykernel_4816\\3686951426.py:2: UserWarning: Parsing '20/10/2007' in DD/MM/YYYY format. Provide format or specify infer_datetime_format=True for consistent parsing.\n",
      "  data1['Date'] = pd.to_datetime(data1[\"Date\"])\n",
      "C:\\Users\\Admin\\AppData\\Local\\Temp\\ipykernel_4816\\3686951426.py:2: UserWarning: Parsing '17/11/2009' in DD/MM/YYYY format. Provide format or specify infer_datetime_format=True for consistent parsing.\n",
      "  data1['Date'] = pd.to_datetime(data1[\"Date\"])\n",
      "C:\\Users\\Admin\\AppData\\Local\\Temp\\ipykernel_4816\\3686951426.py:2: UserWarning: Parsing '27/11/2007' in DD/MM/YYYY format. Provide format or specify infer_datetime_format=True for consistent parsing.\n",
      "  data1['Date'] = pd.to_datetime(data1[\"Date\"])\n",
      "C:\\Users\\Admin\\AppData\\Local\\Temp\\ipykernel_4816\\3686951426.py:2: UserWarning: Parsing '13/10/2007' in DD/MM/YYYY format. Provide format or specify infer_datetime_format=True for consistent parsing.\n",
      "  data1['Date'] = pd.to_datetime(data1[\"Date\"])\n",
      "C:\\Users\\Admin\\AppData\\Local\\Temp\\ipykernel_4816\\3686951426.py:2: UserWarning: Parsing '15/12/2009' in DD/MM/YYYY format. Provide format or specify infer_datetime_format=True for consistent parsing.\n",
      "  data1['Date'] = pd.to_datetime(data1[\"Date\"])\n",
      "C:\\Users\\Admin\\AppData\\Local\\Temp\\ipykernel_4816\\3686951426.py:2: UserWarning: Parsing '21/11/2008' in DD/MM/YYYY format. Provide format or specify infer_datetime_format=True for consistent parsing.\n",
      "  data1['Date'] = pd.to_datetime(data1[\"Date\"])\n",
      "C:\\Users\\Admin\\AppData\\Local\\Temp\\ipykernel_4816\\3686951426.py:2: UserWarning: Parsing '17/10/2009' in DD/MM/YYYY format. Provide format or specify infer_datetime_format=True for consistent parsing.\n",
      "  data1['Date'] = pd.to_datetime(data1[\"Date\"])\n",
      "C:\\Users\\Admin\\AppData\\Local\\Temp\\ipykernel_4816\\3686951426.py:2: UserWarning: Parsing '24/12/2008' in DD/MM/YYYY format. Provide format or specify infer_datetime_format=True for consistent parsing.\n",
      "  data1['Date'] = pd.to_datetime(data1[\"Date\"])\n",
      "C:\\Users\\Admin\\AppData\\Local\\Temp\\ipykernel_4816\\3686951426.py:2: UserWarning: Parsing '30/11/2009' in DD/MM/YYYY format. Provide format or specify infer_datetime_format=True for consistent parsing.\n",
      "  data1['Date'] = pd.to_datetime(data1[\"Date\"])\n",
      "C:\\Users\\Admin\\AppData\\Local\\Temp\\ipykernel_4816\\3686951426.py:2: UserWarning: Parsing '29/11/2007' in DD/MM/YYYY format. Provide format or specify infer_datetime_format=True for consistent parsing.\n",
      "  data1['Date'] = pd.to_datetime(data1[\"Date\"])\n",
      "C:\\Users\\Admin\\AppData\\Local\\Temp\\ipykernel_4816\\3686951426.py:2: UserWarning: Parsing '16/10/2007' in DD/MM/YYYY format. Provide format or specify infer_datetime_format=True for consistent parsing.\n",
      "  data1['Date'] = pd.to_datetime(data1[\"Date\"])\n",
      "C:\\Users\\Admin\\AppData\\Local\\Temp\\ipykernel_4816\\3686951426.py:2: UserWarning: Parsing '26/11/2007' in DD/MM/YYYY format. Provide format or specify infer_datetime_format=True for consistent parsing.\n",
      "  data1['Date'] = pd.to_datetime(data1[\"Date\"])\n",
      "C:\\Users\\Admin\\AppData\\Local\\Temp\\ipykernel_4816\\3686951426.py:2: UserWarning: Parsing '20/12/2008' in DD/MM/YYYY format. Provide format or specify infer_datetime_format=True for consistent parsing.\n",
      "  data1['Date'] = pd.to_datetime(data1[\"Date\"])\n",
      "C:\\Users\\Admin\\AppData\\Local\\Temp\\ipykernel_4816\\3686951426.py:2: UserWarning: Parsing '31/12/2007' in DD/MM/YYYY format. Provide format or specify infer_datetime_format=True for consistent parsing.\n",
      "  data1['Date'] = pd.to_datetime(data1[\"Date\"])\n",
      "C:\\Users\\Admin\\AppData\\Local\\Temp\\ipykernel_4816\\3686951426.py:2: UserWarning: Parsing '30/10/2009' in DD/MM/YYYY format. Provide format or specify infer_datetime_format=True for consistent parsing.\n",
      "  data1['Date'] = pd.to_datetime(data1[\"Date\"])\n",
      "C:\\Users\\Admin\\AppData\\Local\\Temp\\ipykernel_4816\\3686951426.py:2: UserWarning: Parsing '24/10/2008' in DD/MM/YYYY format. Provide format or specify infer_datetime_format=True for consistent parsing.\n",
      "  data1['Date'] = pd.to_datetime(data1[\"Date\"])\n",
      "C:\\Users\\Admin\\AppData\\Local\\Temp\\ipykernel_4816\\3686951426.py:2: UserWarning: Parsing '16/10/2009' in DD/MM/YYYY format. Provide format or specify infer_datetime_format=True for consistent parsing.\n",
      "  data1['Date'] = pd.to_datetime(data1[\"Date\"])\n",
      "C:\\Users\\Admin\\AppData\\Local\\Temp\\ipykernel_4816\\3686951426.py:2: UserWarning: Parsing '24/10/2010' in DD/MM/YYYY format. Provide format or specify infer_datetime_format=True for consistent parsing.\n",
      "  data1['Date'] = pd.to_datetime(data1[\"Date\"])\n",
      "C:\\Users\\Admin\\AppData\\Local\\Temp\\ipykernel_4816\\3686951426.py:2: UserWarning: Parsing '22/12/2007' in DD/MM/YYYY format. Provide format or specify infer_datetime_format=True for consistent parsing.\n",
      "  data1['Date'] = pd.to_datetime(data1[\"Date\"])\n",
      "C:\\Users\\Admin\\AppData\\Local\\Temp\\ipykernel_4816\\3686951426.py:2: UserWarning: Parsing '31/10/2010' in DD/MM/YYYY format. Provide format or specify infer_datetime_format=True for consistent parsing.\n",
      "  data1['Date'] = pd.to_datetime(data1[\"Date\"])\n",
      "C:\\Users\\Admin\\AppData\\Local\\Temp\\ipykernel_4816\\3686951426.py:2: UserWarning: Parsing '26/10/2010' in DD/MM/YYYY format. Provide format or specify infer_datetime_format=True for consistent parsing.\n",
      "  data1['Date'] = pd.to_datetime(data1[\"Date\"])\n",
      "C:\\Users\\Admin\\AppData\\Local\\Temp\\ipykernel_4816\\3686951426.py:2: UserWarning: Parsing '25/12/2009' in DD/MM/YYYY format. Provide format or specify infer_datetime_format=True for consistent parsing.\n",
      "  data1['Date'] = pd.to_datetime(data1[\"Date\"])\n",
      "C:\\Users\\Admin\\AppData\\Local\\Temp\\ipykernel_4816\\3686951426.py:2: UserWarning: Parsing '26/12/2006' in DD/MM/YYYY format. Provide format or specify infer_datetime_format=True for consistent parsing.\n",
      "  data1['Date'] = pd.to_datetime(data1[\"Date\"])\n",
      "C:\\Users\\Admin\\AppData\\Local\\Temp\\ipykernel_4816\\3686951426.py:2: UserWarning: Parsing '23/10/2010' in DD/MM/YYYY format. Provide format or specify infer_datetime_format=True for consistent parsing.\n",
      "  data1['Date'] = pd.to_datetime(data1[\"Date\"])\n",
      "C:\\Users\\Admin\\AppData\\Local\\Temp\\ipykernel_4816\\3686951426.py:2: UserWarning: Parsing '20/10/2010' in DD/MM/YYYY format. Provide format or specify infer_datetime_format=True for consistent parsing.\n",
      "  data1['Date'] = pd.to_datetime(data1[\"Date\"])\n",
      "C:\\Users\\Admin\\AppData\\Local\\Temp\\ipykernel_4816\\3686951426.py:2: UserWarning: Parsing '22/10/2010' in DD/MM/YYYY format. Provide format or specify infer_datetime_format=True for consistent parsing.\n",
      "  data1['Date'] = pd.to_datetime(data1[\"Date\"])\n",
      "C:\\Users\\Admin\\AppData\\Local\\Temp\\ipykernel_4816\\3686951426.py:2: UserWarning: Parsing '14/11/2010' in DD/MM/YYYY format. Provide format or specify infer_datetime_format=True for consistent parsing.\n",
      "  data1['Date'] = pd.to_datetime(data1[\"Date\"])\n",
      "C:\\Users\\Admin\\AppData\\Local\\Temp\\ipykernel_4816\\3686951426.py:2: UserWarning: Parsing '15/12/2007' in DD/MM/YYYY format. Provide format or specify infer_datetime_format=True for consistent parsing.\n",
      "  data1['Date'] = pd.to_datetime(data1[\"Date\"])\n",
      "C:\\Users\\Admin\\AppData\\Local\\Temp\\ipykernel_4816\\3686951426.py:2: UserWarning: Parsing '18/12/2008' in DD/MM/YYYY format. Provide format or specify infer_datetime_format=True for consistent parsing.\n",
      "  data1['Date'] = pd.to_datetime(data1[\"Date\"])\n",
      "C:\\Users\\Admin\\AppData\\Local\\Temp\\ipykernel_4816\\3686951426.py:2: UserWarning: Parsing '17/11/2008' in DD/MM/YYYY format. Provide format or specify infer_datetime_format=True for consistent parsing.\n",
      "  data1['Date'] = pd.to_datetime(data1[\"Date\"])\n",
      "C:\\Users\\Admin\\AppData\\Local\\Temp\\ipykernel_4816\\3686951426.py:2: UserWarning: Parsing '13/10/2009' in DD/MM/YYYY format. Provide format or specify infer_datetime_format=True for consistent parsing.\n",
      "  data1['Date'] = pd.to_datetime(data1[\"Date\"])\n",
      "C:\\Users\\Admin\\AppData\\Local\\Temp\\ipykernel_4816\\3686951426.py:2: UserWarning: Parsing '28/12/2009' in DD/MM/YYYY format. Provide format or specify infer_datetime_format=True for consistent parsing.\n",
      "  data1['Date'] = pd.to_datetime(data1[\"Date\"])\n",
      "C:\\Users\\Admin\\AppData\\Local\\Temp\\ipykernel_4816\\3686951426.py:2: UserWarning: Parsing '24/12/2009' in DD/MM/YYYY format. Provide format or specify infer_datetime_format=True for consistent parsing.\n",
      "  data1['Date'] = pd.to_datetime(data1[\"Date\"])\n",
      "C:\\Users\\Admin\\AppData\\Local\\Temp\\ipykernel_4816\\3686951426.py:2: UserWarning: Parsing '31/12/2009' in DD/MM/YYYY format. Provide format or specify infer_datetime_format=True for consistent parsing.\n",
      "  data1['Date'] = pd.to_datetime(data1[\"Date\"])\n",
      "C:\\Users\\Admin\\AppData\\Local\\Temp\\ipykernel_4816\\3686951426.py:2: UserWarning: Parsing '20/10/2009' in DD/MM/YYYY format. Provide format or specify infer_datetime_format=True for consistent parsing.\n",
      "  data1['Date'] = pd.to_datetime(data1[\"Date\"])\n",
      "C:\\Users\\Admin\\AppData\\Local\\Temp\\ipykernel_4816\\3686951426.py:2: UserWarning: Parsing '29/10/2010' in DD/MM/YYYY format. Provide format or specify infer_datetime_format=True for consistent parsing.\n",
      "  data1['Date'] = pd.to_datetime(data1[\"Date\"])\n",
      "C:\\Users\\Admin\\AppData\\Local\\Temp\\ipykernel_4816\\3686951426.py:2: UserWarning: Parsing '20/12/2007' in DD/MM/YYYY format. Provide format or specify infer_datetime_format=True for consistent parsing.\n",
      "  data1['Date'] = pd.to_datetime(data1[\"Date\"])\n",
      "C:\\Users\\Admin\\AppData\\Local\\Temp\\ipykernel_4816\\3686951426.py:2: UserWarning: Parsing '24/12/2006' in DD/MM/YYYY format. Provide format or specify infer_datetime_format=True for consistent parsing.\n",
      "  data1['Date'] = pd.to_datetime(data1[\"Date\"])\n",
      "C:\\Users\\Admin\\AppData\\Local\\Temp\\ipykernel_4816\\3686951426.py:2: UserWarning: Parsing '28/12/2008' in DD/MM/YYYY format. Provide format or specify infer_datetime_format=True for consistent parsing.\n",
      "  data1['Date'] = pd.to_datetime(data1[\"Date\"])\n",
      "C:\\Users\\Admin\\AppData\\Local\\Temp\\ipykernel_4816\\3686951426.py:2: UserWarning: Parsing '13/12/2008' in DD/MM/YYYY format. Provide format or specify infer_datetime_format=True for consistent parsing.\n",
      "  data1['Date'] = pd.to_datetime(data1[\"Date\"])\n",
      "C:\\Users\\Admin\\AppData\\Local\\Temp\\ipykernel_4816\\3686951426.py:2: UserWarning: Parsing '29/10/2007' in DD/MM/YYYY format. Provide format or specify infer_datetime_format=True for consistent parsing.\n",
      "  data1['Date'] = pd.to_datetime(data1[\"Date\"])\n",
      "C:\\Users\\Admin\\AppData\\Local\\Temp\\ipykernel_4816\\3686951426.py:2: UserWarning: Parsing '26/11/2008' in DD/MM/YYYY format. Provide format or specify infer_datetime_format=True for consistent parsing.\n",
      "  data1['Date'] = pd.to_datetime(data1[\"Date\"])\n",
      "C:\\Users\\Admin\\AppData\\Local\\Temp\\ipykernel_4816\\3686951426.py:2: UserWarning: Parsing '21/10/2009' in DD/MM/YYYY format. Provide format or specify infer_datetime_format=True for consistent parsing.\n",
      "  data1['Date'] = pd.to_datetime(data1[\"Date\"])\n",
      "C:\\Users\\Admin\\AppData\\Local\\Temp\\ipykernel_4816\\3686951426.py:2: UserWarning: Parsing '16/11/2010' in DD/MM/YYYY format. Provide format or specify infer_datetime_format=True for consistent parsing.\n",
      "  data1['Date'] = pd.to_datetime(data1[\"Date\"])\n",
      "C:\\Users\\Admin\\AppData\\Local\\Temp\\ipykernel_4816\\3686951426.py:2: UserWarning: Parsing '16/11/2009' in DD/MM/YYYY format. Provide format or specify infer_datetime_format=True for consistent parsing.\n",
      "  data1['Date'] = pd.to_datetime(data1[\"Date\"])\n",
      "C:\\Users\\Admin\\AppData\\Local\\Temp\\ipykernel_4816\\3686951426.py:2: UserWarning: Parsing '19/12/2006' in DD/MM/YYYY format. Provide format or specify infer_datetime_format=True for consistent parsing.\n",
      "  data1['Date'] = pd.to_datetime(data1[\"Date\"])\n",
      "C:\\Users\\Admin\\AppData\\Local\\Temp\\ipykernel_4816\\3686951426.py:2: UserWarning: Parsing '18/10/2010' in DD/MM/YYYY format. Provide format or specify infer_datetime_format=True for consistent parsing.\n",
      "  data1['Date'] = pd.to_datetime(data1[\"Date\"])\n",
      "C:\\Users\\Admin\\AppData\\Local\\Temp\\ipykernel_4816\\3686951426.py:2: UserWarning: Parsing '17/12/2008' in DD/MM/YYYY format. Provide format or specify infer_datetime_format=True for consistent parsing.\n",
      "  data1['Date'] = pd.to_datetime(data1[\"Date\"])\n",
      "C:\\Users\\Admin\\AppData\\Local\\Temp\\ipykernel_4816\\3686951426.py:2: UserWarning: Parsing '21/11/2010' in DD/MM/YYYY format. Provide format or specify infer_datetime_format=True for consistent parsing.\n",
      "  data1['Date'] = pd.to_datetime(data1[\"Date\"])\n",
      "C:\\Users\\Admin\\AppData\\Local\\Temp\\ipykernel_4816\\3686951426.py:2: UserWarning: Parsing '15/10/2007' in DD/MM/YYYY format. Provide format or specify infer_datetime_format=True for consistent parsing.\n",
      "  data1['Date'] = pd.to_datetime(data1[\"Date\"])\n",
      "C:\\Users\\Admin\\AppData\\Local\\Temp\\ipykernel_4816\\3686951426.py:2: UserWarning: Parsing '17/10/2010' in DD/MM/YYYY format. Provide format or specify infer_datetime_format=True for consistent parsing.\n",
      "  data1['Date'] = pd.to_datetime(data1[\"Date\"])\n",
      "C:\\Users\\Admin\\AppData\\Local\\Temp\\ipykernel_4816\\3686951426.py:2: UserWarning: Parsing '18/11/2008' in DD/MM/YYYY format. Provide format or specify infer_datetime_format=True for consistent parsing.\n",
      "  data1['Date'] = pd.to_datetime(data1[\"Date\"])\n",
      "C:\\Users\\Admin\\AppData\\Local\\Temp\\ipykernel_4816\\3686951426.py:2: UserWarning: Parsing '27/12/2008' in DD/MM/YYYY format. Provide format or specify infer_datetime_format=True for consistent parsing.\n",
      "  data1['Date'] = pd.to_datetime(data1[\"Date\"])\n",
      "C:\\Users\\Admin\\AppData\\Local\\Temp\\ipykernel_4816\\3686951426.py:2: UserWarning: Parsing '25/11/2010' in DD/MM/YYYY format. Provide format or specify infer_datetime_format=True for consistent parsing.\n",
      "  data1['Date'] = pd.to_datetime(data1[\"Date\"])\n",
      "C:\\Users\\Admin\\AppData\\Local\\Temp\\ipykernel_4816\\3686951426.py:2: UserWarning: Parsing '25/12/2007' in DD/MM/YYYY format. Provide format or specify infer_datetime_format=True for consistent parsing.\n",
      "  data1['Date'] = pd.to_datetime(data1[\"Date\"])\n",
      "C:\\Users\\Admin\\AppData\\Local\\Temp\\ipykernel_4816\\3686951426.py:2: UserWarning: Parsing '28/10/2007' in DD/MM/YYYY format. Provide format or specify infer_datetime_format=True for consistent parsing.\n",
      "  data1['Date'] = pd.to_datetime(data1[\"Date\"])\n",
      "C:\\Users\\Admin\\AppData\\Local\\Temp\\ipykernel_4816\\3686951426.py:2: UserWarning: Parsing '29/12/2008' in DD/MM/YYYY format. Provide format or specify infer_datetime_format=True for consistent parsing.\n",
      "  data1['Date'] = pd.to_datetime(data1[\"Date\"])\n",
      "C:\\Users\\Admin\\AppData\\Local\\Temp\\ipykernel_4816\\3686951426.py:2: UserWarning: Parsing '19/12/2007' in DD/MM/YYYY format. Provide format or specify infer_datetime_format=True for consistent parsing.\n",
      "  data1['Date'] = pd.to_datetime(data1[\"Date\"])\n",
      "C:\\Users\\Admin\\AppData\\Local\\Temp\\ipykernel_4816\\3686951426.py:2: UserWarning: Parsing '25/10/2009' in DD/MM/YYYY format. Provide format or specify infer_datetime_format=True for consistent parsing.\n",
      "  data1['Date'] = pd.to_datetime(data1[\"Date\"])\n",
      "C:\\Users\\Admin\\AppData\\Local\\Temp\\ipykernel_4816\\3686951426.py:2: UserWarning: Parsing '26/12/2007' in DD/MM/YYYY format. Provide format or specify infer_datetime_format=True for consistent parsing.\n",
      "  data1['Date'] = pd.to_datetime(data1[\"Date\"])\n",
      "C:\\Users\\Admin\\AppData\\Local\\Temp\\ipykernel_4816\\3686951426.py:2: UserWarning: Parsing '16/12/2008' in DD/MM/YYYY format. Provide format or specify infer_datetime_format=True for consistent parsing.\n",
      "  data1['Date'] = pd.to_datetime(data1[\"Date\"])\n",
      "C:\\Users\\Admin\\AppData\\Local\\Temp\\ipykernel_4816\\3686951426.py:2: UserWarning: Parsing '27/11/2009' in DD/MM/YYYY format. Provide format or specify infer_datetime_format=True for consistent parsing.\n",
      "  data1['Date'] = pd.to_datetime(data1[\"Date\"])\n",
      "C:\\Users\\Admin\\AppData\\Local\\Temp\\ipykernel_4816\\3686951426.py:2: UserWarning: Parsing '19/11/2009' in DD/MM/YYYY format. Provide format or specify infer_datetime_format=True for consistent parsing.\n",
      "  data1['Date'] = pd.to_datetime(data1[\"Date\"])\n",
      "C:\\Users\\Admin\\AppData\\Local\\Temp\\ipykernel_4816\\3686951426.py:2: UserWarning: Parsing '31/10/2007' in DD/MM/YYYY format. Provide format or specify infer_datetime_format=True for consistent parsing.\n",
      "  data1['Date'] = pd.to_datetime(data1[\"Date\"])\n"
     ]
    },
    {
     "name": "stderr",
     "output_type": "stream",
     "text": [
      "C:\\Users\\Admin\\AppData\\Local\\Temp\\ipykernel_4816\\3686951426.py:2: UserWarning: Parsing '21/12/2009' in DD/MM/YYYY format. Provide format or specify infer_datetime_format=True for consistent parsing.\n",
      "  data1['Date'] = pd.to_datetime(data1[\"Date\"])\n",
      "C:\\Users\\Admin\\AppData\\Local\\Temp\\ipykernel_4816\\3686951426.py:2: UserWarning: Parsing '17/11/2007' in DD/MM/YYYY format. Provide format or specify infer_datetime_format=True for consistent parsing.\n",
      "  data1['Date'] = pd.to_datetime(data1[\"Date\"])\n",
      "C:\\Users\\Admin\\AppData\\Local\\Temp\\ipykernel_4816\\3686951426.py:2: UserWarning: Parsing '14/10/2010' in DD/MM/YYYY format. Provide format or specify infer_datetime_format=True for consistent parsing.\n",
      "  data1['Date'] = pd.to_datetime(data1[\"Date\"])\n",
      "C:\\Users\\Admin\\AppData\\Local\\Temp\\ipykernel_4816\\3686951426.py:2: UserWarning: Parsing '19/10/2009' in DD/MM/YYYY format. Provide format or specify infer_datetime_format=True for consistent parsing.\n",
      "  data1['Date'] = pd.to_datetime(data1[\"Date\"])\n",
      "C:\\Users\\Admin\\AppData\\Local\\Temp\\ipykernel_4816\\3686951426.py:2: UserWarning: Parsing '13/12/2007' in DD/MM/YYYY format. Provide format or specify infer_datetime_format=True for consistent parsing.\n",
      "  data1['Date'] = pd.to_datetime(data1[\"Date\"])\n",
      "C:\\Users\\Admin\\AppData\\Local\\Temp\\ipykernel_4816\\3686951426.py:2: UserWarning: Parsing '19/10/2010' in DD/MM/YYYY format. Provide format or specify infer_datetime_format=True for consistent parsing.\n",
      "  data1['Date'] = pd.to_datetime(data1[\"Date\"])\n",
      "C:\\Users\\Admin\\AppData\\Local\\Temp\\ipykernel_4816\\3686951426.py:2: UserWarning: Parsing '25/11/2007' in DD/MM/YYYY format. Provide format or specify infer_datetime_format=True for consistent parsing.\n",
      "  data1['Date'] = pd.to_datetime(data1[\"Date\"])\n",
      "C:\\Users\\Admin\\AppData\\Local\\Temp\\ipykernel_4816\\3686951426.py:2: UserWarning: Parsing '15/10/2008' in DD/MM/YYYY format. Provide format or specify infer_datetime_format=True for consistent parsing.\n",
      "  data1['Date'] = pd.to_datetime(data1[\"Date\"])\n",
      "C:\\Users\\Admin\\AppData\\Local\\Temp\\ipykernel_4816\\3686951426.py:2: UserWarning: Parsing '29/11/2009' in DD/MM/YYYY format. Provide format or specify infer_datetime_format=True for consistent parsing.\n",
      "  data1['Date'] = pd.to_datetime(data1[\"Date\"])\n",
      "C:\\Users\\Admin\\AppData\\Local\\Temp\\ipykernel_4816\\3686951426.py:2: UserWarning: Parsing '30/11/2007' in DD/MM/YYYY format. Provide format or specify infer_datetime_format=True for consistent parsing.\n",
      "  data1['Date'] = pd.to_datetime(data1[\"Date\"])\n",
      "C:\\Users\\Admin\\AppData\\Local\\Temp\\ipykernel_4816\\3686951426.py:2: UserWarning: Parsing '29/10/2008' in DD/MM/YYYY format. Provide format or specify infer_datetime_format=True for consistent parsing.\n",
      "  data1['Date'] = pd.to_datetime(data1[\"Date\"])\n",
      "C:\\Users\\Admin\\AppData\\Local\\Temp\\ipykernel_4816\\3686951426.py:2: UserWarning: Parsing '27/12/2007' in DD/MM/YYYY format. Provide format or specify infer_datetime_format=True for consistent parsing.\n",
      "  data1['Date'] = pd.to_datetime(data1[\"Date\"])\n",
      "C:\\Users\\Admin\\AppData\\Local\\Temp\\ipykernel_4816\\3686951426.py:2: UserWarning: Parsing '23/12/2007' in DD/MM/YYYY format. Provide format or specify infer_datetime_format=True for consistent parsing.\n",
      "  data1['Date'] = pd.to_datetime(data1[\"Date\"])\n",
      "C:\\Users\\Admin\\AppData\\Local\\Temp\\ipykernel_4816\\3686951426.py:2: UserWarning: Parsing '22/11/2007' in DD/MM/YYYY format. Provide format or specify infer_datetime_format=True for consistent parsing.\n",
      "  data1['Date'] = pd.to_datetime(data1[\"Date\"])\n",
      "C:\\Users\\Admin\\AppData\\Local\\Temp\\ipykernel_4816\\3686951426.py:2: UserWarning: Parsing '20/12/2006' in DD/MM/YYYY format. Provide format or specify infer_datetime_format=True for consistent parsing.\n",
      "  data1['Date'] = pd.to_datetime(data1[\"Date\"])\n",
      "C:\\Users\\Admin\\AppData\\Local\\Temp\\ipykernel_4816\\3686951426.py:2: UserWarning: Parsing '27/10/2009' in DD/MM/YYYY format. Provide format or specify infer_datetime_format=True for consistent parsing.\n",
      "  data1['Date'] = pd.to_datetime(data1[\"Date\"])\n",
      "C:\\Users\\Admin\\AppData\\Local\\Temp\\ipykernel_4816\\3686951426.py:2: UserWarning: Parsing '13/10/2010' in DD/MM/YYYY format. Provide format or specify infer_datetime_format=True for consistent parsing.\n",
      "  data1['Date'] = pd.to_datetime(data1[\"Date\"])\n",
      "C:\\Users\\Admin\\AppData\\Local\\Temp\\ipykernel_4816\\3686951426.py:2: UserWarning: Parsing '19/12/2009' in DD/MM/YYYY format. Provide format or specify infer_datetime_format=True for consistent parsing.\n",
      "  data1['Date'] = pd.to_datetime(data1[\"Date\"])\n",
      "C:\\Users\\Admin\\AppData\\Local\\Temp\\ipykernel_4816\\3686951426.py:2: UserWarning: Parsing '24/11/2010' in DD/MM/YYYY format. Provide format or specify infer_datetime_format=True for consistent parsing.\n",
      "  data1['Date'] = pd.to_datetime(data1[\"Date\"])\n",
      "C:\\Users\\Admin\\AppData\\Local\\Temp\\ipykernel_4816\\3686951426.py:2: UserWarning: Parsing '28/11/2008' in DD/MM/YYYY format. Provide format or specify infer_datetime_format=True for consistent parsing.\n",
      "  data1['Date'] = pd.to_datetime(data1[\"Date\"])\n",
      "C:\\Users\\Admin\\AppData\\Local\\Temp\\ipykernel_4816\\3686951426.py:2: UserWarning: Parsing '25/10/2007' in DD/MM/YYYY format. Provide format or specify infer_datetime_format=True for consistent parsing.\n",
      "  data1['Date'] = pd.to_datetime(data1[\"Date\"])\n",
      "C:\\Users\\Admin\\AppData\\Local\\Temp\\ipykernel_4816\\3686951426.py:2: UserWarning: Parsing '23/10/2008' in DD/MM/YYYY format. Provide format or specify infer_datetime_format=True for consistent parsing.\n",
      "  data1['Date'] = pd.to_datetime(data1[\"Date\"])\n",
      "C:\\Users\\Admin\\AppData\\Local\\Temp\\ipykernel_4816\\3686951426.py:2: UserWarning: Parsing '13/11/2007' in DD/MM/YYYY format. Provide format or specify infer_datetime_format=True for consistent parsing.\n",
      "  data1['Date'] = pd.to_datetime(data1[\"Date\"])\n",
      "C:\\Users\\Admin\\AppData\\Local\\Temp\\ipykernel_4816\\3686951426.py:2: UserWarning: Parsing '24/11/2009' in DD/MM/YYYY format. Provide format or specify infer_datetime_format=True for consistent parsing.\n",
      "  data1['Date'] = pd.to_datetime(data1[\"Date\"])\n",
      "C:\\Users\\Admin\\AppData\\Local\\Temp\\ipykernel_4816\\3686951426.py:2: UserWarning: Parsing '22/10/2008' in DD/MM/YYYY format. Provide format or specify infer_datetime_format=True for consistent parsing.\n",
      "  data1['Date'] = pd.to_datetime(data1[\"Date\"])\n",
      "C:\\Users\\Admin\\AppData\\Local\\Temp\\ipykernel_4816\\3686951426.py:2: UserWarning: Parsing '22/12/2006' in DD/MM/YYYY format. Provide format or specify infer_datetime_format=True for consistent parsing.\n",
      "  data1['Date'] = pd.to_datetime(data1[\"Date\"])\n",
      "C:\\Users\\Admin\\AppData\\Local\\Temp\\ipykernel_4816\\3686951426.py:2: UserWarning: Parsing '25/10/2010' in DD/MM/YYYY format. Provide format or specify infer_datetime_format=True for consistent parsing.\n",
      "  data1['Date'] = pd.to_datetime(data1[\"Date\"])\n",
      "C:\\Users\\Admin\\AppData\\Local\\Temp\\ipykernel_4816\\3686951426.py:2: UserWarning: Parsing '24/10/2007' in DD/MM/YYYY format. Provide format or specify infer_datetime_format=True for consistent parsing.\n",
      "  data1['Date'] = pd.to_datetime(data1[\"Date\"])\n",
      "C:\\Users\\Admin\\AppData\\Local\\Temp\\ipykernel_4816\\3686951426.py:2: UserWarning: Parsing '29/10/2009' in DD/MM/YYYY format. Provide format or specify infer_datetime_format=True for consistent parsing.\n",
      "  data1['Date'] = pd.to_datetime(data1[\"Date\"])\n",
      "C:\\Users\\Admin\\AppData\\Local\\Temp\\ipykernel_4816\\3686951426.py:2: UserWarning: Parsing '15/10/2010' in DD/MM/YYYY format. Provide format or specify infer_datetime_format=True for consistent parsing.\n",
      "  data1['Date'] = pd.to_datetime(data1[\"Date\"])\n",
      "C:\\Users\\Admin\\AppData\\Local\\Temp\\ipykernel_4816\\3686951426.py:2: UserWarning: Parsing '19/11/2008' in DD/MM/YYYY format. Provide format or specify infer_datetime_format=True for consistent parsing.\n",
      "  data1['Date'] = pd.to_datetime(data1[\"Date\"])\n",
      "C:\\Users\\Admin\\AppData\\Local\\Temp\\ipykernel_4816\\3686951426.py:2: UserWarning: Parsing '18/11/2010' in DD/MM/YYYY format. Provide format or specify infer_datetime_format=True for consistent parsing.\n",
      "  data1['Date'] = pd.to_datetime(data1[\"Date\"])\n",
      "C:\\Users\\Admin\\AppData\\Local\\Temp\\ipykernel_4816\\3686951426.py:2: UserWarning: Parsing '14/10/2009' in DD/MM/YYYY format. Provide format or specify infer_datetime_format=True for consistent parsing.\n",
      "  data1['Date'] = pd.to_datetime(data1[\"Date\"])\n",
      "C:\\Users\\Admin\\AppData\\Local\\Temp\\ipykernel_4816\\3686951426.py:2: UserWarning: Parsing '23/10/2009' in DD/MM/YYYY format. Provide format or specify infer_datetime_format=True for consistent parsing.\n",
      "  data1['Date'] = pd.to_datetime(data1[\"Date\"])\n",
      "C:\\Users\\Admin\\AppData\\Local\\Temp\\ipykernel_4816\\3686951426.py:2: UserWarning: Parsing '22/11/2009' in DD/MM/YYYY format. Provide format or specify infer_datetime_format=True for consistent parsing.\n",
      "  data1['Date'] = pd.to_datetime(data1[\"Date\"])\n",
      "C:\\Users\\Admin\\AppData\\Local\\Temp\\ipykernel_4816\\3686951426.py:2: UserWarning: Parsing '15/11/2009' in DD/MM/YYYY format. Provide format or specify infer_datetime_format=True for consistent parsing.\n",
      "  data1['Date'] = pd.to_datetime(data1[\"Date\"])\n",
      "C:\\Users\\Admin\\AppData\\Local\\Temp\\ipykernel_4816\\3686951426.py:2: UserWarning: Parsing '30/10/2008' in DD/MM/YYYY format. Provide format or specify infer_datetime_format=True for consistent parsing.\n",
      "  data1['Date'] = pd.to_datetime(data1[\"Date\"])\n",
      "C:\\Users\\Admin\\AppData\\Local\\Temp\\ipykernel_4816\\3686951426.py:2: UserWarning: Parsing '20/11/2009' in DD/MM/YYYY format. Provide format or specify infer_datetime_format=True for consistent parsing.\n",
      "  data1['Date'] = pd.to_datetime(data1[\"Date\"])\n",
      "C:\\Users\\Admin\\AppData\\Local\\Temp\\ipykernel_4816\\3686951426.py:2: UserWarning: Parsing '14/11/2007' in DD/MM/YYYY format. Provide format or specify infer_datetime_format=True for consistent parsing.\n",
      "  data1['Date'] = pd.to_datetime(data1[\"Date\"])\n",
      "C:\\Users\\Admin\\AppData\\Local\\Temp\\ipykernel_4816\\3686951426.py:2: UserWarning: Parsing '16/12/2009' in DD/MM/YYYY format. Provide format or specify infer_datetime_format=True for consistent parsing.\n",
      "  data1['Date'] = pd.to_datetime(data1[\"Date\"])\n",
      "C:\\Users\\Admin\\AppData\\Local\\Temp\\ipykernel_4816\\3686951426.py:2: UserWarning: Parsing '13/11/2009' in DD/MM/YYYY format. Provide format or specify infer_datetime_format=True for consistent parsing.\n",
      "  data1['Date'] = pd.to_datetime(data1[\"Date\"])\n",
      "C:\\Users\\Admin\\AppData\\Local\\Temp\\ipykernel_4816\\3686951426.py:2: UserWarning: Parsing '30/10/2010' in DD/MM/YYYY format. Provide format or specify infer_datetime_format=True for consistent parsing.\n",
      "  data1['Date'] = pd.to_datetime(data1[\"Date\"])\n",
      "C:\\Users\\Admin\\AppData\\Local\\Temp\\ipykernel_4816\\3686951426.py:2: UserWarning: Parsing '28/12/2006' in DD/MM/YYYY format. Provide format or specify infer_datetime_format=True for consistent parsing.\n",
      "  data1['Date'] = pd.to_datetime(data1[\"Date\"])\n",
      "C:\\Users\\Admin\\AppData\\Local\\Temp\\ipykernel_4816\\3686951426.py:2: UserWarning: Parsing '23/12/2009' in DD/MM/YYYY format. Provide format or specify infer_datetime_format=True for consistent parsing.\n",
      "  data1['Date'] = pd.to_datetime(data1[\"Date\"])\n",
      "C:\\Users\\Admin\\AppData\\Local\\Temp\\ipykernel_4816\\3686951426.py:2: UserWarning: Parsing '14/11/2009' in DD/MM/YYYY format. Provide format or specify infer_datetime_format=True for consistent parsing.\n",
      "  data1['Date'] = pd.to_datetime(data1[\"Date\"])\n",
      "C:\\Users\\Admin\\AppData\\Local\\Temp\\ipykernel_4816\\3686951426.py:2: UserWarning: Parsing '15/11/2010' in DD/MM/YYYY format. Provide format or specify infer_datetime_format=True for consistent parsing.\n",
      "  data1['Date'] = pd.to_datetime(data1[\"Date\"])\n",
      "C:\\Users\\Admin\\AppData\\Local\\Temp\\ipykernel_4816\\3686951426.py:2: UserWarning: Parsing '23/10/2007' in DD/MM/YYYY format. Provide format or specify infer_datetime_format=True for consistent parsing.\n",
      "  data1['Date'] = pd.to_datetime(data1[\"Date\"])\n",
      "C:\\Users\\Admin\\AppData\\Local\\Temp\\ipykernel_4816\\3686951426.py:2: UserWarning: Parsing '28/10/2009' in DD/MM/YYYY format. Provide format or specify infer_datetime_format=True for consistent parsing.\n",
      "  data1['Date'] = pd.to_datetime(data1[\"Date\"])\n",
      "C:\\Users\\Admin\\AppData\\Local\\Temp\\ipykernel_4816\\3686951426.py:2: UserWarning: Parsing '29/12/2009' in DD/MM/YYYY format. Provide format or specify infer_datetime_format=True for consistent parsing.\n",
      "  data1['Date'] = pd.to_datetime(data1[\"Date\"])\n",
      "C:\\Users\\Admin\\AppData\\Local\\Temp\\ipykernel_4816\\3686951426.py:2: UserWarning: Parsing '18/10/2009' in DD/MM/YYYY format. Provide format or specify infer_datetime_format=True for consistent parsing.\n",
      "  data1['Date'] = pd.to_datetime(data1[\"Date\"])\n",
      "C:\\Users\\Admin\\AppData\\Local\\Temp\\ipykernel_4816\\3686951426.py:2: UserWarning: Parsing '26/10/2007' in DD/MM/YYYY format. Provide format or specify infer_datetime_format=True for consistent parsing.\n",
      "  data1['Date'] = pd.to_datetime(data1[\"Date\"])\n",
      "C:\\Users\\Admin\\AppData\\Local\\Temp\\ipykernel_4816\\3686951426.py:2: UserWarning: Parsing '21/11/2009' in DD/MM/YYYY format. Provide format or specify infer_datetime_format=True for consistent parsing.\n",
      "  data1['Date'] = pd.to_datetime(data1[\"Date\"])\n",
      "C:\\Users\\Admin\\AppData\\Local\\Temp\\ipykernel_4816\\3686951426.py:2: UserWarning: Parsing '27/10/2010' in DD/MM/YYYY format. Provide format or specify infer_datetime_format=True for consistent parsing.\n",
      "  data1['Date'] = pd.to_datetime(data1[\"Date\"])\n",
      "C:\\Users\\Admin\\AppData\\Local\\Temp\\ipykernel_4816\\3686951426.py:2: UserWarning: Parsing '14/10/2007' in DD/MM/YYYY format. Provide format or specify infer_datetime_format=True for consistent parsing.\n",
      "  data1['Date'] = pd.to_datetime(data1[\"Date\"])\n",
      "C:\\Users\\Admin\\AppData\\Local\\Temp\\ipykernel_4816\\3686951426.py:2: UserWarning: Parsing '31/12/2006' in DD/MM/YYYY format. Provide format or specify infer_datetime_format=True for consistent parsing.\n",
      "  data1['Date'] = pd.to_datetime(data1[\"Date\"])\n",
      "C:\\Users\\Admin\\AppData\\Local\\Temp\\ipykernel_4816\\3686951426.py:2: UserWarning: Parsing '20/12/2009' in DD/MM/YYYY format. Provide format or specify infer_datetime_format=True for consistent parsing.\n",
      "  data1['Date'] = pd.to_datetime(data1[\"Date\"])\n",
      "C:\\Users\\Admin\\AppData\\Local\\Temp\\ipykernel_4816\\3686951426.py:2: UserWarning: Parsing '25/11/2008' in DD/MM/YYYY format. Provide format or specify infer_datetime_format=True for consistent parsing.\n",
      "  data1['Date'] = pd.to_datetime(data1[\"Date\"])\n",
      "C:\\Users\\Admin\\AppData\\Local\\Temp\\ipykernel_4816\\3686951426.py:2: UserWarning: Parsing '22/10/2009' in DD/MM/YYYY format. Provide format or specify infer_datetime_format=True for consistent parsing.\n",
      "  data1['Date'] = pd.to_datetime(data1[\"Date\"])\n"
     ]
    },
    {
     "name": "stderr",
     "output_type": "stream",
     "text": [
      "C:\\Users\\Admin\\AppData\\Local\\Temp\\ipykernel_4816\\3686951426.py:2: UserWarning: Parsing '13/11/2008' in DD/MM/YYYY format. Provide format or specify infer_datetime_format=True for consistent parsing.\n",
      "  data1['Date'] = pd.to_datetime(data1[\"Date\"])\n",
      "C:\\Users\\Admin\\AppData\\Local\\Temp\\ipykernel_4816\\3686951426.py:2: UserWarning: Parsing '20/10/2008' in DD/MM/YYYY format. Provide format or specify infer_datetime_format=True for consistent parsing.\n",
      "  data1['Date'] = pd.to_datetime(data1[\"Date\"])\n",
      "C:\\Users\\Admin\\AppData\\Local\\Temp\\ipykernel_4816\\3686951426.py:2: UserWarning: Parsing '19/12/2008' in DD/MM/YYYY format. Provide format or specify infer_datetime_format=True for consistent parsing.\n",
      "  data1['Date'] = pd.to_datetime(data1[\"Date\"])\n",
      "C:\\Users\\Admin\\AppData\\Local\\Temp\\ipykernel_4816\\3686951426.py:2: UserWarning: Parsing '17/10/2008' in DD/MM/YYYY format. Provide format or specify infer_datetime_format=True for consistent parsing.\n",
      "  data1['Date'] = pd.to_datetime(data1[\"Date\"])\n",
      "C:\\Users\\Admin\\AppData\\Local\\Temp\\ipykernel_4816\\3686951426.py:2: UserWarning: Parsing '28/12/2007' in DD/MM/YYYY format. Provide format or specify infer_datetime_format=True for consistent parsing.\n",
      "  data1['Date'] = pd.to_datetime(data1[\"Date\"])\n",
      "C:\\Users\\Admin\\AppData\\Local\\Temp\\ipykernel_4816\\3686951426.py:2: UserWarning: Parsing '19/11/2010' in DD/MM/YYYY format. Provide format or specify infer_datetime_format=True for consistent parsing.\n",
      "  data1['Date'] = pd.to_datetime(data1[\"Date\"])\n",
      "C:\\Users\\Admin\\AppData\\Local\\Temp\\ipykernel_4816\\3686951426.py:2: UserWarning: Parsing '16/10/2010' in DD/MM/YYYY format. Provide format or specify infer_datetime_format=True for consistent parsing.\n",
      "  data1['Date'] = pd.to_datetime(data1[\"Date\"])\n",
      "C:\\Users\\Admin\\AppData\\Local\\Temp\\ipykernel_4816\\3686951426.py:2: UserWarning: Parsing '21/11/2007' in DD/MM/YYYY format. Provide format or specify infer_datetime_format=True for consistent parsing.\n",
      "  data1['Date'] = pd.to_datetime(data1[\"Date\"])\n",
      "C:\\Users\\Admin\\AppData\\Local\\Temp\\ipykernel_4816\\3686951426.py:2: UserWarning: Parsing '30/10/2007' in DD/MM/YYYY format. Provide format or specify infer_datetime_format=True for consistent parsing.\n",
      "  data1['Date'] = pd.to_datetime(data1[\"Date\"])\n",
      "C:\\Users\\Admin\\AppData\\Local\\Temp\\ipykernel_4816\\3686951426.py:2: UserWarning: Parsing '22/10/2007' in DD/MM/YYYY format. Provide format or specify infer_datetime_format=True for consistent parsing.\n",
      "  data1['Date'] = pd.to_datetime(data1[\"Date\"])\n",
      "C:\\Users\\Admin\\AppData\\Local\\Temp\\ipykernel_4816\\3686951426.py:2: UserWarning: Parsing '21/10/2007' in DD/MM/YYYY format. Provide format or specify infer_datetime_format=True for consistent parsing.\n",
      "  data1['Date'] = pd.to_datetime(data1[\"Date\"])\n",
      "C:\\Users\\Admin\\AppData\\Local\\Temp\\ipykernel_4816\\3686951426.py:2: UserWarning: Parsing '16/12/2007' in DD/MM/YYYY format. Provide format or specify infer_datetime_format=True for consistent parsing.\n",
      "  data1['Date'] = pd.to_datetime(data1[\"Date\"])\n",
      "C:\\Users\\Admin\\AppData\\Local\\Temp\\ipykernel_4816\\3686951426.py:2: UserWarning: Parsing '26/11/2009' in DD/MM/YYYY format. Provide format or specify infer_datetime_format=True for consistent parsing.\n",
      "  data1['Date'] = pd.to_datetime(data1[\"Date\"])\n",
      "C:\\Users\\Admin\\AppData\\Local\\Temp\\ipykernel_4816\\3686951426.py:2: UserWarning: Parsing '30/12/2006' in DD/MM/YYYY format. Provide format or specify infer_datetime_format=True for consistent parsing.\n",
      "  data1['Date'] = pd.to_datetime(data1[\"Date\"])\n",
      "C:\\Users\\Admin\\AppData\\Local\\Temp\\ipykernel_4816\\3686951426.py:2: UserWarning: Parsing '23/11/2008' in DD/MM/YYYY format. Provide format or specify infer_datetime_format=True for consistent parsing.\n",
      "  data1['Date'] = pd.to_datetime(data1[\"Date\"])\n",
      "C:\\Users\\Admin\\AppData\\Local\\Temp\\ipykernel_4816\\3686951426.py:2: UserWarning: Parsing '18/12/2006' in DD/MM/YYYY format. Provide format or specify infer_datetime_format=True for consistent parsing.\n",
      "  data1['Date'] = pd.to_datetime(data1[\"Date\"])\n",
      "C:\\Users\\Admin\\AppData\\Local\\Temp\\ipykernel_4816\\3686951426.py:2: UserWarning: Parsing '17/12/2009' in DD/MM/YYYY format. Provide format or specify infer_datetime_format=True for consistent parsing.\n",
      "  data1['Date'] = pd.to_datetime(data1[\"Date\"])\n",
      "C:\\Users\\Admin\\AppData\\Local\\Temp\\ipykernel_4816\\3686951426.py:2: UserWarning: Parsing '18/10/2008' in DD/MM/YYYY format. Provide format or specify infer_datetime_format=True for consistent parsing.\n",
      "  data1['Date'] = pd.to_datetime(data1[\"Date\"])\n",
      "C:\\Users\\Admin\\AppData\\Local\\Temp\\ipykernel_4816\\3686951426.py:2: UserWarning: Parsing '31/10/2009' in DD/MM/YYYY format. Provide format or specify infer_datetime_format=True for consistent parsing.\n",
      "  data1['Date'] = pd.to_datetime(data1[\"Date\"])\n",
      "C:\\Users\\Admin\\AppData\\Local\\Temp\\ipykernel_4816\\3686951426.py:2: UserWarning: Parsing '24/10/2009' in DD/MM/YYYY format. Provide format or specify infer_datetime_format=True for consistent parsing.\n",
      "  data1['Date'] = pd.to_datetime(data1[\"Date\"])\n",
      "C:\\Users\\Admin\\AppData\\Local\\Temp\\ipykernel_4816\\3686951426.py:2: UserWarning: Parsing '13/10/2008' in DD/MM/YYYY format. Provide format or specify infer_datetime_format=True for consistent parsing.\n",
      "  data1['Date'] = pd.to_datetime(data1[\"Date\"])\n",
      "C:\\Users\\Admin\\AppData\\Local\\Temp\\ipykernel_4816\\3686951426.py:2: UserWarning: Parsing '16/12/2006' in DD/MM/YYYY format. Provide format or specify infer_datetime_format=True for consistent parsing.\n",
      "  data1['Date'] = pd.to_datetime(data1[\"Date\"])\n",
      "C:\\Users\\Admin\\AppData\\Local\\Temp\\ipykernel_4816\\3686951426.py:2: UserWarning: Parsing '20/11/2008' in DD/MM/YYYY format. Provide format or specify infer_datetime_format=True for consistent parsing.\n",
      "  data1['Date'] = pd.to_datetime(data1[\"Date\"])\n",
      "C:\\Users\\Admin\\AppData\\Local\\Temp\\ipykernel_4816\\3686951426.py:2: UserWarning: Parsing '25/12/2008' in DD/MM/YYYY format. Provide format or specify infer_datetime_format=True for consistent parsing.\n",
      "  data1['Date'] = pd.to_datetime(data1[\"Date\"])\n"
     ]
    }
   ],
   "source": [
    "# convert object datatype to datetime dtype\n",
    "data1['Date'] = pd.to_datetime(data1[\"Date\"])"
   ]
  },
  {
   "cell_type": "code",
   "execution_count": 93,
   "id": "a0977546",
   "metadata": {},
   "outputs": [],
   "source": [
    "# Separating numerical and categorical features\n",
    "num_features = [feature for feature in data1.columns if data1[feature].dtype!='O']\n",
    "cat_features = [feature for feature in data1.columns if data1[feature].dtype=='O']"
   ]
  },
  {
   "cell_type": "code",
   "execution_count": 94,
   "id": "0536dc58",
   "metadata": {},
   "outputs": [
    {
     "data": {
      "text/plain": [
       "['Date',\n",
       " 'Global_active_power',\n",
       " 'Global_reactive_power',\n",
       " 'Voltage',\n",
       " 'Global_intensity',\n",
       " 'Sub_metering_1',\n",
       " 'Sub_metering_2',\n",
       " 'Sub_metering_3']"
      ]
     },
     "execution_count": 94,
     "metadata": {},
     "output_type": "execute_result"
    }
   ],
   "source": [
    "num_features"
   ]
  },
  {
   "cell_type": "code",
   "execution_count": 95,
   "id": "14a665ab",
   "metadata": {},
   "outputs": [
    {
     "data": {
      "text/plain": [
       "['Time']"
      ]
     },
     "execution_count": 95,
     "metadata": {},
     "output_type": "execute_result"
    }
   ],
   "source": [
    "cat_features"
   ]
  },
  {
   "cell_type": "code",
   "execution_count": 96,
   "id": "9010f953",
   "metadata": {},
   "outputs": [],
   "source": [
    "# Univariate analysis"
   ]
  },
  {
   "cell_type": "code",
   "execution_count": 97,
   "id": "bc078fa5",
   "metadata": {},
   "outputs": [
    {
     "data": {
      "image/png": "[encoded data removed]",
      "text/plain": [
       "<Figure size 1080x1080 with 8 Axes>"
      ]
     },
     "metadata": {
      "needs_background": "light"
     },
     "output_type": "display_data"
    }
   ],
   "source": [
    "# kdeplot of numerical features\n",
    "plt.figure(figsize=(15, 15))\n",
    "plt.suptitle('Univariate Analysis of Numerical Features', fontsize=20, fontweight='bold', alpha=0.8, y=1.)\n",
    "\n",
    "for i in range(0, len(num_features)):\n",
    "    plt.subplot(5, 3, i+1)\n",
    "    sns.kdeplot(x=data1[num_features[i]],shade=True, color='r')\n",
    "    plt.xlabel(num_features[i])\n",
    "    plt.tight_layout()"
   ]
  },
  {
   "cell_type": "markdown",
   "id": "ed1e4aca",
   "metadata": {},
   "source": [
    "Analysis"
   ]
  },
  {
   "cell_type": "code",
   "execution_count": 98,
   "id": "7919f708",
   "metadata": {},
   "outputs": [
    {
     "data": {
      "text/plain": [
       "Date                       0\n",
       "Time                       0\n",
       "Global_active_power      173\n",
       "Global_reactive_power    173\n",
       "Voltage                  173\n",
       "Global_intensity         173\n",
       "Sub_metering_1           173\n",
       "Sub_metering_2           173\n",
       "Sub_metering_3           173\n",
       "dtype: int64"
      ]
     },
     "execution_count": 98,
     "metadata": {},
     "output_type": "execute_result"
    }
   ],
   "source": [
    "data1.isna().sum()"
   ]
  },
  {
   "cell_type": "code",
   "execution_count": 99,
   "id": "dc2fbede",
   "metadata": {},
   "outputs": [
    {
     "data": {
      "text/plain": [
       "Index(['Date', 'Time', 'Global_active_power', 'Global_reactive_power',\n",
       "       'Voltage', 'Global_intensity', 'Sub_metering_1', 'Sub_metering_2',\n",
       "       'Sub_metering_3'],\n",
       "      dtype='object')"
      ]
     },
     "execution_count": 99,
     "metadata": {},
     "output_type": "execute_result"
    }
   ],
   "source": [
    "data1.columns"
   ]
  },
  {
   "cell_type": "code",
   "execution_count": 100,
   "id": "0863803b",
   "metadata": {},
   "outputs": [
    {
     "data": {
      "text/plain": [
       "['Global_active_power',\n",
       " 'Global_reactive_power',\n",
       " 'Voltage',\n",
       " 'Global_intensity',\n",
       " 'Sub_metering_1',\n",
       " 'Sub_metering_2',\n",
       " 'Sub_metering_3']"
      ]
     },
     "execution_count": 100,
     "metadata": {},
     "output_type": "execute_result"
    }
   ],
   "source": [
    "cols=[var for var in data1.columns if data1[var].isnull().mean()*100]\n",
    "cols"
   ]
  },
  {
   "cell_type": "code",
   "execution_count": 101,
   "id": "ef8dbdda",
   "metadata": {},
   "outputs": [],
   "source": [
    "data2 = data1.dropna()"
   ]
  },
  {
   "cell_type": "code",
   "execution_count": 102,
   "id": "671e9952",
   "metadata": {},
   "outputs": [
    {
     "data": {
      "text/plain": [
       "0"
      ]
     },
     "execution_count": 102,
     "metadata": {},
     "output_type": "execute_result"
    }
   ],
   "source": [
    "data2.isna().sum().sum()"
   ]
  },
  {
   "cell_type": "code",
   "execution_count": 62,
   "id": "fdb44313",
   "metadata": {},
   "outputs": [],
   "source": [
    "data1 = data1.isna().sum().sum()"
   ]
  },
  {
   "cell_type": "markdown",
   "id": "0f84afc0",
   "metadata": {},
   "source": [
    "Creating the Target Variable"
   ]
  },
  {
   "cell_type": "code",
   "execution_count": 107,
   "id": "72d4a4a0",
   "metadata": {},
   "outputs": [
    {
     "name": "stderr",
     "output_type": "stream",
     "text": [
      "C:\\Users\\Admin\\AppData\\Local\\Temp\\ipykernel_4816\\2458534706.py:1: SettingWithCopyWarning: \n",
      "A value is trying to be set on a copy of a slice from a DataFrame.\n",
      "Try using .loc[row_indexer,col_indexer] = value instead\n",
      "\n",
      "See the caveats in the documentation: https://pandas.pydata.org/pandas-docs/stable/user_guide/indexing.html#returning-a-view-versus-a-copy\n",
      "  data2['Energy_consumption'] = data2['Sub_metering_1'] + data2['Sub_metering_2'] + data2['Sub_metering_3']\n"
     ]
    }
   ],
   "source": [
    "data2['Energy_consumption'] = data2['Sub_metering_1'] + data2['Sub_metering_2'] + data2['Sub_metering_3']"
   ]
  },
  {
   "cell_type": "code",
   "execution_count": 108,
   "id": "aad57c8c",
   "metadata": {},
   "outputs": [
    {
     "data": {
      "text/html": [
       "<div>\n",
       "<style scoped>\n",
       "    .dataframe tbody tr th:only-of-type {\n",
       "        vertical-align: middle;\n",
       "    }\n",
       "\n",
       "    .dataframe tbody tr th {\n",
       "        vertical-align: top;\n",
       "    }\n",
       "\n",
       "    .dataframe thead th {\n",
       "        text-align: right;\n",
       "    }\n",
       "</style>\n",
       "<table border=\"1\" class=\"dataframe\">\n",
       "  <thead>\n",
       "    <tr style=\"text-align: right;\">\n",
       "      <th></th>\n",
       "      <th>Date</th>\n",
       "      <th>Time</th>\n",
       "      <th>Global_active_power</th>\n",
       "      <th>Global_reactive_power</th>\n",
       "      <th>Voltage</th>\n",
       "      <th>Global_intensity</th>\n",
       "      <th>Sub_metering_1</th>\n",
       "      <th>Sub_metering_2</th>\n",
       "      <th>Sub_metering_3</th>\n",
       "      <th>Energy_consumption</th>\n",
       "    </tr>\n",
       "  </thead>\n",
       "  <tbody>\n",
       "    <tr>\n",
       "      <th>1131492</th>\n",
       "      <td>2009-09-02</td>\n",
       "      <td>11:36:00</td>\n",
       "      <td>1.668</td>\n",
       "      <td>0.000</td>\n",
       "      <td>239.63</td>\n",
       "      <td>6.8</td>\n",
       "      <td>0.0</td>\n",
       "      <td>0.0</td>\n",
       "      <td>18.0</td>\n",
       "      <td>18.0</td>\n",
       "    </tr>\n",
       "    <tr>\n",
       "      <th>1903520</th>\n",
       "      <td>2010-07-30</td>\n",
       "      <td>14:44:00</td>\n",
       "      <td>0.248</td>\n",
       "      <td>0.108</td>\n",
       "      <td>239.36</td>\n",
       "      <td>1.0</td>\n",
       "      <td>0.0</td>\n",
       "      <td>0.0</td>\n",
       "      <td>1.0</td>\n",
       "      <td>1.0</td>\n",
       "    </tr>\n",
       "  </tbody>\n",
       "</table>\n",
       "</div>"
      ],
      "text/plain": [
       "              Date      Time  Global_active_power  Global_reactive_power  \\\n",
       "1131492 2009-09-02  11:36:00                1.668                  0.000   \n",
       "1903520 2010-07-30  14:44:00                0.248                  0.108   \n",
       "\n",
       "         Voltage  Global_intensity  Sub_metering_1  Sub_metering_2  \\\n",
       "1131492   239.63               6.8             0.0             0.0   \n",
       "1903520   239.36               1.0             0.0             0.0   \n",
       "\n",
       "         Sub_metering_3  Energy_consumption  \n",
       "1131492            18.0                18.0  \n",
       "1903520             1.0                 1.0  "
      ]
     },
     "execution_count": 108,
     "metadata": {},
     "output_type": "execute_result"
    }
   ],
   "source": [
    "data2.head(2)"
   ]
  },
  {
   "cell_type": "code",
   "execution_count": null,
   "id": "a621b53a",
   "metadata": {},
   "outputs": [],
   "source": []
  }
 ],
 "metadata": {
  "kernelspec": {
   "display_name": "Python 3 (ipykernel)",
   "language": "python",
   "name": "python3"
  },
  "language_info": {
   "codemirror_mode": {
    "name": "ipython",
    "version": 3
   },
   "file_extension": ".py",
   "mimetype": "text/x-python",
   "name": "python",
   "nbconvert_exporter": "python",
   "pygments_lexer": "ipython3",
   "version": "3.9.12"
  }
 },
 "nbformat": 4,
 "nbformat_minor": 5
}
