{
 "cells": [
  {
   "cell_type": "markdown",
   "id": "8fc86da7",
   "metadata": {},
   "source": [
    "# SVM SVR Admission Prediction"
   ]
  },
  {
   "cell_type": "code",
   "execution_count": 1,
   "id": "f57529a6",
   "metadata": {},
   "outputs": [],
   "source": [
    "# https://raw.githubusercontent.com/srinivasav22/Graduate-Admission-Prediction/master/Admission_Predict_Ver1.1.csv"
   ]
  },
  {
   "cell_type": "code",
   "execution_count": 53,
   "id": "eb873c31",
   "metadata": {},
   "outputs": [],
   "source": [
    "import pandas as pd\n",
    "data=pd.read_csv(\"https://raw.githubusercontent.com/srinivasav22/Graduate-Admission-Prediction/master/Admission_Predict_Ver1.1.csv\")"
   ]
  },
  {
   "cell_type": "code",
   "execution_count": 54,
   "id": "ccf9652b",
   "metadata": {},
   "outputs": [
    {
     "data": {
      "text/html": [
       "<div>\n",
       "<style scoped>\n",
       "    .dataframe tbody tr th:only-of-type {\n",
       "        vertical-align: middle;\n",
       "    }\n",
       "\n",
       "    .dataframe tbody tr th {\n",
       "        vertical-align: top;\n",
       "    }\n",
       "\n",
       "    .dataframe thead th {\n",
       "        text-align: right;\n",
       "    }\n",
       "</style>\n",
       "<table border=\"1\" class=\"dataframe\">\n",
       "  <thead>\n",
       "    <tr style=\"text-align: right;\">\n",
       "      <th></th>\n",
       "      <th>Serial No.</th>\n",
       "      <th>GRE Score</th>\n",
       "      <th>TOEFL Score</th>\n",
       "      <th>University Rating</th>\n",
       "      <th>SOP</th>\n",
       "      <th>LOR</th>\n",
       "      <th>CGPA</th>\n",
       "      <th>Research</th>\n",
       "      <th>Chance of Admit</th>\n",
       "    </tr>\n",
       "  </thead>\n",
       "  <tbody>\n",
       "    <tr>\n",
       "      <th>0</th>\n",
       "      <td>1</td>\n",
       "      <td>337</td>\n",
       "      <td>118</td>\n",
       "      <td>4</td>\n",
       "      <td>4.5</td>\n",
       "      <td>4.5</td>\n",
       "      <td>9.65</td>\n",
       "      <td>1</td>\n",
       "      <td>0.92</td>\n",
       "    </tr>\n",
       "    <tr>\n",
       "      <th>1</th>\n",
       "      <td>2</td>\n",
       "      <td>324</td>\n",
       "      <td>107</td>\n",
       "      <td>4</td>\n",
       "      <td>4.0</td>\n",
       "      <td>4.5</td>\n",
       "      <td>8.87</td>\n",
       "      <td>1</td>\n",
       "      <td>0.76</td>\n",
       "    </tr>\n",
       "  </tbody>\n",
       "</table>\n",
       "</div>"
      ],
      "text/plain": [
       "   Serial No.  GRE Score  TOEFL Score  University Rating  SOP  LOR   CGPA  \\\n",
       "0           1        337          118                  4  4.5   4.5  9.65   \n",
       "1           2        324          107                  4  4.0   4.5  8.87   \n",
       "\n",
       "   Research  Chance of Admit   \n",
       "0         1              0.92  \n",
       "1         1              0.76  "
      ]
     },
     "execution_count": 54,
     "metadata": {},
     "output_type": "execute_result"
    }
   ],
   "source": [
    "data.head(2)"
   ]
  },
  {
   "cell_type": "code",
   "execution_count": 55,
   "id": "3b63f6c7",
   "metadata": {},
   "outputs": [],
   "source": [
    "# data.rename(columns={'Chance of Admit':'AdmissionChance'},inplace = True)"
   ]
  },
  {
   "cell_type": "code",
   "execution_count": 58,
   "id": "9a40aa6a",
   "metadata": {},
   "outputs": [],
   "source": [
    "data.rename(columns={ data.columns[0]: \"SerialNo\",data.columns[1]: \"GREScore\",data.columns[2]: \"TOEFLScore\",data.columns[3]: \"UniversityRating\",data.columns[8]: \"AdmissionChance\" },inplace=True)"
   ]
  },
  {
   "cell_type": "code",
   "execution_count": 59,
   "id": "00a1d455",
   "metadata": {},
   "outputs": [
    {
     "data": {
      "text/html": [
       "<div>\n",
       "<style scoped>\n",
       "    .dataframe tbody tr th:only-of-type {\n",
       "        vertical-align: middle;\n",
       "    }\n",
       "\n",
       "    .dataframe tbody tr th {\n",
       "        vertical-align: top;\n",
       "    }\n",
       "\n",
       "    .dataframe thead th {\n",
       "        text-align: right;\n",
       "    }\n",
       "</style>\n",
       "<table border=\"1\" class=\"dataframe\">\n",
       "  <thead>\n",
       "    <tr style=\"text-align: right;\">\n",
       "      <th></th>\n",
       "      <th>SerialNo</th>\n",
       "      <th>GREScore</th>\n",
       "      <th>TOEFLScore</th>\n",
       "      <th>UniversityRating</th>\n",
       "      <th>SOP</th>\n",
       "      <th>LOR</th>\n",
       "      <th>CGPA</th>\n",
       "      <th>Research</th>\n",
       "      <th>AdmissionChance</th>\n",
       "    </tr>\n",
       "  </thead>\n",
       "  <tbody>\n",
       "    <tr>\n",
       "      <th>0</th>\n",
       "      <td>1</td>\n",
       "      <td>337</td>\n",
       "      <td>118</td>\n",
       "      <td>4</td>\n",
       "      <td>4.5</td>\n",
       "      <td>4.5</td>\n",
       "      <td>9.65</td>\n",
       "      <td>1</td>\n",
       "      <td>0.92</td>\n",
       "    </tr>\n",
       "  </tbody>\n",
       "</table>\n",
       "</div>"
      ],
      "text/plain": [
       "   SerialNo  GREScore  TOEFLScore  UniversityRating  SOP  LOR   CGPA  \\\n",
       "0         1       337         118                 4  4.5   4.5  9.65   \n",
       "\n",
       "   Research  AdmissionChance  \n",
       "0         1             0.92  "
      ]
     },
     "execution_count": 59,
     "metadata": {},
     "output_type": "execute_result"
    }
   ],
   "source": [
    "data.head(1)"
   ]
  },
  {
   "cell_type": "code",
   "execution_count": 60,
   "id": "9ee92fee",
   "metadata": {},
   "outputs": [
    {
     "data": {
      "text/plain": [
       "0      0.92\n",
       "1      0.76\n",
       "2      0.72\n",
       "3      0.80\n",
       "4      0.65\n",
       "       ... \n",
       "495    0.87\n",
       "496    0.96\n",
       "497    0.93\n",
       "498    0.73\n",
       "499    0.84\n",
       "Name: AdmissionChance, Length: 500, dtype: float64"
      ]
     },
     "execution_count": 60,
     "metadata": {},
     "output_type": "execute_result"
    }
   ],
   "source": [
    "data[\"AdmissionChance\"]"
   ]
  },
  {
   "cell_type": "code",
   "execution_count": 61,
   "id": "1911b0d9",
   "metadata": {},
   "outputs": [
    {
     "data": {
      "text/plain": [
       "0.71    23\n",
       "0.64    19\n",
       "0.73    18\n",
       "0.72    16\n",
       "0.79    16\n",
       "        ..\n",
       "0.38     2\n",
       "0.36     2\n",
       "0.43     1\n",
       "0.39     1\n",
       "0.37     1\n",
       "Name: AdmissionChance, Length: 61, dtype: int64"
      ]
     },
     "execution_count": 61,
     "metadata": {},
     "output_type": "execute_result"
    }
   ],
   "source": [
    "data['AdmissionChance'].value_counts()"
   ]
  },
  {
   "cell_type": "code",
   "execution_count": 62,
   "id": "6a4f54b1",
   "metadata": {},
   "outputs": [
    {
     "data": {
      "text/plain": [
       "Index(['SerialNo', 'GREScore', 'TOEFLScore', 'UniversityRating', 'SOP', 'LOR ',\n",
       "       'CGPA', 'Research', 'AdmissionChance'],\n",
       "      dtype='object')"
      ]
     },
     "execution_count": 62,
     "metadata": {},
     "output_type": "execute_result"
    }
   ],
   "source": [
    "data.columns"
   ]
  },
  {
   "cell_type": "code",
   "execution_count": 63,
   "id": "e02e984d",
   "metadata": {},
   "outputs": [
    {
     "name": "stdout",
     "output_type": "stream",
     "text": [
      "<class 'pandas.core.frame.DataFrame'>\n",
      "RangeIndex: 500 entries, 0 to 499\n",
      "Data columns (total 9 columns):\n",
      " #   Column            Non-Null Count  Dtype  \n",
      "---  ------            --------------  -----  \n",
      " 0   SerialNo          500 non-null    int64  \n",
      " 1   GREScore          500 non-null    int64  \n",
      " 2   TOEFLScore        500 non-null    int64  \n",
      " 3   UniversityRating  500 non-null    int64  \n",
      " 4   SOP               500 non-null    float64\n",
      " 5   LOR               500 non-null    float64\n",
      " 6   CGPA              500 non-null    float64\n",
      " 7   Research          500 non-null    int64  \n",
      " 8   AdmissionChance   500 non-null    float64\n",
      "dtypes: float64(4), int64(5)\n",
      "memory usage: 35.3 KB\n"
     ]
    }
   ],
   "source": [
    "data.info()"
   ]
  },
  {
   "cell_type": "code",
   "execution_count": 64,
   "id": "6aacd24f",
   "metadata": {},
   "outputs": [
    {
     "data": {
      "text/plain": [
       "(500, 9)"
      ]
     },
     "execution_count": 64,
     "metadata": {},
     "output_type": "execute_result"
    }
   ],
   "source": [
    "data.shape"
   ]
  },
  {
   "cell_type": "code",
   "execution_count": 65,
   "id": "68589dab",
   "metadata": {},
   "outputs": [
    {
     "data": {
      "text/html": [
       "<div>\n",
       "<style scoped>\n",
       "    .dataframe tbody tr th:only-of-type {\n",
       "        vertical-align: middle;\n",
       "    }\n",
       "\n",
       "    .dataframe tbody tr th {\n",
       "        vertical-align: top;\n",
       "    }\n",
       "\n",
       "    .dataframe thead th {\n",
       "        text-align: right;\n",
       "    }\n",
       "</style>\n",
       "<table border=\"1\" class=\"dataframe\">\n",
       "  <thead>\n",
       "    <tr style=\"text-align: right;\">\n",
       "      <th></th>\n",
       "      <th>count</th>\n",
       "      <th>mean</th>\n",
       "      <th>std</th>\n",
       "      <th>min</th>\n",
       "      <th>25%</th>\n",
       "      <th>50%</th>\n",
       "      <th>75%</th>\n",
       "      <th>max</th>\n",
       "    </tr>\n",
       "  </thead>\n",
       "  <tbody>\n",
       "    <tr>\n",
       "      <th>SerialNo</th>\n",
       "      <td>500.0</td>\n",
       "      <td>250.50000</td>\n",
       "      <td>144.481833</td>\n",
       "      <td>1.00</td>\n",
       "      <td>125.7500</td>\n",
       "      <td>250.50</td>\n",
       "      <td>375.25</td>\n",
       "      <td>500.00</td>\n",
       "    </tr>\n",
       "    <tr>\n",
       "      <th>GREScore</th>\n",
       "      <td>500.0</td>\n",
       "      <td>316.47200</td>\n",
       "      <td>11.295148</td>\n",
       "      <td>290.00</td>\n",
       "      <td>308.0000</td>\n",
       "      <td>317.00</td>\n",
       "      <td>325.00</td>\n",
       "      <td>340.00</td>\n",
       "    </tr>\n",
       "    <tr>\n",
       "      <th>TOEFLScore</th>\n",
       "      <td>500.0</td>\n",
       "      <td>107.19200</td>\n",
       "      <td>6.081868</td>\n",
       "      <td>92.00</td>\n",
       "      <td>103.0000</td>\n",
       "      <td>107.00</td>\n",
       "      <td>112.00</td>\n",
       "      <td>120.00</td>\n",
       "    </tr>\n",
       "    <tr>\n",
       "      <th>UniversityRating</th>\n",
       "      <td>500.0</td>\n",
       "      <td>3.11400</td>\n",
       "      <td>1.143512</td>\n",
       "      <td>1.00</td>\n",
       "      <td>2.0000</td>\n",
       "      <td>3.00</td>\n",
       "      <td>4.00</td>\n",
       "      <td>5.00</td>\n",
       "    </tr>\n",
       "    <tr>\n",
       "      <th>SOP</th>\n",
       "      <td>500.0</td>\n",
       "      <td>3.37400</td>\n",
       "      <td>0.991004</td>\n",
       "      <td>1.00</td>\n",
       "      <td>2.5000</td>\n",
       "      <td>3.50</td>\n",
       "      <td>4.00</td>\n",
       "      <td>5.00</td>\n",
       "    </tr>\n",
       "    <tr>\n",
       "      <th>LOR</th>\n",
       "      <td>500.0</td>\n",
       "      <td>3.48400</td>\n",
       "      <td>0.925450</td>\n",
       "      <td>1.00</td>\n",
       "      <td>3.0000</td>\n",
       "      <td>3.50</td>\n",
       "      <td>4.00</td>\n",
       "      <td>5.00</td>\n",
       "    </tr>\n",
       "    <tr>\n",
       "      <th>CGPA</th>\n",
       "      <td>500.0</td>\n",
       "      <td>8.57644</td>\n",
       "      <td>0.604813</td>\n",
       "      <td>6.80</td>\n",
       "      <td>8.1275</td>\n",
       "      <td>8.56</td>\n",
       "      <td>9.04</td>\n",
       "      <td>9.92</td>\n",
       "    </tr>\n",
       "    <tr>\n",
       "      <th>Research</th>\n",
       "      <td>500.0</td>\n",
       "      <td>0.56000</td>\n",
       "      <td>0.496884</td>\n",
       "      <td>0.00</td>\n",
       "      <td>0.0000</td>\n",
       "      <td>1.00</td>\n",
       "      <td>1.00</td>\n",
       "      <td>1.00</td>\n",
       "    </tr>\n",
       "    <tr>\n",
       "      <th>AdmissionChance</th>\n",
       "      <td>500.0</td>\n",
       "      <td>0.72174</td>\n",
       "      <td>0.141140</td>\n",
       "      <td>0.34</td>\n",
       "      <td>0.6300</td>\n",
       "      <td>0.72</td>\n",
       "      <td>0.82</td>\n",
       "      <td>0.97</td>\n",
       "    </tr>\n",
       "  </tbody>\n",
       "</table>\n",
       "</div>"
      ],
      "text/plain": [
       "                  count       mean         std     min       25%     50%  \\\n",
       "SerialNo          500.0  250.50000  144.481833    1.00  125.7500  250.50   \n",
       "GREScore          500.0  316.47200   11.295148  290.00  308.0000  317.00   \n",
       "TOEFLScore        500.0  107.19200    6.081868   92.00  103.0000  107.00   \n",
       "UniversityRating  500.0    3.11400    1.143512    1.00    2.0000    3.00   \n",
       "SOP               500.0    3.37400    0.991004    1.00    2.5000    3.50   \n",
       "LOR               500.0    3.48400    0.925450    1.00    3.0000    3.50   \n",
       "CGPA              500.0    8.57644    0.604813    6.80    8.1275    8.56   \n",
       "Research          500.0    0.56000    0.496884    0.00    0.0000    1.00   \n",
       "AdmissionChance   500.0    0.72174    0.141140    0.34    0.6300    0.72   \n",
       "\n",
       "                     75%     max  \n",
       "SerialNo          375.25  500.00  \n",
       "GREScore          325.00  340.00  \n",
       "TOEFLScore        112.00  120.00  \n",
       "UniversityRating    4.00    5.00  \n",
       "SOP                 4.00    5.00  \n",
       "LOR                 4.00    5.00  \n",
       "CGPA                9.04    9.92  \n",
       "Research            1.00    1.00  \n",
       "AdmissionChance     0.82    0.97  "
      ]
     },
     "execution_count": 65,
     "metadata": {},
     "output_type": "execute_result"
    }
   ],
   "source": [
    "data.describe().T"
   ]
  },
  {
   "cell_type": "code",
   "execution_count": 66,
   "id": "97ec7ef0",
   "metadata": {},
   "outputs": [],
   "source": [
    "X=data.drop(\"AdmissionChance\",axis=1)"
   ]
  },
  {
   "cell_type": "code",
   "execution_count": 67,
   "id": "2177864d",
   "metadata": {},
   "outputs": [
    {
     "data": {
      "text/html": [
       "<div>\n",
       "<style scoped>\n",
       "    .dataframe tbody tr th:only-of-type {\n",
       "        vertical-align: middle;\n",
       "    }\n",
       "\n",
       "    .dataframe tbody tr th {\n",
       "        vertical-align: top;\n",
       "    }\n",
       "\n",
       "    .dataframe thead th {\n",
       "        text-align: right;\n",
       "    }\n",
       "</style>\n",
       "<table border=\"1\" class=\"dataframe\">\n",
       "  <thead>\n",
       "    <tr style=\"text-align: right;\">\n",
       "      <th></th>\n",
       "      <th>SerialNo</th>\n",
       "      <th>GREScore</th>\n",
       "      <th>TOEFLScore</th>\n",
       "      <th>UniversityRating</th>\n",
       "      <th>SOP</th>\n",
       "      <th>LOR</th>\n",
       "      <th>CGPA</th>\n",
       "      <th>Research</th>\n",
       "    </tr>\n",
       "  </thead>\n",
       "  <tbody>\n",
       "    <tr>\n",
       "      <th>0</th>\n",
       "      <td>1</td>\n",
       "      <td>337</td>\n",
       "      <td>118</td>\n",
       "      <td>4</td>\n",
       "      <td>4.5</td>\n",
       "      <td>4.5</td>\n",
       "      <td>9.65</td>\n",
       "      <td>1</td>\n",
       "    </tr>\n",
       "    <tr>\n",
       "      <th>1</th>\n",
       "      <td>2</td>\n",
       "      <td>324</td>\n",
       "      <td>107</td>\n",
       "      <td>4</td>\n",
       "      <td>4.0</td>\n",
       "      <td>4.5</td>\n",
       "      <td>8.87</td>\n",
       "      <td>1</td>\n",
       "    </tr>\n",
       "    <tr>\n",
       "      <th>2</th>\n",
       "      <td>3</td>\n",
       "      <td>316</td>\n",
       "      <td>104</td>\n",
       "      <td>3</td>\n",
       "      <td>3.0</td>\n",
       "      <td>3.5</td>\n",
       "      <td>8.00</td>\n",
       "      <td>1</td>\n",
       "    </tr>\n",
       "    <tr>\n",
       "      <th>3</th>\n",
       "      <td>4</td>\n",
       "      <td>322</td>\n",
       "      <td>110</td>\n",
       "      <td>3</td>\n",
       "      <td>3.5</td>\n",
       "      <td>2.5</td>\n",
       "      <td>8.67</td>\n",
       "      <td>1</td>\n",
       "    </tr>\n",
       "    <tr>\n",
       "      <th>4</th>\n",
       "      <td>5</td>\n",
       "      <td>314</td>\n",
       "      <td>103</td>\n",
       "      <td>2</td>\n",
       "      <td>2.0</td>\n",
       "      <td>3.0</td>\n",
       "      <td>8.21</td>\n",
       "      <td>0</td>\n",
       "    </tr>\n",
       "  </tbody>\n",
       "</table>\n",
       "</div>"
      ],
      "text/plain": [
       "   SerialNo  GREScore  TOEFLScore  UniversityRating  SOP  LOR   CGPA  Research\n",
       "0         1       337         118                 4  4.5   4.5  9.65         1\n",
       "1         2       324         107                 4  4.0   4.5  8.87         1\n",
       "2         3       316         104                 3  3.0   3.5  8.00         1\n",
       "3         4       322         110                 3  3.5   2.5  8.67         1\n",
       "4         5       314         103                 2  2.0   3.0  8.21         0"
      ]
     },
     "execution_count": 67,
     "metadata": {},
     "output_type": "execute_result"
    }
   ],
   "source": [
    "X.head()"
   ]
  },
  {
   "cell_type": "code",
   "execution_count": 68,
   "id": "80197564",
   "metadata": {},
   "outputs": [],
   "source": [
    "Y=data[\"AdmissionChance\"]"
   ]
  },
  {
   "cell_type": "code",
   "execution_count": 69,
   "id": "7641f054",
   "metadata": {},
   "outputs": [
    {
     "data": {
      "text/plain": [
       "0    0.92\n",
       "1    0.76\n",
       "2    0.72\n",
       "3    0.80\n",
       "4    0.65\n",
       "Name: AdmissionChance, dtype: float64"
      ]
     },
     "execution_count": 69,
     "metadata": {},
     "output_type": "execute_result"
    }
   ],
   "source": [
    "Y.head()"
   ]
  },
  {
   "cell_type": "code",
   "execution_count": 70,
   "id": "55c5eb22",
   "metadata": {},
   "outputs": [],
   "source": [
    "from sklearn.model_selection import train_test_split"
   ]
  },
  {
   "cell_type": "code",
   "execution_count": 71,
   "id": "d6c46a38",
   "metadata": {},
   "outputs": [],
   "source": [
    "x_train,x_test,y_train, y_test = train_test_split(X,Y,test_size=0.33, random_state=42)"
   ]
  },
  {
   "cell_type": "code",
   "execution_count": 72,
   "id": "8f26906b",
   "metadata": {},
   "outputs": [],
   "source": [
    "from sklearn.preprocessing import StandardScaler"
   ]
  },
  {
   "cell_type": "code",
   "execution_count": 73,
   "id": "3b3c5a36",
   "metadata": {},
   "outputs": [],
   "source": [
    "scaler = StandardScaler()"
   ]
  },
  {
   "cell_type": "code",
   "execution_count": 74,
   "id": "7c69d070",
   "metadata": {},
   "outputs": [
    {
     "data": {
      "text/plain": [
       "StandardScaler()"
      ]
     },
     "execution_count": 74,
     "metadata": {},
     "output_type": "execute_result"
    }
   ],
   "source": [
    "scaler.fit(x_train)"
   ]
  },
  {
   "cell_type": "code",
   "execution_count": 75,
   "id": "5b2ed8aa",
   "metadata": {},
   "outputs": [
    {
     "name": "stdout",
     "output_type": "stream",
     "text": [
      "[255.35820896 316.7641791  107.31343284   3.09552239   3.38059701\n",
      "   3.50149254   8.58498507   0.56716418]\n"
     ]
    }
   ],
   "source": [
    "print(scaler.mean_)"
   ]
  },
  {
   "cell_type": "code",
   "execution_count": 76,
   "id": "cd23e09b",
   "metadata": {},
   "outputs": [],
   "source": [
    "x_train_tf = scaler.transform(x_train)"
   ]
  },
  {
   "cell_type": "code",
   "execution_count": 77,
   "id": "2665e291",
   "metadata": {},
   "outputs": [
    {
     "data": {
      "text/plain": [
       "array([[ 1.55816388e+00, -5.25174731e-01, -7.06985745e-01, ...,\n",
       "         5.38819022e-01, -8.35765678e-01, -1.14470294e+00],\n",
       "       [-1.64243247e+00,  4.77035981e-01,  2.76433873e-01, ...,\n",
       "        -1.61323061e-03,  3.63045482e-01, -1.14470294e+00],\n",
       "       [-1.77908715e+00, -7.98504925e-01, -1.03479228e+00, ...,\n",
       "         5.38819022e-01, -1.15657430e+00, -1.14470294e+00],\n",
       "       ...,\n",
       "       [ 6.73504661e-01, -1.34516531e+00, -1.36259882e+00, ...,\n",
       "        -1.62290999e+00, -2.25407747e+00, -1.14470294e+00],\n",
       "       [ 1.29923923e+00, -7.07394861e-01, -3.79179206e-01, ...,\n",
       "         5.38819022e-01, -1.52803691e+00, -1.14470294e+00],\n",
       "       [-1.09581377e+00, -2.51844537e-01, -2.15275936e-01, ...,\n",
       "        -1.61323061e-03, -5.65611050e-01, -1.14470294e+00]])"
      ]
     },
     "execution_count": 77,
     "metadata": {},
     "output_type": "execute_result"
    }
   ],
   "source": [
    "x_train_tf"
   ]
  },
  {
   "cell_type": "code",
   "execution_count": 78,
   "id": "2f8311b7",
   "metadata": {},
   "outputs": [],
   "source": [
    "from sklearn.svm import SVR"
   ]
  },
  {
   "cell_type": "code",
   "execution_count": 79,
   "id": "01c24401",
   "metadata": {},
   "outputs": [],
   "source": [
    "model = SVR()"
   ]
  },
  {
   "cell_type": "code",
   "execution_count": 80,
   "id": "5d194ba1",
   "metadata": {},
   "outputs": [
    {
     "data": {
      "text/plain": [
       "SVR()"
      ]
     },
     "execution_count": 80,
     "metadata": {},
     "output_type": "execute_result"
    }
   ],
   "source": [
    "model.fit(x_train_tf, y_train)"
   ]
  },
  {
   "cell_type": "code",
   "execution_count": 81,
   "id": "8d065fb9",
   "metadata": {},
   "outputs": [
    {
     "data": {
      "text/plain": [
       "0.8002696421631225"
      ]
     },
     "execution_count": 81,
     "metadata": {},
     "output_type": "execute_result"
    }
   ],
   "source": [
    "model.score(x_train_tf, y_train)"
   ]
  },
  {
   "cell_type": "code",
   "execution_count": 82,
   "id": "7be98988",
   "metadata": {},
   "outputs": [],
   "source": [
    "x_test_tf = scaler.transform(x_test)"
   ]
  },
  {
   "cell_type": "code",
   "execution_count": 83,
   "id": "bc361bcd",
   "metadata": {},
   "outputs": [
    {
     "data": {
      "text/plain": [
       "array([[ 7.67005229e-01,  1.57035676e+00,  1.42375676e+00, ...,\n",
       "        -1.61323061e-03,  1.61251063e+00,  8.73589088e-01],\n",
       "       [-1.30439196e+00, -2.51844537e-01,  1.12530603e-01, ...,\n",
       "         5.38819022e-01,  7.68277423e-01,  8.73589088e-01],\n",
       "       [ 8.60505796e-01, -1.60734472e-01, -3.79179206e-01, ...,\n",
       "        -1.08247774e+00, -1.57869090e+00, -1.14470294e+00],\n",
       "       ...,\n",
       "       [ 1.24889277e+00, -6.96244077e-02, -7.06985745e-01, ...,\n",
       "         1.07925128e+00,  2.61737496e-01, -1.14470294e+00],\n",
       "       [-1.62085542e+00, -6.16284796e-01, -1.36259882e+00, ...,\n",
       "        -1.62290999e+00, -2.16965415e+00, -1.14470294e+00],\n",
       "       [ 1.31362393e+00,  2.14856571e-02, -2.15275936e-01, ...,\n",
       "        -1.61323061e-03, -1.57869090e+00,  8.73589088e-01]])"
      ]
     },
     "execution_count": 83,
     "metadata": {},
     "output_type": "execute_result"
    }
   ],
   "source": [
    "x_test_tf"
   ]
  },
  {
   "cell_type": "code",
   "execution_count": 84,
   "id": "e8b95291",
   "metadata": {},
   "outputs": [],
   "source": [
    "y_predict = model.predict(x_test_tf)"
   ]
  },
  {
   "cell_type": "code",
   "execution_count": 97,
   "id": "307b4127",
   "metadata": {},
   "outputs": [],
   "source": [
    "from sklearn.metrics import r2_score  # R squared score"
   ]
  },
  {
   "cell_type": "code",
   "execution_count": 98,
   "id": "2447f77b",
   "metadata": {},
   "outputs": [],
   "source": [
    "score = r2_score(y_test,y_predict)"
   ]
  },
  {
   "cell_type": "code",
   "execution_count": 99,
   "id": "6e34ad4b",
   "metadata": {},
   "outputs": [
    {
     "data": {
      "text/plain": [
       "0.7632199437959383"
      ]
     },
     "execution_count": 99,
     "metadata": {},
     "output_type": "execute_result"
    }
   ],
   "source": [
    "score"
   ]
  },
  {
   "cell_type": "code",
   "execution_count": null,
   "id": "26edb7df",
   "metadata": {},
   "outputs": [],
   "source": []
  }
 ],
 "metadata": {
  "kernelspec": {
   "display_name": "Python 3 (ipykernel)",
   "language": "python",
   "name": "python3"
  },
  "language_info": {
   "codemirror_mode": {
    "name": "ipython",
    "version": 3
   },
   "file_extension": ".py",
   "mimetype": "text/x-python",
   "name": "python",
   "nbconvert_exporter": "python",
   "pygments_lexer": "ipython3",
   "version": "3.9.12"
  }
 },
 "nbformat": 4,
 "nbformat_minor": 5
}
